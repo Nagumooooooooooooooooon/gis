{
 "cells": [
  {
   "attachments": {},
   "cell_type": "markdown",
   "metadata": {
    "slideshow": {
     "slide_type": "slide"
    }
   },
   "source": [
    "# 自転車犯罪マップ\n",
    "\n",
    "<img src=\"https://raw.githubusercontent.com/yohman/23-1-Reitaku-GIS/main/Weeks/Week08/images/crime map.png\" width=600>\n",
    "\n",
    "このラボの目的:\n",
    "\n",
    "- オープンデータソースからデータを取得し、Python ノートブックにインポート\n",
    "- 複数の列から単一の住所フィールドを作成\n",
    "- 緯度と経度の座標を割り当てて各行をジオコーディング\n",
    "- 美しいチャートや地図を作成"
   ]
  },
  {
   "attachments": {},
   "cell_type": "markdown",
   "metadata": {
    "slideshow": {
     "slide_type": "slide"
    }
   },
   "source": [
    "## ライブラリをインポートする\n",
    "\n",
    "このラボで使うライブラリーを一気にインポートしよう。"
   ]
  },
  {
   "cell_type": "code",
   "execution_count": 1,
   "metadata": {
    "slideshow": {
     "slide_type": "fragment"
    }
   },
   "outputs": [],
   "source": [
    "## for spatial analysis\n",
    "import geopandas as gpd\n",
    "\n",
    "## for data analysis\n",
    "import pandas as pd\n",
    "\n",
    "## for pretty charts\n",
    "import plotly.express as px\n",
    "\n",
    "# for plotly themes\n",
    "import plotly.io as pio\n",
    "\n",
    "## for URL requests\n",
    "import urllib.request\n",
    "import requests\n",
    "\n",
    "## for maps\n",
    "import folium\n",
    "from folium import plugins"
   ]
  },
  {
   "attachments": {},
   "cell_type": "markdown",
   "metadata": {
    "slideshow": {
     "slide_type": "slide"
    }
   },
   "source": [
    "## 自転車盗難データをダウンロード\n",
    "\n",
    "<img src=\"https://raw.githubusercontent.com/yohman/23-1-Reitaku-GIS/main/Weeks/Week08/images/Chiba%20police.png\" width=400>\n",
    "\n",
    "まずは千葉県警察のサイトにアクセス。そこから次に手順でデータをダウンロード：\n",
    "\n",
    "➡️ https://www.police.pref.chiba.jp/\n",
    "\n",
    "➡️ 安全な暮らし\n",
    "\n",
    "➡️ 地域の防犯\n",
    "\n",
    "➡️ あなたの町の犯罪情勢\n",
    "\n",
    "➡️ オープンデータ\n",
    "\n",
    "➡️ 自転車盗（CSV）"
   ]
  },
  {
   "attachments": {},
   "cell_type": "markdown",
   "metadata": {
    "slideshow": {
     "slide_type": "slide"
    }
   },
   "source": [
    "ダウンロードしたファイルを `chibike.csv` と名付けて、このフォルダー（Week08) にセーブ。"
   ]
  },
  {
   "cell_type": "code",
   "execution_count": 2,
   "metadata": {},
   "outputs": [],
   "source": [
    "# ダウンロードしたデータを読み込もう__encoding='cp932:文字化けをせずに、日本語でデータを読み取ることができる\n",
    "df = pd.read_csv('chibike.csv', encoding='cp932')"
   ]
  },
  {
   "cell_type": "code",
   "execution_count": 3,
   "metadata": {
    "slideshow": {
     "slide_type": "slide"
    }
   },
   "outputs": [
    {
     "name": "stdout",
     "output_type": "stream",
     "text": [
      "<class 'pandas.core.frame.DataFrame'>\n",
      "RangeIndex: 7346 entries, 0 to 7345\n",
      "Data columns (total 15 columns):\n",
      " #   Column         Non-Null Count  Dtype \n",
      "---  ------         --------------  ----- \n",
      " 0   罪名             7346 non-null   object\n",
      " 1   手口             7346 non-null   object\n",
      " 2   管轄警察署（発生地）     7346 non-null   object\n",
      " 3   管轄交番・駐在所（発生地）  7343 non-null   object\n",
      " 4   市区町村コード（発生地）   7346 non-null   int64 \n",
      " 5   都道府県（発生地）      7346 non-null   object\n",
      " 6   市区町村（発生地）      7346 non-null   object\n",
      " 7   町丁目（発生地）       7330 non-null   object\n",
      " 8   発生年月日（始期）      7346 non-null   object\n",
      " 9   発生時（始期）        7346 non-null   object\n",
      " 10  発生場所           7346 non-null   object\n",
      " 11  発生場所の詳細        7346 non-null   object\n",
      " 12  被害者の年齢         7346 non-null   object\n",
      " 13  被害者の職業         7346 non-null   object\n",
      " 14  施錠関係           7346 non-null   object\n",
      "dtypes: int64(1), object(14)\n",
      "memory usage: 861.0+ KB\n"
     ]
    }
   ],
   "source": [
    "# データの情報＿＿object：文字データ＿int：整数\n",
    "df.info()"
   ]
  },
  {
   "attachments": {},
   "cell_type": "markdown",
   "metadata": {
    "slideshow": {
     "slide_type": "slide"
    }
   },
   "source": [
    "Wow! ７千件もある！ちょっと多いので場所で絞りましょう。<h1>「柏」</h1>だけのデータフレームを作ろう。"
   ]
  },
  {
   "cell_type": "code",
   "execution_count": 4,
   "metadata": {},
   "outputs": [],
   "source": [
    "#柏という関数に管轄警察署（発生地）が柏というものを変数柏に入れるという内容\n",
    "kashiwa = df[df['管轄警察署（発生地）'] == '柏'].copy()"
   ]
  },
  {
   "cell_type": "code",
   "execution_count": 5,
   "metadata": {
    "slideshow": {
     "slide_type": "slide"
    }
   },
   "outputs": [
    {
     "data": {
      "text/html": [
       "<div>\n",
       "<style scoped>\n",
       "    .dataframe tbody tr th:only-of-type {\n",
       "        vertical-align: middle;\n",
       "    }\n",
       "\n",
       "    .dataframe tbody tr th {\n",
       "        vertical-align: top;\n",
       "    }\n",
       "\n",
       "    .dataframe thead th {\n",
       "        text-align: right;\n",
       "    }\n",
       "</style>\n",
       "<table border=\"1\" class=\"dataframe\">\n",
       "  <thead>\n",
       "    <tr style=\"text-align: right;\">\n",
       "      <th></th>\n",
       "      <th>罪名</th>\n",
       "      <th>手口</th>\n",
       "      <th>管轄警察署（発生地）</th>\n",
       "      <th>管轄交番・駐在所（発生地）</th>\n",
       "      <th>市区町村コード（発生地）</th>\n",
       "      <th>都道府県（発生地）</th>\n",
       "      <th>市区町村（発生地）</th>\n",
       "      <th>町丁目（発生地）</th>\n",
       "      <th>発生年月日（始期）</th>\n",
       "      <th>発生時（始期）</th>\n",
       "      <th>発生場所</th>\n",
       "      <th>発生場所の詳細</th>\n",
       "      <th>被害者の年齢</th>\n",
       "      <th>被害者の職業</th>\n",
       "      <th>施錠関係</th>\n",
       "    </tr>\n",
       "  </thead>\n",
       "  <tbody>\n",
       "    <tr>\n",
       "      <th>3214</th>\n",
       "      <td>窃盗</td>\n",
       "      <td>自転車盗</td>\n",
       "      <td>柏</td>\n",
       "      <td>豊四季駅前交番</td>\n",
       "      <td>122173</td>\n",
       "      <td>千葉県</td>\n",
       "      <td>柏市</td>\n",
       "      <td>豊四季</td>\n",
       "      <td>2022-01-07</td>\n",
       "      <td>08</td>\n",
       "      <td>その他</td>\n",
       "      <td>駐車（輪）場</td>\n",
       "      <td>20歳代</td>\n",
       "      <td>その他</td>\n",
       "      <td>施錠した</td>\n",
       "    </tr>\n",
       "    <tr>\n",
       "      <th>2850</th>\n",
       "      <td>窃盗</td>\n",
       "      <td>自転車盗</td>\n",
       "      <td>柏</td>\n",
       "      <td>南増尾交番</td>\n",
       "      <td>122173</td>\n",
       "      <td>千葉県</td>\n",
       "      <td>柏市</td>\n",
       "      <td>南増尾</td>\n",
       "      <td>2022-09-25</td>\n",
       "      <td>13</td>\n",
       "      <td>その他</td>\n",
       "      <td>駐車（輪）場</td>\n",
       "      <td>10歳代</td>\n",
       "      <td>中学生</td>\n",
       "      <td>施錠せず</td>\n",
       "    </tr>\n",
       "    <tr>\n",
       "      <th>2841</th>\n",
       "      <td>窃盗</td>\n",
       "      <td>自転車盗</td>\n",
       "      <td>柏</td>\n",
       "      <td>南増尾交番</td>\n",
       "      <td>122173</td>\n",
       "      <td>千葉県</td>\n",
       "      <td>柏市</td>\n",
       "      <td>逆井１丁目</td>\n",
       "      <td>2022-12-05</td>\n",
       "      <td>15</td>\n",
       "      <td>その他の住宅（３階建て以下共同住宅等）</td>\n",
       "      <td>駐車（輪）場</td>\n",
       "      <td>20歳代</td>\n",
       "      <td>その他</td>\n",
       "      <td>施錠せず</td>\n",
       "    </tr>\n",
       "    <tr>\n",
       "      <th>2999</th>\n",
       "      <td>窃盗</td>\n",
       "      <td>自転車盗</td>\n",
       "      <td>柏</td>\n",
       "      <td>旭町交番</td>\n",
       "      <td>122173</td>\n",
       "      <td>千葉県</td>\n",
       "      <td>柏市</td>\n",
       "      <td>旭町５丁目</td>\n",
       "      <td>2022-06-03</td>\n",
       "      <td>19</td>\n",
       "      <td>４階建て以上共同住宅</td>\n",
       "      <td>駐車（輪）場</td>\n",
       "      <td>30歳代</td>\n",
       "      <td>その他</td>\n",
       "      <td>施錠した</td>\n",
       "    </tr>\n",
       "    <tr>\n",
       "      <th>2794</th>\n",
       "      <td>窃盗</td>\n",
       "      <td>自転車盗</td>\n",
       "      <td>柏</td>\n",
       "      <td>光ヶ丘交番</td>\n",
       "      <td>122173</td>\n",
       "      <td>千葉県</td>\n",
       "      <td>柏市</td>\n",
       "      <td>東中新宿１丁目</td>\n",
       "      <td>2022-07-26</td>\n",
       "      <td>08</td>\n",
       "      <td>一戸建住宅</td>\n",
       "      <td>駐車（輪）場</td>\n",
       "      <td>10歳代</td>\n",
       "      <td>小学生</td>\n",
       "      <td>施錠せず</td>\n",
       "    </tr>\n",
       "  </tbody>\n",
       "</table>\n",
       "</div>"
      ],
      "text/plain": [
       "      罪名    手口 管轄警察署（発生地） 管轄交番・駐在所（発生地）  市区町村コード（発生地） 都道府県（発生地） 市区町村（発生地）   \n",
       "3214  窃盗  自転車盗          柏       豊四季駅前交番        122173       千葉県        柏市  \\\n",
       "2850  窃盗  自転車盗          柏         南増尾交番        122173       千葉県        柏市   \n",
       "2841  窃盗  自転車盗          柏         南増尾交番        122173       千葉県        柏市   \n",
       "2999  窃盗  自転車盗          柏          旭町交番        122173       千葉県        柏市   \n",
       "2794  窃盗  自転車盗          柏         光ヶ丘交番        122173       千葉県        柏市   \n",
       "\n",
       "     町丁目（発生地）   発生年月日（始期） 発生時（始期）                 発生場所 発生場所の詳細 被害者の年齢 被害者の職業   \n",
       "3214      豊四季  2022-01-07      08                  その他  駐車（輪）場   20歳代    その他  \\\n",
       "2850      南増尾  2022-09-25      13                  その他  駐車（輪）場   10歳代    中学生   \n",
       "2841    逆井１丁目  2022-12-05      15  その他の住宅（３階建て以下共同住宅等）  駐車（輪）場   20歳代    その他   \n",
       "2999    旭町５丁目  2022-06-03      19           ４階建て以上共同住宅  駐車（輪）場   30歳代    その他   \n",
       "2794  東中新宿１丁目  2022-07-26      08                一戸建住宅  駐車（輪）場   10歳代    小学生   \n",
       "\n",
       "      施錠関係  \n",
       "3214  施錠した  \n",
       "2850  施錠せず  \n",
       "2841  施錠せず  \n",
       "2999  施錠した  \n",
       "2794  施錠せず  "
      ]
     },
     "execution_count": 5,
     "metadata": {},
     "output_type": "execute_result"
    }
   ],
   "source": [
    "# データをチェック＿＿サンプル：適当に抽出してくれる\n",
    "kashiwa.sample(5)"
   ]
  },
  {
   "attachments": {},
   "cell_type": "markdown",
   "metadata": {
    "slideshow": {
     "slide_type": "slide"
    }
   },
   "source": [
    "### `value_counts`でチャート\n",
    "\n",
    "このデータを見て、咄嗟に知りたいものってなんでしょう？\n",
    "\n",
    "例えば、<h1>「1日の何時に自転車の盗難が一番発生するの？」</h1>の質問に答えるためにはどのようなデータ分析が必要でしょうか？\n",
    "\n",
    "では、そのチャートを作ってみましょう。"
   ]
  },
  {
   "attachments": {},
   "cell_type": "markdown",
   "metadata": {
    "slideshow": {
     "slide_type": "slide"
    }
   },
   "source": [
    "データには **【発生時（始期）】** のカラムがあるので、各時間帯のカウントを`value_counts()`で調べる。最後に足される`reset_index()`で結果をデータフレームに変換します。"
   ]
  },
  {
   "cell_type": "code",
   "execution_count": 6,
   "metadata": {},
   "outputs": [
    {
     "data": {
      "text/html": [
       "<div>\n",
       "<style scoped>\n",
       "    .dataframe tbody tr th:only-of-type {\n",
       "        vertical-align: middle;\n",
       "    }\n",
       "\n",
       "    .dataframe tbody tr th {\n",
       "        vertical-align: top;\n",
       "    }\n",
       "\n",
       "    .dataframe thead th {\n",
       "        text-align: right;\n",
       "    }\n",
       "</style>\n",
       "<table border=\"1\" class=\"dataframe\">\n",
       "  <thead>\n",
       "    <tr style=\"text-align: right;\">\n",
       "      <th></th>\n",
       "      <th>発生時（始期）</th>\n",
       "      <th>count</th>\n",
       "    </tr>\n",
       "  </thead>\n",
       "  <tbody>\n",
       "    <tr>\n",
       "      <th>0</th>\n",
       "      <td>18</td>\n",
       "      <td>44</td>\n",
       "    </tr>\n",
       "    <tr>\n",
       "      <th>1</th>\n",
       "      <td>19</td>\n",
       "      <td>39</td>\n",
       "    </tr>\n",
       "    <tr>\n",
       "      <th>2</th>\n",
       "      <td>08</td>\n",
       "      <td>37</td>\n",
       "    </tr>\n",
       "    <tr>\n",
       "      <th>3</th>\n",
       "      <td>16</td>\n",
       "      <td>36</td>\n",
       "    </tr>\n",
       "    <tr>\n",
       "      <th>4</th>\n",
       "      <td>20</td>\n",
       "      <td>33</td>\n",
       "    </tr>\n",
       "    <tr>\n",
       "      <th>5</th>\n",
       "      <td>17</td>\n",
       "      <td>32</td>\n",
       "    </tr>\n",
       "    <tr>\n",
       "      <th>6</th>\n",
       "      <td>12</td>\n",
       "      <td>28</td>\n",
       "    </tr>\n",
       "    <tr>\n",
       "      <th>7</th>\n",
       "      <td>13</td>\n",
       "      <td>25</td>\n",
       "    </tr>\n",
       "    <tr>\n",
       "      <th>8</th>\n",
       "      <td>15</td>\n",
       "      <td>24</td>\n",
       "    </tr>\n",
       "    <tr>\n",
       "      <th>9</th>\n",
       "      <td>07</td>\n",
       "      <td>23</td>\n",
       "    </tr>\n",
       "    <tr>\n",
       "      <th>10</th>\n",
       "      <td>14</td>\n",
       "      <td>20</td>\n",
       "    </tr>\n",
       "    <tr>\n",
       "      <th>11</th>\n",
       "      <td>10</td>\n",
       "      <td>20</td>\n",
       "    </tr>\n",
       "    <tr>\n",
       "      <th>12</th>\n",
       "      <td>21</td>\n",
       "      <td>19</td>\n",
       "    </tr>\n",
       "    <tr>\n",
       "      <th>13</th>\n",
       "      <td>11</td>\n",
       "      <td>19</td>\n",
       "    </tr>\n",
       "    <tr>\n",
       "      <th>14</th>\n",
       "      <td>09</td>\n",
       "      <td>18</td>\n",
       "    </tr>\n",
       "    <tr>\n",
       "      <th>15</th>\n",
       "      <td>06</td>\n",
       "      <td>12</td>\n",
       "    </tr>\n",
       "    <tr>\n",
       "      <th>16</th>\n",
       "      <td>22</td>\n",
       "      <td>11</td>\n",
       "    </tr>\n",
       "    <tr>\n",
       "      <th>17</th>\n",
       "      <td>00</td>\n",
       "      <td>9</td>\n",
       "    </tr>\n",
       "    <tr>\n",
       "      <th>18</th>\n",
       "      <td>23</td>\n",
       "      <td>9</td>\n",
       "    </tr>\n",
       "    <tr>\n",
       "      <th>19</th>\n",
       "      <td>不明</td>\n",
       "      <td>6</td>\n",
       "    </tr>\n",
       "    <tr>\n",
       "      <th>20</th>\n",
       "      <td>05</td>\n",
       "      <td>3</td>\n",
       "    </tr>\n",
       "    <tr>\n",
       "      <th>21</th>\n",
       "      <td>04</td>\n",
       "      <td>2</td>\n",
       "    </tr>\n",
       "    <tr>\n",
       "      <th>22</th>\n",
       "      <td>02</td>\n",
       "      <td>1</td>\n",
       "    </tr>\n",
       "    <tr>\n",
       "      <th>23</th>\n",
       "      <td>01</td>\n",
       "      <td>1</td>\n",
       "    </tr>\n",
       "  </tbody>\n",
       "</table>\n",
       "</div>"
      ],
      "text/plain": [
       "   発生時（始期）  count\n",
       "0       18     44\n",
       "1       19     39\n",
       "2       08     37\n",
       "3       16     36\n",
       "4       20     33\n",
       "5       17     32\n",
       "6       12     28\n",
       "7       13     25\n",
       "8       15     24\n",
       "9       07     23\n",
       "10      14     20\n",
       "11      10     20\n",
       "12      21     19\n",
       "13      11     19\n",
       "14      09     18\n",
       "15      06     12\n",
       "16      22     11\n",
       "17      00      9\n",
       "18      23      9\n",
       "19      不明      6\n",
       "20      05      3\n",
       "21      04      2\n",
       "22      02      1\n",
       "23      01      1"
      ]
     },
     "execution_count": 6,
     "metadata": {},
     "output_type": "execute_result"
    }
   ],
   "source": [
    "# create a new variable with hourly counts\n",
    "time = kashiwa['発生時（始期）'].value_counts().reset_index()\n",
    "time"
   ]
  },
  {
   "attachments": {},
   "cell_type": "markdown",
   "metadata": {
    "slideshow": {
     "slide_type": "slide"
    }
   },
   "source": [
    "この結果は良いが、カラム名（ヘッダー）を直す必要がある。"
   ]
  },
  {
   "cell_type": "code",
   "execution_count": 7,
   "metadata": {},
   "outputs": [
    {
     "data": {
      "text/html": [
       "<div>\n",
       "<style scoped>\n",
       "    .dataframe tbody tr th:only-of-type {\n",
       "        vertical-align: middle;\n",
       "    }\n",
       "\n",
       "    .dataframe tbody tr th {\n",
       "        vertical-align: top;\n",
       "    }\n",
       "\n",
       "    .dataframe thead th {\n",
       "        text-align: right;\n",
       "    }\n",
       "</style>\n",
       "<table border=\"1\" class=\"dataframe\">\n",
       "  <thead>\n",
       "    <tr style=\"text-align: right;\">\n",
       "      <th></th>\n",
       "      <th>発生時（始期）</th>\n",
       "      <th>件数</th>\n",
       "    </tr>\n",
       "  </thead>\n",
       "  <tbody>\n",
       "    <tr>\n",
       "      <th>0</th>\n",
       "      <td>18</td>\n",
       "      <td>44</td>\n",
       "    </tr>\n",
       "    <tr>\n",
       "      <th>1</th>\n",
       "      <td>19</td>\n",
       "      <td>39</td>\n",
       "    </tr>\n",
       "    <tr>\n",
       "      <th>2</th>\n",
       "      <td>08</td>\n",
       "      <td>37</td>\n",
       "    </tr>\n",
       "    <tr>\n",
       "      <th>3</th>\n",
       "      <td>16</td>\n",
       "      <td>36</td>\n",
       "    </tr>\n",
       "    <tr>\n",
       "      <th>4</th>\n",
       "      <td>20</td>\n",
       "      <td>33</td>\n",
       "    </tr>\n",
       "    <tr>\n",
       "      <th>5</th>\n",
       "      <td>17</td>\n",
       "      <td>32</td>\n",
       "    </tr>\n",
       "    <tr>\n",
       "      <th>6</th>\n",
       "      <td>12</td>\n",
       "      <td>28</td>\n",
       "    </tr>\n",
       "    <tr>\n",
       "      <th>7</th>\n",
       "      <td>13</td>\n",
       "      <td>25</td>\n",
       "    </tr>\n",
       "    <tr>\n",
       "      <th>8</th>\n",
       "      <td>15</td>\n",
       "      <td>24</td>\n",
       "    </tr>\n",
       "    <tr>\n",
       "      <th>9</th>\n",
       "      <td>07</td>\n",
       "      <td>23</td>\n",
       "    </tr>\n",
       "    <tr>\n",
       "      <th>10</th>\n",
       "      <td>14</td>\n",
       "      <td>20</td>\n",
       "    </tr>\n",
       "    <tr>\n",
       "      <th>11</th>\n",
       "      <td>10</td>\n",
       "      <td>20</td>\n",
       "    </tr>\n",
       "    <tr>\n",
       "      <th>12</th>\n",
       "      <td>21</td>\n",
       "      <td>19</td>\n",
       "    </tr>\n",
       "    <tr>\n",
       "      <th>13</th>\n",
       "      <td>11</td>\n",
       "      <td>19</td>\n",
       "    </tr>\n",
       "    <tr>\n",
       "      <th>14</th>\n",
       "      <td>09</td>\n",
       "      <td>18</td>\n",
       "    </tr>\n",
       "    <tr>\n",
       "      <th>15</th>\n",
       "      <td>06</td>\n",
       "      <td>12</td>\n",
       "    </tr>\n",
       "    <tr>\n",
       "      <th>16</th>\n",
       "      <td>22</td>\n",
       "      <td>11</td>\n",
       "    </tr>\n",
       "    <tr>\n",
       "      <th>17</th>\n",
       "      <td>00</td>\n",
       "      <td>9</td>\n",
       "    </tr>\n",
       "    <tr>\n",
       "      <th>18</th>\n",
       "      <td>23</td>\n",
       "      <td>9</td>\n",
       "    </tr>\n",
       "    <tr>\n",
       "      <th>19</th>\n",
       "      <td>不明</td>\n",
       "      <td>6</td>\n",
       "    </tr>\n",
       "    <tr>\n",
       "      <th>20</th>\n",
       "      <td>05</td>\n",
       "      <td>3</td>\n",
       "    </tr>\n",
       "    <tr>\n",
       "      <th>21</th>\n",
       "      <td>04</td>\n",
       "      <td>2</td>\n",
       "    </tr>\n",
       "    <tr>\n",
       "      <th>22</th>\n",
       "      <td>02</td>\n",
       "      <td>1</td>\n",
       "    </tr>\n",
       "    <tr>\n",
       "      <th>23</th>\n",
       "      <td>01</td>\n",
       "      <td>1</td>\n",
       "    </tr>\n",
       "  </tbody>\n",
       "</table>\n",
       "</div>"
      ],
      "text/plain": [
       "   発生時（始期）  件数\n",
       "0       18  44\n",
       "1       19  39\n",
       "2       08  37\n",
       "3       16  36\n",
       "4       20  33\n",
       "5       17  32\n",
       "6       12  28\n",
       "7       13  25\n",
       "8       15  24\n",
       "9       07  23\n",
       "10      14  20\n",
       "11      10  20\n",
       "12      21  19\n",
       "13      11  19\n",
       "14      09  18\n",
       "15      06  12\n",
       "16      22  11\n",
       "17      00   9\n",
       "18      23   9\n",
       "19      不明   6\n",
       "20      05   3\n",
       "21      04   2\n",
       "22      02   1\n",
       "23      01   1"
      ]
     },
     "execution_count": 7,
     "metadata": {},
     "output_type": "execute_result"
    }
   ],
   "source": [
    "# fix headers\n",
    "time.columns = ['発生時（始期）','件数']\n",
    "time"
   ]
  },
  {
   "attachments": {},
   "cell_type": "markdown",
   "metadata": {
    "slideshow": {
     "slide_type": "slide"
    }
   },
   "source": [
    "いよいよ準備万端。この新しいデータフレームでチャートを作ろう。この場合は plotly express の bar charts を参考。\n",
    "\n",
    "https://plotly.com/python/bar-charts/"
   ]
  },
  {
   "cell_type": "code",
   "execution_count": 8,
   "metadata": {},
   "outputs": [
    {
     "data": {
      "application/vnd.plotly.v1+json": {
       "config": {
        "plotlyServerURL": "https://plot.ly"
       },
       "data": [
        {
         "alignmentgroup": "True",
         "hovertemplate": "発生時（始期）=%{x}<br>件数=%{y}<extra></extra>",
         "legendgroup": "",
         "marker": {
          "color": "#636efa",
          "pattern": {
           "shape": ""
          }
         },
         "name": "",
         "offsetgroup": "",
         "orientation": "v",
         "showlegend": false,
         "textposition": "auto",
         "type": "bar",
         "x": [
          "18",
          "19",
          "08",
          "16",
          "20",
          "17",
          "12",
          "13",
          "15",
          "07",
          "14",
          "10",
          "21",
          "11",
          "09",
          "06",
          "22",
          "00",
          "23",
          "不明",
          "05",
          "04",
          "02",
          "01"
         ],
         "xaxis": "x",
         "y": [
          44,
          39,
          37,
          36,
          33,
          32,
          28,
          25,
          24,
          23,
          20,
          20,
          19,
          19,
          18,
          12,
          11,
          9,
          9,
          6,
          3,
          2,
          1,
          1
         ],
         "yaxis": "y"
        }
       ],
       "layout": {
        "barmode": "relative",
        "legend": {
         "tracegroupgap": 0
        },
        "margin": {
         "t": 60
        },
        "template": {
         "data": {
          "bar": [
           {
            "error_x": {
             "color": "#2a3f5f"
            },
            "error_y": {
             "color": "#2a3f5f"
            },
            "marker": {
             "line": {
              "color": "#E5ECF6",
              "width": 0.5
             },
             "pattern": {
              "fillmode": "overlay",
              "size": 10,
              "solidity": 0.2
             }
            },
            "type": "bar"
           }
          ],
          "barpolar": [
           {
            "marker": {
             "line": {
              "color": "#E5ECF6",
              "width": 0.5
             },
             "pattern": {
              "fillmode": "overlay",
              "size": 10,
              "solidity": 0.2
             }
            },
            "type": "barpolar"
           }
          ],
          "carpet": [
           {
            "aaxis": {
             "endlinecolor": "#2a3f5f",
             "gridcolor": "white",
             "linecolor": "white",
             "minorgridcolor": "white",
             "startlinecolor": "#2a3f5f"
            },
            "baxis": {
             "endlinecolor": "#2a3f5f",
             "gridcolor": "white",
             "linecolor": "white",
             "minorgridcolor": "white",
             "startlinecolor": "#2a3f5f"
            },
            "type": "carpet"
           }
          ],
          "choropleth": [
           {
            "colorbar": {
             "outlinewidth": 0,
             "ticks": ""
            },
            "type": "choropleth"
           }
          ],
          "contour": [
           {
            "colorbar": {
             "outlinewidth": 0,
             "ticks": ""
            },
            "colorscale": [
             [
              0,
              "#0d0887"
             ],
             [
              0.1111111111111111,
              "#46039f"
             ],
             [
              0.2222222222222222,
              "#7201a8"
             ],
             [
              0.3333333333333333,
              "#9c179e"
             ],
             [
              0.4444444444444444,
              "#bd3786"
             ],
             [
              0.5555555555555556,
              "#d8576b"
             ],
             [
              0.6666666666666666,
              "#ed7953"
             ],
             [
              0.7777777777777778,
              "#fb9f3a"
             ],
             [
              0.8888888888888888,
              "#fdca26"
             ],
             [
              1,
              "#f0f921"
             ]
            ],
            "type": "contour"
           }
          ],
          "contourcarpet": [
           {
            "colorbar": {
             "outlinewidth": 0,
             "ticks": ""
            },
            "type": "contourcarpet"
           }
          ],
          "heatmap": [
           {
            "colorbar": {
             "outlinewidth": 0,
             "ticks": ""
            },
            "colorscale": [
             [
              0,
              "#0d0887"
             ],
             [
              0.1111111111111111,
              "#46039f"
             ],
             [
              0.2222222222222222,
              "#7201a8"
             ],
             [
              0.3333333333333333,
              "#9c179e"
             ],
             [
              0.4444444444444444,
              "#bd3786"
             ],
             [
              0.5555555555555556,
              "#d8576b"
             ],
             [
              0.6666666666666666,
              "#ed7953"
             ],
             [
              0.7777777777777778,
              "#fb9f3a"
             ],
             [
              0.8888888888888888,
              "#fdca26"
             ],
             [
              1,
              "#f0f921"
             ]
            ],
            "type": "heatmap"
           }
          ],
          "heatmapgl": [
           {
            "colorbar": {
             "outlinewidth": 0,
             "ticks": ""
            },
            "colorscale": [
             [
              0,
              "#0d0887"
             ],
             [
              0.1111111111111111,
              "#46039f"
             ],
             [
              0.2222222222222222,
              "#7201a8"
             ],
             [
              0.3333333333333333,
              "#9c179e"
             ],
             [
              0.4444444444444444,
              "#bd3786"
             ],
             [
              0.5555555555555556,
              "#d8576b"
             ],
             [
              0.6666666666666666,
              "#ed7953"
             ],
             [
              0.7777777777777778,
              "#fb9f3a"
             ],
             [
              0.8888888888888888,
              "#fdca26"
             ],
             [
              1,
              "#f0f921"
             ]
            ],
            "type": "heatmapgl"
           }
          ],
          "histogram": [
           {
            "marker": {
             "pattern": {
              "fillmode": "overlay",
              "size": 10,
              "solidity": 0.2
             }
            },
            "type": "histogram"
           }
          ],
          "histogram2d": [
           {
            "colorbar": {
             "outlinewidth": 0,
             "ticks": ""
            },
            "colorscale": [
             [
              0,
              "#0d0887"
             ],
             [
              0.1111111111111111,
              "#46039f"
             ],
             [
              0.2222222222222222,
              "#7201a8"
             ],
             [
              0.3333333333333333,
              "#9c179e"
             ],
             [
              0.4444444444444444,
              "#bd3786"
             ],
             [
              0.5555555555555556,
              "#d8576b"
             ],
             [
              0.6666666666666666,
              "#ed7953"
             ],
             [
              0.7777777777777778,
              "#fb9f3a"
             ],
             [
              0.8888888888888888,
              "#fdca26"
             ],
             [
              1,
              "#f0f921"
             ]
            ],
            "type": "histogram2d"
           }
          ],
          "histogram2dcontour": [
           {
            "colorbar": {
             "outlinewidth": 0,
             "ticks": ""
            },
            "colorscale": [
             [
              0,
              "#0d0887"
             ],
             [
              0.1111111111111111,
              "#46039f"
             ],
             [
              0.2222222222222222,
              "#7201a8"
             ],
             [
              0.3333333333333333,
              "#9c179e"
             ],
             [
              0.4444444444444444,
              "#bd3786"
             ],
             [
              0.5555555555555556,
              "#d8576b"
             ],
             [
              0.6666666666666666,
              "#ed7953"
             ],
             [
              0.7777777777777778,
              "#fb9f3a"
             ],
             [
              0.8888888888888888,
              "#fdca26"
             ],
             [
              1,
              "#f0f921"
             ]
            ],
            "type": "histogram2dcontour"
           }
          ],
          "mesh3d": [
           {
            "colorbar": {
             "outlinewidth": 0,
             "ticks": ""
            },
            "type": "mesh3d"
           }
          ],
          "parcoords": [
           {
            "line": {
             "colorbar": {
              "outlinewidth": 0,
              "ticks": ""
             }
            },
            "type": "parcoords"
           }
          ],
          "pie": [
           {
            "automargin": true,
            "type": "pie"
           }
          ],
          "scatter": [
           {
            "fillpattern": {
             "fillmode": "overlay",
             "size": 10,
             "solidity": 0.2
            },
            "type": "scatter"
           }
          ],
          "scatter3d": [
           {
            "line": {
             "colorbar": {
              "outlinewidth": 0,
              "ticks": ""
             }
            },
            "marker": {
             "colorbar": {
              "outlinewidth": 0,
              "ticks": ""
             }
            },
            "type": "scatter3d"
           }
          ],
          "scattercarpet": [
           {
            "marker": {
             "colorbar": {
              "outlinewidth": 0,
              "ticks": ""
             }
            },
            "type": "scattercarpet"
           }
          ],
          "scattergeo": [
           {
            "marker": {
             "colorbar": {
              "outlinewidth": 0,
              "ticks": ""
             }
            },
            "type": "scattergeo"
           }
          ],
          "scattergl": [
           {
            "marker": {
             "colorbar": {
              "outlinewidth": 0,
              "ticks": ""
             }
            },
            "type": "scattergl"
           }
          ],
          "scattermapbox": [
           {
            "marker": {
             "colorbar": {
              "outlinewidth": 0,
              "ticks": ""
             }
            },
            "type": "scattermapbox"
           }
          ],
          "scatterpolar": [
           {
            "marker": {
             "colorbar": {
              "outlinewidth": 0,
              "ticks": ""
             }
            },
            "type": "scatterpolar"
           }
          ],
          "scatterpolargl": [
           {
            "marker": {
             "colorbar": {
              "outlinewidth": 0,
              "ticks": ""
             }
            },
            "type": "scatterpolargl"
           }
          ],
          "scatterternary": [
           {
            "marker": {
             "colorbar": {
              "outlinewidth": 0,
              "ticks": ""
             }
            },
            "type": "scatterternary"
           }
          ],
          "surface": [
           {
            "colorbar": {
             "outlinewidth": 0,
             "ticks": ""
            },
            "colorscale": [
             [
              0,
              "#0d0887"
             ],
             [
              0.1111111111111111,
              "#46039f"
             ],
             [
              0.2222222222222222,
              "#7201a8"
             ],
             [
              0.3333333333333333,
              "#9c179e"
             ],
             [
              0.4444444444444444,
              "#bd3786"
             ],
             [
              0.5555555555555556,
              "#d8576b"
             ],
             [
              0.6666666666666666,
              "#ed7953"
             ],
             [
              0.7777777777777778,
              "#fb9f3a"
             ],
             [
              0.8888888888888888,
              "#fdca26"
             ],
             [
              1,
              "#f0f921"
             ]
            ],
            "type": "surface"
           }
          ],
          "table": [
           {
            "cells": {
             "fill": {
              "color": "#EBF0F8"
             },
             "line": {
              "color": "white"
             }
            },
            "header": {
             "fill": {
              "color": "#C8D4E3"
             },
             "line": {
              "color": "white"
             }
            },
            "type": "table"
           }
          ]
         },
         "layout": {
          "annotationdefaults": {
           "arrowcolor": "#2a3f5f",
           "arrowhead": 0,
           "arrowwidth": 1
          },
          "autotypenumbers": "strict",
          "coloraxis": {
           "colorbar": {
            "outlinewidth": 0,
            "ticks": ""
           }
          },
          "colorscale": {
           "diverging": [
            [
             0,
             "#8e0152"
            ],
            [
             0.1,
             "#c51b7d"
            ],
            [
             0.2,
             "#de77ae"
            ],
            [
             0.3,
             "#f1b6da"
            ],
            [
             0.4,
             "#fde0ef"
            ],
            [
             0.5,
             "#f7f7f7"
            ],
            [
             0.6,
             "#e6f5d0"
            ],
            [
             0.7,
             "#b8e186"
            ],
            [
             0.8,
             "#7fbc41"
            ],
            [
             0.9,
             "#4d9221"
            ],
            [
             1,
             "#276419"
            ]
           ],
           "sequential": [
            [
             0,
             "#0d0887"
            ],
            [
             0.1111111111111111,
             "#46039f"
            ],
            [
             0.2222222222222222,
             "#7201a8"
            ],
            [
             0.3333333333333333,
             "#9c179e"
            ],
            [
             0.4444444444444444,
             "#bd3786"
            ],
            [
             0.5555555555555556,
             "#d8576b"
            ],
            [
             0.6666666666666666,
             "#ed7953"
            ],
            [
             0.7777777777777778,
             "#fb9f3a"
            ],
            [
             0.8888888888888888,
             "#fdca26"
            ],
            [
             1,
             "#f0f921"
            ]
           ],
           "sequentialminus": [
            [
             0,
             "#0d0887"
            ],
            [
             0.1111111111111111,
             "#46039f"
            ],
            [
             0.2222222222222222,
             "#7201a8"
            ],
            [
             0.3333333333333333,
             "#9c179e"
            ],
            [
             0.4444444444444444,
             "#bd3786"
            ],
            [
             0.5555555555555556,
             "#d8576b"
            ],
            [
             0.6666666666666666,
             "#ed7953"
            ],
            [
             0.7777777777777778,
             "#fb9f3a"
            ],
            [
             0.8888888888888888,
             "#fdca26"
            ],
            [
             1,
             "#f0f921"
            ]
           ]
          },
          "colorway": [
           "#636efa",
           "#EF553B",
           "#00cc96",
           "#ab63fa",
           "#FFA15A",
           "#19d3f3",
           "#FF6692",
           "#B6E880",
           "#FF97FF",
           "#FECB52"
          ],
          "font": {
           "color": "#2a3f5f"
          },
          "geo": {
           "bgcolor": "white",
           "lakecolor": "white",
           "landcolor": "#E5ECF6",
           "showlakes": true,
           "showland": true,
           "subunitcolor": "white"
          },
          "hoverlabel": {
           "align": "left"
          },
          "hovermode": "closest",
          "mapbox": {
           "style": "light"
          },
          "paper_bgcolor": "white",
          "plot_bgcolor": "#E5ECF6",
          "polar": {
           "angularaxis": {
            "gridcolor": "white",
            "linecolor": "white",
            "ticks": ""
           },
           "bgcolor": "#E5ECF6",
           "radialaxis": {
            "gridcolor": "white",
            "linecolor": "white",
            "ticks": ""
           }
          },
          "scene": {
           "xaxis": {
            "backgroundcolor": "#E5ECF6",
            "gridcolor": "white",
            "gridwidth": 2,
            "linecolor": "white",
            "showbackground": true,
            "ticks": "",
            "zerolinecolor": "white"
           },
           "yaxis": {
            "backgroundcolor": "#E5ECF6",
            "gridcolor": "white",
            "gridwidth": 2,
            "linecolor": "white",
            "showbackground": true,
            "ticks": "",
            "zerolinecolor": "white"
           },
           "zaxis": {
            "backgroundcolor": "#E5ECF6",
            "gridcolor": "white",
            "gridwidth": 2,
            "linecolor": "white",
            "showbackground": true,
            "ticks": "",
            "zerolinecolor": "white"
           }
          },
          "shapedefaults": {
           "line": {
            "color": "#2a3f5f"
           }
          },
          "ternary": {
           "aaxis": {
            "gridcolor": "white",
            "linecolor": "white",
            "ticks": ""
           },
           "baxis": {
            "gridcolor": "white",
            "linecolor": "white",
            "ticks": ""
           },
           "bgcolor": "#E5ECF6",
           "caxis": {
            "gridcolor": "white",
            "linecolor": "white",
            "ticks": ""
           }
          },
          "title": {
           "x": 0.05
          },
          "xaxis": {
           "automargin": true,
           "gridcolor": "white",
           "linecolor": "white",
           "ticks": "",
           "title": {
            "standoff": 15
           },
           "zerolinecolor": "white",
           "zerolinewidth": 2
          },
          "yaxis": {
           "automargin": true,
           "gridcolor": "white",
           "linecolor": "white",
           "ticks": "",
           "title": {
            "standoff": 15
           },
           "zerolinecolor": "white",
           "zerolinewidth": 2
          }
         }
        },
        "xaxis": {
         "anchor": "y",
         "domain": [
          0,
          1
         ],
         "title": {
          "text": "発生時（始期）"
         }
        },
        "yaxis": {
         "anchor": "x",
         "domain": [
          0,
          1
         ],
         "title": {
          "text": "件数"
         }
        }
       }
      }
     },
     "metadata": {},
     "output_type": "display_data"
    }
   ],
   "source": [
    "fig = px.bar(time,x='発生時（始期）',y='件数')\n",
    "fig.show()"
   ]
  },
  {
   "attachments": {},
   "cell_type": "markdown",
   "metadata": {
    "slideshow": {
     "slide_type": "slide"
    }
   },
   "source": [
    "ありゃ？順番が件数の多い順になってる。実はx軸のオプションっていっぱいあるんだ！その中の一つでカテゴリーの順番を設定できる。\n",
    "\n",
    "https://plotly.com/python/categorical-axes/"
   ]
  },
  {
   "cell_type": "code",
   "execution_count": 9,
   "metadata": {},
   "outputs": [
    {
     "data": {
      "application/vnd.plotly.v1+json": {
       "config": {
        "plotlyServerURL": "https://plot.ly"
       },
       "data": [
        {
         "alignmentgroup": "True",
         "hovertemplate": "発生時（始期）=%{x}<br>件数=%{y}<extra></extra>",
         "legendgroup": "",
         "marker": {
          "color": "#636efa",
          "pattern": {
           "shape": ""
          }
         },
         "name": "",
         "offsetgroup": "",
         "orientation": "v",
         "showlegend": false,
         "textposition": "auto",
         "type": "bar",
         "x": [
          "18",
          "19",
          "08",
          "16",
          "20",
          "17",
          "12",
          "13",
          "15",
          "07",
          "14",
          "10",
          "21",
          "11",
          "09",
          "06",
          "22",
          "00",
          "23",
          "不明",
          "05",
          "04",
          "02",
          "01"
         ],
         "xaxis": "x",
         "y": [
          44,
          39,
          37,
          36,
          33,
          32,
          28,
          25,
          24,
          23,
          20,
          20,
          19,
          19,
          18,
          12,
          11,
          9,
          9,
          6,
          3,
          2,
          1,
          1
         ],
         "yaxis": "y"
        }
       ],
       "layout": {
        "barmode": "relative",
        "legend": {
         "tracegroupgap": 0
        },
        "margin": {
         "t": 60
        },
        "template": {
         "data": {
          "bar": [
           {
            "error_x": {
             "color": "#2a3f5f"
            },
            "error_y": {
             "color": "#2a3f5f"
            },
            "marker": {
             "line": {
              "color": "#E5ECF6",
              "width": 0.5
             },
             "pattern": {
              "fillmode": "overlay",
              "size": 10,
              "solidity": 0.2
             }
            },
            "type": "bar"
           }
          ],
          "barpolar": [
           {
            "marker": {
             "line": {
              "color": "#E5ECF6",
              "width": 0.5
             },
             "pattern": {
              "fillmode": "overlay",
              "size": 10,
              "solidity": 0.2
             }
            },
            "type": "barpolar"
           }
          ],
          "carpet": [
           {
            "aaxis": {
             "endlinecolor": "#2a3f5f",
             "gridcolor": "white",
             "linecolor": "white",
             "minorgridcolor": "white",
             "startlinecolor": "#2a3f5f"
            },
            "baxis": {
             "endlinecolor": "#2a3f5f",
             "gridcolor": "white",
             "linecolor": "white",
             "minorgridcolor": "white",
             "startlinecolor": "#2a3f5f"
            },
            "type": "carpet"
           }
          ],
          "choropleth": [
           {
            "colorbar": {
             "outlinewidth": 0,
             "ticks": ""
            },
            "type": "choropleth"
           }
          ],
          "contour": [
           {
            "colorbar": {
             "outlinewidth": 0,
             "ticks": ""
            },
            "colorscale": [
             [
              0,
              "#0d0887"
             ],
             [
              0.1111111111111111,
              "#46039f"
             ],
             [
              0.2222222222222222,
              "#7201a8"
             ],
             [
              0.3333333333333333,
              "#9c179e"
             ],
             [
              0.4444444444444444,
              "#bd3786"
             ],
             [
              0.5555555555555556,
              "#d8576b"
             ],
             [
              0.6666666666666666,
              "#ed7953"
             ],
             [
              0.7777777777777778,
              "#fb9f3a"
             ],
             [
              0.8888888888888888,
              "#fdca26"
             ],
             [
              1,
              "#f0f921"
             ]
            ],
            "type": "contour"
           }
          ],
          "contourcarpet": [
           {
            "colorbar": {
             "outlinewidth": 0,
             "ticks": ""
            },
            "type": "contourcarpet"
           }
          ],
          "heatmap": [
           {
            "colorbar": {
             "outlinewidth": 0,
             "ticks": ""
            },
            "colorscale": [
             [
              0,
              "#0d0887"
             ],
             [
              0.1111111111111111,
              "#46039f"
             ],
             [
              0.2222222222222222,
              "#7201a8"
             ],
             [
              0.3333333333333333,
              "#9c179e"
             ],
             [
              0.4444444444444444,
              "#bd3786"
             ],
             [
              0.5555555555555556,
              "#d8576b"
             ],
             [
              0.6666666666666666,
              "#ed7953"
             ],
             [
              0.7777777777777778,
              "#fb9f3a"
             ],
             [
              0.8888888888888888,
              "#fdca26"
             ],
             [
              1,
              "#f0f921"
             ]
            ],
            "type": "heatmap"
           }
          ],
          "heatmapgl": [
           {
            "colorbar": {
             "outlinewidth": 0,
             "ticks": ""
            },
            "colorscale": [
             [
              0,
              "#0d0887"
             ],
             [
              0.1111111111111111,
              "#46039f"
             ],
             [
              0.2222222222222222,
              "#7201a8"
             ],
             [
              0.3333333333333333,
              "#9c179e"
             ],
             [
              0.4444444444444444,
              "#bd3786"
             ],
             [
              0.5555555555555556,
              "#d8576b"
             ],
             [
              0.6666666666666666,
              "#ed7953"
             ],
             [
              0.7777777777777778,
              "#fb9f3a"
             ],
             [
              0.8888888888888888,
              "#fdca26"
             ],
             [
              1,
              "#f0f921"
             ]
            ],
            "type": "heatmapgl"
           }
          ],
          "histogram": [
           {
            "marker": {
             "pattern": {
              "fillmode": "overlay",
              "size": 10,
              "solidity": 0.2
             }
            },
            "type": "histogram"
           }
          ],
          "histogram2d": [
           {
            "colorbar": {
             "outlinewidth": 0,
             "ticks": ""
            },
            "colorscale": [
             [
              0,
              "#0d0887"
             ],
             [
              0.1111111111111111,
              "#46039f"
             ],
             [
              0.2222222222222222,
              "#7201a8"
             ],
             [
              0.3333333333333333,
              "#9c179e"
             ],
             [
              0.4444444444444444,
              "#bd3786"
             ],
             [
              0.5555555555555556,
              "#d8576b"
             ],
             [
              0.6666666666666666,
              "#ed7953"
             ],
             [
              0.7777777777777778,
              "#fb9f3a"
             ],
             [
              0.8888888888888888,
              "#fdca26"
             ],
             [
              1,
              "#f0f921"
             ]
            ],
            "type": "histogram2d"
           }
          ],
          "histogram2dcontour": [
           {
            "colorbar": {
             "outlinewidth": 0,
             "ticks": ""
            },
            "colorscale": [
             [
              0,
              "#0d0887"
             ],
             [
              0.1111111111111111,
              "#46039f"
             ],
             [
              0.2222222222222222,
              "#7201a8"
             ],
             [
              0.3333333333333333,
              "#9c179e"
             ],
             [
              0.4444444444444444,
              "#bd3786"
             ],
             [
              0.5555555555555556,
              "#d8576b"
             ],
             [
              0.6666666666666666,
              "#ed7953"
             ],
             [
              0.7777777777777778,
              "#fb9f3a"
             ],
             [
              0.8888888888888888,
              "#fdca26"
             ],
             [
              1,
              "#f0f921"
             ]
            ],
            "type": "histogram2dcontour"
           }
          ],
          "mesh3d": [
           {
            "colorbar": {
             "outlinewidth": 0,
             "ticks": ""
            },
            "type": "mesh3d"
           }
          ],
          "parcoords": [
           {
            "line": {
             "colorbar": {
              "outlinewidth": 0,
              "ticks": ""
             }
            },
            "type": "parcoords"
           }
          ],
          "pie": [
           {
            "automargin": true,
            "type": "pie"
           }
          ],
          "scatter": [
           {
            "fillpattern": {
             "fillmode": "overlay",
             "size": 10,
             "solidity": 0.2
            },
            "type": "scatter"
           }
          ],
          "scatter3d": [
           {
            "line": {
             "colorbar": {
              "outlinewidth": 0,
              "ticks": ""
             }
            },
            "marker": {
             "colorbar": {
              "outlinewidth": 0,
              "ticks": ""
             }
            },
            "type": "scatter3d"
           }
          ],
          "scattercarpet": [
           {
            "marker": {
             "colorbar": {
              "outlinewidth": 0,
              "ticks": ""
             }
            },
            "type": "scattercarpet"
           }
          ],
          "scattergeo": [
           {
            "marker": {
             "colorbar": {
              "outlinewidth": 0,
              "ticks": ""
             }
            },
            "type": "scattergeo"
           }
          ],
          "scattergl": [
           {
            "marker": {
             "colorbar": {
              "outlinewidth": 0,
              "ticks": ""
             }
            },
            "type": "scattergl"
           }
          ],
          "scattermapbox": [
           {
            "marker": {
             "colorbar": {
              "outlinewidth": 0,
              "ticks": ""
             }
            },
            "type": "scattermapbox"
           }
          ],
          "scatterpolar": [
           {
            "marker": {
             "colorbar": {
              "outlinewidth": 0,
              "ticks": ""
             }
            },
            "type": "scatterpolar"
           }
          ],
          "scatterpolargl": [
           {
            "marker": {
             "colorbar": {
              "outlinewidth": 0,
              "ticks": ""
             }
            },
            "type": "scatterpolargl"
           }
          ],
          "scatterternary": [
           {
            "marker": {
             "colorbar": {
              "outlinewidth": 0,
              "ticks": ""
             }
            },
            "type": "scatterternary"
           }
          ],
          "surface": [
           {
            "colorbar": {
             "outlinewidth": 0,
             "ticks": ""
            },
            "colorscale": [
             [
              0,
              "#0d0887"
             ],
             [
              0.1111111111111111,
              "#46039f"
             ],
             [
              0.2222222222222222,
              "#7201a8"
             ],
             [
              0.3333333333333333,
              "#9c179e"
             ],
             [
              0.4444444444444444,
              "#bd3786"
             ],
             [
              0.5555555555555556,
              "#d8576b"
             ],
             [
              0.6666666666666666,
              "#ed7953"
             ],
             [
              0.7777777777777778,
              "#fb9f3a"
             ],
             [
              0.8888888888888888,
              "#fdca26"
             ],
             [
              1,
              "#f0f921"
             ]
            ],
            "type": "surface"
           }
          ],
          "table": [
           {
            "cells": {
             "fill": {
              "color": "#EBF0F8"
             },
             "line": {
              "color": "white"
             }
            },
            "header": {
             "fill": {
              "color": "#C8D4E3"
             },
             "line": {
              "color": "white"
             }
            },
            "type": "table"
           }
          ]
         },
         "layout": {
          "annotationdefaults": {
           "arrowcolor": "#2a3f5f",
           "arrowhead": 0,
           "arrowwidth": 1
          },
          "autotypenumbers": "strict",
          "coloraxis": {
           "colorbar": {
            "outlinewidth": 0,
            "ticks": ""
           }
          },
          "colorscale": {
           "diverging": [
            [
             0,
             "#8e0152"
            ],
            [
             0.1,
             "#c51b7d"
            ],
            [
             0.2,
             "#de77ae"
            ],
            [
             0.3,
             "#f1b6da"
            ],
            [
             0.4,
             "#fde0ef"
            ],
            [
             0.5,
             "#f7f7f7"
            ],
            [
             0.6,
             "#e6f5d0"
            ],
            [
             0.7,
             "#b8e186"
            ],
            [
             0.8,
             "#7fbc41"
            ],
            [
             0.9,
             "#4d9221"
            ],
            [
             1,
             "#276419"
            ]
           ],
           "sequential": [
            [
             0,
             "#0d0887"
            ],
            [
             0.1111111111111111,
             "#46039f"
            ],
            [
             0.2222222222222222,
             "#7201a8"
            ],
            [
             0.3333333333333333,
             "#9c179e"
            ],
            [
             0.4444444444444444,
             "#bd3786"
            ],
            [
             0.5555555555555556,
             "#d8576b"
            ],
            [
             0.6666666666666666,
             "#ed7953"
            ],
            [
             0.7777777777777778,
             "#fb9f3a"
            ],
            [
             0.8888888888888888,
             "#fdca26"
            ],
            [
             1,
             "#f0f921"
            ]
           ],
           "sequentialminus": [
            [
             0,
             "#0d0887"
            ],
            [
             0.1111111111111111,
             "#46039f"
            ],
            [
             0.2222222222222222,
             "#7201a8"
            ],
            [
             0.3333333333333333,
             "#9c179e"
            ],
            [
             0.4444444444444444,
             "#bd3786"
            ],
            [
             0.5555555555555556,
             "#d8576b"
            ],
            [
             0.6666666666666666,
             "#ed7953"
            ],
            [
             0.7777777777777778,
             "#fb9f3a"
            ],
            [
             0.8888888888888888,
             "#fdca26"
            ],
            [
             1,
             "#f0f921"
            ]
           ]
          },
          "colorway": [
           "#636efa",
           "#EF553B",
           "#00cc96",
           "#ab63fa",
           "#FFA15A",
           "#19d3f3",
           "#FF6692",
           "#B6E880",
           "#FF97FF",
           "#FECB52"
          ],
          "font": {
           "color": "#2a3f5f"
          },
          "geo": {
           "bgcolor": "white",
           "lakecolor": "white",
           "landcolor": "#E5ECF6",
           "showlakes": true,
           "showland": true,
           "subunitcolor": "white"
          },
          "hoverlabel": {
           "align": "left"
          },
          "hovermode": "closest",
          "mapbox": {
           "style": "light"
          },
          "paper_bgcolor": "white",
          "plot_bgcolor": "#E5ECF6",
          "polar": {
           "angularaxis": {
            "gridcolor": "white",
            "linecolor": "white",
            "ticks": ""
           },
           "bgcolor": "#E5ECF6",
           "radialaxis": {
            "gridcolor": "white",
            "linecolor": "white",
            "ticks": ""
           }
          },
          "scene": {
           "xaxis": {
            "backgroundcolor": "#E5ECF6",
            "gridcolor": "white",
            "gridwidth": 2,
            "linecolor": "white",
            "showbackground": true,
            "ticks": "",
            "zerolinecolor": "white"
           },
           "yaxis": {
            "backgroundcolor": "#E5ECF6",
            "gridcolor": "white",
            "gridwidth": 2,
            "linecolor": "white",
            "showbackground": true,
            "ticks": "",
            "zerolinecolor": "white"
           },
           "zaxis": {
            "backgroundcolor": "#E5ECF6",
            "gridcolor": "white",
            "gridwidth": 2,
            "linecolor": "white",
            "showbackground": true,
            "ticks": "",
            "zerolinecolor": "white"
           }
          },
          "shapedefaults": {
           "line": {
            "color": "#2a3f5f"
           }
          },
          "ternary": {
           "aaxis": {
            "gridcolor": "white",
            "linecolor": "white",
            "ticks": ""
           },
           "baxis": {
            "gridcolor": "white",
            "linecolor": "white",
            "ticks": ""
           },
           "bgcolor": "#E5ECF6",
           "caxis": {
            "gridcolor": "white",
            "linecolor": "white",
            "ticks": ""
           }
          },
          "title": {
           "x": 0.05
          },
          "xaxis": {
           "automargin": true,
           "gridcolor": "white",
           "linecolor": "white",
           "ticks": "",
           "title": {
            "standoff": 15
           },
           "zerolinecolor": "white",
           "zerolinewidth": 2
          },
          "yaxis": {
           "automargin": true,
           "gridcolor": "white",
           "linecolor": "white",
           "ticks": "",
           "title": {
            "standoff": 15
           },
           "zerolinecolor": "white",
           "zerolinewidth": 2
          }
         }
        },
        "xaxis": {
         "anchor": "y",
         "categoryorder": "category ascending",
         "domain": [
          0,
          1
         ],
         "title": {
          "text": "発生時（始期）"
         }
        },
        "yaxis": {
         "anchor": "x",
         "domain": [
          0,
          1
         ],
         "title": {
          "text": "件数"
         }
        }
       }
      }
     },
     "metadata": {},
     "output_type": "display_data"
    }
   ],
   "source": [
    "fig = px.bar(time,\n",
    "            x='発生時（始期）',\n",
    "            y='件数'\n",
    "            )\n",
    "fig.update_xaxes(categoryorder='category ascending')#\n",
    "fig.show()"
   ]
  },
  {
   "attachments": {},
   "cell_type": "markdown",
   "metadata": {
    "slideshow": {
     "slide_type": "slide"
    }
   },
   "source": [
    "チャートのテンプレートを変えることでルックスが変わる。\n",
    "\n",
    "`template`のオプションはこちらから：\n",
    "\n",
    "```[\"plotly\", \"plotly_white\", \"plotly_dark\", \"ggplot2\", \"seaborn\", \"simple_white\"]```\n",
    "\n",
    "一つずつ試してみよう。"
   ]
  },
  {
   "cell_type": "code",
   "execution_count": 13,
   "metadata": {
    "slideshow": {
     "slide_type": "slide"
    }
   },
   "outputs": [
    {
     "data": {
      "application/vnd.plotly.v1+json": {
       "config": {
        "plotlyServerURL": "https://plot.ly"
       },
       "data": [
        {
         "alignmentgroup": "True",
         "hovertemplate": "発生時（始期）=%{x}<br>件数=%{y}<extra></extra>",
         "legendgroup": "",
         "marker": {
          "color": "#F8766D",
          "pattern": {
           "shape": ""
          }
         },
         "name": "",
         "offsetgroup": "",
         "orientation": "v",
         "showlegend": false,
         "textposition": "auto",
         "type": "bar",
         "x": [
          "18",
          "19",
          "08",
          "16",
          "20",
          "17",
          "12",
          "13",
          "15",
          "07",
          "14",
          "10",
          "21",
          "11",
          "09",
          "06",
          "22",
          "00",
          "23",
          "不明",
          "05",
          "04",
          "02",
          "01"
         ],
         "xaxis": "x",
         "y": [
          44,
          39,
          37,
          36,
          33,
          32,
          28,
          25,
          24,
          23,
          20,
          20,
          19,
          19,
          18,
          12,
          11,
          9,
          9,
          6,
          3,
          2,
          1,
          1
         ],
         "yaxis": "y"
        }
       ],
       "layout": {
        "barmode": "relative",
        "legend": {
         "tracegroupgap": 0
        },
        "margin": {
         "t": 60
        },
        "template": {
         "data": {
          "bar": [
           {
            "error_x": {
             "color": "rgb(51,51,51)"
            },
            "error_y": {
             "color": "rgb(51,51,51)"
            },
            "marker": {
             "line": {
              "color": "rgb(237,237,237)",
              "width": 0.5
             },
             "pattern": {
              "fillmode": "overlay",
              "size": 10,
              "solidity": 0.2
             }
            },
            "type": "bar"
           }
          ],
          "barpolar": [
           {
            "marker": {
             "line": {
              "color": "rgb(237,237,237)",
              "width": 0.5
             },
             "pattern": {
              "fillmode": "overlay",
              "size": 10,
              "solidity": 0.2
             }
            },
            "type": "barpolar"
           }
          ],
          "carpet": [
           {
            "aaxis": {
             "endlinecolor": "rgb(51,51,51)",
             "gridcolor": "white",
             "linecolor": "white",
             "minorgridcolor": "white",
             "startlinecolor": "rgb(51,51,51)"
            },
            "baxis": {
             "endlinecolor": "rgb(51,51,51)",
             "gridcolor": "white",
             "linecolor": "white",
             "minorgridcolor": "white",
             "startlinecolor": "rgb(51,51,51)"
            },
            "type": "carpet"
           }
          ],
          "choropleth": [
           {
            "colorbar": {
             "outlinewidth": 0,
             "tickcolor": "rgb(237,237,237)",
             "ticklen": 6,
             "ticks": "inside"
            },
            "type": "choropleth"
           }
          ],
          "contour": [
           {
            "colorbar": {
             "outlinewidth": 0,
             "tickcolor": "rgb(237,237,237)",
             "ticklen": 6,
             "ticks": "inside"
            },
            "colorscale": [
             [
              0,
              "rgb(20,44,66)"
             ],
             [
              1,
              "rgb(90,179,244)"
             ]
            ],
            "type": "contour"
           }
          ],
          "contourcarpet": [
           {
            "colorbar": {
             "outlinewidth": 0,
             "tickcolor": "rgb(237,237,237)",
             "ticklen": 6,
             "ticks": "inside"
            },
            "type": "contourcarpet"
           }
          ],
          "heatmap": [
           {
            "colorbar": {
             "outlinewidth": 0,
             "tickcolor": "rgb(237,237,237)",
             "ticklen": 6,
             "ticks": "inside"
            },
            "colorscale": [
             [
              0,
              "rgb(20,44,66)"
             ],
             [
              1,
              "rgb(90,179,244)"
             ]
            ],
            "type": "heatmap"
           }
          ],
          "heatmapgl": [
           {
            "colorbar": {
             "outlinewidth": 0,
             "tickcolor": "rgb(237,237,237)",
             "ticklen": 6,
             "ticks": "inside"
            },
            "colorscale": [
             [
              0,
              "rgb(20,44,66)"
             ],
             [
              1,
              "rgb(90,179,244)"
             ]
            ],
            "type": "heatmapgl"
           }
          ],
          "histogram": [
           {
            "marker": {
             "pattern": {
              "fillmode": "overlay",
              "size": 10,
              "solidity": 0.2
             }
            },
            "type": "histogram"
           }
          ],
          "histogram2d": [
           {
            "colorbar": {
             "outlinewidth": 0,
             "tickcolor": "rgb(237,237,237)",
             "ticklen": 6,
             "ticks": "inside"
            },
            "colorscale": [
             [
              0,
              "rgb(20,44,66)"
             ],
             [
              1,
              "rgb(90,179,244)"
             ]
            ],
            "type": "histogram2d"
           }
          ],
          "histogram2dcontour": [
           {
            "colorbar": {
             "outlinewidth": 0,
             "tickcolor": "rgb(237,237,237)",
             "ticklen": 6,
             "ticks": "inside"
            },
            "colorscale": [
             [
              0,
              "rgb(20,44,66)"
             ],
             [
              1,
              "rgb(90,179,244)"
             ]
            ],
            "type": "histogram2dcontour"
           }
          ],
          "mesh3d": [
           {
            "colorbar": {
             "outlinewidth": 0,
             "tickcolor": "rgb(237,237,237)",
             "ticklen": 6,
             "ticks": "inside"
            },
            "type": "mesh3d"
           }
          ],
          "parcoords": [
           {
            "line": {
             "colorbar": {
              "outlinewidth": 0,
              "tickcolor": "rgb(237,237,237)",
              "ticklen": 6,
              "ticks": "inside"
             }
            },
            "type": "parcoords"
           }
          ],
          "pie": [
           {
            "automargin": true,
            "type": "pie"
           }
          ],
          "scatter": [
           {
            "fillpattern": {
             "fillmode": "overlay",
             "size": 10,
             "solidity": 0.2
            },
            "type": "scatter"
           }
          ],
          "scatter3d": [
           {
            "line": {
             "colorbar": {
              "outlinewidth": 0,
              "tickcolor": "rgb(237,237,237)",
              "ticklen": 6,
              "ticks": "inside"
             }
            },
            "marker": {
             "colorbar": {
              "outlinewidth": 0,
              "tickcolor": "rgb(237,237,237)",
              "ticklen": 6,
              "ticks": "inside"
             }
            },
            "type": "scatter3d"
           }
          ],
          "scattercarpet": [
           {
            "marker": {
             "colorbar": {
              "outlinewidth": 0,
              "tickcolor": "rgb(237,237,237)",
              "ticklen": 6,
              "ticks": "inside"
             }
            },
            "type": "scattercarpet"
           }
          ],
          "scattergeo": [
           {
            "marker": {
             "colorbar": {
              "outlinewidth": 0,
              "tickcolor": "rgb(237,237,237)",
              "ticklen": 6,
              "ticks": "inside"
             }
            },
            "type": "scattergeo"
           }
          ],
          "scattergl": [
           {
            "marker": {
             "colorbar": {
              "outlinewidth": 0,
              "tickcolor": "rgb(237,237,237)",
              "ticklen": 6,
              "ticks": "inside"
             }
            },
            "type": "scattergl"
           }
          ],
          "scattermapbox": [
           {
            "marker": {
             "colorbar": {
              "outlinewidth": 0,
              "tickcolor": "rgb(237,237,237)",
              "ticklen": 6,
              "ticks": "inside"
             }
            },
            "type": "scattermapbox"
           }
          ],
          "scatterpolar": [
           {
            "marker": {
             "colorbar": {
              "outlinewidth": 0,
              "tickcolor": "rgb(237,237,237)",
              "ticklen": 6,
              "ticks": "inside"
             }
            },
            "type": "scatterpolar"
           }
          ],
          "scatterpolargl": [
           {
            "marker": {
             "colorbar": {
              "outlinewidth": 0,
              "tickcolor": "rgb(237,237,237)",
              "ticklen": 6,
              "ticks": "inside"
             }
            },
            "type": "scatterpolargl"
           }
          ],
          "scatterternary": [
           {
            "marker": {
             "colorbar": {
              "outlinewidth": 0,
              "tickcolor": "rgb(237,237,237)",
              "ticklen": 6,
              "ticks": "inside"
             }
            },
            "type": "scatterternary"
           }
          ],
          "surface": [
           {
            "colorbar": {
             "outlinewidth": 0,
             "tickcolor": "rgb(237,237,237)",
             "ticklen": 6,
             "ticks": "inside"
            },
            "colorscale": [
             [
              0,
              "rgb(20,44,66)"
             ],
             [
              1,
              "rgb(90,179,244)"
             ]
            ],
            "type": "surface"
           }
          ],
          "table": [
           {
            "cells": {
             "fill": {
              "color": "rgb(237,237,237)"
             },
             "line": {
              "color": "white"
             }
            },
            "header": {
             "fill": {
              "color": "rgb(217,217,217)"
             },
             "line": {
              "color": "white"
             }
            },
            "type": "table"
           }
          ]
         },
         "layout": {
          "annotationdefaults": {
           "arrowhead": 0,
           "arrowwidth": 1
          },
          "autotypenumbers": "strict",
          "coloraxis": {
           "colorbar": {
            "outlinewidth": 0,
            "tickcolor": "rgb(237,237,237)",
            "ticklen": 6,
            "ticks": "inside"
           }
          },
          "colorscale": {
           "sequential": [
            [
             0,
             "rgb(20,44,66)"
            ],
            [
             1,
             "rgb(90,179,244)"
            ]
           ],
           "sequentialminus": [
            [
             0,
             "rgb(20,44,66)"
            ],
            [
             1,
             "rgb(90,179,244)"
            ]
           ]
          },
          "colorway": [
           "#F8766D",
           "#A3A500",
           "#00BF7D",
           "#00B0F6",
           "#E76BF3"
          ],
          "font": {
           "color": "rgb(51,51,51)"
          },
          "geo": {
           "bgcolor": "white",
           "lakecolor": "white",
           "landcolor": "rgb(237,237,237)",
           "showlakes": true,
           "showland": true,
           "subunitcolor": "white"
          },
          "hoverlabel": {
           "align": "left"
          },
          "hovermode": "closest",
          "paper_bgcolor": "white",
          "plot_bgcolor": "rgb(237,237,237)",
          "polar": {
           "angularaxis": {
            "gridcolor": "white",
            "linecolor": "white",
            "showgrid": true,
            "tickcolor": "rgb(51,51,51)",
            "ticks": "outside"
           },
           "bgcolor": "rgb(237,237,237)",
           "radialaxis": {
            "gridcolor": "white",
            "linecolor": "white",
            "showgrid": true,
            "tickcolor": "rgb(51,51,51)",
            "ticks": "outside"
           }
          },
          "scene": {
           "xaxis": {
            "backgroundcolor": "rgb(237,237,237)",
            "gridcolor": "white",
            "gridwidth": 2,
            "linecolor": "white",
            "showbackground": true,
            "showgrid": true,
            "tickcolor": "rgb(51,51,51)",
            "ticks": "outside",
            "zerolinecolor": "white"
           },
           "yaxis": {
            "backgroundcolor": "rgb(237,237,237)",
            "gridcolor": "white",
            "gridwidth": 2,
            "linecolor": "white",
            "showbackground": true,
            "showgrid": true,
            "tickcolor": "rgb(51,51,51)",
            "ticks": "outside",
            "zerolinecolor": "white"
           },
           "zaxis": {
            "backgroundcolor": "rgb(237,237,237)",
            "gridcolor": "white",
            "gridwidth": 2,
            "linecolor": "white",
            "showbackground": true,
            "showgrid": true,
            "tickcolor": "rgb(51,51,51)",
            "ticks": "outside",
            "zerolinecolor": "white"
           }
          },
          "shapedefaults": {
           "fillcolor": "black",
           "line": {
            "width": 0
           },
           "opacity": 0.3
          },
          "ternary": {
           "aaxis": {
            "gridcolor": "white",
            "linecolor": "white",
            "showgrid": true,
            "tickcolor": "rgb(51,51,51)",
            "ticks": "outside"
           },
           "baxis": {
            "gridcolor": "white",
            "linecolor": "white",
            "showgrid": true,
            "tickcolor": "rgb(51,51,51)",
            "ticks": "outside"
           },
           "bgcolor": "rgb(237,237,237)",
           "caxis": {
            "gridcolor": "white",
            "linecolor": "white",
            "showgrid": true,
            "tickcolor": "rgb(51,51,51)",
            "ticks": "outside"
           }
          },
          "xaxis": {
           "automargin": true,
           "gridcolor": "white",
           "linecolor": "white",
           "showgrid": true,
           "tickcolor": "rgb(51,51,51)",
           "ticks": "outside",
           "title": {
            "standoff": 15
           },
           "zerolinecolor": "white"
          },
          "yaxis": {
           "automargin": true,
           "gridcolor": "white",
           "linecolor": "white",
           "showgrid": true,
           "tickcolor": "rgb(51,51,51)",
           "ticks": "outside",
           "title": {
            "standoff": 15
           },
           "zerolinecolor": "white"
          }
         }
        },
        "xaxis": {
         "anchor": "y",
         "categoryorder": "category ascending",
         "domain": [
          0,
          1
         ],
         "title": {
          "text": "発生時（始期）"
         }
        },
        "yaxis": {
         "anchor": "x",
         "domain": [
          0,
          1
         ],
         "title": {
          "text": "件数"
         }
        }
       }
      }
     },
     "metadata": {},
     "output_type": "display_data"
    }
   ],
   "source": [
    "fig = px.bar(time,\n",
    "            x='発生時（始期）',\n",
    "            y='件数',\n",
    "            template='ggplot2' # change this to see other styles\n",
    "            )\n",
    "fig.update_xaxes(categoryorder='category ascending')\n",
    "fig.show()"
   ]
  },
  {
   "attachments": {},
   "cell_type": "markdown",
   "metadata": {
    "slideshow": {
     "slide_type": "slide"
    }
   },
   "source": [
    "### Make your own charts\n",
    "\n",
    "では、ここで他のチャートを作ってみよう。\n",
    "\n",
    "例：被害者の年齢、被害者の職業"
   ]
  },
  {
   "cell_type": "code",
   "execution_count": 12,
   "metadata": {},
   "outputs": [
    {
     "data": {
      "text/html": [
       "<div>\n",
       "<style scoped>\n",
       "    .dataframe tbody tr th:only-of-type {\n",
       "        vertical-align: middle;\n",
       "    }\n",
       "\n",
       "    .dataframe tbody tr th {\n",
       "        vertical-align: top;\n",
       "    }\n",
       "\n",
       "    .dataframe thead th {\n",
       "        text-align: right;\n",
       "    }\n",
       "</style>\n",
       "<table border=\"1\" class=\"dataframe\">\n",
       "  <thead>\n",
       "    <tr style=\"text-align: right;\">\n",
       "      <th></th>\n",
       "      <th>被害者の年齢</th>\n",
       "      <th>count</th>\n",
       "    </tr>\n",
       "  </thead>\n",
       "  <tbody>\n",
       "    <tr>\n",
       "      <th>0</th>\n",
       "      <td>10歳代</td>\n",
       "      <td>179</td>\n",
       "    </tr>\n",
       "    <tr>\n",
       "      <th>1</th>\n",
       "      <td>20歳代</td>\n",
       "      <td>123</td>\n",
       "    </tr>\n",
       "    <tr>\n",
       "      <th>2</th>\n",
       "      <td>30歳代</td>\n",
       "      <td>63</td>\n",
       "    </tr>\n",
       "    <tr>\n",
       "      <th>3</th>\n",
       "      <td>40歳代</td>\n",
       "      <td>42</td>\n",
       "    </tr>\n",
       "    <tr>\n",
       "      <th>4</th>\n",
       "      <td>70歳以上</td>\n",
       "      <td>18</td>\n",
       "    </tr>\n",
       "    <tr>\n",
       "      <th>5</th>\n",
       "      <td>50歳代</td>\n",
       "      <td>16</td>\n",
       "    </tr>\n",
       "    <tr>\n",
       "      <th>6</th>\n",
       "      <td>10歳未満</td>\n",
       "      <td>12</td>\n",
       "    </tr>\n",
       "    <tr>\n",
       "      <th>7</th>\n",
       "      <td>60-64歳</td>\n",
       "      <td>10</td>\n",
       "    </tr>\n",
       "    <tr>\n",
       "      <th>8</th>\n",
       "      <td>65-69歳</td>\n",
       "      <td>4</td>\n",
       "    </tr>\n",
       "    <tr>\n",
       "      <th>9</th>\n",
       "      <td>法人・団体、被害者なし</td>\n",
       "      <td>4</td>\n",
       "    </tr>\n",
       "  </tbody>\n",
       "</table>\n",
       "</div>"
      ],
      "text/plain": [
       "        被害者の年齢  count\n",
       "0         10歳代    179\n",
       "1         20歳代    123\n",
       "2         30歳代     63\n",
       "3         40歳代     42\n",
       "4        70歳以上     18\n",
       "5         50歳代     16\n",
       "6        10歳未満     12\n",
       "7       60-64歳     10\n",
       "8       65-69歳      4\n",
       "9  法人・団体、被害者なし      4"
      ]
     },
     "execution_count": 12,
     "metadata": {},
     "output_type": "execute_result"
    }
   ],
   "source": [
    "# create a new variable with hourly counts\n",
    "year = kashiwa['被害者の年齢'].value_counts().reset_index()\n",
    "year"
   ]
  },
  {
   "cell_type": "code",
   "execution_count": 18,
   "metadata": {},
   "outputs": [
    {
     "data": {
      "text/html": [
       "<div>\n",
       "<style scoped>\n",
       "    .dataframe tbody tr th:only-of-type {\n",
       "        vertical-align: middle;\n",
       "    }\n",
       "\n",
       "    .dataframe tbody tr th {\n",
       "        vertical-align: top;\n",
       "    }\n",
       "\n",
       "    .dataframe thead th {\n",
       "        text-align: right;\n",
       "    }\n",
       "</style>\n",
       "<table border=\"1\" class=\"dataframe\">\n",
       "  <thead>\n",
       "    <tr style=\"text-align: right;\">\n",
       "      <th></th>\n",
       "      <th>被害者の年齢</th>\n",
       "      <th>件数</th>\n",
       "    </tr>\n",
       "  </thead>\n",
       "  <tbody>\n",
       "    <tr>\n",
       "      <th>0</th>\n",
       "      <td>10歳代</td>\n",
       "      <td>179</td>\n",
       "    </tr>\n",
       "    <tr>\n",
       "      <th>1</th>\n",
       "      <td>20歳代</td>\n",
       "      <td>123</td>\n",
       "    </tr>\n",
       "    <tr>\n",
       "      <th>2</th>\n",
       "      <td>30歳代</td>\n",
       "      <td>63</td>\n",
       "    </tr>\n",
       "    <tr>\n",
       "      <th>3</th>\n",
       "      <td>40歳代</td>\n",
       "      <td>42</td>\n",
       "    </tr>\n",
       "    <tr>\n",
       "      <th>4</th>\n",
       "      <td>70歳以上</td>\n",
       "      <td>18</td>\n",
       "    </tr>\n",
       "    <tr>\n",
       "      <th>5</th>\n",
       "      <td>50歳代</td>\n",
       "      <td>16</td>\n",
       "    </tr>\n",
       "    <tr>\n",
       "      <th>6</th>\n",
       "      <td>10歳未満</td>\n",
       "      <td>12</td>\n",
       "    </tr>\n",
       "    <tr>\n",
       "      <th>7</th>\n",
       "      <td>60-64歳</td>\n",
       "      <td>10</td>\n",
       "    </tr>\n",
       "    <tr>\n",
       "      <th>8</th>\n",
       "      <td>65-69歳</td>\n",
       "      <td>4</td>\n",
       "    </tr>\n",
       "    <tr>\n",
       "      <th>9</th>\n",
       "      <td>法人・団体、被害者なし</td>\n",
       "      <td>4</td>\n",
       "    </tr>\n",
       "  </tbody>\n",
       "</table>\n",
       "</div>"
      ],
      "text/plain": [
       "        被害者の年齢   件数\n",
       "0         10歳代  179\n",
       "1         20歳代  123\n",
       "2         30歳代   63\n",
       "3         40歳代   42\n",
       "4        70歳以上   18\n",
       "5         50歳代   16\n",
       "6        10歳未満   12\n",
       "7       60-64歳   10\n",
       "8       65-69歳    4\n",
       "9  法人・団体、被害者なし    4"
      ]
     },
     "execution_count": 18,
     "metadata": {},
     "output_type": "execute_result"
    }
   ],
   "source": [
    "# fix headers\n",
    "year.columns = ['被害者の年齢','件数']\n",
    "year"
   ]
  },
  {
   "cell_type": "code",
   "execution_count": 16,
   "metadata": {},
   "outputs": [
    {
     "data": {
      "application/vnd.plotly.v1+json": {
       "config": {
        "plotlyServerURL": "https://plot.ly"
       },
       "data": [
        {
         "alignmentgroup": "True",
         "hovertemplate": "被害者の年齢=%{x}<br>件数=%{y}<extra></extra>",
         "legendgroup": "",
         "marker": {
          "color": "#636efa",
          "pattern": {
           "shape": ""
          }
         },
         "name": "",
         "offsetgroup": "",
         "orientation": "v",
         "showlegend": false,
         "textposition": "auto",
         "type": "bar",
         "x": [
          "10歳代",
          "20歳代",
          "30歳代",
          "40歳代",
          "70歳以上",
          "50歳代",
          "10歳未満",
          "60-64歳",
          "65-69歳",
          "法人・団体、被害者なし"
         ],
         "xaxis": "x",
         "y": [
          179,
          123,
          63,
          42,
          18,
          16,
          12,
          10,
          4,
          4
         ],
         "yaxis": "y"
        }
       ],
       "layout": {
        "barmode": "relative",
        "legend": {
         "tracegroupgap": 0
        },
        "margin": {
         "t": 60
        },
        "template": {
         "data": {
          "bar": [
           {
            "error_x": {
             "color": "#2a3f5f"
            },
            "error_y": {
             "color": "#2a3f5f"
            },
            "marker": {
             "line": {
              "color": "#E5ECF6",
              "width": 0.5
             },
             "pattern": {
              "fillmode": "overlay",
              "size": 10,
              "solidity": 0.2
             }
            },
            "type": "bar"
           }
          ],
          "barpolar": [
           {
            "marker": {
             "line": {
              "color": "#E5ECF6",
              "width": 0.5
             },
             "pattern": {
              "fillmode": "overlay",
              "size": 10,
              "solidity": 0.2
             }
            },
            "type": "barpolar"
           }
          ],
          "carpet": [
           {
            "aaxis": {
             "endlinecolor": "#2a3f5f",
             "gridcolor": "white",
             "linecolor": "white",
             "minorgridcolor": "white",
             "startlinecolor": "#2a3f5f"
            },
            "baxis": {
             "endlinecolor": "#2a3f5f",
             "gridcolor": "white",
             "linecolor": "white",
             "minorgridcolor": "white",
             "startlinecolor": "#2a3f5f"
            },
            "type": "carpet"
           }
          ],
          "choropleth": [
           {
            "colorbar": {
             "outlinewidth": 0,
             "ticks": ""
            },
            "type": "choropleth"
           }
          ],
          "contour": [
           {
            "colorbar": {
             "outlinewidth": 0,
             "ticks": ""
            },
            "colorscale": [
             [
              0,
              "#0d0887"
             ],
             [
              0.1111111111111111,
              "#46039f"
             ],
             [
              0.2222222222222222,
              "#7201a8"
             ],
             [
              0.3333333333333333,
              "#9c179e"
             ],
             [
              0.4444444444444444,
              "#bd3786"
             ],
             [
              0.5555555555555556,
              "#d8576b"
             ],
             [
              0.6666666666666666,
              "#ed7953"
             ],
             [
              0.7777777777777778,
              "#fb9f3a"
             ],
             [
              0.8888888888888888,
              "#fdca26"
             ],
             [
              1,
              "#f0f921"
             ]
            ],
            "type": "contour"
           }
          ],
          "contourcarpet": [
           {
            "colorbar": {
             "outlinewidth": 0,
             "ticks": ""
            },
            "type": "contourcarpet"
           }
          ],
          "heatmap": [
           {
            "colorbar": {
             "outlinewidth": 0,
             "ticks": ""
            },
            "colorscale": [
             [
              0,
              "#0d0887"
             ],
             [
              0.1111111111111111,
              "#46039f"
             ],
             [
              0.2222222222222222,
              "#7201a8"
             ],
             [
              0.3333333333333333,
              "#9c179e"
             ],
             [
              0.4444444444444444,
              "#bd3786"
             ],
             [
              0.5555555555555556,
              "#d8576b"
             ],
             [
              0.6666666666666666,
              "#ed7953"
             ],
             [
              0.7777777777777778,
              "#fb9f3a"
             ],
             [
              0.8888888888888888,
              "#fdca26"
             ],
             [
              1,
              "#f0f921"
             ]
            ],
            "type": "heatmap"
           }
          ],
          "heatmapgl": [
           {
            "colorbar": {
             "outlinewidth": 0,
             "ticks": ""
            },
            "colorscale": [
             [
              0,
              "#0d0887"
             ],
             [
              0.1111111111111111,
              "#46039f"
             ],
             [
              0.2222222222222222,
              "#7201a8"
             ],
             [
              0.3333333333333333,
              "#9c179e"
             ],
             [
              0.4444444444444444,
              "#bd3786"
             ],
             [
              0.5555555555555556,
              "#d8576b"
             ],
             [
              0.6666666666666666,
              "#ed7953"
             ],
             [
              0.7777777777777778,
              "#fb9f3a"
             ],
             [
              0.8888888888888888,
              "#fdca26"
             ],
             [
              1,
              "#f0f921"
             ]
            ],
            "type": "heatmapgl"
           }
          ],
          "histogram": [
           {
            "marker": {
             "pattern": {
              "fillmode": "overlay",
              "size": 10,
              "solidity": 0.2
             }
            },
            "type": "histogram"
           }
          ],
          "histogram2d": [
           {
            "colorbar": {
             "outlinewidth": 0,
             "ticks": ""
            },
            "colorscale": [
             [
              0,
              "#0d0887"
             ],
             [
              0.1111111111111111,
              "#46039f"
             ],
             [
              0.2222222222222222,
              "#7201a8"
             ],
             [
              0.3333333333333333,
              "#9c179e"
             ],
             [
              0.4444444444444444,
              "#bd3786"
             ],
             [
              0.5555555555555556,
              "#d8576b"
             ],
             [
              0.6666666666666666,
              "#ed7953"
             ],
             [
              0.7777777777777778,
              "#fb9f3a"
             ],
             [
              0.8888888888888888,
              "#fdca26"
             ],
             [
              1,
              "#f0f921"
             ]
            ],
            "type": "histogram2d"
           }
          ],
          "histogram2dcontour": [
           {
            "colorbar": {
             "outlinewidth": 0,
             "ticks": ""
            },
            "colorscale": [
             [
              0,
              "#0d0887"
             ],
             [
              0.1111111111111111,
              "#46039f"
             ],
             [
              0.2222222222222222,
              "#7201a8"
             ],
             [
              0.3333333333333333,
              "#9c179e"
             ],
             [
              0.4444444444444444,
              "#bd3786"
             ],
             [
              0.5555555555555556,
              "#d8576b"
             ],
             [
              0.6666666666666666,
              "#ed7953"
             ],
             [
              0.7777777777777778,
              "#fb9f3a"
             ],
             [
              0.8888888888888888,
              "#fdca26"
             ],
             [
              1,
              "#f0f921"
             ]
            ],
            "type": "histogram2dcontour"
           }
          ],
          "mesh3d": [
           {
            "colorbar": {
             "outlinewidth": 0,
             "ticks": ""
            },
            "type": "mesh3d"
           }
          ],
          "parcoords": [
           {
            "line": {
             "colorbar": {
              "outlinewidth": 0,
              "ticks": ""
             }
            },
            "type": "parcoords"
           }
          ],
          "pie": [
           {
            "automargin": true,
            "type": "pie"
           }
          ],
          "scatter": [
           {
            "fillpattern": {
             "fillmode": "overlay",
             "size": 10,
             "solidity": 0.2
            },
            "type": "scatter"
           }
          ],
          "scatter3d": [
           {
            "line": {
             "colorbar": {
              "outlinewidth": 0,
              "ticks": ""
             }
            },
            "marker": {
             "colorbar": {
              "outlinewidth": 0,
              "ticks": ""
             }
            },
            "type": "scatter3d"
           }
          ],
          "scattercarpet": [
           {
            "marker": {
             "colorbar": {
              "outlinewidth": 0,
              "ticks": ""
             }
            },
            "type": "scattercarpet"
           }
          ],
          "scattergeo": [
           {
            "marker": {
             "colorbar": {
              "outlinewidth": 0,
              "ticks": ""
             }
            },
            "type": "scattergeo"
           }
          ],
          "scattergl": [
           {
            "marker": {
             "colorbar": {
              "outlinewidth": 0,
              "ticks": ""
             }
            },
            "type": "scattergl"
           }
          ],
          "scattermapbox": [
           {
            "marker": {
             "colorbar": {
              "outlinewidth": 0,
              "ticks": ""
             }
            },
            "type": "scattermapbox"
           }
          ],
          "scatterpolar": [
           {
            "marker": {
             "colorbar": {
              "outlinewidth": 0,
              "ticks": ""
             }
            },
            "type": "scatterpolar"
           }
          ],
          "scatterpolargl": [
           {
            "marker": {
             "colorbar": {
              "outlinewidth": 0,
              "ticks": ""
             }
            },
            "type": "scatterpolargl"
           }
          ],
          "scatterternary": [
           {
            "marker": {
             "colorbar": {
              "outlinewidth": 0,
              "ticks": ""
             }
            },
            "type": "scatterternary"
           }
          ],
          "surface": [
           {
            "colorbar": {
             "outlinewidth": 0,
             "ticks": ""
            },
            "colorscale": [
             [
              0,
              "#0d0887"
             ],
             [
              0.1111111111111111,
              "#46039f"
             ],
             [
              0.2222222222222222,
              "#7201a8"
             ],
             [
              0.3333333333333333,
              "#9c179e"
             ],
             [
              0.4444444444444444,
              "#bd3786"
             ],
             [
              0.5555555555555556,
              "#d8576b"
             ],
             [
              0.6666666666666666,
              "#ed7953"
             ],
             [
              0.7777777777777778,
              "#fb9f3a"
             ],
             [
              0.8888888888888888,
              "#fdca26"
             ],
             [
              1,
              "#f0f921"
             ]
            ],
            "type": "surface"
           }
          ],
          "table": [
           {
            "cells": {
             "fill": {
              "color": "#EBF0F8"
             },
             "line": {
              "color": "white"
             }
            },
            "header": {
             "fill": {
              "color": "#C8D4E3"
             },
             "line": {
              "color": "white"
             }
            },
            "type": "table"
           }
          ]
         },
         "layout": {
          "annotationdefaults": {
           "arrowcolor": "#2a3f5f",
           "arrowhead": 0,
           "arrowwidth": 1
          },
          "autotypenumbers": "strict",
          "coloraxis": {
           "colorbar": {
            "outlinewidth": 0,
            "ticks": ""
           }
          },
          "colorscale": {
           "diverging": [
            [
             0,
             "#8e0152"
            ],
            [
             0.1,
             "#c51b7d"
            ],
            [
             0.2,
             "#de77ae"
            ],
            [
             0.3,
             "#f1b6da"
            ],
            [
             0.4,
             "#fde0ef"
            ],
            [
             0.5,
             "#f7f7f7"
            ],
            [
             0.6,
             "#e6f5d0"
            ],
            [
             0.7,
             "#b8e186"
            ],
            [
             0.8,
             "#7fbc41"
            ],
            [
             0.9,
             "#4d9221"
            ],
            [
             1,
             "#276419"
            ]
           ],
           "sequential": [
            [
             0,
             "#0d0887"
            ],
            [
             0.1111111111111111,
             "#46039f"
            ],
            [
             0.2222222222222222,
             "#7201a8"
            ],
            [
             0.3333333333333333,
             "#9c179e"
            ],
            [
             0.4444444444444444,
             "#bd3786"
            ],
            [
             0.5555555555555556,
             "#d8576b"
            ],
            [
             0.6666666666666666,
             "#ed7953"
            ],
            [
             0.7777777777777778,
             "#fb9f3a"
            ],
            [
             0.8888888888888888,
             "#fdca26"
            ],
            [
             1,
             "#f0f921"
            ]
           ],
           "sequentialminus": [
            [
             0,
             "#0d0887"
            ],
            [
             0.1111111111111111,
             "#46039f"
            ],
            [
             0.2222222222222222,
             "#7201a8"
            ],
            [
             0.3333333333333333,
             "#9c179e"
            ],
            [
             0.4444444444444444,
             "#bd3786"
            ],
            [
             0.5555555555555556,
             "#d8576b"
            ],
            [
             0.6666666666666666,
             "#ed7953"
            ],
            [
             0.7777777777777778,
             "#fb9f3a"
            ],
            [
             0.8888888888888888,
             "#fdca26"
            ],
            [
             1,
             "#f0f921"
            ]
           ]
          },
          "colorway": [
           "#636efa",
           "#EF553B",
           "#00cc96",
           "#ab63fa",
           "#FFA15A",
           "#19d3f3",
           "#FF6692",
           "#B6E880",
           "#FF97FF",
           "#FECB52"
          ],
          "font": {
           "color": "#2a3f5f"
          },
          "geo": {
           "bgcolor": "white",
           "lakecolor": "white",
           "landcolor": "#E5ECF6",
           "showlakes": true,
           "showland": true,
           "subunitcolor": "white"
          },
          "hoverlabel": {
           "align": "left"
          },
          "hovermode": "closest",
          "mapbox": {
           "style": "light"
          },
          "paper_bgcolor": "white",
          "plot_bgcolor": "#E5ECF6",
          "polar": {
           "angularaxis": {
            "gridcolor": "white",
            "linecolor": "white",
            "ticks": ""
           },
           "bgcolor": "#E5ECF6",
           "radialaxis": {
            "gridcolor": "white",
            "linecolor": "white",
            "ticks": ""
           }
          },
          "scene": {
           "xaxis": {
            "backgroundcolor": "#E5ECF6",
            "gridcolor": "white",
            "gridwidth": 2,
            "linecolor": "white",
            "showbackground": true,
            "ticks": "",
            "zerolinecolor": "white"
           },
           "yaxis": {
            "backgroundcolor": "#E5ECF6",
            "gridcolor": "white",
            "gridwidth": 2,
            "linecolor": "white",
            "showbackground": true,
            "ticks": "",
            "zerolinecolor": "white"
           },
           "zaxis": {
            "backgroundcolor": "#E5ECF6",
            "gridcolor": "white",
            "gridwidth": 2,
            "linecolor": "white",
            "showbackground": true,
            "ticks": "",
            "zerolinecolor": "white"
           }
          },
          "shapedefaults": {
           "line": {
            "color": "#2a3f5f"
           }
          },
          "ternary": {
           "aaxis": {
            "gridcolor": "white",
            "linecolor": "white",
            "ticks": ""
           },
           "baxis": {
            "gridcolor": "white",
            "linecolor": "white",
            "ticks": ""
           },
           "bgcolor": "#E5ECF6",
           "caxis": {
            "gridcolor": "white",
            "linecolor": "white",
            "ticks": ""
           }
          },
          "title": {
           "x": 0.05
          },
          "xaxis": {
           "automargin": true,
           "gridcolor": "white",
           "linecolor": "white",
           "ticks": "",
           "title": {
            "standoff": 15
           },
           "zerolinecolor": "white",
           "zerolinewidth": 2
          },
          "yaxis": {
           "automargin": true,
           "gridcolor": "white",
           "linecolor": "white",
           "ticks": "",
           "title": {
            "standoff": 15
           },
           "zerolinecolor": "white",
           "zerolinewidth": 2
          }
         }
        },
        "xaxis": {
         "anchor": "y",
         "domain": [
          0,
          1
         ],
         "title": {
          "text": "被害者の年齢"
         }
        },
        "yaxis": {
         "anchor": "x",
         "domain": [
          0,
          1
         ],
         "title": {
          "text": "件数"
         }
        }
       }
      }
     },
     "metadata": {},
     "output_type": "display_data"
    }
   ],
   "source": [
    "fig = px.bar(year,x='被害者の年齢',y='件数')\n",
    "fig.show()"
   ]
  },
  {
   "cell_type": "code",
   "execution_count": 17,
   "metadata": {},
   "outputs": [
    {
     "data": {
      "application/vnd.plotly.v1+json": {
       "config": {
        "plotlyServerURL": "https://plot.ly"
       },
       "data": [
        {
         "alignmentgroup": "True",
         "hovertemplate": "被害者の年齢=%{x}<br>件数=%{y}<extra></extra>",
         "legendgroup": "",
         "marker": {
          "color": "#636efa",
          "pattern": {
           "shape": ""
          }
         },
         "name": "",
         "offsetgroup": "",
         "orientation": "v",
         "showlegend": false,
         "textposition": "auto",
         "type": "bar",
         "x": [
          "10歳代",
          "20歳代",
          "30歳代",
          "40歳代",
          "70歳以上",
          "50歳代",
          "10歳未満",
          "60-64歳",
          "65-69歳",
          "法人・団体、被害者なし"
         ],
         "xaxis": "x",
         "y": [
          179,
          123,
          63,
          42,
          18,
          16,
          12,
          10,
          4,
          4
         ],
         "yaxis": "y"
        }
       ],
       "layout": {
        "barmode": "relative",
        "legend": {
         "tracegroupgap": 0
        },
        "margin": {
         "t": 60
        },
        "template": {
         "data": {
          "bar": [
           {
            "error_x": {
             "color": "#2a3f5f"
            },
            "error_y": {
             "color": "#2a3f5f"
            },
            "marker": {
             "line": {
              "color": "#E5ECF6",
              "width": 0.5
             },
             "pattern": {
              "fillmode": "overlay",
              "size": 10,
              "solidity": 0.2
             }
            },
            "type": "bar"
           }
          ],
          "barpolar": [
           {
            "marker": {
             "line": {
              "color": "#E5ECF6",
              "width": 0.5
             },
             "pattern": {
              "fillmode": "overlay",
              "size": 10,
              "solidity": 0.2
             }
            },
            "type": "barpolar"
           }
          ],
          "carpet": [
           {
            "aaxis": {
             "endlinecolor": "#2a3f5f",
             "gridcolor": "white",
             "linecolor": "white",
             "minorgridcolor": "white",
             "startlinecolor": "#2a3f5f"
            },
            "baxis": {
             "endlinecolor": "#2a3f5f",
             "gridcolor": "white",
             "linecolor": "white",
             "minorgridcolor": "white",
             "startlinecolor": "#2a3f5f"
            },
            "type": "carpet"
           }
          ],
          "choropleth": [
           {
            "colorbar": {
             "outlinewidth": 0,
             "ticks": ""
            },
            "type": "choropleth"
           }
          ],
          "contour": [
           {
            "colorbar": {
             "outlinewidth": 0,
             "ticks": ""
            },
            "colorscale": [
             [
              0,
              "#0d0887"
             ],
             [
              0.1111111111111111,
              "#46039f"
             ],
             [
              0.2222222222222222,
              "#7201a8"
             ],
             [
              0.3333333333333333,
              "#9c179e"
             ],
             [
              0.4444444444444444,
              "#bd3786"
             ],
             [
              0.5555555555555556,
              "#d8576b"
             ],
             [
              0.6666666666666666,
              "#ed7953"
             ],
             [
              0.7777777777777778,
              "#fb9f3a"
             ],
             [
              0.8888888888888888,
              "#fdca26"
             ],
             [
              1,
              "#f0f921"
             ]
            ],
            "type": "contour"
           }
          ],
          "contourcarpet": [
           {
            "colorbar": {
             "outlinewidth": 0,
             "ticks": ""
            },
            "type": "contourcarpet"
           }
          ],
          "heatmap": [
           {
            "colorbar": {
             "outlinewidth": 0,
             "ticks": ""
            },
            "colorscale": [
             [
              0,
              "#0d0887"
             ],
             [
              0.1111111111111111,
              "#46039f"
             ],
             [
              0.2222222222222222,
              "#7201a8"
             ],
             [
              0.3333333333333333,
              "#9c179e"
             ],
             [
              0.4444444444444444,
              "#bd3786"
             ],
             [
              0.5555555555555556,
              "#d8576b"
             ],
             [
              0.6666666666666666,
              "#ed7953"
             ],
             [
              0.7777777777777778,
              "#fb9f3a"
             ],
             [
              0.8888888888888888,
              "#fdca26"
             ],
             [
              1,
              "#f0f921"
             ]
            ],
            "type": "heatmap"
           }
          ],
          "heatmapgl": [
           {
            "colorbar": {
             "outlinewidth": 0,
             "ticks": ""
            },
            "colorscale": [
             [
              0,
              "#0d0887"
             ],
             [
              0.1111111111111111,
              "#46039f"
             ],
             [
              0.2222222222222222,
              "#7201a8"
             ],
             [
              0.3333333333333333,
              "#9c179e"
             ],
             [
              0.4444444444444444,
              "#bd3786"
             ],
             [
              0.5555555555555556,
              "#d8576b"
             ],
             [
              0.6666666666666666,
              "#ed7953"
             ],
             [
              0.7777777777777778,
              "#fb9f3a"
             ],
             [
              0.8888888888888888,
              "#fdca26"
             ],
             [
              1,
              "#f0f921"
             ]
            ],
            "type": "heatmapgl"
           }
          ],
          "histogram": [
           {
            "marker": {
             "pattern": {
              "fillmode": "overlay",
              "size": 10,
              "solidity": 0.2
             }
            },
            "type": "histogram"
           }
          ],
          "histogram2d": [
           {
            "colorbar": {
             "outlinewidth": 0,
             "ticks": ""
            },
            "colorscale": [
             [
              0,
              "#0d0887"
             ],
             [
              0.1111111111111111,
              "#46039f"
             ],
             [
              0.2222222222222222,
              "#7201a8"
             ],
             [
              0.3333333333333333,
              "#9c179e"
             ],
             [
              0.4444444444444444,
              "#bd3786"
             ],
             [
              0.5555555555555556,
              "#d8576b"
             ],
             [
              0.6666666666666666,
              "#ed7953"
             ],
             [
              0.7777777777777778,
              "#fb9f3a"
             ],
             [
              0.8888888888888888,
              "#fdca26"
             ],
             [
              1,
              "#f0f921"
             ]
            ],
            "type": "histogram2d"
           }
          ],
          "histogram2dcontour": [
           {
            "colorbar": {
             "outlinewidth": 0,
             "ticks": ""
            },
            "colorscale": [
             [
              0,
              "#0d0887"
             ],
             [
              0.1111111111111111,
              "#46039f"
             ],
             [
              0.2222222222222222,
              "#7201a8"
             ],
             [
              0.3333333333333333,
              "#9c179e"
             ],
             [
              0.4444444444444444,
              "#bd3786"
             ],
             [
              0.5555555555555556,
              "#d8576b"
             ],
             [
              0.6666666666666666,
              "#ed7953"
             ],
             [
              0.7777777777777778,
              "#fb9f3a"
             ],
             [
              0.8888888888888888,
              "#fdca26"
             ],
             [
              1,
              "#f0f921"
             ]
            ],
            "type": "histogram2dcontour"
           }
          ],
          "mesh3d": [
           {
            "colorbar": {
             "outlinewidth": 0,
             "ticks": ""
            },
            "type": "mesh3d"
           }
          ],
          "parcoords": [
           {
            "line": {
             "colorbar": {
              "outlinewidth": 0,
              "ticks": ""
             }
            },
            "type": "parcoords"
           }
          ],
          "pie": [
           {
            "automargin": true,
            "type": "pie"
           }
          ],
          "scatter": [
           {
            "fillpattern": {
             "fillmode": "overlay",
             "size": 10,
             "solidity": 0.2
            },
            "type": "scatter"
           }
          ],
          "scatter3d": [
           {
            "line": {
             "colorbar": {
              "outlinewidth": 0,
              "ticks": ""
             }
            },
            "marker": {
             "colorbar": {
              "outlinewidth": 0,
              "ticks": ""
             }
            },
            "type": "scatter3d"
           }
          ],
          "scattercarpet": [
           {
            "marker": {
             "colorbar": {
              "outlinewidth": 0,
              "ticks": ""
             }
            },
            "type": "scattercarpet"
           }
          ],
          "scattergeo": [
           {
            "marker": {
             "colorbar": {
              "outlinewidth": 0,
              "ticks": ""
             }
            },
            "type": "scattergeo"
           }
          ],
          "scattergl": [
           {
            "marker": {
             "colorbar": {
              "outlinewidth": 0,
              "ticks": ""
             }
            },
            "type": "scattergl"
           }
          ],
          "scattermapbox": [
           {
            "marker": {
             "colorbar": {
              "outlinewidth": 0,
              "ticks": ""
             }
            },
            "type": "scattermapbox"
           }
          ],
          "scatterpolar": [
           {
            "marker": {
             "colorbar": {
              "outlinewidth": 0,
              "ticks": ""
             }
            },
            "type": "scatterpolar"
           }
          ],
          "scatterpolargl": [
           {
            "marker": {
             "colorbar": {
              "outlinewidth": 0,
              "ticks": ""
             }
            },
            "type": "scatterpolargl"
           }
          ],
          "scatterternary": [
           {
            "marker": {
             "colorbar": {
              "outlinewidth": 0,
              "ticks": ""
             }
            },
            "type": "scatterternary"
           }
          ],
          "surface": [
           {
            "colorbar": {
             "outlinewidth": 0,
             "ticks": ""
            },
            "colorscale": [
             [
              0,
              "#0d0887"
             ],
             [
              0.1111111111111111,
              "#46039f"
             ],
             [
              0.2222222222222222,
              "#7201a8"
             ],
             [
              0.3333333333333333,
              "#9c179e"
             ],
             [
              0.4444444444444444,
              "#bd3786"
             ],
             [
              0.5555555555555556,
              "#d8576b"
             ],
             [
              0.6666666666666666,
              "#ed7953"
             ],
             [
              0.7777777777777778,
              "#fb9f3a"
             ],
             [
              0.8888888888888888,
              "#fdca26"
             ],
             [
              1,
              "#f0f921"
             ]
            ],
            "type": "surface"
           }
          ],
          "table": [
           {
            "cells": {
             "fill": {
              "color": "#EBF0F8"
             },
             "line": {
              "color": "white"
             }
            },
            "header": {
             "fill": {
              "color": "#C8D4E3"
             },
             "line": {
              "color": "white"
             }
            },
            "type": "table"
           }
          ]
         },
         "layout": {
          "annotationdefaults": {
           "arrowcolor": "#2a3f5f",
           "arrowhead": 0,
           "arrowwidth": 1
          },
          "autotypenumbers": "strict",
          "coloraxis": {
           "colorbar": {
            "outlinewidth": 0,
            "ticks": ""
           }
          },
          "colorscale": {
           "diverging": [
            [
             0,
             "#8e0152"
            ],
            [
             0.1,
             "#c51b7d"
            ],
            [
             0.2,
             "#de77ae"
            ],
            [
             0.3,
             "#f1b6da"
            ],
            [
             0.4,
             "#fde0ef"
            ],
            [
             0.5,
             "#f7f7f7"
            ],
            [
             0.6,
             "#e6f5d0"
            ],
            [
             0.7,
             "#b8e186"
            ],
            [
             0.8,
             "#7fbc41"
            ],
            [
             0.9,
             "#4d9221"
            ],
            [
             1,
             "#276419"
            ]
           ],
           "sequential": [
            [
             0,
             "#0d0887"
            ],
            [
             0.1111111111111111,
             "#46039f"
            ],
            [
             0.2222222222222222,
             "#7201a8"
            ],
            [
             0.3333333333333333,
             "#9c179e"
            ],
            [
             0.4444444444444444,
             "#bd3786"
            ],
            [
             0.5555555555555556,
             "#d8576b"
            ],
            [
             0.6666666666666666,
             "#ed7953"
            ],
            [
             0.7777777777777778,
             "#fb9f3a"
            ],
            [
             0.8888888888888888,
             "#fdca26"
            ],
            [
             1,
             "#f0f921"
            ]
           ],
           "sequentialminus": [
            [
             0,
             "#0d0887"
            ],
            [
             0.1111111111111111,
             "#46039f"
            ],
            [
             0.2222222222222222,
             "#7201a8"
            ],
            [
             0.3333333333333333,
             "#9c179e"
            ],
            [
             0.4444444444444444,
             "#bd3786"
            ],
            [
             0.5555555555555556,
             "#d8576b"
            ],
            [
             0.6666666666666666,
             "#ed7953"
            ],
            [
             0.7777777777777778,
             "#fb9f3a"
            ],
            [
             0.8888888888888888,
             "#fdca26"
            ],
            [
             1,
             "#f0f921"
            ]
           ]
          },
          "colorway": [
           "#636efa",
           "#EF553B",
           "#00cc96",
           "#ab63fa",
           "#FFA15A",
           "#19d3f3",
           "#FF6692",
           "#B6E880",
           "#FF97FF",
           "#FECB52"
          ],
          "font": {
           "color": "#2a3f5f"
          },
          "geo": {
           "bgcolor": "white",
           "lakecolor": "white",
           "landcolor": "#E5ECF6",
           "showlakes": true,
           "showland": true,
           "subunitcolor": "white"
          },
          "hoverlabel": {
           "align": "left"
          },
          "hovermode": "closest",
          "mapbox": {
           "style": "light"
          },
          "paper_bgcolor": "white",
          "plot_bgcolor": "#E5ECF6",
          "polar": {
           "angularaxis": {
            "gridcolor": "white",
            "linecolor": "white",
            "ticks": ""
           },
           "bgcolor": "#E5ECF6",
           "radialaxis": {
            "gridcolor": "white",
            "linecolor": "white",
            "ticks": ""
           }
          },
          "scene": {
           "xaxis": {
            "backgroundcolor": "#E5ECF6",
            "gridcolor": "white",
            "gridwidth": 2,
            "linecolor": "white",
            "showbackground": true,
            "ticks": "",
            "zerolinecolor": "white"
           },
           "yaxis": {
            "backgroundcolor": "#E5ECF6",
            "gridcolor": "white",
            "gridwidth": 2,
            "linecolor": "white",
            "showbackground": true,
            "ticks": "",
            "zerolinecolor": "white"
           },
           "zaxis": {
            "backgroundcolor": "#E5ECF6",
            "gridcolor": "white",
            "gridwidth": 2,
            "linecolor": "white",
            "showbackground": true,
            "ticks": "",
            "zerolinecolor": "white"
           }
          },
          "shapedefaults": {
           "line": {
            "color": "#2a3f5f"
           }
          },
          "ternary": {
           "aaxis": {
            "gridcolor": "white",
            "linecolor": "white",
            "ticks": ""
           },
           "baxis": {
            "gridcolor": "white",
            "linecolor": "white",
            "ticks": ""
           },
           "bgcolor": "#E5ECF6",
           "caxis": {
            "gridcolor": "white",
            "linecolor": "white",
            "ticks": ""
           }
          },
          "title": {
           "x": 0.05
          },
          "xaxis": {
           "automargin": true,
           "gridcolor": "white",
           "linecolor": "white",
           "ticks": "",
           "title": {
            "standoff": 15
           },
           "zerolinecolor": "white",
           "zerolinewidth": 2
          },
          "yaxis": {
           "automargin": true,
           "gridcolor": "white",
           "linecolor": "white",
           "ticks": "",
           "title": {
            "standoff": 15
           },
           "zerolinecolor": "white",
           "zerolinewidth": 2
          }
         }
        },
        "xaxis": {
         "anchor": "y",
         "categoryorder": "category ascending",
         "domain": [
          0,
          1
         ],
         "title": {
          "text": "被害者の年齢"
         }
        },
        "yaxis": {
         "anchor": "x",
         "domain": [
          0,
          1
         ],
         "title": {
          "text": "件数"
         }
        }
       }
      }
     },
     "metadata": {},
     "output_type": "display_data"
    }
   ],
   "source": [
    "fig = px.bar(year,\n",
    "            x='被害者の年齢',\n",
    "            y='件数'\n",
    "            )\n",
    "fig.update_xaxes(categoryorder='category ascending')#\n",
    "fig.show()"
   ]
  },
  {
   "cell_type": "code",
   "execution_count": null,
   "metadata": {},
   "outputs": [],
   "source": []
  },
  {
   "attachments": {},
   "cell_type": "markdown",
   "metadata": {
    "slideshow": {
     "slide_type": "slide"
    }
   },
   "source": [
    "## その他のチャート（上級編）\n",
    "\n",
    "複数の変数でチャートを作ると、より深い分析ができる。"
   ]
  },
  {
   "cell_type": "code",
   "execution_count": 19,
   "metadata": {
    "slideshow": {
     "slide_type": "slide"
    }
   },
   "outputs": [
    {
     "data": {
      "application/vnd.plotly.v1+json": {
       "config": {
        "plotlyServerURL": "https://plot.ly"
       },
       "data": [
        {
         "alignmentgroup": "True",
         "hovertemplate": "被害者の職業=その他<br>発生時（始期）=%{x}<br>count=%{y}<extra></extra>",
         "legendgroup": "その他",
         "marker": {
          "color": "rgb(76,114,176)",
          "line": {
           "width": 0
          },
          "pattern": {
           "shape": ""
          }
         },
         "name": "その他",
         "offsetgroup": "その他",
         "orientation": "v",
         "showlegend": true,
         "textposition": "auto",
         "type": "bar",
         "x": [
          "00",
          "13",
          "22",
          "08",
          "16",
          "08",
          "17",
          "23",
          "04",
          "不明",
          "不明",
          "09",
          "17",
          "11",
          "19",
          "10",
          "21",
          "21",
          "20",
          "08",
          "16",
          "07",
          "20",
          "13",
          "13",
          "13",
          "06",
          "20",
          "23",
          "17",
          "16",
          "00",
          "不明",
          "22",
          "05",
          "12",
          "22",
          "15",
          "16",
          "12",
          "19",
          "15",
          "17",
          "21",
          "21",
          "12",
          "20",
          "14",
          "20",
          "12",
          "15",
          "00",
          "19",
          "20",
          "04",
          "14",
          "06",
          "18",
          "19",
          "06",
          "07",
          "19",
          "09",
          "11",
          "08",
          "12",
          "18",
          "17",
          "07",
          "19",
          "12",
          "13",
          "21",
          "21",
          "16",
          "18",
          "12",
          "17",
          "15",
          "20",
          "07",
          "12",
          "01",
          "06",
          "19",
          "18",
          "16",
          "19",
          "18",
          "06",
          "08",
          "19",
          "23",
          "23",
          "10",
          "18",
          "14",
          "18",
          "09",
          "23",
          "08",
          "12",
          "18",
          "11",
          "17",
          "12",
          "16",
          "14",
          "11",
          "08",
          "08",
          "18",
          "19",
          "20",
          "12",
          "15",
          "14",
          "11",
          "11",
          "22",
          "11",
          "19",
          "18",
          "16",
          "13",
          "10",
          "12",
          "17",
          "20",
          "15",
          "12",
          "20",
          "08",
          "18",
          "12",
          "09",
          "19",
          "14",
          "20",
          "15",
          "12",
          "18",
          "16",
          "10",
          "11",
          "10",
          "16",
          "23",
          "16",
          "14",
          "16",
          "09",
          "19",
          "22",
          "12",
          "08",
          "09",
          "09",
          "13",
          "05",
          "06",
          "21",
          "00",
          "06",
          "12",
          "10",
          "19",
          "20",
          "07",
          "20",
          "10",
          "10",
          "09",
          "09",
          "09",
          "12",
          "20",
          "19",
          "18",
          "00",
          "14",
          "18",
          "10",
          "07",
          "18",
          "18",
          "09",
          "08",
          "08",
          "20",
          "15",
          "20",
          "19",
          "17",
          "19",
          "15",
          "10",
          "10",
          "17",
          "18",
          "18",
          "05",
          "06",
          "18",
          "17",
          "18",
          "17",
          "00",
          "12",
          "18",
          "06",
          "15",
          "20",
          "12",
          "16",
          "17",
          "22",
          "11",
          "17",
          "18",
          "08",
          "20",
          "13",
          "12",
          "13",
          "19",
          "17",
          "15",
          "16",
          "22",
          "00",
          "17",
          "12",
          "20",
          "07",
          "不明",
          "16",
          "20",
          "13",
          "18",
          "21",
          "08",
          "19",
          "14",
          "18",
          "20",
          "20",
          "19",
          "11",
          "18",
          "08",
          "16",
          "08",
          "19",
          "18",
          "18",
          "08"
         ],
         "xaxis": "x",
         "y": [
          1,
          1,
          1,
          1,
          1,
          1,
          1,
          1,
          1,
          1,
          1,
          1,
          1,
          1,
          1,
          1,
          1,
          1,
          1,
          1,
          1,
          1,
          1,
          1,
          1,
          1,
          1,
          1,
          1,
          1,
          1,
          1,
          1,
          1,
          1,
          1,
          1,
          1,
          1,
          1,
          1,
          1,
          1,
          1,
          1,
          1,
          1,
          1,
          1,
          1,
          1,
          1,
          1,
          1,
          1,
          1,
          1,
          1,
          1,
          1,
          1,
          1,
          1,
          1,
          1,
          1,
          1,
          1,
          1,
          1,
          1,
          1,
          1,
          1,
          1,
          1,
          1,
          1,
          1,
          1,
          1,
          1,
          1,
          1,
          1,
          1,
          1,
          1,
          1,
          1,
          1,
          1,
          1,
          1,
          1,
          1,
          1,
          1,
          1,
          1,
          1,
          1,
          1,
          1,
          1,
          1,
          1,
          1,
          1,
          1,
          1,
          1,
          1,
          1,
          1,
          1,
          1,
          1,
          1,
          1,
          1,
          1,
          1,
          1,
          1,
          1,
          1,
          1,
          1,
          1,
          1,
          1,
          1,
          1,
          1,
          1,
          1,
          1,
          1,
          1,
          1,
          1,
          1,
          1,
          1,
          1,
          1,
          1,
          1,
          1,
          1,
          1,
          1,
          1,
          1,
          1,
          1,
          1,
          1,
          1,
          1,
          1,
          1,
          1,
          1,
          1,
          1,
          1,
          1,
          1,
          1,
          1,
          1,
          1,
          1,
          1,
          1,
          1,
          1,
          1,
          1,
          1,
          1,
          1,
          1,
          1,
          1,
          1,
          1,
          1,
          1,
          1,
          1,
          1,
          1,
          1,
          1,
          1,
          1,
          1,
          1,
          1,
          1,
          1,
          1,
          1,
          1,
          1,
          1,
          1,
          1,
          1,
          1,
          1,
          1,
          1,
          1,
          1,
          1,
          1,
          1,
          1,
          1,
          1,
          1,
          1,
          1,
          1,
          1,
          1,
          1,
          1,
          1,
          1,
          1,
          1,
          1,
          1,
          1,
          1,
          1,
          1,
          1,
          1,
          1,
          1,
          1,
          1,
          1,
          1,
          1,
          1,
          1,
          1,
          1,
          1,
          1
         ],
         "yaxis": "y"
        },
        {
         "alignmentgroup": "True",
         "hovertemplate": "被害者の職業=中学生<br>発生時（始期）=%{x}<br>count=%{y}<extra></extra>",
         "legendgroup": "中学生",
         "marker": {
          "color": "rgb(221,132,82)",
          "line": {
           "width": 0
          },
          "pattern": {
           "shape": ""
          }
         },
         "name": "中学生",
         "offsetgroup": "中学生",
         "orientation": "v",
         "showlegend": true,
         "textposition": "auto",
         "type": "bar",
         "x": [
          "22",
          "18",
          "21",
          "19",
          "15",
          "13",
          "21",
          "15",
          "18",
          "14",
          "19",
          "02",
          "08",
          "13",
          "19",
          "11",
          "16",
          "13",
          "18",
          "10",
          "18",
          "06",
          "09",
          "20",
          "08",
          "11",
          "18",
          "21",
          "10",
          "18",
          "18",
          "21",
          "19",
          "13",
          "07",
          "16",
          "10",
          "17",
          "13",
          "06",
          "21",
          "14",
          "18",
          "08",
          "15",
          "20",
          "23",
          "19",
          "18",
          "18",
          "12"
         ],
         "xaxis": "x",
         "y": [
          1,
          1,
          1,
          1,
          1,
          1,
          1,
          1,
          1,
          1,
          1,
          1,
          1,
          1,
          1,
          1,
          1,
          1,
          1,
          1,
          1,
          1,
          1,
          1,
          1,
          1,
          1,
          1,
          1,
          1,
          1,
          1,
          1,
          1,
          1,
          1,
          1,
          1,
          1,
          1,
          1,
          1,
          1,
          1,
          1,
          1,
          1,
          1,
          1,
          1,
          1
         ],
         "yaxis": "y"
        },
        {
         "alignmentgroup": "True",
         "hovertemplate": "被害者の職業=小学生<br>発生時（始期）=%{x}<br>count=%{y}<extra></extra>",
         "legendgroup": "小学生",
         "marker": {
          "color": "rgb(85,168,104)",
          "line": {
           "width": 0
          },
          "pattern": {
           "shape": ""
          }
         },
         "name": "小学生",
         "offsetgroup": "小学生",
         "orientation": "v",
         "showlegend": true,
         "textposition": "auto",
         "type": "bar",
         "x": [
          "15",
          "17",
          "08",
          "19",
          "08",
          "19",
          "11",
          "14",
          "15",
          "16",
          "17",
          "13",
          "15",
          "14",
          "17",
          "08",
          "15",
          "17",
          "15",
          "21",
          "19",
          "11",
          "19",
          "16"
         ],
         "xaxis": "x",
         "y": [
          1,
          1,
          1,
          1,
          1,
          1,
          1,
          1,
          1,
          1,
          1,
          1,
          1,
          1,
          1,
          1,
          1,
          1,
          1,
          1,
          1,
          1,
          1,
          1
         ],
         "yaxis": "y"
        },
        {
         "alignmentgroup": "True",
         "hovertemplate": "被害者の職業=高校生<br>発生時（始期）=%{x}<br>count=%{y}<extra></extra>",
         "legendgroup": "高校生",
         "marker": {
          "color": "rgb(196,78,82)",
          "line": {
           "width": 0
          },
          "pattern": {
           "shape": ""
          }
         },
         "name": "高校生",
         "offsetgroup": "高校生",
         "orientation": "v",
         "showlegend": true,
         "textposition": "auto",
         "type": "bar",
         "x": [
          "21",
          "07",
          "20",
          "07",
          "07",
          "23",
          "08",
          "08",
          "06",
          "07",
          "17",
          "17",
          "15",
          "18",
          "18",
          "08",
          "07",
          "09",
          "16",
          "14",
          "15",
          "08",
          "07",
          "17",
          "07",
          "21",
          "19",
          "14",
          "14",
          "13",
          "18",
          "16",
          "11",
          "18",
          "13",
          "21",
          "11",
          "17",
          "16",
          "20",
          "13",
          "08",
          "13",
          "16",
          "11",
          "14",
          "00",
          "13",
          "13",
          "11",
          "16",
          "17",
          "17",
          "20",
          "17",
          "08",
          "13",
          "20",
          "12",
          "16",
          "19",
          "08",
          "19",
          "07",
          "12",
          "16",
          "08",
          "20",
          "16",
          "20",
          "07",
          "08",
          "17",
          "19",
          "08",
          "18",
          "16",
          "19",
          "19",
          "16",
          "20",
          "16",
          "21",
          "12",
          "21",
          "07",
          "17",
          "09",
          "10"
         ],
         "xaxis": "x",
         "y": [
          1,
          1,
          1,
          1,
          1,
          1,
          1,
          1,
          1,
          1,
          1,
          1,
          1,
          1,
          1,
          1,
          1,
          1,
          1,
          1,
          1,
          1,
          1,
          1,
          1,
          1,
          1,
          1,
          1,
          1,
          1,
          1,
          1,
          1,
          1,
          1,
          1,
          1,
          1,
          1,
          1,
          1,
          1,
          1,
          1,
          1,
          1,
          1,
          1,
          1,
          1,
          1,
          1,
          1,
          1,
          1,
          1,
          1,
          1,
          1,
          1,
          1,
          1,
          1,
          1,
          1,
          1,
          1,
          1,
          1,
          1,
          1,
          1,
          1,
          1,
          1,
          1,
          1,
          1,
          1,
          1,
          1,
          1,
          1,
          1,
          1,
          1,
          1,
          1
         ],
         "yaxis": "y"
        },
        {
         "alignmentgroup": "True",
         "hovertemplate": "被害者の職業=大学生<br>発生時（始期）=%{x}<br>count=%{y}<extra></extra>",
         "legendgroup": "大学生",
         "marker": {
          "color": "rgb(129,114,179)",
          "line": {
           "width": 0
          },
          "pattern": {
           "shape": ""
          }
         },
         "name": "大学生",
         "offsetgroup": "大学生",
         "orientation": "v",
         "showlegend": true,
         "textposition": "auto",
         "type": "bar",
         "x": [
          "14",
          "17",
          "10",
          "18",
          "16",
          "07",
          "22",
          "14",
          "19",
          "16",
          "09",
          "19",
          "07",
          "15",
          "10",
          "08",
          "16",
          "22",
          "08",
          "13",
          "07",
          "10",
          "09",
          "12",
          "00",
          "12",
          "15",
          "不明",
          "09",
          "19",
          "17",
          "11",
          "16",
          "10",
          "08",
          "22",
          "15",
          "10",
          "16",
          "23",
          "07",
          "13",
          "09",
          "14",
          "18",
          "08"
         ],
         "xaxis": "x",
         "y": [
          1,
          1,
          1,
          1,
          1,
          1,
          1,
          1,
          1,
          1,
          1,
          1,
          1,
          1,
          1,
          1,
          1,
          1,
          1,
          1,
          1,
          1,
          1,
          1,
          1,
          1,
          1,
          1,
          1,
          1,
          1,
          1,
          1,
          1,
          1,
          1,
          1,
          1,
          1,
          1,
          1,
          1,
          1,
          1,
          1,
          1
         ],
         "yaxis": "y"
        },
        {
         "alignmentgroup": "True",
         "hovertemplate": "被害者の職業=法人・団体、被害者なし<br>発生時（始期）=%{x}<br>count=%{y}<extra></extra>",
         "legendgroup": "法人・団体、被害者なし",
         "marker": {
          "color": "rgb(147,120,96)",
          "line": {
           "width": 0
          },
          "pattern": {
           "shape": ""
          }
         },
         "name": "法人・団体、被害者なし",
         "offsetgroup": "法人・団体、被害者なし",
         "orientation": "v",
         "showlegend": true,
         "textposition": "auto",
         "type": "bar",
         "x": [
          "20",
          "不明",
          "07",
          "20"
         ],
         "xaxis": "x",
         "y": [
          1,
          1,
          1,
          1
         ],
         "yaxis": "y"
        }
       ],
       "layout": {
        "barmode": "relative",
        "legend": {
         "title": {
          "text": "被害者の職業"
         },
         "tracegroupgap": 0
        },
        "margin": {
         "t": 60
        },
        "template": {
         "data": {
          "bar": [
           {
            "error_x": {
             "color": "rgb(36,36,36)"
            },
            "error_y": {
             "color": "rgb(36,36,36)"
            },
            "marker": {
             "line": {
              "color": "rgb(234,234,242)",
              "width": 0.5
             },
             "pattern": {
              "fillmode": "overlay",
              "size": 10,
              "solidity": 0.2
             }
            },
            "type": "bar"
           }
          ],
          "barpolar": [
           {
            "marker": {
             "line": {
              "color": "rgb(234,234,242)",
              "width": 0.5
             },
             "pattern": {
              "fillmode": "overlay",
              "size": 10,
              "solidity": 0.2
             }
            },
            "type": "barpolar"
           }
          ],
          "carpet": [
           {
            "aaxis": {
             "endlinecolor": "rgb(36,36,36)",
             "gridcolor": "white",
             "linecolor": "white",
             "minorgridcolor": "white",
             "startlinecolor": "rgb(36,36,36)"
            },
            "baxis": {
             "endlinecolor": "rgb(36,36,36)",
             "gridcolor": "white",
             "linecolor": "white",
             "minorgridcolor": "white",
             "startlinecolor": "rgb(36,36,36)"
            },
            "type": "carpet"
           }
          ],
          "choropleth": [
           {
            "colorbar": {
             "outlinewidth": 0,
             "tickcolor": "rgb(36,36,36)",
             "ticklen": 8,
             "ticks": "outside",
             "tickwidth": 2
            },
            "type": "choropleth"
           }
          ],
          "contour": [
           {
            "colorbar": {
             "outlinewidth": 0,
             "tickcolor": "rgb(36,36,36)",
             "ticklen": 8,
             "ticks": "outside",
             "tickwidth": 2
            },
            "colorscale": [
             [
              0,
              "rgb(2,4,25)"
             ],
             [
              0.06274509803921569,
              "rgb(24,15,41)"
             ],
             [
              0.12549019607843137,
              "rgb(47,23,57)"
             ],
             [
              0.18823529411764706,
              "rgb(71,28,72)"
             ],
             [
              0.25098039215686274,
              "rgb(97,30,82)"
             ],
             [
              0.3137254901960784,
              "rgb(123,30,89)"
             ],
             [
              0.3764705882352941,
              "rgb(150,27,91)"
             ],
             [
              0.4392156862745098,
              "rgb(177,22,88)"
             ],
             [
              0.5019607843137255,
              "rgb(203,26,79)"
             ],
             [
              0.5647058823529412,
              "rgb(223,47,67)"
             ],
             [
              0.6274509803921569,
              "rgb(236,76,61)"
             ],
             [
              0.6901960784313725,
              "rgb(242,107,73)"
             ],
             [
              0.7529411764705882,
              "rgb(244,135,95)"
             ],
             [
              0.8156862745098039,
              "rgb(245,162,122)"
             ],
             [
              0.8784313725490196,
              "rgb(246,188,153)"
             ],
             [
              0.9411764705882353,
              "rgb(247,212,187)"
             ],
             [
              1,
              "rgb(250,234,220)"
             ]
            ],
            "type": "contour"
           }
          ],
          "contourcarpet": [
           {
            "colorbar": {
             "outlinewidth": 0,
             "tickcolor": "rgb(36,36,36)",
             "ticklen": 8,
             "ticks": "outside",
             "tickwidth": 2
            },
            "type": "contourcarpet"
           }
          ],
          "heatmap": [
           {
            "colorbar": {
             "outlinewidth": 0,
             "tickcolor": "rgb(36,36,36)",
             "ticklen": 8,
             "ticks": "outside",
             "tickwidth": 2
            },
            "colorscale": [
             [
              0,
              "rgb(2,4,25)"
             ],
             [
              0.06274509803921569,
              "rgb(24,15,41)"
             ],
             [
              0.12549019607843137,
              "rgb(47,23,57)"
             ],
             [
              0.18823529411764706,
              "rgb(71,28,72)"
             ],
             [
              0.25098039215686274,
              "rgb(97,30,82)"
             ],
             [
              0.3137254901960784,
              "rgb(123,30,89)"
             ],
             [
              0.3764705882352941,
              "rgb(150,27,91)"
             ],
             [
              0.4392156862745098,
              "rgb(177,22,88)"
             ],
             [
              0.5019607843137255,
              "rgb(203,26,79)"
             ],
             [
              0.5647058823529412,
              "rgb(223,47,67)"
             ],
             [
              0.6274509803921569,
              "rgb(236,76,61)"
             ],
             [
              0.6901960784313725,
              "rgb(242,107,73)"
             ],
             [
              0.7529411764705882,
              "rgb(244,135,95)"
             ],
             [
              0.8156862745098039,
              "rgb(245,162,122)"
             ],
             [
              0.8784313725490196,
              "rgb(246,188,153)"
             ],
             [
              0.9411764705882353,
              "rgb(247,212,187)"
             ],
             [
              1,
              "rgb(250,234,220)"
             ]
            ],
            "type": "heatmap"
           }
          ],
          "heatmapgl": [
           {
            "colorbar": {
             "outlinewidth": 0,
             "tickcolor": "rgb(36,36,36)",
             "ticklen": 8,
             "ticks": "outside",
             "tickwidth": 2
            },
            "colorscale": [
             [
              0,
              "rgb(2,4,25)"
             ],
             [
              0.06274509803921569,
              "rgb(24,15,41)"
             ],
             [
              0.12549019607843137,
              "rgb(47,23,57)"
             ],
             [
              0.18823529411764706,
              "rgb(71,28,72)"
             ],
             [
              0.25098039215686274,
              "rgb(97,30,82)"
             ],
             [
              0.3137254901960784,
              "rgb(123,30,89)"
             ],
             [
              0.3764705882352941,
              "rgb(150,27,91)"
             ],
             [
              0.4392156862745098,
              "rgb(177,22,88)"
             ],
             [
              0.5019607843137255,
              "rgb(203,26,79)"
             ],
             [
              0.5647058823529412,
              "rgb(223,47,67)"
             ],
             [
              0.6274509803921569,
              "rgb(236,76,61)"
             ],
             [
              0.6901960784313725,
              "rgb(242,107,73)"
             ],
             [
              0.7529411764705882,
              "rgb(244,135,95)"
             ],
             [
              0.8156862745098039,
              "rgb(245,162,122)"
             ],
             [
              0.8784313725490196,
              "rgb(246,188,153)"
             ],
             [
              0.9411764705882353,
              "rgb(247,212,187)"
             ],
             [
              1,
              "rgb(250,234,220)"
             ]
            ],
            "type": "heatmapgl"
           }
          ],
          "histogram": [
           {
            "marker": {
             "pattern": {
              "fillmode": "overlay",
              "size": 10,
              "solidity": 0.2
             }
            },
            "type": "histogram"
           }
          ],
          "histogram2d": [
           {
            "colorbar": {
             "outlinewidth": 0,
             "tickcolor": "rgb(36,36,36)",
             "ticklen": 8,
             "ticks": "outside",
             "tickwidth": 2
            },
            "colorscale": [
             [
              0,
              "rgb(2,4,25)"
             ],
             [
              0.06274509803921569,
              "rgb(24,15,41)"
             ],
             [
              0.12549019607843137,
              "rgb(47,23,57)"
             ],
             [
              0.18823529411764706,
              "rgb(71,28,72)"
             ],
             [
              0.25098039215686274,
              "rgb(97,30,82)"
             ],
             [
              0.3137254901960784,
              "rgb(123,30,89)"
             ],
             [
              0.3764705882352941,
              "rgb(150,27,91)"
             ],
             [
              0.4392156862745098,
              "rgb(177,22,88)"
             ],
             [
              0.5019607843137255,
              "rgb(203,26,79)"
             ],
             [
              0.5647058823529412,
              "rgb(223,47,67)"
             ],
             [
              0.6274509803921569,
              "rgb(236,76,61)"
             ],
             [
              0.6901960784313725,
              "rgb(242,107,73)"
             ],
             [
              0.7529411764705882,
              "rgb(244,135,95)"
             ],
             [
              0.8156862745098039,
              "rgb(245,162,122)"
             ],
             [
              0.8784313725490196,
              "rgb(246,188,153)"
             ],
             [
              0.9411764705882353,
              "rgb(247,212,187)"
             ],
             [
              1,
              "rgb(250,234,220)"
             ]
            ],
            "type": "histogram2d"
           }
          ],
          "histogram2dcontour": [
           {
            "colorbar": {
             "outlinewidth": 0,
             "tickcolor": "rgb(36,36,36)",
             "ticklen": 8,
             "ticks": "outside",
             "tickwidth": 2
            },
            "colorscale": [
             [
              0,
              "rgb(2,4,25)"
             ],
             [
              0.06274509803921569,
              "rgb(24,15,41)"
             ],
             [
              0.12549019607843137,
              "rgb(47,23,57)"
             ],
             [
              0.18823529411764706,
              "rgb(71,28,72)"
             ],
             [
              0.25098039215686274,
              "rgb(97,30,82)"
             ],
             [
              0.3137254901960784,
              "rgb(123,30,89)"
             ],
             [
              0.3764705882352941,
              "rgb(150,27,91)"
             ],
             [
              0.4392156862745098,
              "rgb(177,22,88)"
             ],
             [
              0.5019607843137255,
              "rgb(203,26,79)"
             ],
             [
              0.5647058823529412,
              "rgb(223,47,67)"
             ],
             [
              0.6274509803921569,
              "rgb(236,76,61)"
             ],
             [
              0.6901960784313725,
              "rgb(242,107,73)"
             ],
             [
              0.7529411764705882,
              "rgb(244,135,95)"
             ],
             [
              0.8156862745098039,
              "rgb(245,162,122)"
             ],
             [
              0.8784313725490196,
              "rgb(246,188,153)"
             ],
             [
              0.9411764705882353,
              "rgb(247,212,187)"
             ],
             [
              1,
              "rgb(250,234,220)"
             ]
            ],
            "type": "histogram2dcontour"
           }
          ],
          "mesh3d": [
           {
            "colorbar": {
             "outlinewidth": 0,
             "tickcolor": "rgb(36,36,36)",
             "ticklen": 8,
             "ticks": "outside",
             "tickwidth": 2
            },
            "type": "mesh3d"
           }
          ],
          "parcoords": [
           {
            "line": {
             "colorbar": {
              "outlinewidth": 0,
              "tickcolor": "rgb(36,36,36)",
              "ticklen": 8,
              "ticks": "outside",
              "tickwidth": 2
             }
            },
            "type": "parcoords"
           }
          ],
          "pie": [
           {
            "automargin": true,
            "type": "pie"
           }
          ],
          "scatter": [
           {
            "fillpattern": {
             "fillmode": "overlay",
             "size": 10,
             "solidity": 0.2
            },
            "type": "scatter"
           }
          ],
          "scatter3d": [
           {
            "line": {
             "colorbar": {
              "outlinewidth": 0,
              "tickcolor": "rgb(36,36,36)",
              "ticklen": 8,
              "ticks": "outside",
              "tickwidth": 2
             }
            },
            "marker": {
             "colorbar": {
              "outlinewidth": 0,
              "tickcolor": "rgb(36,36,36)",
              "ticklen": 8,
              "ticks": "outside",
              "tickwidth": 2
             }
            },
            "type": "scatter3d"
           }
          ],
          "scattercarpet": [
           {
            "marker": {
             "colorbar": {
              "outlinewidth": 0,
              "tickcolor": "rgb(36,36,36)",
              "ticklen": 8,
              "ticks": "outside",
              "tickwidth": 2
             }
            },
            "type": "scattercarpet"
           }
          ],
          "scattergeo": [
           {
            "marker": {
             "colorbar": {
              "outlinewidth": 0,
              "tickcolor": "rgb(36,36,36)",
              "ticklen": 8,
              "ticks": "outside",
              "tickwidth": 2
             }
            },
            "type": "scattergeo"
           }
          ],
          "scattergl": [
           {
            "marker": {
             "colorbar": {
              "outlinewidth": 0,
              "tickcolor": "rgb(36,36,36)",
              "ticklen": 8,
              "ticks": "outside",
              "tickwidth": 2
             }
            },
            "type": "scattergl"
           }
          ],
          "scattermapbox": [
           {
            "marker": {
             "colorbar": {
              "outlinewidth": 0,
              "tickcolor": "rgb(36,36,36)",
              "ticklen": 8,
              "ticks": "outside",
              "tickwidth": 2
             }
            },
            "type": "scattermapbox"
           }
          ],
          "scatterpolar": [
           {
            "marker": {
             "colorbar": {
              "outlinewidth": 0,
              "tickcolor": "rgb(36,36,36)",
              "ticklen": 8,
              "ticks": "outside",
              "tickwidth": 2
             }
            },
            "type": "scatterpolar"
           }
          ],
          "scatterpolargl": [
           {
            "marker": {
             "colorbar": {
              "outlinewidth": 0,
              "tickcolor": "rgb(36,36,36)",
              "ticklen": 8,
              "ticks": "outside",
              "tickwidth": 2
             }
            },
            "type": "scatterpolargl"
           }
          ],
          "scatterternary": [
           {
            "marker": {
             "colorbar": {
              "outlinewidth": 0,
              "tickcolor": "rgb(36,36,36)",
              "ticklen": 8,
              "ticks": "outside",
              "tickwidth": 2
             }
            },
            "type": "scatterternary"
           }
          ],
          "surface": [
           {
            "colorbar": {
             "outlinewidth": 0,
             "tickcolor": "rgb(36,36,36)",
             "ticklen": 8,
             "ticks": "outside",
             "tickwidth": 2
            },
            "colorscale": [
             [
              0,
              "rgb(2,4,25)"
             ],
             [
              0.06274509803921569,
              "rgb(24,15,41)"
             ],
             [
              0.12549019607843137,
              "rgb(47,23,57)"
             ],
             [
              0.18823529411764706,
              "rgb(71,28,72)"
             ],
             [
              0.25098039215686274,
              "rgb(97,30,82)"
             ],
             [
              0.3137254901960784,
              "rgb(123,30,89)"
             ],
             [
              0.3764705882352941,
              "rgb(150,27,91)"
             ],
             [
              0.4392156862745098,
              "rgb(177,22,88)"
             ],
             [
              0.5019607843137255,
              "rgb(203,26,79)"
             ],
             [
              0.5647058823529412,
              "rgb(223,47,67)"
             ],
             [
              0.6274509803921569,
              "rgb(236,76,61)"
             ],
             [
              0.6901960784313725,
              "rgb(242,107,73)"
             ],
             [
              0.7529411764705882,
              "rgb(244,135,95)"
             ],
             [
              0.8156862745098039,
              "rgb(245,162,122)"
             ],
             [
              0.8784313725490196,
              "rgb(246,188,153)"
             ],
             [
              0.9411764705882353,
              "rgb(247,212,187)"
             ],
             [
              1,
              "rgb(250,234,220)"
             ]
            ],
            "type": "surface"
           }
          ],
          "table": [
           {
            "cells": {
             "fill": {
              "color": "rgb(231,231,240)"
             },
             "line": {
              "color": "white"
             }
            },
            "header": {
             "fill": {
              "color": "rgb(183,183,191)"
             },
             "line": {
              "color": "white"
             }
            },
            "type": "table"
           }
          ]
         },
         "layout": {
          "annotationdefaults": {
           "arrowcolor": "rgb(67,103,167)"
          },
          "autotypenumbers": "strict",
          "coloraxis": {
           "colorbar": {
            "outlinewidth": 0,
            "tickcolor": "rgb(36,36,36)",
            "ticklen": 8,
            "ticks": "outside",
            "tickwidth": 2
           }
          },
          "colorscale": {
           "sequential": [
            [
             0,
             "rgb(2,4,25)"
            ],
            [
             0.06274509803921569,
             "rgb(24,15,41)"
            ],
            [
             0.12549019607843137,
             "rgb(47,23,57)"
            ],
            [
             0.18823529411764706,
             "rgb(71,28,72)"
            ],
            [
             0.25098039215686274,
             "rgb(97,30,82)"
            ],
            [
             0.3137254901960784,
             "rgb(123,30,89)"
            ],
            [
             0.3764705882352941,
             "rgb(150,27,91)"
            ],
            [
             0.4392156862745098,
             "rgb(177,22,88)"
            ],
            [
             0.5019607843137255,
             "rgb(203,26,79)"
            ],
            [
             0.5647058823529412,
             "rgb(223,47,67)"
            ],
            [
             0.6274509803921569,
             "rgb(236,76,61)"
            ],
            [
             0.6901960784313725,
             "rgb(242,107,73)"
            ],
            [
             0.7529411764705882,
             "rgb(244,135,95)"
            ],
            [
             0.8156862745098039,
             "rgb(245,162,122)"
            ],
            [
             0.8784313725490196,
             "rgb(246,188,153)"
            ],
            [
             0.9411764705882353,
             "rgb(247,212,187)"
            ],
            [
             1,
             "rgb(250,234,220)"
            ]
           ],
           "sequentialminus": [
            [
             0,
             "rgb(2,4,25)"
            ],
            [
             0.06274509803921569,
             "rgb(24,15,41)"
            ],
            [
             0.12549019607843137,
             "rgb(47,23,57)"
            ],
            [
             0.18823529411764706,
             "rgb(71,28,72)"
            ],
            [
             0.25098039215686274,
             "rgb(97,30,82)"
            ],
            [
             0.3137254901960784,
             "rgb(123,30,89)"
            ],
            [
             0.3764705882352941,
             "rgb(150,27,91)"
            ],
            [
             0.4392156862745098,
             "rgb(177,22,88)"
            ],
            [
             0.5019607843137255,
             "rgb(203,26,79)"
            ],
            [
             0.5647058823529412,
             "rgb(223,47,67)"
            ],
            [
             0.6274509803921569,
             "rgb(236,76,61)"
            ],
            [
             0.6901960784313725,
             "rgb(242,107,73)"
            ],
            [
             0.7529411764705882,
             "rgb(244,135,95)"
            ],
            [
             0.8156862745098039,
             "rgb(245,162,122)"
            ],
            [
             0.8784313725490196,
             "rgb(246,188,153)"
            ],
            [
             0.9411764705882353,
             "rgb(247,212,187)"
            ],
            [
             1,
             "rgb(250,234,220)"
            ]
           ]
          },
          "colorway": [
           "rgb(76,114,176)",
           "rgb(221,132,82)",
           "rgb(85,168,104)",
           "rgb(196,78,82)",
           "rgb(129,114,179)",
           "rgb(147,120,96)",
           "rgb(218,139,195)",
           "rgb(140,140,140)",
           "rgb(204,185,116)",
           "rgb(100,181,205)"
          ],
          "font": {
           "color": "rgb(36,36,36)"
          },
          "geo": {
           "bgcolor": "white",
           "lakecolor": "white",
           "landcolor": "rgb(234,234,242)",
           "showlakes": true,
           "showland": true,
           "subunitcolor": "white"
          },
          "hoverlabel": {
           "align": "left"
          },
          "hovermode": "closest",
          "paper_bgcolor": "white",
          "plot_bgcolor": "rgb(234,234,242)",
          "polar": {
           "angularaxis": {
            "gridcolor": "white",
            "linecolor": "white",
            "showgrid": true,
            "ticks": ""
           },
           "bgcolor": "rgb(234,234,242)",
           "radialaxis": {
            "gridcolor": "white",
            "linecolor": "white",
            "showgrid": true,
            "ticks": ""
           }
          },
          "scene": {
           "xaxis": {
            "backgroundcolor": "rgb(234,234,242)",
            "gridcolor": "white",
            "gridwidth": 2,
            "linecolor": "white",
            "showbackground": true,
            "showgrid": true,
            "ticks": "",
            "zerolinecolor": "white"
           },
           "yaxis": {
            "backgroundcolor": "rgb(234,234,242)",
            "gridcolor": "white",
            "gridwidth": 2,
            "linecolor": "white",
            "showbackground": true,
            "showgrid": true,
            "ticks": "",
            "zerolinecolor": "white"
           },
           "zaxis": {
            "backgroundcolor": "rgb(234,234,242)",
            "gridcolor": "white",
            "gridwidth": 2,
            "linecolor": "white",
            "showbackground": true,
            "showgrid": true,
            "ticks": "",
            "zerolinecolor": "white"
           }
          },
          "shapedefaults": {
           "fillcolor": "rgb(67,103,167)",
           "line": {
            "width": 0
           },
           "opacity": 0.5
          },
          "ternary": {
           "aaxis": {
            "gridcolor": "white",
            "linecolor": "white",
            "showgrid": true,
            "ticks": ""
           },
           "baxis": {
            "gridcolor": "white",
            "linecolor": "white",
            "showgrid": true,
            "ticks": ""
           },
           "bgcolor": "rgb(234,234,242)",
           "caxis": {
            "gridcolor": "white",
            "linecolor": "white",
            "showgrid": true,
            "ticks": ""
           }
          },
          "xaxis": {
           "automargin": true,
           "gridcolor": "white",
           "linecolor": "white",
           "showgrid": true,
           "ticks": "",
           "title": {
            "standoff": 15
           },
           "zerolinecolor": "white"
          },
          "yaxis": {
           "automargin": true,
           "gridcolor": "white",
           "linecolor": "white",
           "showgrid": true,
           "ticks": "",
           "title": {
            "standoff": 15
           },
           "zerolinecolor": "white"
          }
         }
        },
        "xaxis": {
         "anchor": "y",
         "categoryorder": "category ascending",
         "domain": [
          0,
          1
         ],
         "title": {
          "text": "発生時（始期）"
         }
        },
        "yaxis": {
         "anchor": "x",
         "domain": [
          0,
          1
         ],
         "title": {
          "text": "count"
         }
        }
       }
      }
     },
     "metadata": {},
     "output_type": "display_data"
    }
   ],
   "source": [
    "fig = px.bar(kashiwa,\n",
    "            x='発生時（始期）',\n",
    "            color='被害者の職業',\n",
    "            template='seaborn')\n",
    "fig.update_traces(\n",
    "    marker_line_width=0\n",
    ")\n",
    "fig.update_xaxes(categoryorder='category ascending')\n",
    "fig.show()"
   ]
  },
  {
   "attachments": {},
   "cell_type": "markdown",
   "metadata": {
    "slideshow": {
     "slide_type": "slide"
    }
   },
   "source": [
    "↑上のチャートの凡例ののカテゴリーをダブルクリックするとどうなる？\n",
    "\n",
    "`barmode='group'`を足すと何がどのように変わる？"
   ]
  },
  {
   "cell_type": "code",
   "execution_count": 21,
   "metadata": {
    "slideshow": {
     "slide_type": "slide"
    }
   },
   "outputs": [
    {
     "data": {
      "application/vnd.plotly.v1+json": {
       "config": {
        "plotlyServerURL": "https://plot.ly"
       },
       "data": [
        {
         "alignmentgroup": "True",
         "hovertemplate": "被害者の職業=その他<br>発生時（始期）=%{x}<br>count=%{y}<extra></extra>",
         "legendgroup": "その他",
         "marker": {
          "color": "rgb(76,114,176)",
          "line": {
           "width": 0
          },
          "pattern": {
           "shape": ""
          }
         },
         "name": "その他",
         "offsetgroup": "その他",
         "orientation": "v",
         "showlegend": true,
         "textposition": "auto",
         "type": "bar",
         "x": [
          "00",
          "13",
          "22",
          "08",
          "16",
          "08",
          "17",
          "23",
          "04",
          "不明",
          "不明",
          "09",
          "17",
          "11",
          "19",
          "10",
          "21",
          "21",
          "20",
          "08",
          "16",
          "07",
          "20",
          "13",
          "13",
          "13",
          "06",
          "20",
          "23",
          "17",
          "16",
          "00",
          "不明",
          "22",
          "05",
          "12",
          "22",
          "15",
          "16",
          "12",
          "19",
          "15",
          "17",
          "21",
          "21",
          "12",
          "20",
          "14",
          "20",
          "12",
          "15",
          "00",
          "19",
          "20",
          "04",
          "14",
          "06",
          "18",
          "19",
          "06",
          "07",
          "19",
          "09",
          "11",
          "08",
          "12",
          "18",
          "17",
          "07",
          "19",
          "12",
          "13",
          "21",
          "21",
          "16",
          "18",
          "12",
          "17",
          "15",
          "20",
          "07",
          "12",
          "01",
          "06",
          "19",
          "18",
          "16",
          "19",
          "18",
          "06",
          "08",
          "19",
          "23",
          "23",
          "10",
          "18",
          "14",
          "18",
          "09",
          "23",
          "08",
          "12",
          "18",
          "11",
          "17",
          "12",
          "16",
          "14",
          "11",
          "08",
          "08",
          "18",
          "19",
          "20",
          "12",
          "15",
          "14",
          "11",
          "11",
          "22",
          "11",
          "19",
          "18",
          "16",
          "13",
          "10",
          "12",
          "17",
          "20",
          "15",
          "12",
          "20",
          "08",
          "18",
          "12",
          "09",
          "19",
          "14",
          "20",
          "15",
          "12",
          "18",
          "16",
          "10",
          "11",
          "10",
          "16",
          "23",
          "16",
          "14",
          "16",
          "09",
          "19",
          "22",
          "12",
          "08",
          "09",
          "09",
          "13",
          "05",
          "06",
          "21",
          "00",
          "06",
          "12",
          "10",
          "19",
          "20",
          "07",
          "20",
          "10",
          "10",
          "09",
          "09",
          "09",
          "12",
          "20",
          "19",
          "18",
          "00",
          "14",
          "18",
          "10",
          "07",
          "18",
          "18",
          "09",
          "08",
          "08",
          "20",
          "15",
          "20",
          "19",
          "17",
          "19",
          "15",
          "10",
          "10",
          "17",
          "18",
          "18",
          "05",
          "06",
          "18",
          "17",
          "18",
          "17",
          "00",
          "12",
          "18",
          "06",
          "15",
          "20",
          "12",
          "16",
          "17",
          "22",
          "11",
          "17",
          "18",
          "08",
          "20",
          "13",
          "12",
          "13",
          "19",
          "17",
          "15",
          "16",
          "22",
          "00",
          "17",
          "12",
          "20",
          "07",
          "不明",
          "16",
          "20",
          "13",
          "18",
          "21",
          "08",
          "19",
          "14",
          "18",
          "20",
          "20",
          "19",
          "11",
          "18",
          "08",
          "16",
          "08",
          "19",
          "18",
          "18",
          "08"
         ],
         "xaxis": "x",
         "y": [
          1,
          1,
          1,
          1,
          1,
          1,
          1,
          1,
          1,
          1,
          1,
          1,
          1,
          1,
          1,
          1,
          1,
          1,
          1,
          1,
          1,
          1,
          1,
          1,
          1,
          1,
          1,
          1,
          1,
          1,
          1,
          1,
          1,
          1,
          1,
          1,
          1,
          1,
          1,
          1,
          1,
          1,
          1,
          1,
          1,
          1,
          1,
          1,
          1,
          1,
          1,
          1,
          1,
          1,
          1,
          1,
          1,
          1,
          1,
          1,
          1,
          1,
          1,
          1,
          1,
          1,
          1,
          1,
          1,
          1,
          1,
          1,
          1,
          1,
          1,
          1,
          1,
          1,
          1,
          1,
          1,
          1,
          1,
          1,
          1,
          1,
          1,
          1,
          1,
          1,
          1,
          1,
          1,
          1,
          1,
          1,
          1,
          1,
          1,
          1,
          1,
          1,
          1,
          1,
          1,
          1,
          1,
          1,
          1,
          1,
          1,
          1,
          1,
          1,
          1,
          1,
          1,
          1,
          1,
          1,
          1,
          1,
          1,
          1,
          1,
          1,
          1,
          1,
          1,
          1,
          1,
          1,
          1,
          1,
          1,
          1,
          1,
          1,
          1,
          1,
          1,
          1,
          1,
          1,
          1,
          1,
          1,
          1,
          1,
          1,
          1,
          1,
          1,
          1,
          1,
          1,
          1,
          1,
          1,
          1,
          1,
          1,
          1,
          1,
          1,
          1,
          1,
          1,
          1,
          1,
          1,
          1,
          1,
          1,
          1,
          1,
          1,
          1,
          1,
          1,
          1,
          1,
          1,
          1,
          1,
          1,
          1,
          1,
          1,
          1,
          1,
          1,
          1,
          1,
          1,
          1,
          1,
          1,
          1,
          1,
          1,
          1,
          1,
          1,
          1,
          1,
          1,
          1,
          1,
          1,
          1,
          1,
          1,
          1,
          1,
          1,
          1,
          1,
          1,
          1,
          1,
          1,
          1,
          1,
          1,
          1,
          1,
          1,
          1,
          1,
          1,
          1,
          1,
          1,
          1,
          1,
          1,
          1,
          1,
          1,
          1,
          1,
          1,
          1,
          1,
          1,
          1,
          1,
          1,
          1,
          1,
          1,
          1,
          1,
          1,
          1,
          1
         ],
         "yaxis": "y"
        },
        {
         "alignmentgroup": "True",
         "hovertemplate": "被害者の職業=中学生<br>発生時（始期）=%{x}<br>count=%{y}<extra></extra>",
         "legendgroup": "中学生",
         "marker": {
          "color": "rgb(221,132,82)",
          "line": {
           "width": 0
          },
          "pattern": {
           "shape": ""
          }
         },
         "name": "中学生",
         "offsetgroup": "中学生",
         "orientation": "v",
         "showlegend": true,
         "textposition": "auto",
         "type": "bar",
         "x": [
          "22",
          "18",
          "21",
          "19",
          "15",
          "13",
          "21",
          "15",
          "18",
          "14",
          "19",
          "02",
          "08",
          "13",
          "19",
          "11",
          "16",
          "13",
          "18",
          "10",
          "18",
          "06",
          "09",
          "20",
          "08",
          "11",
          "18",
          "21",
          "10",
          "18",
          "18",
          "21",
          "19",
          "13",
          "07",
          "16",
          "10",
          "17",
          "13",
          "06",
          "21",
          "14",
          "18",
          "08",
          "15",
          "20",
          "23",
          "19",
          "18",
          "18",
          "12"
         ],
         "xaxis": "x",
         "y": [
          1,
          1,
          1,
          1,
          1,
          1,
          1,
          1,
          1,
          1,
          1,
          1,
          1,
          1,
          1,
          1,
          1,
          1,
          1,
          1,
          1,
          1,
          1,
          1,
          1,
          1,
          1,
          1,
          1,
          1,
          1,
          1,
          1,
          1,
          1,
          1,
          1,
          1,
          1,
          1,
          1,
          1,
          1,
          1,
          1,
          1,
          1,
          1,
          1,
          1,
          1
         ],
         "yaxis": "y"
        },
        {
         "alignmentgroup": "True",
         "hovertemplate": "被害者の職業=小学生<br>発生時（始期）=%{x}<br>count=%{y}<extra></extra>",
         "legendgroup": "小学生",
         "marker": {
          "color": "rgb(85,168,104)",
          "line": {
           "width": 0
          },
          "pattern": {
           "shape": ""
          }
         },
         "name": "小学生",
         "offsetgroup": "小学生",
         "orientation": "v",
         "showlegend": true,
         "textposition": "auto",
         "type": "bar",
         "x": [
          "15",
          "17",
          "08",
          "19",
          "08",
          "19",
          "11",
          "14",
          "15",
          "16",
          "17",
          "13",
          "15",
          "14",
          "17",
          "08",
          "15",
          "17",
          "15",
          "21",
          "19",
          "11",
          "19",
          "16"
         ],
         "xaxis": "x",
         "y": [
          1,
          1,
          1,
          1,
          1,
          1,
          1,
          1,
          1,
          1,
          1,
          1,
          1,
          1,
          1,
          1,
          1,
          1,
          1,
          1,
          1,
          1,
          1,
          1
         ],
         "yaxis": "y"
        },
        {
         "alignmentgroup": "True",
         "hovertemplate": "被害者の職業=高校生<br>発生時（始期）=%{x}<br>count=%{y}<extra></extra>",
         "legendgroup": "高校生",
         "marker": {
          "color": "rgb(196,78,82)",
          "line": {
           "width": 0
          },
          "pattern": {
           "shape": ""
          }
         },
         "name": "高校生",
         "offsetgroup": "高校生",
         "orientation": "v",
         "showlegend": true,
         "textposition": "auto",
         "type": "bar",
         "x": [
          "21",
          "07",
          "20",
          "07",
          "07",
          "23",
          "08",
          "08",
          "06",
          "07",
          "17",
          "17",
          "15",
          "18",
          "18",
          "08",
          "07",
          "09",
          "16",
          "14",
          "15",
          "08",
          "07",
          "17",
          "07",
          "21",
          "19",
          "14",
          "14",
          "13",
          "18",
          "16",
          "11",
          "18",
          "13",
          "21",
          "11",
          "17",
          "16",
          "20",
          "13",
          "08",
          "13",
          "16",
          "11",
          "14",
          "00",
          "13",
          "13",
          "11",
          "16",
          "17",
          "17",
          "20",
          "17",
          "08",
          "13",
          "20",
          "12",
          "16",
          "19",
          "08",
          "19",
          "07",
          "12",
          "16",
          "08",
          "20",
          "16",
          "20",
          "07",
          "08",
          "17",
          "19",
          "08",
          "18",
          "16",
          "19",
          "19",
          "16",
          "20",
          "16",
          "21",
          "12",
          "21",
          "07",
          "17",
          "09",
          "10"
         ],
         "xaxis": "x",
         "y": [
          1,
          1,
          1,
          1,
          1,
          1,
          1,
          1,
          1,
          1,
          1,
          1,
          1,
          1,
          1,
          1,
          1,
          1,
          1,
          1,
          1,
          1,
          1,
          1,
          1,
          1,
          1,
          1,
          1,
          1,
          1,
          1,
          1,
          1,
          1,
          1,
          1,
          1,
          1,
          1,
          1,
          1,
          1,
          1,
          1,
          1,
          1,
          1,
          1,
          1,
          1,
          1,
          1,
          1,
          1,
          1,
          1,
          1,
          1,
          1,
          1,
          1,
          1,
          1,
          1,
          1,
          1,
          1,
          1,
          1,
          1,
          1,
          1,
          1,
          1,
          1,
          1,
          1,
          1,
          1,
          1,
          1,
          1,
          1,
          1,
          1,
          1,
          1,
          1
         ],
         "yaxis": "y"
        },
        {
         "alignmentgroup": "True",
         "hovertemplate": "被害者の職業=大学生<br>発生時（始期）=%{x}<br>count=%{y}<extra></extra>",
         "legendgroup": "大学生",
         "marker": {
          "color": "rgb(129,114,179)",
          "line": {
           "width": 0
          },
          "pattern": {
           "shape": ""
          }
         },
         "name": "大学生",
         "offsetgroup": "大学生",
         "orientation": "v",
         "showlegend": true,
         "textposition": "auto",
         "type": "bar",
         "x": [
          "14",
          "17",
          "10",
          "18",
          "16",
          "07",
          "22",
          "14",
          "19",
          "16",
          "09",
          "19",
          "07",
          "15",
          "10",
          "08",
          "16",
          "22",
          "08",
          "13",
          "07",
          "10",
          "09",
          "12",
          "00",
          "12",
          "15",
          "不明",
          "09",
          "19",
          "17",
          "11",
          "16",
          "10",
          "08",
          "22",
          "15",
          "10",
          "16",
          "23",
          "07",
          "13",
          "09",
          "14",
          "18",
          "08"
         ],
         "xaxis": "x",
         "y": [
          1,
          1,
          1,
          1,
          1,
          1,
          1,
          1,
          1,
          1,
          1,
          1,
          1,
          1,
          1,
          1,
          1,
          1,
          1,
          1,
          1,
          1,
          1,
          1,
          1,
          1,
          1,
          1,
          1,
          1,
          1,
          1,
          1,
          1,
          1,
          1,
          1,
          1,
          1,
          1,
          1,
          1,
          1,
          1,
          1,
          1
         ],
         "yaxis": "y"
        },
        {
         "alignmentgroup": "True",
         "hovertemplate": "被害者の職業=法人・団体、被害者なし<br>発生時（始期）=%{x}<br>count=%{y}<extra></extra>",
         "legendgroup": "法人・団体、被害者なし",
         "marker": {
          "color": "rgb(147,120,96)",
          "line": {
           "width": 0
          },
          "pattern": {
           "shape": ""
          }
         },
         "name": "法人・団体、被害者なし",
         "offsetgroup": "法人・団体、被害者なし",
         "orientation": "v",
         "showlegend": true,
         "textposition": "auto",
         "type": "bar",
         "x": [
          "20",
          "不明",
          "07",
          "20"
         ],
         "xaxis": "x",
         "y": [
          1,
          1,
          1,
          1
         ],
         "yaxis": "y"
        }
       ],
       "layout": {
        "barmode": "group",
        "legend": {
         "title": {
          "text": "被害者の職業"
         },
         "tracegroupgap": 0
        },
        "margin": {
         "t": 60
        },
        "template": {
         "data": {
          "bar": [
           {
            "error_x": {
             "color": "rgb(36,36,36)"
            },
            "error_y": {
             "color": "rgb(36,36,36)"
            },
            "marker": {
             "line": {
              "color": "rgb(234,234,242)",
              "width": 0.5
             },
             "pattern": {
              "fillmode": "overlay",
              "size": 10,
              "solidity": 0.2
             }
            },
            "type": "bar"
           }
          ],
          "barpolar": [
           {
            "marker": {
             "line": {
              "color": "rgb(234,234,242)",
              "width": 0.5
             },
             "pattern": {
              "fillmode": "overlay",
              "size": 10,
              "solidity": 0.2
             }
            },
            "type": "barpolar"
           }
          ],
          "carpet": [
           {
            "aaxis": {
             "endlinecolor": "rgb(36,36,36)",
             "gridcolor": "white",
             "linecolor": "white",
             "minorgridcolor": "white",
             "startlinecolor": "rgb(36,36,36)"
            },
            "baxis": {
             "endlinecolor": "rgb(36,36,36)",
             "gridcolor": "white",
             "linecolor": "white",
             "minorgridcolor": "white",
             "startlinecolor": "rgb(36,36,36)"
            },
            "type": "carpet"
           }
          ],
          "choropleth": [
           {
            "colorbar": {
             "outlinewidth": 0,
             "tickcolor": "rgb(36,36,36)",
             "ticklen": 8,
             "ticks": "outside",
             "tickwidth": 2
            },
            "type": "choropleth"
           }
          ],
          "contour": [
           {
            "colorbar": {
             "outlinewidth": 0,
             "tickcolor": "rgb(36,36,36)",
             "ticklen": 8,
             "ticks": "outside",
             "tickwidth": 2
            },
            "colorscale": [
             [
              0,
              "rgb(2,4,25)"
             ],
             [
              0.06274509803921569,
              "rgb(24,15,41)"
             ],
             [
              0.12549019607843137,
              "rgb(47,23,57)"
             ],
             [
              0.18823529411764706,
              "rgb(71,28,72)"
             ],
             [
              0.25098039215686274,
              "rgb(97,30,82)"
             ],
             [
              0.3137254901960784,
              "rgb(123,30,89)"
             ],
             [
              0.3764705882352941,
              "rgb(150,27,91)"
             ],
             [
              0.4392156862745098,
              "rgb(177,22,88)"
             ],
             [
              0.5019607843137255,
              "rgb(203,26,79)"
             ],
             [
              0.5647058823529412,
              "rgb(223,47,67)"
             ],
             [
              0.6274509803921569,
              "rgb(236,76,61)"
             ],
             [
              0.6901960784313725,
              "rgb(242,107,73)"
             ],
             [
              0.7529411764705882,
              "rgb(244,135,95)"
             ],
             [
              0.8156862745098039,
              "rgb(245,162,122)"
             ],
             [
              0.8784313725490196,
              "rgb(246,188,153)"
             ],
             [
              0.9411764705882353,
              "rgb(247,212,187)"
             ],
             [
              1,
              "rgb(250,234,220)"
             ]
            ],
            "type": "contour"
           }
          ],
          "contourcarpet": [
           {
            "colorbar": {
             "outlinewidth": 0,
             "tickcolor": "rgb(36,36,36)",
             "ticklen": 8,
             "ticks": "outside",
             "tickwidth": 2
            },
            "type": "contourcarpet"
           }
          ],
          "heatmap": [
           {
            "colorbar": {
             "outlinewidth": 0,
             "tickcolor": "rgb(36,36,36)",
             "ticklen": 8,
             "ticks": "outside",
             "tickwidth": 2
            },
            "colorscale": [
             [
              0,
              "rgb(2,4,25)"
             ],
             [
              0.06274509803921569,
              "rgb(24,15,41)"
             ],
             [
              0.12549019607843137,
              "rgb(47,23,57)"
             ],
             [
              0.18823529411764706,
              "rgb(71,28,72)"
             ],
             [
              0.25098039215686274,
              "rgb(97,30,82)"
             ],
             [
              0.3137254901960784,
              "rgb(123,30,89)"
             ],
             [
              0.3764705882352941,
              "rgb(150,27,91)"
             ],
             [
              0.4392156862745098,
              "rgb(177,22,88)"
             ],
             [
              0.5019607843137255,
              "rgb(203,26,79)"
             ],
             [
              0.5647058823529412,
              "rgb(223,47,67)"
             ],
             [
              0.6274509803921569,
              "rgb(236,76,61)"
             ],
             [
              0.6901960784313725,
              "rgb(242,107,73)"
             ],
             [
              0.7529411764705882,
              "rgb(244,135,95)"
             ],
             [
              0.8156862745098039,
              "rgb(245,162,122)"
             ],
             [
              0.8784313725490196,
              "rgb(246,188,153)"
             ],
             [
              0.9411764705882353,
              "rgb(247,212,187)"
             ],
             [
              1,
              "rgb(250,234,220)"
             ]
            ],
            "type": "heatmap"
           }
          ],
          "heatmapgl": [
           {
            "colorbar": {
             "outlinewidth": 0,
             "tickcolor": "rgb(36,36,36)",
             "ticklen": 8,
             "ticks": "outside",
             "tickwidth": 2
            },
            "colorscale": [
             [
              0,
              "rgb(2,4,25)"
             ],
             [
              0.06274509803921569,
              "rgb(24,15,41)"
             ],
             [
              0.12549019607843137,
              "rgb(47,23,57)"
             ],
             [
              0.18823529411764706,
              "rgb(71,28,72)"
             ],
             [
              0.25098039215686274,
              "rgb(97,30,82)"
             ],
             [
              0.3137254901960784,
              "rgb(123,30,89)"
             ],
             [
              0.3764705882352941,
              "rgb(150,27,91)"
             ],
             [
              0.4392156862745098,
              "rgb(177,22,88)"
             ],
             [
              0.5019607843137255,
              "rgb(203,26,79)"
             ],
             [
              0.5647058823529412,
              "rgb(223,47,67)"
             ],
             [
              0.6274509803921569,
              "rgb(236,76,61)"
             ],
             [
              0.6901960784313725,
              "rgb(242,107,73)"
             ],
             [
              0.7529411764705882,
              "rgb(244,135,95)"
             ],
             [
              0.8156862745098039,
              "rgb(245,162,122)"
             ],
             [
              0.8784313725490196,
              "rgb(246,188,153)"
             ],
             [
              0.9411764705882353,
              "rgb(247,212,187)"
             ],
             [
              1,
              "rgb(250,234,220)"
             ]
            ],
            "type": "heatmapgl"
           }
          ],
          "histogram": [
           {
            "marker": {
             "pattern": {
              "fillmode": "overlay",
              "size": 10,
              "solidity": 0.2
             }
            },
            "type": "histogram"
           }
          ],
          "histogram2d": [
           {
            "colorbar": {
             "outlinewidth": 0,
             "tickcolor": "rgb(36,36,36)",
             "ticklen": 8,
             "ticks": "outside",
             "tickwidth": 2
            },
            "colorscale": [
             [
              0,
              "rgb(2,4,25)"
             ],
             [
              0.06274509803921569,
              "rgb(24,15,41)"
             ],
             [
              0.12549019607843137,
              "rgb(47,23,57)"
             ],
             [
              0.18823529411764706,
              "rgb(71,28,72)"
             ],
             [
              0.25098039215686274,
              "rgb(97,30,82)"
             ],
             [
              0.3137254901960784,
              "rgb(123,30,89)"
             ],
             [
              0.3764705882352941,
              "rgb(150,27,91)"
             ],
             [
              0.4392156862745098,
              "rgb(177,22,88)"
             ],
             [
              0.5019607843137255,
              "rgb(203,26,79)"
             ],
             [
              0.5647058823529412,
              "rgb(223,47,67)"
             ],
             [
              0.6274509803921569,
              "rgb(236,76,61)"
             ],
             [
              0.6901960784313725,
              "rgb(242,107,73)"
             ],
             [
              0.7529411764705882,
              "rgb(244,135,95)"
             ],
             [
              0.8156862745098039,
              "rgb(245,162,122)"
             ],
             [
              0.8784313725490196,
              "rgb(246,188,153)"
             ],
             [
              0.9411764705882353,
              "rgb(247,212,187)"
             ],
             [
              1,
              "rgb(250,234,220)"
             ]
            ],
            "type": "histogram2d"
           }
          ],
          "histogram2dcontour": [
           {
            "colorbar": {
             "outlinewidth": 0,
             "tickcolor": "rgb(36,36,36)",
             "ticklen": 8,
             "ticks": "outside",
             "tickwidth": 2
            },
            "colorscale": [
             [
              0,
              "rgb(2,4,25)"
             ],
             [
              0.06274509803921569,
              "rgb(24,15,41)"
             ],
             [
              0.12549019607843137,
              "rgb(47,23,57)"
             ],
             [
              0.18823529411764706,
              "rgb(71,28,72)"
             ],
             [
              0.25098039215686274,
              "rgb(97,30,82)"
             ],
             [
              0.3137254901960784,
              "rgb(123,30,89)"
             ],
             [
              0.3764705882352941,
              "rgb(150,27,91)"
             ],
             [
              0.4392156862745098,
              "rgb(177,22,88)"
             ],
             [
              0.5019607843137255,
              "rgb(203,26,79)"
             ],
             [
              0.5647058823529412,
              "rgb(223,47,67)"
             ],
             [
              0.6274509803921569,
              "rgb(236,76,61)"
             ],
             [
              0.6901960784313725,
              "rgb(242,107,73)"
             ],
             [
              0.7529411764705882,
              "rgb(244,135,95)"
             ],
             [
              0.8156862745098039,
              "rgb(245,162,122)"
             ],
             [
              0.8784313725490196,
              "rgb(246,188,153)"
             ],
             [
              0.9411764705882353,
              "rgb(247,212,187)"
             ],
             [
              1,
              "rgb(250,234,220)"
             ]
            ],
            "type": "histogram2dcontour"
           }
          ],
          "mesh3d": [
           {
            "colorbar": {
             "outlinewidth": 0,
             "tickcolor": "rgb(36,36,36)",
             "ticklen": 8,
             "ticks": "outside",
             "tickwidth": 2
            },
            "type": "mesh3d"
           }
          ],
          "parcoords": [
           {
            "line": {
             "colorbar": {
              "outlinewidth": 0,
              "tickcolor": "rgb(36,36,36)",
              "ticklen": 8,
              "ticks": "outside",
              "tickwidth": 2
             }
            },
            "type": "parcoords"
           }
          ],
          "pie": [
           {
            "automargin": true,
            "type": "pie"
           }
          ],
          "scatter": [
           {
            "fillpattern": {
             "fillmode": "overlay",
             "size": 10,
             "solidity": 0.2
            },
            "type": "scatter"
           }
          ],
          "scatter3d": [
           {
            "line": {
             "colorbar": {
              "outlinewidth": 0,
              "tickcolor": "rgb(36,36,36)",
              "ticklen": 8,
              "ticks": "outside",
              "tickwidth": 2
             }
            },
            "marker": {
             "colorbar": {
              "outlinewidth": 0,
              "tickcolor": "rgb(36,36,36)",
              "ticklen": 8,
              "ticks": "outside",
              "tickwidth": 2
             }
            },
            "type": "scatter3d"
           }
          ],
          "scattercarpet": [
           {
            "marker": {
             "colorbar": {
              "outlinewidth": 0,
              "tickcolor": "rgb(36,36,36)",
              "ticklen": 8,
              "ticks": "outside",
              "tickwidth": 2
             }
            },
            "type": "scattercarpet"
           }
          ],
          "scattergeo": [
           {
            "marker": {
             "colorbar": {
              "outlinewidth": 0,
              "tickcolor": "rgb(36,36,36)",
              "ticklen": 8,
              "ticks": "outside",
              "tickwidth": 2
             }
            },
            "type": "scattergeo"
           }
          ],
          "scattergl": [
           {
            "marker": {
             "colorbar": {
              "outlinewidth": 0,
              "tickcolor": "rgb(36,36,36)",
              "ticklen": 8,
              "ticks": "outside",
              "tickwidth": 2
             }
            },
            "type": "scattergl"
           }
          ],
          "scattermapbox": [
           {
            "marker": {
             "colorbar": {
              "outlinewidth": 0,
              "tickcolor": "rgb(36,36,36)",
              "ticklen": 8,
              "ticks": "outside",
              "tickwidth": 2
             }
            },
            "type": "scattermapbox"
           }
          ],
          "scatterpolar": [
           {
            "marker": {
             "colorbar": {
              "outlinewidth": 0,
              "tickcolor": "rgb(36,36,36)",
              "ticklen": 8,
              "ticks": "outside",
              "tickwidth": 2
             }
            },
            "type": "scatterpolar"
           }
          ],
          "scatterpolargl": [
           {
            "marker": {
             "colorbar": {
              "outlinewidth": 0,
              "tickcolor": "rgb(36,36,36)",
              "ticklen": 8,
              "ticks": "outside",
              "tickwidth": 2
             }
            },
            "type": "scatterpolargl"
           }
          ],
          "scatterternary": [
           {
            "marker": {
             "colorbar": {
              "outlinewidth": 0,
              "tickcolor": "rgb(36,36,36)",
              "ticklen": 8,
              "ticks": "outside",
              "tickwidth": 2
             }
            },
            "type": "scatterternary"
           }
          ],
          "surface": [
           {
            "colorbar": {
             "outlinewidth": 0,
             "tickcolor": "rgb(36,36,36)",
             "ticklen": 8,
             "ticks": "outside",
             "tickwidth": 2
            },
            "colorscale": [
             [
              0,
              "rgb(2,4,25)"
             ],
             [
              0.06274509803921569,
              "rgb(24,15,41)"
             ],
             [
              0.12549019607843137,
              "rgb(47,23,57)"
             ],
             [
              0.18823529411764706,
              "rgb(71,28,72)"
             ],
             [
              0.25098039215686274,
              "rgb(97,30,82)"
             ],
             [
              0.3137254901960784,
              "rgb(123,30,89)"
             ],
             [
              0.3764705882352941,
              "rgb(150,27,91)"
             ],
             [
              0.4392156862745098,
              "rgb(177,22,88)"
             ],
             [
              0.5019607843137255,
              "rgb(203,26,79)"
             ],
             [
              0.5647058823529412,
              "rgb(223,47,67)"
             ],
             [
              0.6274509803921569,
              "rgb(236,76,61)"
             ],
             [
              0.6901960784313725,
              "rgb(242,107,73)"
             ],
             [
              0.7529411764705882,
              "rgb(244,135,95)"
             ],
             [
              0.8156862745098039,
              "rgb(245,162,122)"
             ],
             [
              0.8784313725490196,
              "rgb(246,188,153)"
             ],
             [
              0.9411764705882353,
              "rgb(247,212,187)"
             ],
             [
              1,
              "rgb(250,234,220)"
             ]
            ],
            "type": "surface"
           }
          ],
          "table": [
           {
            "cells": {
             "fill": {
              "color": "rgb(231,231,240)"
             },
             "line": {
              "color": "white"
             }
            },
            "header": {
             "fill": {
              "color": "rgb(183,183,191)"
             },
             "line": {
              "color": "white"
             }
            },
            "type": "table"
           }
          ]
         },
         "layout": {
          "annotationdefaults": {
           "arrowcolor": "rgb(67,103,167)"
          },
          "autotypenumbers": "strict",
          "coloraxis": {
           "colorbar": {
            "outlinewidth": 0,
            "tickcolor": "rgb(36,36,36)",
            "ticklen": 8,
            "ticks": "outside",
            "tickwidth": 2
           }
          },
          "colorscale": {
           "sequential": [
            [
             0,
             "rgb(2,4,25)"
            ],
            [
             0.06274509803921569,
             "rgb(24,15,41)"
            ],
            [
             0.12549019607843137,
             "rgb(47,23,57)"
            ],
            [
             0.18823529411764706,
             "rgb(71,28,72)"
            ],
            [
             0.25098039215686274,
             "rgb(97,30,82)"
            ],
            [
             0.3137254901960784,
             "rgb(123,30,89)"
            ],
            [
             0.3764705882352941,
             "rgb(150,27,91)"
            ],
            [
             0.4392156862745098,
             "rgb(177,22,88)"
            ],
            [
             0.5019607843137255,
             "rgb(203,26,79)"
            ],
            [
             0.5647058823529412,
             "rgb(223,47,67)"
            ],
            [
             0.6274509803921569,
             "rgb(236,76,61)"
            ],
            [
             0.6901960784313725,
             "rgb(242,107,73)"
            ],
            [
             0.7529411764705882,
             "rgb(244,135,95)"
            ],
            [
             0.8156862745098039,
             "rgb(245,162,122)"
            ],
            [
             0.8784313725490196,
             "rgb(246,188,153)"
            ],
            [
             0.9411764705882353,
             "rgb(247,212,187)"
            ],
            [
             1,
             "rgb(250,234,220)"
            ]
           ],
           "sequentialminus": [
            [
             0,
             "rgb(2,4,25)"
            ],
            [
             0.06274509803921569,
             "rgb(24,15,41)"
            ],
            [
             0.12549019607843137,
             "rgb(47,23,57)"
            ],
            [
             0.18823529411764706,
             "rgb(71,28,72)"
            ],
            [
             0.25098039215686274,
             "rgb(97,30,82)"
            ],
            [
             0.3137254901960784,
             "rgb(123,30,89)"
            ],
            [
             0.3764705882352941,
             "rgb(150,27,91)"
            ],
            [
             0.4392156862745098,
             "rgb(177,22,88)"
            ],
            [
             0.5019607843137255,
             "rgb(203,26,79)"
            ],
            [
             0.5647058823529412,
             "rgb(223,47,67)"
            ],
            [
             0.6274509803921569,
             "rgb(236,76,61)"
            ],
            [
             0.6901960784313725,
             "rgb(242,107,73)"
            ],
            [
             0.7529411764705882,
             "rgb(244,135,95)"
            ],
            [
             0.8156862745098039,
             "rgb(245,162,122)"
            ],
            [
             0.8784313725490196,
             "rgb(246,188,153)"
            ],
            [
             0.9411764705882353,
             "rgb(247,212,187)"
            ],
            [
             1,
             "rgb(250,234,220)"
            ]
           ]
          },
          "colorway": [
           "rgb(76,114,176)",
           "rgb(221,132,82)",
           "rgb(85,168,104)",
           "rgb(196,78,82)",
           "rgb(129,114,179)",
           "rgb(147,120,96)",
           "rgb(218,139,195)",
           "rgb(140,140,140)",
           "rgb(204,185,116)",
           "rgb(100,181,205)"
          ],
          "font": {
           "color": "rgb(36,36,36)"
          },
          "geo": {
           "bgcolor": "white",
           "lakecolor": "white",
           "landcolor": "rgb(234,234,242)",
           "showlakes": true,
           "showland": true,
           "subunitcolor": "white"
          },
          "hoverlabel": {
           "align": "left"
          },
          "hovermode": "closest",
          "paper_bgcolor": "white",
          "plot_bgcolor": "rgb(234,234,242)",
          "polar": {
           "angularaxis": {
            "gridcolor": "white",
            "linecolor": "white",
            "showgrid": true,
            "ticks": ""
           },
           "bgcolor": "rgb(234,234,242)",
           "radialaxis": {
            "gridcolor": "white",
            "linecolor": "white",
            "showgrid": true,
            "ticks": ""
           }
          },
          "scene": {
           "xaxis": {
            "backgroundcolor": "rgb(234,234,242)",
            "gridcolor": "white",
            "gridwidth": 2,
            "linecolor": "white",
            "showbackground": true,
            "showgrid": true,
            "ticks": "",
            "zerolinecolor": "white"
           },
           "yaxis": {
            "backgroundcolor": "rgb(234,234,242)",
            "gridcolor": "white",
            "gridwidth": 2,
            "linecolor": "white",
            "showbackground": true,
            "showgrid": true,
            "ticks": "",
            "zerolinecolor": "white"
           },
           "zaxis": {
            "backgroundcolor": "rgb(234,234,242)",
            "gridcolor": "white",
            "gridwidth": 2,
            "linecolor": "white",
            "showbackground": true,
            "showgrid": true,
            "ticks": "",
            "zerolinecolor": "white"
           }
          },
          "shapedefaults": {
           "fillcolor": "rgb(67,103,167)",
           "line": {
            "width": 0
           },
           "opacity": 0.5
          },
          "ternary": {
           "aaxis": {
            "gridcolor": "white",
            "linecolor": "white",
            "showgrid": true,
            "ticks": ""
           },
           "baxis": {
            "gridcolor": "white",
            "linecolor": "white",
            "showgrid": true,
            "ticks": ""
           },
           "bgcolor": "rgb(234,234,242)",
           "caxis": {
            "gridcolor": "white",
            "linecolor": "white",
            "showgrid": true,
            "ticks": ""
           }
          },
          "xaxis": {
           "automargin": true,
           "gridcolor": "white",
           "linecolor": "white",
           "showgrid": true,
           "ticks": "",
           "title": {
            "standoff": 15
           },
           "zerolinecolor": "white"
          },
          "yaxis": {
           "automargin": true,
           "gridcolor": "white",
           "linecolor": "white",
           "showgrid": true,
           "ticks": "",
           "title": {
            "standoff": 15
           },
           "zerolinecolor": "white"
          }
         }
        },
        "xaxis": {
         "anchor": "y",
         "categoryorder": "category ascending",
         "domain": [
          0,
          1
         ],
         "title": {
          "text": "発生時（始期）"
         }
        },
        "yaxis": {
         "anchor": "x",
         "domain": [
          0,
          1
         ],
         "title": {
          "text": "count"
         }
        }
       }
      }
     },
     "metadata": {},
     "output_type": "display_data"
    }
   ],
   "source": [
    "fig = px.bar(kashiwa,\n",
    "            x='発生時（始期）',\n",
    "            color='被害者の職業',\n",
    "            barmode='group', # group the categories,\n",
    "            template='seaborn'\n",
    "            )\n",
    "fig.update_traces(\n",
    "    marker_line_width=0\n",
    ")\n",
    "fig.update_xaxes(categoryorder='category ascending')\n",
    "fig.show()"
   ]
  },
  {
   "attachments": {},
   "cell_type": "markdown",
   "metadata": {
    "slideshow": {
     "slide_type": "slide"
    }
   },
   "source": [
    "`facet_col=`を足すと複数のチャートを一気に表示できる。"
   ]
  },
  {
   "cell_type": "code",
   "execution_count": 22,
   "metadata": {},
   "outputs": [
    {
     "data": {
      "application/vnd.plotly.v1+json": {
       "config": {
        "plotlyServerURL": "https://plot.ly"
       },
       "data": [
        {
         "alignmentgroup": "True",
         "hovertemplate": "被害者の職業=その他<br>発生時（始期）=%{x}<br>count=%{y}<extra></extra>",
         "legendgroup": "",
         "marker": {
          "color": "rgb(76,114,176)",
          "line": {
           "width": 0
          },
          "pattern": {
           "shape": ""
          }
         },
         "name": "",
         "offsetgroup": "",
         "orientation": "v",
         "showlegend": false,
         "textposition": "auto",
         "type": "bar",
         "x": [
          "00",
          "13",
          "22",
          "08",
          "16",
          "08",
          "17",
          "23",
          "04",
          "不明",
          "不明",
          "09",
          "17",
          "11",
          "19",
          "10",
          "21",
          "21",
          "20",
          "08",
          "16",
          "07",
          "20",
          "13",
          "13",
          "13",
          "06",
          "20",
          "23",
          "17",
          "16",
          "00",
          "不明",
          "22",
          "05",
          "12",
          "22",
          "15",
          "16",
          "12",
          "19",
          "15",
          "17",
          "21",
          "21",
          "12",
          "20",
          "14",
          "20",
          "12",
          "15",
          "00",
          "19",
          "20",
          "04",
          "14",
          "06",
          "18",
          "19",
          "06",
          "07",
          "19",
          "09",
          "11",
          "08",
          "12",
          "18",
          "17",
          "07",
          "19",
          "12",
          "13",
          "21",
          "21",
          "16",
          "18",
          "12",
          "17",
          "15",
          "20",
          "07",
          "12",
          "01",
          "06",
          "19",
          "18",
          "16",
          "19",
          "18",
          "06",
          "08",
          "19",
          "23",
          "23",
          "10",
          "18",
          "14",
          "18",
          "09",
          "23",
          "08",
          "12",
          "18",
          "11",
          "17",
          "12",
          "16",
          "14",
          "11",
          "08",
          "08",
          "18",
          "19",
          "20",
          "12",
          "15",
          "14",
          "11",
          "11",
          "22",
          "11",
          "19",
          "18",
          "16",
          "13",
          "10",
          "12",
          "17",
          "20",
          "15",
          "12",
          "20",
          "08",
          "18",
          "12",
          "09",
          "19",
          "14",
          "20",
          "15",
          "12",
          "18",
          "16",
          "10",
          "11",
          "10",
          "16",
          "23",
          "16",
          "14",
          "16",
          "09",
          "19",
          "22",
          "12",
          "08",
          "09",
          "09",
          "13",
          "05",
          "06",
          "21",
          "00",
          "06",
          "12",
          "10",
          "19",
          "20",
          "07",
          "20",
          "10",
          "10",
          "09",
          "09",
          "09",
          "12",
          "20",
          "19",
          "18",
          "00",
          "14",
          "18",
          "10",
          "07",
          "18",
          "18",
          "09",
          "08",
          "08",
          "20",
          "15",
          "20",
          "19",
          "17",
          "19",
          "15",
          "10",
          "10",
          "17",
          "18",
          "18",
          "05",
          "06",
          "18",
          "17",
          "18",
          "17",
          "00",
          "12",
          "18",
          "06",
          "15",
          "20",
          "12",
          "16",
          "17",
          "22",
          "11",
          "17",
          "18",
          "08",
          "20",
          "13",
          "12",
          "13",
          "19",
          "17",
          "15",
          "16",
          "22",
          "00",
          "17",
          "12",
          "20",
          "07",
          "不明",
          "16",
          "20",
          "13",
          "18",
          "21",
          "08",
          "19",
          "14",
          "18",
          "20",
          "20",
          "19",
          "11",
          "18",
          "08",
          "16",
          "08",
          "19",
          "18",
          "18",
          "08"
         ],
         "xaxis": "x",
         "y": [
          1,
          1,
          1,
          1,
          1,
          1,
          1,
          1,
          1,
          1,
          1,
          1,
          1,
          1,
          1,
          1,
          1,
          1,
          1,
          1,
          1,
          1,
          1,
          1,
          1,
          1,
          1,
          1,
          1,
          1,
          1,
          1,
          1,
          1,
          1,
          1,
          1,
          1,
          1,
          1,
          1,
          1,
          1,
          1,
          1,
          1,
          1,
          1,
          1,
          1,
          1,
          1,
          1,
          1,
          1,
          1,
          1,
          1,
          1,
          1,
          1,
          1,
          1,
          1,
          1,
          1,
          1,
          1,
          1,
          1,
          1,
          1,
          1,
          1,
          1,
          1,
          1,
          1,
          1,
          1,
          1,
          1,
          1,
          1,
          1,
          1,
          1,
          1,
          1,
          1,
          1,
          1,
          1,
          1,
          1,
          1,
          1,
          1,
          1,
          1,
          1,
          1,
          1,
          1,
          1,
          1,
          1,
          1,
          1,
          1,
          1,
          1,
          1,
          1,
          1,
          1,
          1,
          1,
          1,
          1,
          1,
          1,
          1,
          1,
          1,
          1,
          1,
          1,
          1,
          1,
          1,
          1,
          1,
          1,
          1,
          1,
          1,
          1,
          1,
          1,
          1,
          1,
          1,
          1,
          1,
          1,
          1,
          1,
          1,
          1,
          1,
          1,
          1,
          1,
          1,
          1,
          1,
          1,
          1,
          1,
          1,
          1,
          1,
          1,
          1,
          1,
          1,
          1,
          1,
          1,
          1,
          1,
          1,
          1,
          1,
          1,
          1,
          1,
          1,
          1,
          1,
          1,
          1,
          1,
          1,
          1,
          1,
          1,
          1,
          1,
          1,
          1,
          1,
          1,
          1,
          1,
          1,
          1,
          1,
          1,
          1,
          1,
          1,
          1,
          1,
          1,
          1,
          1,
          1,
          1,
          1,
          1,
          1,
          1,
          1,
          1,
          1,
          1,
          1,
          1,
          1,
          1,
          1,
          1,
          1,
          1,
          1,
          1,
          1,
          1,
          1,
          1,
          1,
          1,
          1,
          1,
          1,
          1,
          1,
          1,
          1,
          1,
          1,
          1,
          1,
          1,
          1,
          1,
          1,
          1,
          1,
          1,
          1,
          1,
          1,
          1,
          1
         ],
         "yaxis": "y"
        },
        {
         "alignmentgroup": "True",
         "hovertemplate": "被害者の職業=中学生<br>発生時（始期）=%{x}<br>count=%{y}<extra></extra>",
         "legendgroup": "",
         "marker": {
          "color": "rgb(76,114,176)",
          "line": {
           "width": 0
          },
          "pattern": {
           "shape": ""
          }
         },
         "name": "",
         "offsetgroup": "",
         "orientation": "v",
         "showlegend": false,
         "textposition": "auto",
         "type": "bar",
         "x": [
          "22",
          "18",
          "21",
          "19",
          "15",
          "13",
          "21",
          "15",
          "18",
          "14",
          "19",
          "02",
          "08",
          "13",
          "19",
          "11",
          "16",
          "13",
          "18",
          "10",
          "18",
          "06",
          "09",
          "20",
          "08",
          "11",
          "18",
          "21",
          "10",
          "18",
          "18",
          "21",
          "19",
          "13",
          "07",
          "16",
          "10",
          "17",
          "13",
          "06",
          "21",
          "14",
          "18",
          "08",
          "15",
          "20",
          "23",
          "19",
          "18",
          "18",
          "12"
         ],
         "xaxis": "x2",
         "y": [
          1,
          1,
          1,
          1,
          1,
          1,
          1,
          1,
          1,
          1,
          1,
          1,
          1,
          1,
          1,
          1,
          1,
          1,
          1,
          1,
          1,
          1,
          1,
          1,
          1,
          1,
          1,
          1,
          1,
          1,
          1,
          1,
          1,
          1,
          1,
          1,
          1,
          1,
          1,
          1,
          1,
          1,
          1,
          1,
          1,
          1,
          1,
          1,
          1,
          1,
          1
         ],
         "yaxis": "y2"
        },
        {
         "alignmentgroup": "True",
         "hovertemplate": "被害者の職業=小学生<br>発生時（始期）=%{x}<br>count=%{y}<extra></extra>",
         "legendgroup": "",
         "marker": {
          "color": "rgb(76,114,176)",
          "line": {
           "width": 0
          },
          "pattern": {
           "shape": ""
          }
         },
         "name": "",
         "offsetgroup": "",
         "orientation": "v",
         "showlegend": false,
         "textposition": "auto",
         "type": "bar",
         "x": [
          "15",
          "17",
          "08",
          "19",
          "08",
          "19",
          "11",
          "14",
          "15",
          "16",
          "17",
          "13",
          "15",
          "14",
          "17",
          "08",
          "15",
          "17",
          "15",
          "21",
          "19",
          "11",
          "19",
          "16"
         ],
         "xaxis": "x3",
         "y": [
          1,
          1,
          1,
          1,
          1,
          1,
          1,
          1,
          1,
          1,
          1,
          1,
          1,
          1,
          1,
          1,
          1,
          1,
          1,
          1,
          1,
          1,
          1,
          1
         ],
         "yaxis": "y3"
        },
        {
         "alignmentgroup": "True",
         "hovertemplate": "被害者の職業=高校生<br>発生時（始期）=%{x}<br>count=%{y}<extra></extra>",
         "legendgroup": "",
         "marker": {
          "color": "rgb(76,114,176)",
          "line": {
           "width": 0
          },
          "pattern": {
           "shape": ""
          }
         },
         "name": "",
         "offsetgroup": "",
         "orientation": "v",
         "showlegend": false,
         "textposition": "auto",
         "type": "bar",
         "x": [
          "21",
          "07",
          "20",
          "07",
          "07",
          "23",
          "08",
          "08",
          "06",
          "07",
          "17",
          "17",
          "15",
          "18",
          "18",
          "08",
          "07",
          "09",
          "16",
          "14",
          "15",
          "08",
          "07",
          "17",
          "07",
          "21",
          "19",
          "14",
          "14",
          "13",
          "18",
          "16",
          "11",
          "18",
          "13",
          "21",
          "11",
          "17",
          "16",
          "20",
          "13",
          "08",
          "13",
          "16",
          "11",
          "14",
          "00",
          "13",
          "13",
          "11",
          "16",
          "17",
          "17",
          "20",
          "17",
          "08",
          "13",
          "20",
          "12",
          "16",
          "19",
          "08",
          "19",
          "07",
          "12",
          "16",
          "08",
          "20",
          "16",
          "20",
          "07",
          "08",
          "17",
          "19",
          "08",
          "18",
          "16",
          "19",
          "19",
          "16",
          "20",
          "16",
          "21",
          "12",
          "21",
          "07",
          "17",
          "09",
          "10"
         ],
         "xaxis": "x4",
         "y": [
          1,
          1,
          1,
          1,
          1,
          1,
          1,
          1,
          1,
          1,
          1,
          1,
          1,
          1,
          1,
          1,
          1,
          1,
          1,
          1,
          1,
          1,
          1,
          1,
          1,
          1,
          1,
          1,
          1,
          1,
          1,
          1,
          1,
          1,
          1,
          1,
          1,
          1,
          1,
          1,
          1,
          1,
          1,
          1,
          1,
          1,
          1,
          1,
          1,
          1,
          1,
          1,
          1,
          1,
          1,
          1,
          1,
          1,
          1,
          1,
          1,
          1,
          1,
          1,
          1,
          1,
          1,
          1,
          1,
          1,
          1,
          1,
          1,
          1,
          1,
          1,
          1,
          1,
          1,
          1,
          1,
          1,
          1,
          1,
          1,
          1,
          1,
          1,
          1
         ],
         "yaxis": "y4"
        },
        {
         "alignmentgroup": "True",
         "hovertemplate": "被害者の職業=大学生<br>発生時（始期）=%{x}<br>count=%{y}<extra></extra>",
         "legendgroup": "",
         "marker": {
          "color": "rgb(76,114,176)",
          "line": {
           "width": 0
          },
          "pattern": {
           "shape": ""
          }
         },
         "name": "",
         "offsetgroup": "",
         "orientation": "v",
         "showlegend": false,
         "textposition": "auto",
         "type": "bar",
         "x": [
          "14",
          "17",
          "10",
          "18",
          "16",
          "07",
          "22",
          "14",
          "19",
          "16",
          "09",
          "19",
          "07",
          "15",
          "10",
          "08",
          "16",
          "22",
          "08",
          "13",
          "07",
          "10",
          "09",
          "12",
          "00",
          "12",
          "15",
          "不明",
          "09",
          "19",
          "17",
          "11",
          "16",
          "10",
          "08",
          "22",
          "15",
          "10",
          "16",
          "23",
          "07",
          "13",
          "09",
          "14",
          "18",
          "08"
         ],
         "xaxis": "x5",
         "y": [
          1,
          1,
          1,
          1,
          1,
          1,
          1,
          1,
          1,
          1,
          1,
          1,
          1,
          1,
          1,
          1,
          1,
          1,
          1,
          1,
          1,
          1,
          1,
          1,
          1,
          1,
          1,
          1,
          1,
          1,
          1,
          1,
          1,
          1,
          1,
          1,
          1,
          1,
          1,
          1,
          1,
          1,
          1,
          1,
          1,
          1
         ],
         "yaxis": "y5"
        },
        {
         "alignmentgroup": "True",
         "hovertemplate": "被害者の職業=法人・団体、被害者なし<br>発生時（始期）=%{x}<br>count=%{y}<extra></extra>",
         "legendgroup": "",
         "marker": {
          "color": "rgb(76,114,176)",
          "line": {
           "width": 0
          },
          "pattern": {
           "shape": ""
          }
         },
         "name": "",
         "offsetgroup": "",
         "orientation": "v",
         "showlegend": false,
         "textposition": "auto",
         "type": "bar",
         "x": [
          "20",
          "不明",
          "07",
          "20"
         ],
         "xaxis": "x6",
         "y": [
          1,
          1,
          1,
          1
         ],
         "yaxis": "y6"
        }
       ],
       "layout": {
        "annotations": [
         {
          "font": {},
          "showarrow": false,
          "text": "被害者の職業=その他",
          "x": 0.075,
          "xanchor": "center",
          "xref": "paper",
          "y": 1,
          "yanchor": "bottom",
          "yref": "paper"
         },
         {
          "font": {},
          "showarrow": false,
          "text": "被害者の職業=中学生",
          "x": 0.24499999999999997,
          "xanchor": "center",
          "xref": "paper",
          "y": 1,
          "yanchor": "bottom",
          "yref": "paper"
         },
         {
          "font": {},
          "showarrow": false,
          "text": "被害者の職業=小学生",
          "x": 0.415,
          "xanchor": "center",
          "xref": "paper",
          "y": 1,
          "yanchor": "bottom",
          "yref": "paper"
         },
         {
          "font": {},
          "showarrow": false,
          "text": "被害者の職業=高校生",
          "x": 0.585,
          "xanchor": "center",
          "xref": "paper",
          "y": 1,
          "yanchor": "bottom",
          "yref": "paper"
         },
         {
          "font": {},
          "showarrow": false,
          "text": "被害者の職業=大学生",
          "x": 0.7549999999999999,
          "xanchor": "center",
          "xref": "paper",
          "y": 1,
          "yanchor": "bottom",
          "yref": "paper"
         },
         {
          "font": {},
          "showarrow": false,
          "text": "被害者の職業=法人・団体、被害者なし",
          "x": 0.925,
          "xanchor": "center",
          "xref": "paper",
          "y": 1,
          "yanchor": "bottom",
          "yref": "paper"
         }
        ],
        "barmode": "relative",
        "legend": {
         "tracegroupgap": 0
        },
        "margin": {
         "t": 60
        },
        "template": {
         "data": {
          "bar": [
           {
            "error_x": {
             "color": "rgb(36,36,36)"
            },
            "error_y": {
             "color": "rgb(36,36,36)"
            },
            "marker": {
             "line": {
              "color": "rgb(234,234,242)",
              "width": 0.5
             },
             "pattern": {
              "fillmode": "overlay",
              "size": 10,
              "solidity": 0.2
             }
            },
            "type": "bar"
           }
          ],
          "barpolar": [
           {
            "marker": {
             "line": {
              "color": "rgb(234,234,242)",
              "width": 0.5
             },
             "pattern": {
              "fillmode": "overlay",
              "size": 10,
              "solidity": 0.2
             }
            },
            "type": "barpolar"
           }
          ],
          "carpet": [
           {
            "aaxis": {
             "endlinecolor": "rgb(36,36,36)",
             "gridcolor": "white",
             "linecolor": "white",
             "minorgridcolor": "white",
             "startlinecolor": "rgb(36,36,36)"
            },
            "baxis": {
             "endlinecolor": "rgb(36,36,36)",
             "gridcolor": "white",
             "linecolor": "white",
             "minorgridcolor": "white",
             "startlinecolor": "rgb(36,36,36)"
            },
            "type": "carpet"
           }
          ],
          "choropleth": [
           {
            "colorbar": {
             "outlinewidth": 0,
             "tickcolor": "rgb(36,36,36)",
             "ticklen": 8,
             "ticks": "outside",
             "tickwidth": 2
            },
            "type": "choropleth"
           }
          ],
          "contour": [
           {
            "colorbar": {
             "outlinewidth": 0,
             "tickcolor": "rgb(36,36,36)",
             "ticklen": 8,
             "ticks": "outside",
             "tickwidth": 2
            },
            "colorscale": [
             [
              0,
              "rgb(2,4,25)"
             ],
             [
              0.06274509803921569,
              "rgb(24,15,41)"
             ],
             [
              0.12549019607843137,
              "rgb(47,23,57)"
             ],
             [
              0.18823529411764706,
              "rgb(71,28,72)"
             ],
             [
              0.25098039215686274,
              "rgb(97,30,82)"
             ],
             [
              0.3137254901960784,
              "rgb(123,30,89)"
             ],
             [
              0.3764705882352941,
              "rgb(150,27,91)"
             ],
             [
              0.4392156862745098,
              "rgb(177,22,88)"
             ],
             [
              0.5019607843137255,
              "rgb(203,26,79)"
             ],
             [
              0.5647058823529412,
              "rgb(223,47,67)"
             ],
             [
              0.6274509803921569,
              "rgb(236,76,61)"
             ],
             [
              0.6901960784313725,
              "rgb(242,107,73)"
             ],
             [
              0.7529411764705882,
              "rgb(244,135,95)"
             ],
             [
              0.8156862745098039,
              "rgb(245,162,122)"
             ],
             [
              0.8784313725490196,
              "rgb(246,188,153)"
             ],
             [
              0.9411764705882353,
              "rgb(247,212,187)"
             ],
             [
              1,
              "rgb(250,234,220)"
             ]
            ],
            "type": "contour"
           }
          ],
          "contourcarpet": [
           {
            "colorbar": {
             "outlinewidth": 0,
             "tickcolor": "rgb(36,36,36)",
             "ticklen": 8,
             "ticks": "outside",
             "tickwidth": 2
            },
            "type": "contourcarpet"
           }
          ],
          "heatmap": [
           {
            "colorbar": {
             "outlinewidth": 0,
             "tickcolor": "rgb(36,36,36)",
             "ticklen": 8,
             "ticks": "outside",
             "tickwidth": 2
            },
            "colorscale": [
             [
              0,
              "rgb(2,4,25)"
             ],
             [
              0.06274509803921569,
              "rgb(24,15,41)"
             ],
             [
              0.12549019607843137,
              "rgb(47,23,57)"
             ],
             [
              0.18823529411764706,
              "rgb(71,28,72)"
             ],
             [
              0.25098039215686274,
              "rgb(97,30,82)"
             ],
             [
              0.3137254901960784,
              "rgb(123,30,89)"
             ],
             [
              0.3764705882352941,
              "rgb(150,27,91)"
             ],
             [
              0.4392156862745098,
              "rgb(177,22,88)"
             ],
             [
              0.5019607843137255,
              "rgb(203,26,79)"
             ],
             [
              0.5647058823529412,
              "rgb(223,47,67)"
             ],
             [
              0.6274509803921569,
              "rgb(236,76,61)"
             ],
             [
              0.6901960784313725,
              "rgb(242,107,73)"
             ],
             [
              0.7529411764705882,
              "rgb(244,135,95)"
             ],
             [
              0.8156862745098039,
              "rgb(245,162,122)"
             ],
             [
              0.8784313725490196,
              "rgb(246,188,153)"
             ],
             [
              0.9411764705882353,
              "rgb(247,212,187)"
             ],
             [
              1,
              "rgb(250,234,220)"
             ]
            ],
            "type": "heatmap"
           }
          ],
          "heatmapgl": [
           {
            "colorbar": {
             "outlinewidth": 0,
             "tickcolor": "rgb(36,36,36)",
             "ticklen": 8,
             "ticks": "outside",
             "tickwidth": 2
            },
            "colorscale": [
             [
              0,
              "rgb(2,4,25)"
             ],
             [
              0.06274509803921569,
              "rgb(24,15,41)"
             ],
             [
              0.12549019607843137,
              "rgb(47,23,57)"
             ],
             [
              0.18823529411764706,
              "rgb(71,28,72)"
             ],
             [
              0.25098039215686274,
              "rgb(97,30,82)"
             ],
             [
              0.3137254901960784,
              "rgb(123,30,89)"
             ],
             [
              0.3764705882352941,
              "rgb(150,27,91)"
             ],
             [
              0.4392156862745098,
              "rgb(177,22,88)"
             ],
             [
              0.5019607843137255,
              "rgb(203,26,79)"
             ],
             [
              0.5647058823529412,
              "rgb(223,47,67)"
             ],
             [
              0.6274509803921569,
              "rgb(236,76,61)"
             ],
             [
              0.6901960784313725,
              "rgb(242,107,73)"
             ],
             [
              0.7529411764705882,
              "rgb(244,135,95)"
             ],
             [
              0.8156862745098039,
              "rgb(245,162,122)"
             ],
             [
              0.8784313725490196,
              "rgb(246,188,153)"
             ],
             [
              0.9411764705882353,
              "rgb(247,212,187)"
             ],
             [
              1,
              "rgb(250,234,220)"
             ]
            ],
            "type": "heatmapgl"
           }
          ],
          "histogram": [
           {
            "marker": {
             "pattern": {
              "fillmode": "overlay",
              "size": 10,
              "solidity": 0.2
             }
            },
            "type": "histogram"
           }
          ],
          "histogram2d": [
           {
            "colorbar": {
             "outlinewidth": 0,
             "tickcolor": "rgb(36,36,36)",
             "ticklen": 8,
             "ticks": "outside",
             "tickwidth": 2
            },
            "colorscale": [
             [
              0,
              "rgb(2,4,25)"
             ],
             [
              0.06274509803921569,
              "rgb(24,15,41)"
             ],
             [
              0.12549019607843137,
              "rgb(47,23,57)"
             ],
             [
              0.18823529411764706,
              "rgb(71,28,72)"
             ],
             [
              0.25098039215686274,
              "rgb(97,30,82)"
             ],
             [
              0.3137254901960784,
              "rgb(123,30,89)"
             ],
             [
              0.3764705882352941,
              "rgb(150,27,91)"
             ],
             [
              0.4392156862745098,
              "rgb(177,22,88)"
             ],
             [
              0.5019607843137255,
              "rgb(203,26,79)"
             ],
             [
              0.5647058823529412,
              "rgb(223,47,67)"
             ],
             [
              0.6274509803921569,
              "rgb(236,76,61)"
             ],
             [
              0.6901960784313725,
              "rgb(242,107,73)"
             ],
             [
              0.7529411764705882,
              "rgb(244,135,95)"
             ],
             [
              0.8156862745098039,
              "rgb(245,162,122)"
             ],
             [
              0.8784313725490196,
              "rgb(246,188,153)"
             ],
             [
              0.9411764705882353,
              "rgb(247,212,187)"
             ],
             [
              1,
              "rgb(250,234,220)"
             ]
            ],
            "type": "histogram2d"
           }
          ],
          "histogram2dcontour": [
           {
            "colorbar": {
             "outlinewidth": 0,
             "tickcolor": "rgb(36,36,36)",
             "ticklen": 8,
             "ticks": "outside",
             "tickwidth": 2
            },
            "colorscale": [
             [
              0,
              "rgb(2,4,25)"
             ],
             [
              0.06274509803921569,
              "rgb(24,15,41)"
             ],
             [
              0.12549019607843137,
              "rgb(47,23,57)"
             ],
             [
              0.18823529411764706,
              "rgb(71,28,72)"
             ],
             [
              0.25098039215686274,
              "rgb(97,30,82)"
             ],
             [
              0.3137254901960784,
              "rgb(123,30,89)"
             ],
             [
              0.3764705882352941,
              "rgb(150,27,91)"
             ],
             [
              0.4392156862745098,
              "rgb(177,22,88)"
             ],
             [
              0.5019607843137255,
              "rgb(203,26,79)"
             ],
             [
              0.5647058823529412,
              "rgb(223,47,67)"
             ],
             [
              0.6274509803921569,
              "rgb(236,76,61)"
             ],
             [
              0.6901960784313725,
              "rgb(242,107,73)"
             ],
             [
              0.7529411764705882,
              "rgb(244,135,95)"
             ],
             [
              0.8156862745098039,
              "rgb(245,162,122)"
             ],
             [
              0.8784313725490196,
              "rgb(246,188,153)"
             ],
             [
              0.9411764705882353,
              "rgb(247,212,187)"
             ],
             [
              1,
              "rgb(250,234,220)"
             ]
            ],
            "type": "histogram2dcontour"
           }
          ],
          "mesh3d": [
           {
            "colorbar": {
             "outlinewidth": 0,
             "tickcolor": "rgb(36,36,36)",
             "ticklen": 8,
             "ticks": "outside",
             "tickwidth": 2
            },
            "type": "mesh3d"
           }
          ],
          "parcoords": [
           {
            "line": {
             "colorbar": {
              "outlinewidth": 0,
              "tickcolor": "rgb(36,36,36)",
              "ticklen": 8,
              "ticks": "outside",
              "tickwidth": 2
             }
            },
            "type": "parcoords"
           }
          ],
          "pie": [
           {
            "automargin": true,
            "type": "pie"
           }
          ],
          "scatter": [
           {
            "fillpattern": {
             "fillmode": "overlay",
             "size": 10,
             "solidity": 0.2
            },
            "type": "scatter"
           }
          ],
          "scatter3d": [
           {
            "line": {
             "colorbar": {
              "outlinewidth": 0,
              "tickcolor": "rgb(36,36,36)",
              "ticklen": 8,
              "ticks": "outside",
              "tickwidth": 2
             }
            },
            "marker": {
             "colorbar": {
              "outlinewidth": 0,
              "tickcolor": "rgb(36,36,36)",
              "ticklen": 8,
              "ticks": "outside",
              "tickwidth": 2
             }
            },
            "type": "scatter3d"
           }
          ],
          "scattercarpet": [
           {
            "marker": {
             "colorbar": {
              "outlinewidth": 0,
              "tickcolor": "rgb(36,36,36)",
              "ticklen": 8,
              "ticks": "outside",
              "tickwidth": 2
             }
            },
            "type": "scattercarpet"
           }
          ],
          "scattergeo": [
           {
            "marker": {
             "colorbar": {
              "outlinewidth": 0,
              "tickcolor": "rgb(36,36,36)",
              "ticklen": 8,
              "ticks": "outside",
              "tickwidth": 2
             }
            },
            "type": "scattergeo"
           }
          ],
          "scattergl": [
           {
            "marker": {
             "colorbar": {
              "outlinewidth": 0,
              "tickcolor": "rgb(36,36,36)",
              "ticklen": 8,
              "ticks": "outside",
              "tickwidth": 2
             }
            },
            "type": "scattergl"
           }
          ],
          "scattermapbox": [
           {
            "marker": {
             "colorbar": {
              "outlinewidth": 0,
              "tickcolor": "rgb(36,36,36)",
              "ticklen": 8,
              "ticks": "outside",
              "tickwidth": 2
             }
            },
            "type": "scattermapbox"
           }
          ],
          "scatterpolar": [
           {
            "marker": {
             "colorbar": {
              "outlinewidth": 0,
              "tickcolor": "rgb(36,36,36)",
              "ticklen": 8,
              "ticks": "outside",
              "tickwidth": 2
             }
            },
            "type": "scatterpolar"
           }
          ],
          "scatterpolargl": [
           {
            "marker": {
             "colorbar": {
              "outlinewidth": 0,
              "tickcolor": "rgb(36,36,36)",
              "ticklen": 8,
              "ticks": "outside",
              "tickwidth": 2
             }
            },
            "type": "scatterpolargl"
           }
          ],
          "scatterternary": [
           {
            "marker": {
             "colorbar": {
              "outlinewidth": 0,
              "tickcolor": "rgb(36,36,36)",
              "ticklen": 8,
              "ticks": "outside",
              "tickwidth": 2
             }
            },
            "type": "scatterternary"
           }
          ],
          "surface": [
           {
            "colorbar": {
             "outlinewidth": 0,
             "tickcolor": "rgb(36,36,36)",
             "ticklen": 8,
             "ticks": "outside",
             "tickwidth": 2
            },
            "colorscale": [
             [
              0,
              "rgb(2,4,25)"
             ],
             [
              0.06274509803921569,
              "rgb(24,15,41)"
             ],
             [
              0.12549019607843137,
              "rgb(47,23,57)"
             ],
             [
              0.18823529411764706,
              "rgb(71,28,72)"
             ],
             [
              0.25098039215686274,
              "rgb(97,30,82)"
             ],
             [
              0.3137254901960784,
              "rgb(123,30,89)"
             ],
             [
              0.3764705882352941,
              "rgb(150,27,91)"
             ],
             [
              0.4392156862745098,
              "rgb(177,22,88)"
             ],
             [
              0.5019607843137255,
              "rgb(203,26,79)"
             ],
             [
              0.5647058823529412,
              "rgb(223,47,67)"
             ],
             [
              0.6274509803921569,
              "rgb(236,76,61)"
             ],
             [
              0.6901960784313725,
              "rgb(242,107,73)"
             ],
             [
              0.7529411764705882,
              "rgb(244,135,95)"
             ],
             [
              0.8156862745098039,
              "rgb(245,162,122)"
             ],
             [
              0.8784313725490196,
              "rgb(246,188,153)"
             ],
             [
              0.9411764705882353,
              "rgb(247,212,187)"
             ],
             [
              1,
              "rgb(250,234,220)"
             ]
            ],
            "type": "surface"
           }
          ],
          "table": [
           {
            "cells": {
             "fill": {
              "color": "rgb(231,231,240)"
             },
             "line": {
              "color": "white"
             }
            },
            "header": {
             "fill": {
              "color": "rgb(183,183,191)"
             },
             "line": {
              "color": "white"
             }
            },
            "type": "table"
           }
          ]
         },
         "layout": {
          "annotationdefaults": {
           "arrowcolor": "rgb(67,103,167)"
          },
          "autotypenumbers": "strict",
          "coloraxis": {
           "colorbar": {
            "outlinewidth": 0,
            "tickcolor": "rgb(36,36,36)",
            "ticklen": 8,
            "ticks": "outside",
            "tickwidth": 2
           }
          },
          "colorscale": {
           "sequential": [
            [
             0,
             "rgb(2,4,25)"
            ],
            [
             0.06274509803921569,
             "rgb(24,15,41)"
            ],
            [
             0.12549019607843137,
             "rgb(47,23,57)"
            ],
            [
             0.18823529411764706,
             "rgb(71,28,72)"
            ],
            [
             0.25098039215686274,
             "rgb(97,30,82)"
            ],
            [
             0.3137254901960784,
             "rgb(123,30,89)"
            ],
            [
             0.3764705882352941,
             "rgb(150,27,91)"
            ],
            [
             0.4392156862745098,
             "rgb(177,22,88)"
            ],
            [
             0.5019607843137255,
             "rgb(203,26,79)"
            ],
            [
             0.5647058823529412,
             "rgb(223,47,67)"
            ],
            [
             0.6274509803921569,
             "rgb(236,76,61)"
            ],
            [
             0.6901960784313725,
             "rgb(242,107,73)"
            ],
            [
             0.7529411764705882,
             "rgb(244,135,95)"
            ],
            [
             0.8156862745098039,
             "rgb(245,162,122)"
            ],
            [
             0.8784313725490196,
             "rgb(246,188,153)"
            ],
            [
             0.9411764705882353,
             "rgb(247,212,187)"
            ],
            [
             1,
             "rgb(250,234,220)"
            ]
           ],
           "sequentialminus": [
            [
             0,
             "rgb(2,4,25)"
            ],
            [
             0.06274509803921569,
             "rgb(24,15,41)"
            ],
            [
             0.12549019607843137,
             "rgb(47,23,57)"
            ],
            [
             0.18823529411764706,
             "rgb(71,28,72)"
            ],
            [
             0.25098039215686274,
             "rgb(97,30,82)"
            ],
            [
             0.3137254901960784,
             "rgb(123,30,89)"
            ],
            [
             0.3764705882352941,
             "rgb(150,27,91)"
            ],
            [
             0.4392156862745098,
             "rgb(177,22,88)"
            ],
            [
             0.5019607843137255,
             "rgb(203,26,79)"
            ],
            [
             0.5647058823529412,
             "rgb(223,47,67)"
            ],
            [
             0.6274509803921569,
             "rgb(236,76,61)"
            ],
            [
             0.6901960784313725,
             "rgb(242,107,73)"
            ],
            [
             0.7529411764705882,
             "rgb(244,135,95)"
            ],
            [
             0.8156862745098039,
             "rgb(245,162,122)"
            ],
            [
             0.8784313725490196,
             "rgb(246,188,153)"
            ],
            [
             0.9411764705882353,
             "rgb(247,212,187)"
            ],
            [
             1,
             "rgb(250,234,220)"
            ]
           ]
          },
          "colorway": [
           "rgb(76,114,176)",
           "rgb(221,132,82)",
           "rgb(85,168,104)",
           "rgb(196,78,82)",
           "rgb(129,114,179)",
           "rgb(147,120,96)",
           "rgb(218,139,195)",
           "rgb(140,140,140)",
           "rgb(204,185,116)",
           "rgb(100,181,205)"
          ],
          "font": {
           "color": "rgb(36,36,36)"
          },
          "geo": {
           "bgcolor": "white",
           "lakecolor": "white",
           "landcolor": "rgb(234,234,242)",
           "showlakes": true,
           "showland": true,
           "subunitcolor": "white"
          },
          "hoverlabel": {
           "align": "left"
          },
          "hovermode": "closest",
          "paper_bgcolor": "white",
          "plot_bgcolor": "rgb(234,234,242)",
          "polar": {
           "angularaxis": {
            "gridcolor": "white",
            "linecolor": "white",
            "showgrid": true,
            "ticks": ""
           },
           "bgcolor": "rgb(234,234,242)",
           "radialaxis": {
            "gridcolor": "white",
            "linecolor": "white",
            "showgrid": true,
            "ticks": ""
           }
          },
          "scene": {
           "xaxis": {
            "backgroundcolor": "rgb(234,234,242)",
            "gridcolor": "white",
            "gridwidth": 2,
            "linecolor": "white",
            "showbackground": true,
            "showgrid": true,
            "ticks": "",
            "zerolinecolor": "white"
           },
           "yaxis": {
            "backgroundcolor": "rgb(234,234,242)",
            "gridcolor": "white",
            "gridwidth": 2,
            "linecolor": "white",
            "showbackground": true,
            "showgrid": true,
            "ticks": "",
            "zerolinecolor": "white"
           },
           "zaxis": {
            "backgroundcolor": "rgb(234,234,242)",
            "gridcolor": "white",
            "gridwidth": 2,
            "linecolor": "white",
            "showbackground": true,
            "showgrid": true,
            "ticks": "",
            "zerolinecolor": "white"
           }
          },
          "shapedefaults": {
           "fillcolor": "rgb(67,103,167)",
           "line": {
            "width": 0
           },
           "opacity": 0.5
          },
          "ternary": {
           "aaxis": {
            "gridcolor": "white",
            "linecolor": "white",
            "showgrid": true,
            "ticks": ""
           },
           "baxis": {
            "gridcolor": "white",
            "linecolor": "white",
            "showgrid": true,
            "ticks": ""
           },
           "bgcolor": "rgb(234,234,242)",
           "caxis": {
            "gridcolor": "white",
            "linecolor": "white",
            "showgrid": true,
            "ticks": ""
           }
          },
          "xaxis": {
           "automargin": true,
           "gridcolor": "white",
           "linecolor": "white",
           "showgrid": true,
           "ticks": "",
           "title": {
            "standoff": 15
           },
           "zerolinecolor": "white"
          },
          "yaxis": {
           "automargin": true,
           "gridcolor": "white",
           "linecolor": "white",
           "showgrid": true,
           "ticks": "",
           "title": {
            "standoff": 15
           },
           "zerolinecolor": "white"
          }
         }
        },
        "xaxis": {
         "anchor": "y",
         "categoryorder": "category ascending",
         "domain": [
          0,
          0.15
         ],
         "title": {
          "text": "発生時（始期）"
         }
        },
        "xaxis2": {
         "anchor": "y2",
         "categoryorder": "category ascending",
         "domain": [
          0.16999999999999998,
          0.31999999999999995
         ],
         "matches": "x",
         "title": {
          "text": "発生時（始期）"
         }
        },
        "xaxis3": {
         "anchor": "y3",
         "categoryorder": "category ascending",
         "domain": [
          0.33999999999999997,
          0.49
         ],
         "matches": "x",
         "title": {
          "text": "発生時（始期）"
         }
        },
        "xaxis4": {
         "anchor": "y4",
         "categoryorder": "category ascending",
         "domain": [
          0.51,
          0.66
         ],
         "matches": "x",
         "title": {
          "text": "発生時（始期）"
         }
        },
        "xaxis5": {
         "anchor": "y5",
         "categoryorder": "category ascending",
         "domain": [
          0.6799999999999999,
          0.83
         ],
         "matches": "x",
         "title": {
          "text": "発生時（始期）"
         }
        },
        "xaxis6": {
         "anchor": "y6",
         "categoryorder": "category ascending",
         "domain": [
          0.85,
          1
         ],
         "matches": "x",
         "title": {
          "text": "発生時（始期）"
         }
        },
        "yaxis": {
         "anchor": "x",
         "domain": [
          0,
          1
         ],
         "title": {
          "text": "count"
         }
        },
        "yaxis2": {
         "anchor": "x2",
         "domain": [
          0,
          1
         ],
         "matches": "y",
         "showticklabels": false
        },
        "yaxis3": {
         "anchor": "x3",
         "domain": [
          0,
          1
         ],
         "matches": "y",
         "showticklabels": false
        },
        "yaxis4": {
         "anchor": "x4",
         "domain": [
          0,
          1
         ],
         "matches": "y",
         "showticklabels": false
        },
        "yaxis5": {
         "anchor": "x5",
         "domain": [
          0,
          1
         ],
         "matches": "y",
         "showticklabels": false
        },
        "yaxis6": {
         "anchor": "x6",
         "domain": [
          0,
          1
         ],
         "matches": "y",
         "showticklabels": false
        }
       }
      }
     },
     "metadata": {},
     "output_type": "display_data"
    }
   ],
   "source": [
    "fig = px.bar(kashiwa,\n",
    "            x='発生時（始期）',\n",
    "            facet_col='被害者の職業',\n",
    "            template='seaborn')\n",
    "fig.update_traces(\n",
    "    marker_line_width=0\n",
    ")\n",
    "fig.update_xaxes(categoryorder='category ascending')\n",
    "fig.show()"
   ]
  },
  {
   "attachments": {},
   "cell_type": "markdown",
   "metadata": {
    "slideshow": {
     "slide_type": "slide"
    }
   },
   "source": [
    "# Geocoding\n",
    "\n",
    "<img src=\"https://raw.githubusercontent.com/yohman/23-1-Reitaku-GIS/main/Weeks/Week08/images/Geocoding_01.png\" width=400>\n",
    "\n",
    "住所だけではマップイングできません。座標が必要です。なので、住所から座標を特定するプロセスが必要である。このプロセスを<h1>【ジオコーティング】</h1>という。\n"
   ]
  },
  {
   "attachments": {},
   "cell_type": "markdown",
   "metadata": {
    "slideshow": {
     "slide_type": "slide"
    }
   },
   "source": [
    "ジオコーティングと言えば、色んな方法があります。現在、日本で無料でジオコーティングサービスを提供しているのが国土地理院のジオコーティングAPI。\n",
    "\n",
    "試してみよう。このようにURLをブラウザーで記入するだけで座標が返ってくるサービスである。国土地理院さん、とても便利なサービス、ありがとうございます！\n",
    "\n",
    "https://msearch.gsi.go.jp/address-search/AddressSearch?q=麗澤大学"
   ]
  },
  {
   "attachments": {},
   "cell_type": "markdown",
   "metadata": {
    "slideshow": {
     "slide_type": "slide"
    }
   },
   "source": [
    "では、このプロセスに従って、アドレスから座標を出力する Python 関数を作成します。"
   ]
  },
  {
   "cell_type": "code",
   "execution_count": 23,
   "metadata": {},
   "outputs": [],
   "source": [
    "# 関数を作成\n",
    "def geocode(address):\n",
    "\n",
    "    # ジオコーティングURL\n",
    "    url = \"https://msearch.gsi.go.jp/address-search/AddressSearch?q=\"\n",
    "\n",
    "    # try/exceptでエラーをキャッチ\n",
    "    # 成功の場合\n",
    "    try:\n",
    "        s_quote = urllib.parse.quote(address)\n",
    "        response = requests.get(url + s_quote)\n",
    "        if len(response.json())>0:\n",
    "            return response.json()[0][\"geometry\"][\"coordinates\"] \n",
    "        else:\n",
    "            return False\n",
    "        \n",
    "    # 失敗の場合\n",
    "    except:\n",
    "        return False"
   ]
  },
  {
   "attachments": {},
   "cell_type": "markdown",
   "metadata": {
    "slideshow": {
     "slide_type": "slide"
    }
   },
   "source": [
    "関数の使い方は簡単！"
   ]
  },
  {
   "cell_type": "code",
   "execution_count": 30,
   "metadata": {},
   "outputs": [
    {
     "data": {
      "text/plain": [
       "[139.880688527778, 35.6352851388889]"
      ]
     },
     "execution_count": 30,
     "metadata": {},
     "output_type": "execute_result"
    }
   ],
   "source": [
    "geocode('ディズニー')#検索ワードを変えると色々、検索できる"
   ]
  },
  {
   "attachments": {},
   "cell_type": "markdown",
   "metadata": {
    "slideshow": {
     "slide_type": "slide"
    }
   },
   "source": [
    "## データフレームの準備\n",
    "\n",
    "`kashiwa`のデータフレームの各行の住所をジオコーティングする前に`住所`と座標（`lat`,`lon`）のフィールドを作りましょう。"
   ]
  },
  {
   "cell_type": "code",
   "execution_count": 31,
   "metadata": {},
   "outputs": [],
   "source": [
    "# 空の住所フィールドを作成\n",
    "kashiwa['住所'] = ''"
   ]
  },
  {
   "cell_type": "code",
   "execution_count": 32,
   "metadata": {},
   "outputs": [],
   "source": [
    "# 空だがfloatとしてフィールドを作成\n",
    "kashiwa['lat'] = pd.Series(dtype=float)\n",
    "kashiwa['lon'] = pd.Series(dtype=float)"
   ]
  },
  {
   "attachments": {},
   "cell_type": "markdown",
   "metadata": {
    "slideshow": {
     "slide_type": "slide"
    }
   },
   "source": [
    "<img src=\"https://raw.githubusercontent.com/yohman/23-1-Reitaku-GIS/main/Weeks/Week08/images/concat.png\" width=600>\n",
    "\n",
    "↑で作った住所フィールドに次の 3 つのフィールドを連結します。\n",
    "\n",
    "1. 都道府県（発生地）\n",
    "1. 市区町村（発生地）\n",
    "1. 町丁目（発生地）"
   ]
  },
  {
   "cell_type": "code",
   "execution_count": 33,
   "metadata": {},
   "outputs": [],
   "source": [
    "# 住所フィールドを作成\n",
    "kashiwa['住所'] = kashiwa['都道府県（発生地）']+kashiwa['市区町村（発生地）']+kashiwa['町丁目（発生地）']"
   ]
  },
  {
   "cell_type": "code",
   "execution_count": 34,
   "metadata": {
    "slideshow": {
     "slide_type": "slide"
    }
   },
   "outputs": [
    {
     "data": {
      "text/html": [
       "<div>\n",
       "<style scoped>\n",
       "    .dataframe tbody tr th:only-of-type {\n",
       "        vertical-align: middle;\n",
       "    }\n",
       "\n",
       "    .dataframe tbody tr th {\n",
       "        vertical-align: top;\n",
       "    }\n",
       "\n",
       "    .dataframe thead th {\n",
       "        text-align: right;\n",
       "    }\n",
       "</style>\n",
       "<table border=\"1\" class=\"dataframe\">\n",
       "  <thead>\n",
       "    <tr style=\"text-align: right;\">\n",
       "      <th></th>\n",
       "      <th>罪名</th>\n",
       "      <th>手口</th>\n",
       "      <th>管轄警察署（発生地）</th>\n",
       "      <th>管轄交番・駐在所（発生地）</th>\n",
       "      <th>市区町村コード（発生地）</th>\n",
       "      <th>都道府県（発生地）</th>\n",
       "      <th>市区町村（発生地）</th>\n",
       "      <th>町丁目（発生地）</th>\n",
       "      <th>発生年月日（始期）</th>\n",
       "      <th>発生時（始期）</th>\n",
       "      <th>発生場所</th>\n",
       "      <th>発生場所の詳細</th>\n",
       "      <th>被害者の年齢</th>\n",
       "      <th>被害者の職業</th>\n",
       "      <th>施錠関係</th>\n",
       "      <th>住所</th>\n",
       "      <th>lat</th>\n",
       "      <th>lon</th>\n",
       "    </tr>\n",
       "  </thead>\n",
       "  <tbody>\n",
       "    <tr>\n",
       "      <th>2887</th>\n",
       "      <td>窃盗</td>\n",
       "      <td>自転車盗</td>\n",
       "      <td>柏</td>\n",
       "      <td>南柏駅前交番</td>\n",
       "      <td>122173</td>\n",
       "      <td>千葉県</td>\n",
       "      <td>柏市</td>\n",
       "      <td>南柏１丁目</td>\n",
       "      <td>2022-05-19</td>\n",
       "      <td>06</td>\n",
       "      <td>その他</td>\n",
       "      <td>駐車（輪）場</td>\n",
       "      <td>20歳代</td>\n",
       "      <td>その他</td>\n",
       "      <td>施錠せず</td>\n",
       "      <td>千葉県柏市南柏１丁目</td>\n",
       "      <td>NaN</td>\n",
       "      <td>NaN</td>\n",
       "    </tr>\n",
       "    <tr>\n",
       "      <th>2931</th>\n",
       "      <td>窃盗</td>\n",
       "      <td>自転車盗</td>\n",
       "      <td>柏</td>\n",
       "      <td>大津ヶ丘交番</td>\n",
       "      <td>122173</td>\n",
       "      <td>千葉県</td>\n",
       "      <td>柏市</td>\n",
       "      <td>大島田１丁目</td>\n",
       "      <td>2022-05-09</td>\n",
       "      <td>14</td>\n",
       "      <td>その他</td>\n",
       "      <td>駐車（輪）場</td>\n",
       "      <td>10歳代</td>\n",
       "      <td>高校生</td>\n",
       "      <td>施錠せず</td>\n",
       "      <td>千葉県柏市大島田１丁目</td>\n",
       "      <td>NaN</td>\n",
       "      <td>NaN</td>\n",
       "    </tr>\n",
       "    <tr>\n",
       "      <th>3024</th>\n",
       "      <td>窃盗</td>\n",
       "      <td>自転車盗</td>\n",
       "      <td>柏</td>\n",
       "      <td>旭町交番</td>\n",
       "      <td>122173</td>\n",
       "      <td>千葉県</td>\n",
       "      <td>柏市</td>\n",
       "      <td>豊四季台４丁目</td>\n",
       "      <td>2022-08-28</td>\n",
       "      <td>13</td>\n",
       "      <td>４階建て以上共同住宅</td>\n",
       "      <td>駐車（輪）場</td>\n",
       "      <td>40歳代</td>\n",
       "      <td>その他</td>\n",
       "      <td>施錠した</td>\n",
       "      <td>千葉県柏市豊四季台４丁目</td>\n",
       "      <td>NaN</td>\n",
       "      <td>NaN</td>\n",
       "    </tr>\n",
       "  </tbody>\n",
       "</table>\n",
       "</div>"
      ],
      "text/plain": [
       "      罪名    手口 管轄警察署（発生地） 管轄交番・駐在所（発生地）  市区町村コード（発生地） 都道府県（発生地） 市区町村（発生地）   \n",
       "2887  窃盗  自転車盗          柏        南柏駅前交番        122173       千葉県        柏市  \\\n",
       "2931  窃盗  自転車盗          柏        大津ヶ丘交番        122173       千葉県        柏市   \n",
       "3024  窃盗  自転車盗          柏          旭町交番        122173       千葉県        柏市   \n",
       "\n",
       "     町丁目（発生地）   発生年月日（始期） 発生時（始期）        発生場所 発生場所の詳細 被害者の年齢 被害者の職業  施錠関係   \n",
       "2887    南柏１丁目  2022-05-19      06         その他  駐車（輪）場   20歳代    その他  施錠せず  \\\n",
       "2931   大島田１丁目  2022-05-09      14         その他  駐車（輪）場   10歳代    高校生  施錠せず   \n",
       "3024  豊四季台４丁目  2022-08-28      13  ４階建て以上共同住宅  駐車（輪）場   40歳代    その他  施錠した   \n",
       "\n",
       "                住所  lat  lon  \n",
       "2887    千葉県柏市南柏１丁目  NaN  NaN  \n",
       "2931   千葉県柏市大島田１丁目  NaN  NaN  \n",
       "3024  千葉県柏市豊四季台４丁目  NaN  NaN  "
      ]
     },
     "execution_count": 34,
     "metadata": {},
     "output_type": "execute_result"
    }
   ],
   "source": [
    "# random sampleで上手く行ったかどうかをチェック\n",
    "kashiwa.sample(3)"
   ]
  },
  {
   "attachments": {},
   "cell_type": "markdown",
   "metadata": {
    "slideshow": {
     "slide_type": "slide"
    }
   },
   "source": [
    "これで準備は整えました。`kashiwa` のデータフレームを for loop に入れて住所を一つずつジオコーティングしよう。\n",
    "\n",
    "この作業は数分かかるので注意。千件以上のデータフレームはなるべく避けよう。"
   ]
  },
  {
   "cell_type": "code",
   "execution_count": 35,
   "metadata": {},
   "outputs": [
    {
     "name": "stdout",
     "output_type": "stream",
     "text": [
      "千葉県柏市今谷上町 139.956406 35.841019\n",
      "千葉県柏市今谷上町 139.956406 35.841019\n",
      "千葉県柏市今谷上町 139.956406 35.841019\n",
      "千葉県柏市今谷上町 139.956406 35.841019\n",
      "千葉県柏市今谷上町 139.956406 35.841019\n",
      "千葉県柏市酒井根 139.957825 35.81815\n",
      "千葉県柏市酒井根３丁目 139.965973 35.818859\n",
      "千葉県柏市酒井根４丁目 139.960007 35.820488\n",
      "千葉県柏市酒井根５丁目 139.961349 35.824585\n",
      "千葉県柏市酒井根５丁目 139.961349 35.824585\n",
      "千葉県柏市逆井 139.982468 35.815441\n",
      "千葉県柏市中新宿３丁目 139.946884 35.83292\n",
      "千葉県柏市西山２丁目 139.95401 35.82056\n",
      "千葉県柏市光ケ丘１丁目 139.957794 35.833195\n",
      "千葉県柏市光ケ丘１丁目 139.957794 35.833195\n",
      "千葉県柏市光ケ丘団地 139.957809 35.829479\n",
      "千葉県柏市東中新宿１丁目 139.960556 35.833984\n",
      "千葉県柏市東中新宿１丁目 139.960556 35.833984\n",
      "千葉県柏市東中新宿１丁目 139.960556 35.833984\n",
      "千葉県柏市柏 139.986511 35.864445\n",
      "千葉県柏市柏 139.986511 35.864445\n",
      "千葉県柏市柏 139.986511 35.864445\n",
      "千葉県柏市柏下 139.983795 35.870007\n",
      "千葉県柏市柏堀之内新田 139.983582 35.875332\n",
      "千葉県柏市北柏２丁目 139.989914 35.872643\n",
      "千葉県柏市北柏２丁目 139.989914 35.872643\n",
      "千葉県柏市北柏２丁目 139.989914 35.872643\n",
      "千葉県柏市北柏３丁目 139.987793 35.872192\n",
      "千葉県柏市北柏３丁目 139.987793 35.872192\n",
      "千葉県柏市北柏４丁目 139.986893 35.870586\n",
      "千葉県柏市北柏４丁目 139.986893 35.870586\n",
      "千葉県柏市北柏５丁目 139.990295 35.868679\n",
      "千葉県柏市宿連寺 139.985229 35.887501\n",
      "千葉県柏市宿連寺 139.985229 35.887501\n",
      "千葉県柏市根戸 139.98645 35.88113\n",
      "千葉県柏市根戸 139.98645 35.88113\n",
      "千葉県柏市根戸 139.98645 35.88113\n",
      "千葉県柏市根戸 139.98645 35.88113\n",
      "千葉県柏市根戸 139.98645 35.88113\n",
      "千葉県柏市根戸 139.98645 35.88113\n",
      "千葉県柏市根戸 139.98645 35.88113\n",
      "千葉県柏市根戸 139.98645 35.88113\n",
      "千葉県柏市根戸 139.98645 35.88113\n",
      "千葉県柏市根戸 139.98645 35.88113\n",
      "千葉県柏市根戸 139.98645 35.88113\n",
      "千葉県柏市根戸 139.98645 35.88113\n",
      "千葉県柏市根戸 139.98645 35.88113\n",
      "千葉県柏市根戸 139.98645 35.88113\n",
      "千葉県柏市根戸 139.98645 35.88113\n",
      "千葉県柏市根戸 139.98645 35.88113\n",
      "千葉県柏市根戸 139.98645 35.88113\n",
      "千葉県柏市根戸 139.98645 35.88113\n",
      "千葉県柏市根戸 139.98645 35.88113\n",
      "千葉県柏市根戸 139.98645 35.88113\n",
      "千葉県柏市加賀１丁目 139.970932 35.832733\n",
      "千葉県柏市逆井 139.982468 35.815441\n",
      "千葉県柏市逆井 139.982468 35.815441\n",
      "千葉県柏市逆井 139.982468 35.815441\n",
      "千葉県柏市逆井 139.982468 35.815441\n",
      "千葉県柏市逆井 139.982468 35.815441\n",
      "千葉県柏市逆井 139.982468 35.815441\n",
      "千葉県柏市逆井 139.982468 35.815441\n",
      "千葉県柏市逆井 139.982468 35.815441\n",
      "千葉県柏市逆井１丁目 139.983444 35.822018\n",
      "千葉県柏市逆井１丁目 139.983444 35.822018\n",
      "千葉県柏市逆井１丁目 139.983444 35.822018\n",
      "千葉県柏市逆井２丁目 139.979614 35.824383\n",
      "千葉県柏市逆井２丁目 139.979614 35.824383\n",
      "千葉県柏市逆井２丁目 139.979614 35.824383\n",
      "千葉県柏市逆井２丁目 139.979614 35.824383\n",
      "千葉県柏市逆井２丁目 139.979614 35.824383\n",
      "千葉県柏市逆井２丁目 139.979614 35.824383\n",
      "千葉県柏市南増尾 139.974075 35.816387\n",
      "千葉県柏市南増尾 139.974075 35.816387\n",
      "千葉県柏市南増尾 139.974075 35.816387\n",
      "千葉県柏市南増尾１丁目 139.971741 35.818909\n",
      "千葉県柏市南増尾２丁目 139.96759 35.817165\n",
      "千葉県柏市南増尾３丁目 139.97052 35.814602\n",
      "千葉県柏市南増尾３丁目 139.97052 35.814602\n",
      "千葉県柏市南増尾３丁目 139.97052 35.814602\n",
      "千葉県柏市南増尾３丁目 139.97052 35.814602\n",
      "千葉県柏市南増尾３丁目 139.97052 35.814602\n",
      "千葉県柏市南増尾４丁目 139.966034 35.813236\n",
      "千葉県柏市南増尾５丁目 139.966537 35.809929\n",
      "千葉県柏市南増尾６丁目 139.963562 35.811157\n",
      "千葉県柏市南増尾８丁目 139.959 35.810768\n",
      "千葉県柏市増尾台１丁目 139.976883 35.827206\n",
      "千葉県柏市増尾台１丁目 139.976883 35.827206\n",
      "千葉県柏市逆井藤ノ台 139.98671 35.822952\n",
      "千葉県柏市逆井藤ノ台 139.98671 35.822952\n",
      "千葉県柏市逆井藤ノ台 139.98671 35.822952\n",
      "千葉県柏市南逆井１丁目 139.970367 35.807571\n",
      "千葉県柏市青葉台２丁目 139.957855 35.813534\n",
      "千葉県柏市青葉台２丁目 139.957855 35.813534\n",
      "千葉県柏市新逆井１丁目 139.972183 35.812092\n",
      "千葉県柏市新逆井２丁目 139.970627 35.809525\n",
      "千葉県柏市新逆井２丁目 139.970627 35.809525\n",
      "千葉県柏市新逆井２丁目 139.970627 35.809525\n",
      "千葉県柏市大井 140.00441 35.850155\n",
      "千葉県柏市逆井２丁目 139.979614 35.824383\n",
      "千葉県柏市新富町１丁目 139.955795 35.85088\n",
      "千葉県柏市豊四季 139.949814 35.859928\n",
      "千葉県柏市豊四季 139.949814 35.859928\n",
      "千葉県柏市豊四季 139.949814 35.859928\n",
      "千葉県柏市豊四季 139.949814 35.859928\n",
      "千葉県柏市豊四季 139.949814 35.859928\n",
      "千葉県柏市豊四季 139.949814 35.859928\n",
      "千葉県柏市豊四季 139.949814 35.859928\n",
      "千葉県柏市豊四季 139.949814 35.859928\n",
      "千葉県柏市南柏１丁目 139.953476 35.845783\n",
      "千葉県柏市南柏１丁目 139.953476 35.845783\n",
      "千葉県柏市南柏１丁目 139.953476 35.845783\n",
      "千葉県柏市南柏１丁目 139.953476 35.845783\n",
      "千葉県柏市南柏１丁目 139.953476 35.845783\n",
      "千葉県柏市南柏１丁目 139.953476 35.845783\n",
      "千葉県柏市南柏１丁目 139.953476 35.845783\n",
      "千葉県柏市南柏２丁目 139.955032 35.847271\n",
      "千葉県柏市南柏２丁目 139.955032 35.847271\n",
      "千葉県柏市南柏２丁目 139.955032 35.847271\n",
      "千葉県柏市南柏２丁目 139.955032 35.847271\n",
      "千葉県柏市豊町２丁目 139.960251 35.851013\n",
      "千葉県柏市豊町２丁目 139.960251 35.851013\n",
      "千葉県柏市豊町２丁目 139.960251 35.851013\n",
      "千葉県柏市南柏中央 139.954956 35.844471\n",
      "千葉県柏市南柏中央 139.954956 35.844471\n",
      "千葉県柏市南柏中央 139.954956 35.844471\n",
      "千葉県柏市南柏中央 139.954956 35.844471\n",
      "千葉県柏市南柏中央 139.954956 35.844471\n",
      "千葉県柏市南柏中央 139.954956 35.844471\n",
      "千葉県柏市南柏中央 139.954956 35.844471\n",
      "千葉県柏市南柏中央 139.954956 35.844471\n",
      "千葉県柏市南柏中央 139.954956 35.844471\n",
      "千葉県柏市南柏中央 139.954956 35.844471\n",
      "千葉県柏市南柏中央 139.954956 35.844471\n",
      "千葉県柏市南柏中央 139.954956 35.844471\n",
      "千葉県柏市南柏中央 139.954956 35.844471\n",
      "千葉県柏市南柏中央 139.954956 35.844471\n",
      "千葉県柏市南柏中央 139.954956 35.844471\n",
      "千葉県柏市加賀３丁目 139.97319 35.830082\n",
      "千葉県柏市加賀３丁目 139.97319 35.830082\n",
      "千葉県柏市加賀３丁目 139.97319 35.830082\n",
      "千葉県柏市加賀３丁目 139.97319 35.830082\n",
      "千葉県柏市逆井２丁目 139.979614 35.824383\n",
      "千葉県柏市増尾１丁目 139.974945 35.832466\n",
      "千葉県柏市増尾２丁目 139.978226 35.831703\n",
      "千葉県柏市増尾４丁目 139.983551 35.835472\n",
      "千葉県柏市増尾８丁目 139.986633 35.829124\n",
      "千葉県柏市増尾台３丁目 139.974731 35.824703\n",
      "千葉県柏市増尾台３丁目 139.974731 35.824703\n",
      "千葉県柏市増尾台４丁目 139.973206 35.821732\n",
      "千葉県柏市増尾台４丁目 139.973206 35.821732\n",
      "千葉県柏市大井 140.00441 35.850155\n",
      "千葉県柏市大井 140.00441 35.850155\n",
      "千葉県柏市大島田 140.012802 35.835773\n",
      "千葉県柏市大島田 140.012802 35.835773\n",
      "千葉県柏市大島田１丁目 140.011703 35.833759\n",
      "千葉県柏市大島田１丁目 140.011703 35.833759\n",
      "千葉県柏市大島田１丁目 140.011703 35.833759\n",
      "千葉県柏市大島田１丁目 140.011703 35.833759\n",
      "千葉県柏市大島田１丁目 140.011703 35.833759\n",
      "千葉県柏市大島田１丁目 140.011703 35.833759\n",
      "千葉県柏市大島田１丁目 140.011703 35.833759\n",
      "千葉県柏市大島田１丁目 140.011703 35.833759\n",
      "千葉県柏市大島田１丁目 140.011703 35.833759\n",
      "千葉県柏市大島田１丁目 140.011703 35.833759\n",
      "千葉県柏市大島田１丁目 140.011703 35.833759\n",
      "千葉県柏市大津ケ丘１丁目 140.003662 35.84325\n",
      "千葉県柏市大津ケ丘２丁目 139.999237 35.841068\n",
      "千葉県柏市大津ケ丘２丁目 139.999237 35.841068\n",
      "千葉県柏市大津ケ丘２丁目 139.999237 35.841068\n",
      "千葉県柏市大津ケ丘３丁目 139.995621 35.840942\n",
      "千葉県柏市大津ケ丘３丁目 139.995621 35.840942\n",
      "千葉県柏市大津ケ丘４丁目 140.002502 35.837143\n",
      "千葉県柏市大津ケ丘４丁目 140.002502 35.837143\n",
      "千葉県柏市大津ケ丘４丁目 140.002502 35.837143\n",
      "千葉県柏市大津ケ丘４丁目 140.002502 35.837143\n",
      "千葉県柏市五條谷 140.016342 35.848038\n",
      "千葉県柏市塚崎 139.996063 35.834927\n",
      "千葉県柏市手賀の杜３丁目 140.026993 35.846394\n",
      "千葉県柏市布施 139.992828 35.891518\n",
      "千葉県柏市つくしが丘４丁目 139.968262 35.835949\n",
      "千葉県柏市つくしが丘５丁目 139.96756 35.83136\n",
      "千葉県柏市常盤台 139.967072 35.84692\n",
      "千葉県柏市豊住３丁目 139.963547 35.838268\n",
      "千葉県柏市豊住３丁目 139.963547 35.838268\n",
      "千葉県柏市豊住３丁目 139.963547 35.838268\n",
      "千葉県柏市豊住４丁目 139.965775 35.842236\n",
      "千葉県柏市豊住５丁目 139.966721 35.840786\n",
      "千葉県柏市豊住５丁目 139.966721 35.840786\n",
      "千葉県柏市名戸ケ谷 139.981064 35.843285\n",
      "千葉県柏市名戸ケ谷１丁目 139.976089 35.845604\n",
      "千葉県柏市新柏１丁目 139.968597 35.839211\n",
      "千葉県柏市新柏３丁目 139.972061 35.841667\n",
      "千葉県柏市明原３丁目 139.963196 35.867088\n",
      "千葉県柏市明原３丁目 139.963196 35.867088\n",
      "千葉県柏市明原３丁目 139.963196 35.867088\n",
      "千葉県柏市明原３丁目 139.963196 35.867088\n",
      "千葉県柏市明原３丁目 139.963196 35.867088\n",
      "千葉県柏市明原４丁目 139.962662 35.864574\n",
      "千葉県柏市明原４丁目 139.962662 35.864574\n",
      "千葉県柏市あけぼの１丁目 139.971985 35.865929\n",
      "千葉県柏市あけぼの２丁目 139.974197 35.868034\n",
      "千葉県柏市あけぼの２丁目 139.974197 35.868034\n",
      "千葉県柏市あけぼの３丁目 139.971756 35.869129\n",
      "千葉県柏市あけぼの３丁目 139.971756 35.869129\n",
      "千葉県柏市あけぼの４丁目 139.968948 35.866798\n",
      "千葉県柏市あけぼの４丁目 139.968948 35.866798\n",
      "千葉県柏市あけぼの４丁目 139.968948 35.866798\n",
      "千葉県柏市あけぼの５丁目 139.967926 35.869289\n",
      "千葉県柏市旭町１丁目 139.968491 35.861916\n",
      "千葉県柏市旭町１丁目 139.968491 35.861916\n",
      "千葉県柏市旭町１丁目 139.968491 35.861916\n",
      "千葉県柏市旭町１丁目 139.968491 35.861916\n",
      "千葉県柏市旭町１丁目 139.968491 35.861916\n",
      "千葉県柏市旭町１丁目 139.968491 35.861916\n",
      "千葉県柏市旭町１丁目 139.968491 35.861916\n",
      "千葉県柏市旭町１丁目 139.968491 35.861916\n",
      "千葉県柏市旭町１丁目 139.968491 35.861916\n",
      "千葉県柏市旭町４丁目 139.962036 35.858974\n",
      "千葉県柏市旭町４丁目 139.962036 35.858974\n",
      "千葉県柏市旭町４丁目 139.962036 35.858974\n",
      "千葉県柏市旭町４丁目 139.962036 35.858974\n",
      "千葉県柏市旭町４丁目 139.962036 35.858974\n",
      "千葉県柏市旭町５丁目 139.962128 35.85675\n",
      "千葉県柏市旭町６丁目 139.958267 35.857044\n",
      "千葉県柏市旭町６丁目 139.958267 35.857044\n",
      "千葉県柏市篠籠田 139.943359 35.868122\n",
      "千葉県柏市末広町 139.970398 35.862904\n",
      "千葉県柏市末広町 139.970398 35.862904\n",
      "千葉県柏市末広町 139.970398 35.862904\n",
      "千葉県柏市末広町 139.970398 35.862904\n",
      "千葉県柏市末広町 139.970398 35.862904\n",
      "千葉県柏市末広町 139.970398 35.862904\n",
      "千葉県柏市末広町 139.970398 35.862904\n",
      "千葉県柏市末広町 139.970398 35.862904\n",
      "千葉県柏市末広町 139.970398 35.862904\n",
      "千葉県柏市末広町 139.970398 35.862904\n",
      "千葉県柏市富里３丁目 139.962891 35.854397\n",
      "千葉県柏市富里３丁目 139.962891 35.854397\n",
      "千葉県柏市富里３丁目 139.962891 35.854397\n",
      "千葉県柏市富里３丁目 139.962891 35.854397\n",
      "千葉県柏市富里３丁目 139.962891 35.854397\n",
      "千葉県柏市富里３丁目 139.962891 35.854397\n",
      "千葉県柏市豊四季台１丁目 139.957932 35.866894\n",
      "千葉県柏市豊四季台１丁目 139.957932 35.866894\n",
      "千葉県柏市豊四季台１丁目 139.957932 35.866894\n",
      "千葉県柏市豊四季台１丁目 139.957932 35.866894\n",
      "千葉県柏市豊四季台３丁目 139.959137 35.862438\n",
      "千葉県柏市豊四季台４丁目 139.956039 35.863903\n",
      "千葉県柏市豊四季台４丁目 139.956039 35.863903\n",
      "千葉県柏市西町 139.957932 35.869198\n",
      "千葉県柏市十余二 139.959305 35.882629\n",
      "千葉県柏市十余二 139.959305 35.882629\n",
      "千葉県柏市根戸 139.98645 35.88113\n",
      "千葉県柏市松ケ崎 139.975952 35.879082\n",
      "千葉県柏市松ケ崎 139.975952 35.879082\n",
      "千葉県柏市松ケ崎 139.975952 35.879082\n",
      "千葉県柏市松ケ崎 139.975952 35.879082\n",
      "千葉県柏市松ケ崎 139.975952 35.879082\n",
      "千葉県柏市松ケ崎 139.975952 35.879082\n",
      "千葉県柏市松ケ崎 139.975952 35.879082\n",
      "千葉県柏市松ケ崎 139.975952 35.879082\n",
      "千葉県柏市松葉町１丁目 139.980759 35.886456\n",
      "千葉県柏市松葉町１丁目 139.980759 35.886456\n",
      "千葉県柏市松葉町３丁目 139.970963 35.886009\n",
      "千葉県柏市松葉町３丁目 139.970963 35.886009\n",
      "千葉県柏市松葉町４丁目 139.971802 35.889114\n",
      "千葉県柏市松葉町４丁目 139.971802 35.889114\n",
      "千葉県柏市松葉町４丁目 139.971802 35.889114\n",
      "千葉県柏市松葉町５丁目 139.966446 35.889473\n",
      "千葉県柏市松葉町５丁目 139.966446 35.889473\n",
      "千葉県柏市松葉町６丁目 139.968033 35.891541\n",
      "千葉県柏市大山台１丁目 139.967804 35.880825\n",
      "千葉県柏市大山台１丁目 139.967804 35.880825\n",
      "千葉県柏市大山台１丁目 139.967804 35.880825\n",
      "千葉県柏市大山台１丁目 139.967804 35.880825\n",
      "千葉県柏市大山台２丁目 139.969193 35.88258\n",
      "千葉県柏市大山台２丁目 139.969193 35.88258\n",
      "千葉県柏市大山台２丁目 139.969193 35.88258\n",
      "千葉県柏市大山台２丁目 139.969193 35.88258\n",
      "千葉県柏市大山台２丁目 139.969193 35.88258\n",
      "千葉県柏市大山台２丁目 139.969193 35.88258\n",
      "千葉県柏市大山台２丁目 139.969193 35.88258\n",
      "千葉県柏市正連寺 139.950058 35.902401\n",
      "千葉県柏市正連寺 139.950058 35.902401\n",
      "千葉県柏市若柴 139.953995 35.891659\n",
      "千葉県柏市若柴 139.953995 35.891659\n",
      "千葉県柏市若柴 139.953995 35.891659\n",
      "千葉県柏市若柴 139.953995 35.891659\n",
      "千葉県柏市若柴 139.953995 35.891659\n",
      "千葉県柏市若柴 139.953995 35.891659\n",
      "千葉県柏市若柴 139.953995 35.891659\n",
      "千葉県柏市若柴 139.953995 35.891659\n",
      "千葉県柏市若柴 139.953995 35.891659\n",
      "千葉県柏市若柴 139.953995 35.891659\n",
      "千葉県柏市若柴 139.953995 35.891659\n",
      "千葉県柏市若柴 139.953995 35.891659\n",
      "千葉県柏市若柴 139.953995 35.891659\n",
      "千葉県柏市若柴 139.953995 35.891659\n",
      "千葉県柏市若柴 139.953995 35.891659\n",
      "千葉県柏市若柴 139.953995 35.891659\n",
      "千葉県柏市若柴 139.953995 35.891659\n",
      "千葉県柏市若柴 139.953995 35.891659\n",
      "千葉県柏市若柴 139.953995 35.891659\n",
      "千葉県柏市若柴 139.953995 35.891659\n",
      "千葉県柏市若柴 139.953995 35.891659\n",
      "千葉県柏市若柴 139.953995 35.891659\n",
      "千葉県柏市柏の葉４丁目 139.937088 35.896427\n",
      "千葉県柏市柏の葉６丁目 139.944931 35.896942\n",
      "千葉県柏市東１丁目 139.97847 35.857388\n",
      "千葉県柏市東上町 139.977722 35.859604\n",
      "千葉県柏市東上町 139.977722 35.859604\n",
      "千葉県柏市泉町 139.967957 35.856449\n",
      "千葉県柏市泉町 139.967957 35.856449\n",
      "千葉県柏市泉町 139.967957 35.856449\n",
      "千葉県柏市泉町 139.967957 35.856449\n",
      "千葉県柏市柏 139.986511 35.864445\n",
      "千葉県柏市柏 139.986511 35.864445\n",
      "千葉県柏市柏 139.986511 35.864445\n",
      "千葉県柏市柏 139.986511 35.864445\n",
      "千葉県柏市柏 139.986511 35.864445\n",
      "千葉県柏市柏 139.986511 35.864445\n",
      "千葉県柏市柏１丁目 139.97142 35.861809\n",
      "千葉県柏市柏１丁目 139.97142 35.861809\n",
      "千葉県柏市柏１丁目 139.97142 35.861809\n",
      "千葉県柏市柏１丁目 139.97142 35.861809\n",
      "千葉県柏市柏１丁目 139.97142 35.861809\n",
      "千葉県柏市柏１丁目 139.97142 35.861809\n",
      "千葉県柏市柏１丁目 139.97142 35.861809\n",
      "千葉県柏市柏１丁目 139.97142 35.861809\n",
      "千葉県柏市柏１丁目 139.97142 35.861809\n",
      "千葉県柏市柏１丁目 139.97142 35.861809\n",
      "千葉県柏市柏１丁目 139.97142 35.861809\n",
      "千葉県柏市柏１丁目 139.97142 35.861809\n",
      "千葉県柏市柏２丁目 139.973999 35.861694\n",
      "千葉県柏市柏２丁目 139.973999 35.861694\n",
      "千葉県柏市柏２丁目 139.973999 35.861694\n",
      "千葉県柏市柏２丁目 139.973999 35.861694\n",
      "千葉県柏市柏２丁目 139.973999 35.861694\n",
      "千葉県柏市柏２丁目 139.973999 35.861694\n",
      "千葉県柏市柏３丁目 139.975159 35.860302\n",
      "千葉県柏市柏３丁目 139.975159 35.860302\n",
      "千葉県柏市柏３丁目 139.975159 35.860302\n",
      "千葉県柏市柏３丁目 139.975159 35.860302\n",
      "千葉県柏市柏３丁目 139.975159 35.860302\n",
      "千葉県柏市柏３丁目 139.975159 35.860302\n",
      "千葉県柏市柏３丁目 139.975159 35.860302\n",
      "千葉県柏市柏３丁目 139.975159 35.860302\n",
      "千葉県柏市柏４丁目 139.974228 35.863529\n",
      "千葉県柏市柏４丁目 139.974228 35.863529\n",
      "千葉県柏市柏４丁目 139.974228 35.863529\n",
      "千葉県柏市柏４丁目 139.974228 35.863529\n",
      "千葉県柏市柏４丁目 139.974228 35.863529\n",
      "千葉県柏市柏５丁目 139.97612 35.866447\n",
      "千葉県柏市柏５丁目 139.97612 35.866447\n",
      "千葉県柏市柏５丁目 139.97612 35.866447\n",
      "千葉県柏市柏５丁目 139.97612 35.866447\n",
      "千葉県柏市柏５丁目 139.97612 35.866447\n",
      "千葉県柏市柏５丁目 139.97612 35.866447\n",
      "千葉県柏市柏５丁目 139.97612 35.866447\n",
      "千葉県柏市柏５丁目 139.97612 35.866447\n",
      "千葉県柏市柏５丁目 139.97612 35.866447\n",
      "千葉県柏市柏５丁目 139.97612 35.866447\n",
      "千葉県柏市柏６丁目 139.977219 35.864346\n",
      "千葉県柏市柏６丁目 139.977219 35.864346\n",
      "千葉県柏市柏６丁目 139.977219 35.864346\n",
      "千葉県柏市柏６丁目 139.977219 35.864346\n",
      "千葉県柏市柏７丁目 139.97995 35.862926\n",
      "千葉県柏市桜台 139.981522 35.860554\n",
      "千葉県柏市桜台 139.981522 35.860554\n",
      "千葉県柏市末広町 139.970398 35.862904\n",
      "千葉県柏市中央１丁目 139.972931 35.857903\n",
      "千葉県柏市中央２丁目 139.972137 35.855583\n",
      "千葉県柏市中央２丁目 139.972137 35.855583\n",
      "千葉県柏市中央２丁目 139.972137 35.855583\n",
      "千葉県柏市中央２丁目 139.972137 35.855583\n",
      "千葉県柏市中央町 139.970566 35.859303\n",
      "千葉県柏市中央町 139.970566 35.859303\n",
      "千葉県柏市中央町 139.970566 35.859303\n",
      "千葉県柏市中央町 139.970566 35.859303\n",
      "千葉県柏市中央町 139.970566 35.859303\n",
      "千葉県柏市中央町 139.970566 35.859303\n",
      "千葉県柏市中央町 139.970566 35.859303\n",
      "千葉県柏市中央町 139.970566 35.859303\n",
      "千葉県柏市中央町 139.970566 35.859303\n",
      "千葉県柏市富里２丁目 139.96521 35.853264\n",
      "千葉県柏市富里２丁目 139.96521 35.853264\n",
      "千葉県柏市北柏台 139.992081 35.876255\n",
      "千葉県柏市岩井 140.034134 35.84705\n",
      "千葉県柏市東台本町 139.983749 35.858639\n",
      "千葉県柏市永楽台１丁目 139.968948 35.844578\n",
      "千葉県柏市柏 139.986511 35.864445\n",
      "千葉県柏市柏 139.986511 35.864445\n",
      "千葉県柏市柏 139.986511 35.864445\n",
      "千葉県柏市柏 139.986511 35.864445\n",
      "千葉県柏市柏３丁目 139.975159 35.860302\n",
      "千葉県柏市関場町 139.983734 35.850071\n",
      "千葉県柏市関場町 139.983734 35.850071\n",
      "千葉県柏市千代田１丁目 139.976288 35.856525\n",
      "千葉県柏市千代田２丁目 139.975143 35.853741\n",
      "千葉県柏市千代田２丁目 139.975143 35.853741\n",
      "千葉県柏市千代田２丁目 139.975143 35.853741\n",
      "千葉県柏市千代田３丁目 139.977646 35.853451\n",
      "千葉県柏市つくしが丘５丁目 139.96756 35.83136\n",
      "千葉県柏市戸張 139.993591 35.856003\n",
      "千葉県柏市戸張 139.993591 35.856003\n",
      "千葉県柏市戸張 139.993591 35.856003\n",
      "千葉県柏市戸張 139.993591 35.856003\n",
      "千葉県柏市若柴 139.953995 35.891659\n",
      "千葉県柏市若葉町 139.971054 35.85392\n",
      "千葉県柏市若葉町 139.971054 35.85392\n",
      "千葉県柏市若葉町 139.971054 35.85392\n",
      "千葉県柏市若葉町 139.971054 35.85392\n",
      "千葉県柏市東柏１丁目 139.987534 35.851498\n",
      "千葉県柏市東柏２丁目 139.987366 35.849293\n",
      "千葉県柏市船戸 139.952377 35.915867\n",
      "千葉県柏市船戸山高野 139.939484 35.923737\n",
      "千葉県柏市船戸山高野 139.939484 35.923737\n",
      "千葉県柏市大室 139.961746 35.911968\n",
      "千葉県柏市大室 139.961746 35.911968\n",
      "千葉県柏市大室 139.961746 35.911968\n",
      "千葉県柏市大室 139.961746 35.911968\n",
      "千葉県柏市大室 139.961746 35.911968\n",
      "千葉県柏市大室 139.961746 35.911968\n",
      "千葉県柏市大室 139.961746 35.911968\n",
      "千葉県柏市大室 139.961746 35.911968\n",
      "千葉県柏市小青田 139.956726 35.916023\n",
      "千葉県柏市小青田 139.956726 35.916023\n",
      "千葉県柏市小青田 139.956726 35.916023\n",
      "千葉県柏市小青田５丁目 139.959076 35.915054\n",
      "千葉県柏市小青田５丁目 139.959076 35.915054\n",
      "千葉県柏市小青田５丁目 139.959076 35.915054\n",
      "千葉県柏市小青田５丁目 139.959076 35.915054\n",
      "千葉県柏市花野井 139.974243 35.896736\n",
      "千葉県柏市花野井 139.974243 35.896736\n",
      "千葉県柏市花野井 139.974243 35.896736\n",
      "千葉県柏市花野井 139.974243 35.896736\n",
      "千葉県柏市篠籠田 139.943359 35.868122\n",
      "千葉県柏市豊四季 139.949814 35.859928\n",
      "千葉県柏市豊四季 139.949814 35.859928\n",
      "千葉県柏市豊四季 139.949814 35.859928\n",
      "千葉県柏市豊四季 139.949814 35.859928\n",
      "千葉県柏市豊四季 139.949814 35.859928\n",
      "千葉県柏市豊四季 139.949814 35.859928\n",
      "千葉県柏市豊四季 139.949814 35.859928\n",
      "千葉県柏市豊四季 139.949814 35.859928\n",
      "千葉県柏市豊平町 139.957123 35.854702\n",
      "千葉県柏市高南台１丁目 139.996078 35.804619\n",
      "千葉県柏市高南台２丁目 139.991287 35.802979\n",
      "千葉県柏市高南台３丁目 139.993011 35.805519\n",
      "千葉県柏市しいの木台３丁目 139.980179 35.801025\n",
      "千葉県柏市しいの木台４丁目 139.977814 35.80201\n",
      "千葉県柏市しいの木台４丁目 139.977814 35.80201\n",
      "千葉県柏市高柳 139.99794 35.8078\n",
      "千葉県柏市高柳 139.99794 35.8078\n",
      "千葉県柏市高柳 139.99794 35.8078\n",
      "千葉県柏市高柳 139.99794 35.8078\n",
      "千葉県柏市高柳 139.99794 35.8078\n",
      "千葉県柏市高柳 139.99794 35.8078\n",
      "千葉県柏市高柳 139.99794 35.8078\n",
      "千葉県柏市高柳 139.99794 35.8078\n",
      "千葉県柏市高柳 139.99794 35.8078\n",
      "千葉県柏市高柳 139.99794 35.8078\n",
      "千葉県柏市高柳 139.99794 35.8078\n",
      "千葉県柏市高柳１丁目 139.99794 35.8078\n",
      "千葉県柏市高柳１丁目 139.99794 35.8078\n",
      "千葉県柏市高柳１丁目 139.99794 35.8078\n",
      "千葉県柏市高柳１丁目 139.99794 35.8078\n",
      "千葉県柏市高柳１丁目 139.99794 35.8078\n",
      "千葉県柏市高柳２丁目 139.996445 35.809856\n",
      "千葉県柏市高田 139.949219 35.877697\n"
     ]
    }
   ],
   "source": [
    "# kashiwaデータフレームをループ\n",
    "for i,row in kashiwa.iterrows():\n",
    "\n",
    "    # ジオコーティング成功\n",
    "    if geocode(row['住所']) != False:\n",
    "        # 座標を変数に\n",
    "        lon = geocode(row['住所'])[0]\n",
    "        lat = geocode(row['住所'])[1]\n",
    "\n",
    "        # データフレームに値をインプット        \n",
    "        kashiwa.loc[i,'lon'] = lon\n",
    "        kashiwa.loc[i,'lat'] = lat\n",
    "\n",
    "        # 結果をprint\n",
    "        print(row['住所'],lon,lat)\n",
    "    \n",
    "    # ジオコーティング失敗\n",
    "    else:\n",
    "        print(row['住所'],'ジオコーティング失敗')\n",
    "        continue"
   ]
  },
  {
   "cell_type": "code",
   "execution_count": 36,
   "metadata": {
    "slideshow": {
     "slide_type": "slide"
    }
   },
   "outputs": [
    {
     "data": {
      "text/html": [
       "<div>\n",
       "<style scoped>\n",
       "    .dataframe tbody tr th:only-of-type {\n",
       "        vertical-align: middle;\n",
       "    }\n",
       "\n",
       "    .dataframe tbody tr th {\n",
       "        vertical-align: top;\n",
       "    }\n",
       "\n",
       "    .dataframe thead th {\n",
       "        text-align: right;\n",
       "    }\n",
       "</style>\n",
       "<table border=\"1\" class=\"dataframe\">\n",
       "  <thead>\n",
       "    <tr style=\"text-align: right;\">\n",
       "      <th></th>\n",
       "      <th>罪名</th>\n",
       "      <th>手口</th>\n",
       "      <th>管轄警察署（発生地）</th>\n",
       "      <th>管轄交番・駐在所（発生地）</th>\n",
       "      <th>市区町村コード（発生地）</th>\n",
       "      <th>都道府県（発生地）</th>\n",
       "      <th>市区町村（発生地）</th>\n",
       "      <th>町丁目（発生地）</th>\n",
       "      <th>発生年月日（始期）</th>\n",
       "      <th>発生時（始期）</th>\n",
       "      <th>発生場所</th>\n",
       "      <th>発生場所の詳細</th>\n",
       "      <th>被害者の年齢</th>\n",
       "      <th>被害者の職業</th>\n",
       "      <th>施錠関係</th>\n",
       "      <th>住所</th>\n",
       "      <th>lat</th>\n",
       "      <th>lon</th>\n",
       "    </tr>\n",
       "  </thead>\n",
       "  <tbody>\n",
       "    <tr>\n",
       "      <th>3127</th>\n",
       "      <td>窃盗</td>\n",
       "      <td>自転車盗</td>\n",
       "      <td>柏</td>\n",
       "      <td>柏駅前交番</td>\n",
       "      <td>122173</td>\n",
       "      <td>千葉県</td>\n",
       "      <td>柏市</td>\n",
       "      <td>柏４丁目</td>\n",
       "      <td>2022-07-19</td>\n",
       "      <td>09</td>\n",
       "      <td>その他</td>\n",
       "      <td>駐車（輪）場</td>\n",
       "      <td>50歳代</td>\n",
       "      <td>その他</td>\n",
       "      <td>施錠した</td>\n",
       "      <td>千葉県柏市柏４丁目</td>\n",
       "      <td>35.863529</td>\n",
       "      <td>139.974228</td>\n",
       "    </tr>\n",
       "    <tr>\n",
       "      <th>2948</th>\n",
       "      <td>窃盗</td>\n",
       "      <td>自転車盗</td>\n",
       "      <td>柏</td>\n",
       "      <td>大津ヶ丘交番</td>\n",
       "      <td>122173</td>\n",
       "      <td>千葉県</td>\n",
       "      <td>柏市</td>\n",
       "      <td>大津ケ丘４丁目</td>\n",
       "      <td>2022-03-06</td>\n",
       "      <td>15</td>\n",
       "      <td>４階建て以上共同住宅</td>\n",
       "      <td>駐車（輪）場</td>\n",
       "      <td>50歳代</td>\n",
       "      <td>その他</td>\n",
       "      <td>施錠せず</td>\n",
       "      <td>千葉県柏市大津ケ丘４丁目</td>\n",
       "      <td>35.837143</td>\n",
       "      <td>140.002502</td>\n",
       "    </tr>\n",
       "    <tr>\n",
       "      <th>2976</th>\n",
       "      <td>窃盗</td>\n",
       "      <td>自転車盗</td>\n",
       "      <td>柏</td>\n",
       "      <td>旭町交番</td>\n",
       "      <td>122173</td>\n",
       "      <td>千葉県</td>\n",
       "      <td>柏市</td>\n",
       "      <td>あけぼの１丁目</td>\n",
       "      <td>2022-08-04</td>\n",
       "      <td>10</td>\n",
       "      <td>駐車（輪）場</td>\n",
       "      <td>駐車（輪）場</td>\n",
       "      <td>65-69歳</td>\n",
       "      <td>その他</td>\n",
       "      <td>施錠した</td>\n",
       "      <td>千葉県柏市あけぼの１丁目</td>\n",
       "      <td>35.865929</td>\n",
       "      <td>139.971985</td>\n",
       "    </tr>\n",
       "    <tr>\n",
       "      <th>2970</th>\n",
       "      <td>窃盗</td>\n",
       "      <td>自転車盗</td>\n",
       "      <td>柏</td>\n",
       "      <td>旭町交番</td>\n",
       "      <td>122173</td>\n",
       "      <td>千葉県</td>\n",
       "      <td>柏市</td>\n",
       "      <td>明原３丁目</td>\n",
       "      <td>2022-05-27</td>\n",
       "      <td>18</td>\n",
       "      <td>その他</td>\n",
       "      <td>駐車（輪）場</td>\n",
       "      <td>10歳代</td>\n",
       "      <td>中学生</td>\n",
       "      <td>施錠せず</td>\n",
       "      <td>千葉県柏市明原３丁目</td>\n",
       "      <td>35.867088</td>\n",
       "      <td>139.963196</td>\n",
       "    </tr>\n",
       "    <tr>\n",
       "      <th>3009</th>\n",
       "      <td>窃盗</td>\n",
       "      <td>自転車盗</td>\n",
       "      <td>柏</td>\n",
       "      <td>旭町交番</td>\n",
       "      <td>122173</td>\n",
       "      <td>千葉県</td>\n",
       "      <td>柏市</td>\n",
       "      <td>末広町</td>\n",
       "      <td>2022-09-30</td>\n",
       "      <td>15</td>\n",
       "      <td>その他</td>\n",
       "      <td>駐車（輪）場</td>\n",
       "      <td>10歳未満</td>\n",
       "      <td>小学生</td>\n",
       "      <td>施錠せず</td>\n",
       "      <td>千葉県柏市末広町</td>\n",
       "      <td>35.862904</td>\n",
       "      <td>139.970398</td>\n",
       "    </tr>\n",
       "  </tbody>\n",
       "</table>\n",
       "</div>"
      ],
      "text/plain": [
       "      罪名    手口 管轄警察署（発生地） 管轄交番・駐在所（発生地）  市区町村コード（発生地） 都道府県（発生地） 市区町村（発生地）   \n",
       "3127  窃盗  自転車盗          柏         柏駅前交番        122173       千葉県        柏市  \\\n",
       "2948  窃盗  自転車盗          柏        大津ヶ丘交番        122173       千葉県        柏市   \n",
       "2976  窃盗  自転車盗          柏          旭町交番        122173       千葉県        柏市   \n",
       "2970  窃盗  自転車盗          柏          旭町交番        122173       千葉県        柏市   \n",
       "3009  窃盗  自転車盗          柏          旭町交番        122173       千葉県        柏市   \n",
       "\n",
       "     町丁目（発生地）   発生年月日（始期） 発生時（始期）        発生場所 発生場所の詳細  被害者の年齢 被害者の職業  施錠関係   \n",
       "3127     柏４丁目  2022-07-19      09         その他  駐車（輪）場    50歳代    その他  施錠した  \\\n",
       "2948  大津ケ丘４丁目  2022-03-06      15  ４階建て以上共同住宅  駐車（輪）場    50歳代    その他  施錠せず   \n",
       "2976  あけぼの１丁目  2022-08-04      10      駐車（輪）場  駐車（輪）場  65-69歳    その他  施錠した   \n",
       "2970    明原３丁目  2022-05-27      18         その他  駐車（輪）場    10歳代    中学生  施錠せず   \n",
       "3009      末広町  2022-09-30      15         その他  駐車（輪）場   10歳未満    小学生  施錠せず   \n",
       "\n",
       "                住所        lat         lon  \n",
       "3127     千葉県柏市柏４丁目  35.863529  139.974228  \n",
       "2948  千葉県柏市大津ケ丘４丁目  35.837143  140.002502  \n",
       "2976  千葉県柏市あけぼの１丁目  35.865929  139.971985  \n",
       "2970    千葉県柏市明原３丁目  35.867088  139.963196  \n",
       "3009      千葉県柏市末広町  35.862904  139.970398  "
      ]
     },
     "execution_count": 36,
     "metadata": {},
     "output_type": "execute_result"
    }
   ],
   "source": [
    "# check your output\n",
    "kashiwa.sample(5)"
   ]
  },
  {
   "attachments": {},
   "cell_type": "markdown",
   "metadata": {
    "slideshow": {
     "slide_type": "slide"
    }
   },
   "source": [
    "## Let's map it!\n",
    "\n",
    "待ってました、いよいよマップタイム！"
   ]
  },
  {
   "cell_type": "code",
   "execution_count": 37,
   "metadata": {
    "slideshow": {
     "slide_type": "fragment"
    }
   },
   "outputs": [],
   "source": [
    "# 全データの中央座標\n",
    "center_lat = kashiwa.lat.mean()\n",
    "center_lon = kashiwa.lon.mean()"
   ]
  },
  {
   "cell_type": "code",
   "execution_count": 39,
   "metadata": {
    "slideshow": {
     "slide_type": "slide"
    }
   },
   "outputs": [
    {
     "data": {
      "text/html": [
       "<div style=\"width:100%;\"><div style=\"position:relative;width:100%;height:0;padding-bottom:60%;\"><span style=\"color:#565656\">Make this Notebook Trusted to load map: File -> Trust Notebook</span><iframe srcdoc=\"&lt;!DOCTYPE html&gt;\n",
       "&lt;html&gt;\n",
       "&lt;head&gt;\n",
       "    \n",
       "    &lt;meta http-equiv=&quot;content-type&quot; content=&quot;text/html; charset=UTF-8&quot; /&gt;\n",
       "    \n",
       "        &lt;script&gt;\n",
       "            L_NO_TOUCH = false;\n",
       "            L_DISABLE_3D = false;\n",
       "        &lt;/script&gt;\n",
       "    \n",
       "    &lt;style&gt;html, body {width: 100%;height: 100%;margin: 0;padding: 0;}&lt;/style&gt;\n",
       "    &lt;style&gt;#map {position:absolute;top:0;bottom:0;right:0;left:0;}&lt;/style&gt;\n",
       "    &lt;script src=&quot;https://cdn.jsdelivr.net/npm/leaflet@1.9.3/dist/leaflet.js&quot;&gt;&lt;/script&gt;\n",
       "    &lt;script src=&quot;https://code.jquery.com/jquery-1.12.4.min.js&quot;&gt;&lt;/script&gt;\n",
       "    &lt;script src=&quot;https://cdn.jsdelivr.net/npm/bootstrap@5.2.2/dist/js/bootstrap.bundle.min.js&quot;&gt;&lt;/script&gt;\n",
       "    &lt;script src=&quot;https://cdnjs.cloudflare.com/ajax/libs/Leaflet.awesome-markers/2.0.2/leaflet.awesome-markers.js&quot;&gt;&lt;/script&gt;\n",
       "    &lt;link rel=&quot;stylesheet&quot; href=&quot;https://cdn.jsdelivr.net/npm/leaflet@1.9.3/dist/leaflet.css&quot;/&gt;\n",
       "    &lt;link rel=&quot;stylesheet&quot; href=&quot;https://cdn.jsdelivr.net/npm/bootstrap@5.2.2/dist/css/bootstrap.min.css&quot;/&gt;\n",
       "    &lt;link rel=&quot;stylesheet&quot; href=&quot;https://netdna.bootstrapcdn.com/bootstrap/3.0.0/css/bootstrap.min.css&quot;/&gt;\n",
       "    &lt;link rel=&quot;stylesheet&quot; href=&quot;https://cdn.jsdelivr.net/npm/@fortawesome/fontawesome-free@6.2.0/css/all.min.css&quot;/&gt;\n",
       "    &lt;link rel=&quot;stylesheet&quot; href=&quot;https://cdnjs.cloudflare.com/ajax/libs/Leaflet.awesome-markers/2.0.2/leaflet.awesome-markers.css&quot;/&gt;\n",
       "    &lt;link rel=&quot;stylesheet&quot; href=&quot;https://cdn.jsdelivr.net/gh/python-visualization/folium/folium/templates/leaflet.awesome.rotate.min.css&quot;/&gt;\n",
       "    \n",
       "            &lt;meta name=&quot;viewport&quot; content=&quot;width=device-width,\n",
       "                initial-scale=1.0, maximum-scale=1.0, user-scalable=no&quot; /&gt;\n",
       "            &lt;style&gt;\n",
       "                #map_347ce7414b5f508a2bf4416d7e18b505 {\n",
       "                    position: relative;\n",
       "                    width: 100.0%;\n",
       "                    height: 100.0%;\n",
       "                    left: 0.0%;\n",
       "                    top: 0.0%;\n",
       "                }\n",
       "                .leaflet-container { font-size: 1rem; }\n",
       "            &lt;/style&gt;\n",
       "        \n",
       "    &lt;script src=&quot;https://cdnjs.cloudflare.com/ajax/libs/leaflet.markercluster/1.1.0/leaflet.markercluster.js&quot;&gt;&lt;/script&gt;\n",
       "    &lt;link rel=&quot;stylesheet&quot; href=&quot;https://cdnjs.cloudflare.com/ajax/libs/leaflet.markercluster/1.1.0/MarkerCluster.css&quot;/&gt;\n",
       "    &lt;link rel=&quot;stylesheet&quot; href=&quot;https://cdnjs.cloudflare.com/ajax/libs/leaflet.markercluster/1.1.0/MarkerCluster.Default.css&quot;/&gt;\n",
       "&lt;/head&gt;\n",
       "&lt;body&gt;\n",
       "    \n",
       "    \n",
       "            &lt;div class=&quot;folium-map&quot; id=&quot;map_347ce7414b5f508a2bf4416d7e18b505&quot; &gt;&lt;/div&gt;\n",
       "        \n",
       "&lt;/body&gt;\n",
       "&lt;script&gt;\n",
       "    \n",
       "    \n",
       "            var map_347ce7414b5f508a2bf4416d7e18b505 = L.map(\n",
       "                &quot;map_347ce7414b5f508a2bf4416d7e18b505&quot;,\n",
       "                {\n",
       "                    center: [35.8561031762208, 139.9728003906582],\n",
       "                    crs: L.CRS.EPSG3857,\n",
       "                    zoom: 12,\n",
       "                    zoomControl: true,\n",
       "                    preferCanvas: false,\n",
       "                }\n",
       "            );\n",
       "\n",
       "            \n",
       "\n",
       "        \n",
       "    \n",
       "            var tile_layer_e759e12b08ce2a5796c3726467790a1d = L.tileLayer(\n",
       "                &quot;https://{s}.tile.openstreetmap.org/{z}/{x}/{y}.png&quot;,\n",
       "                {&quot;attribution&quot;: &quot;Data by \\u0026copy; \\u003ca target=\\&quot;_blank\\&quot; href=\\&quot;http://openstreetmap.org\\&quot;\\u003eOpenStreetMap\\u003c/a\\u003e, under \\u003ca target=\\&quot;_blank\\&quot; href=\\&quot;http://www.openstreetmap.org/copyright\\&quot;\\u003eODbL\\u003c/a\\u003e.&quot;, &quot;detectRetina&quot;: false, &quot;maxNativeZoom&quot;: 18, &quot;maxZoom&quot;: 18, &quot;minZoom&quot;: 0, &quot;noWrap&quot;: false, &quot;opacity&quot;: 1, &quot;subdomains&quot;: &quot;abc&quot;, &quot;tms&quot;: false}\n",
       "            ).addTo(map_347ce7414b5f508a2bf4416d7e18b505);\n",
       "        \n",
       "    \n",
       "            var marker_cluster_2d2d92b93aa789c706b1f625baffdaad = L.markerClusterGroup(\n",
       "                {}\n",
       "            );\n",
       "            map_347ce7414b5f508a2bf4416d7e18b505.addLayer(marker_cluster_2d2d92b93aa789c706b1f625baffdaad);\n",
       "        \n",
       "    \n",
       "            var marker_49564c386d0d4d26a67d1c4d43ef5ea1 = L.marker(\n",
       "                [35.841019, 139.956406],\n",
       "                {}\n",
       "            ).addTo(marker_cluster_2d2d92b93aa789c706b1f625baffdaad);\n",
       "        \n",
       "    \n",
       "            marker_49564c386d0d4d26a67d1c4d43ef5ea1.bindTooltip(\n",
       "                `&lt;div&gt;\n",
       "                     30歳代\n",
       "                 &lt;/div&gt;`,\n",
       "                {&quot;sticky&quot;: true}\n",
       "            );\n",
       "        \n",
       "    \n",
       "            var marker_53b19f89d357acbb21eec9d879bfb9e7 = L.marker(\n",
       "                [35.841019, 139.956406],\n",
       "                {}\n",
       "            ).addTo(marker_cluster_2d2d92b93aa789c706b1f625baffdaad);\n",
       "        \n",
       "    \n",
       "            marker_53b19f89d357acbb21eec9d879bfb9e7.bindTooltip(\n",
       "                `&lt;div&gt;\n",
       "                     60-64歳\n",
       "                 &lt;/div&gt;`,\n",
       "                {&quot;sticky&quot;: true}\n",
       "            );\n",
       "        \n",
       "    \n",
       "            var marker_35e375be4f4f2d7d0a62037a076eee2f = L.marker(\n",
       "                [35.841019, 139.956406],\n",
       "                {}\n",
       "            ).addTo(marker_cluster_2d2d92b93aa789c706b1f625baffdaad);\n",
       "        \n",
       "    \n",
       "            marker_35e375be4f4f2d7d0a62037a076eee2f.bindTooltip(\n",
       "                `&lt;div&gt;\n",
       "                     20歳代\n",
       "                 &lt;/div&gt;`,\n",
       "                {&quot;sticky&quot;: true}\n",
       "            );\n",
       "        \n",
       "    \n",
       "            var marker_99558f78ddcf9c6b73b97de870e6f122 = L.marker(\n",
       "                [35.841019, 139.956406],\n",
       "                {}\n",
       "            ).addTo(marker_cluster_2d2d92b93aa789c706b1f625baffdaad);\n",
       "        \n",
       "    \n",
       "            marker_99558f78ddcf9c6b73b97de870e6f122.bindTooltip(\n",
       "                `&lt;div&gt;\n",
       "                     10歳代\n",
       "                 &lt;/div&gt;`,\n",
       "                {&quot;sticky&quot;: true}\n",
       "            );\n",
       "        \n",
       "    \n",
       "            var marker_679b41c10c26ad6f5b596ea6c248459c = L.marker(\n",
       "                [35.841019, 139.956406],\n",
       "                {}\n",
       "            ).addTo(marker_cluster_2d2d92b93aa789c706b1f625baffdaad);\n",
       "        \n",
       "    \n",
       "            marker_679b41c10c26ad6f5b596ea6c248459c.bindTooltip(\n",
       "                `&lt;div&gt;\n",
       "                     10歳未満\n",
       "                 &lt;/div&gt;`,\n",
       "                {&quot;sticky&quot;: true}\n",
       "            );\n",
       "        \n",
       "    \n",
       "            var marker_e76d5ecfc3d813f3bad2aa44fad3a672 = L.marker(\n",
       "                [35.81815, 139.957825],\n",
       "                {}\n",
       "            ).addTo(marker_cluster_2d2d92b93aa789c706b1f625baffdaad);\n",
       "        \n",
       "    \n",
       "            marker_e76d5ecfc3d813f3bad2aa44fad3a672.bindTooltip(\n",
       "                `&lt;div&gt;\n",
       "                     40歳代\n",
       "                 &lt;/div&gt;`,\n",
       "                {&quot;sticky&quot;: true}\n",
       "            );\n",
       "        \n",
       "    \n",
       "            var marker_77ef4637a6afc128b549e2909c68f840 = L.marker(\n",
       "                [35.818859, 139.965973],\n",
       "                {}\n",
       "            ).addTo(marker_cluster_2d2d92b93aa789c706b1f625baffdaad);\n",
       "        \n",
       "    \n",
       "            marker_77ef4637a6afc128b549e2909c68f840.bindTooltip(\n",
       "                `&lt;div&gt;\n",
       "                     10歳代\n",
       "                 &lt;/div&gt;`,\n",
       "                {&quot;sticky&quot;: true}\n",
       "            );\n",
       "        \n",
       "    \n",
       "            var marker_517803c9e3b7bf81d40329834707b224 = L.marker(\n",
       "                [35.820488, 139.960007],\n",
       "                {}\n",
       "            ).addTo(marker_cluster_2d2d92b93aa789c706b1f625baffdaad);\n",
       "        \n",
       "    \n",
       "            marker_517803c9e3b7bf81d40329834707b224.bindTooltip(\n",
       "                `&lt;div&gt;\n",
       "                     70歳以上\n",
       "                 &lt;/div&gt;`,\n",
       "                {&quot;sticky&quot;: true}\n",
       "            );\n",
       "        \n",
       "    \n",
       "            var marker_e2e2ad14a2a91fc228a3b2f4b96df009 = L.marker(\n",
       "                [35.824585, 139.961349],\n",
       "                {}\n",
       "            ).addTo(marker_cluster_2d2d92b93aa789c706b1f625baffdaad);\n",
       "        \n",
       "    \n",
       "            marker_e2e2ad14a2a91fc228a3b2f4b96df009.bindTooltip(\n",
       "                `&lt;div&gt;\n",
       "                     30歳代\n",
       "                 &lt;/div&gt;`,\n",
       "                {&quot;sticky&quot;: true}\n",
       "            );\n",
       "        \n",
       "    \n",
       "            var marker_7a2bca297174200410f0c2f92f8ed736 = L.marker(\n",
       "                [35.824585, 139.961349],\n",
       "                {}\n",
       "            ).addTo(marker_cluster_2d2d92b93aa789c706b1f625baffdaad);\n",
       "        \n",
       "    \n",
       "            marker_7a2bca297174200410f0c2f92f8ed736.bindTooltip(\n",
       "                `&lt;div&gt;\n",
       "                     10歳未満\n",
       "                 &lt;/div&gt;`,\n",
       "                {&quot;sticky&quot;: true}\n",
       "            );\n",
       "        \n",
       "    \n",
       "            var marker_a41de8d7ae46696b335541ae9b298427 = L.marker(\n",
       "                [35.815441, 139.982468],\n",
       "                {}\n",
       "            ).addTo(marker_cluster_2d2d92b93aa789c706b1f625baffdaad);\n",
       "        \n",
       "    \n",
       "            marker_a41de8d7ae46696b335541ae9b298427.bindTooltip(\n",
       "                `&lt;div&gt;\n",
       "                     10歳代\n",
       "                 &lt;/div&gt;`,\n",
       "                {&quot;sticky&quot;: true}\n",
       "            );\n",
       "        \n",
       "    \n",
       "            var marker_ffab8f75ed5d5faa4ea94b3140470ab3 = L.marker(\n",
       "                [35.83292, 139.946884],\n",
       "                {}\n",
       "            ).addTo(marker_cluster_2d2d92b93aa789c706b1f625baffdaad);\n",
       "        \n",
       "    \n",
       "            marker_ffab8f75ed5d5faa4ea94b3140470ab3.bindTooltip(\n",
       "                `&lt;div&gt;\n",
       "                     10歳代\n",
       "                 &lt;/div&gt;`,\n",
       "                {&quot;sticky&quot;: true}\n",
       "            );\n",
       "        \n",
       "    \n",
       "            var marker_b2b981553397f1fa46941491e597b9a1 = L.marker(\n",
       "                [35.82056, 139.95401],\n",
       "                {}\n",
       "            ).addTo(marker_cluster_2d2d92b93aa789c706b1f625baffdaad);\n",
       "        \n",
       "    \n",
       "            marker_b2b981553397f1fa46941491e597b9a1.bindTooltip(\n",
       "                `&lt;div&gt;\n",
       "                     10歳代\n",
       "                 &lt;/div&gt;`,\n",
       "                {&quot;sticky&quot;: true}\n",
       "            );\n",
       "        \n",
       "    \n",
       "            var marker_462c8a19f12579a9a06354b93b0d37a8 = L.marker(\n",
       "                [35.833195, 139.957794],\n",
       "                {}\n",
       "            ).addTo(marker_cluster_2d2d92b93aa789c706b1f625baffdaad);\n",
       "        \n",
       "    \n",
       "            marker_462c8a19f12579a9a06354b93b0d37a8.bindTooltip(\n",
       "                `&lt;div&gt;\n",
       "                     30歳代\n",
       "                 &lt;/div&gt;`,\n",
       "                {&quot;sticky&quot;: true}\n",
       "            );\n",
       "        \n",
       "    \n",
       "            var marker_ab9e4dd77c1ae8e71fbc478ab9c7c42b = L.marker(\n",
       "                [35.833195, 139.957794],\n",
       "                {}\n",
       "            ).addTo(marker_cluster_2d2d92b93aa789c706b1f625baffdaad);\n",
       "        \n",
       "    \n",
       "            marker_ab9e4dd77c1ae8e71fbc478ab9c7c42b.bindTooltip(\n",
       "                `&lt;div&gt;\n",
       "                     30歳代\n",
       "                 &lt;/div&gt;`,\n",
       "                {&quot;sticky&quot;: true}\n",
       "            );\n",
       "        \n",
       "    \n",
       "            var marker_b196ba13a84ae6e2d02c21b2e699838c = L.marker(\n",
       "                [35.829479, 139.957809],\n",
       "                {}\n",
       "            ).addTo(marker_cluster_2d2d92b93aa789c706b1f625baffdaad);\n",
       "        \n",
       "    \n",
       "            marker_b196ba13a84ae6e2d02c21b2e699838c.bindTooltip(\n",
       "                `&lt;div&gt;\n",
       "                     10歳代\n",
       "                 &lt;/div&gt;`,\n",
       "                {&quot;sticky&quot;: true}\n",
       "            );\n",
       "        \n",
       "    \n",
       "            var marker_d195335c3478b15566921585a16fcff7 = L.marker(\n",
       "                [35.833984, 139.960556],\n",
       "                {}\n",
       "            ).addTo(marker_cluster_2d2d92b93aa789c706b1f625baffdaad);\n",
       "        \n",
       "    \n",
       "            marker_d195335c3478b15566921585a16fcff7.bindTooltip(\n",
       "                `&lt;div&gt;\n",
       "                     10歳代\n",
       "                 &lt;/div&gt;`,\n",
       "                {&quot;sticky&quot;: true}\n",
       "            );\n",
       "        \n",
       "    \n",
       "            var marker_6d99ec5a1f8b3ff2e0f996ac728d3e1b = L.marker(\n",
       "                [35.833984, 139.960556],\n",
       "                {}\n",
       "            ).addTo(marker_cluster_2d2d92b93aa789c706b1f625baffdaad);\n",
       "        \n",
       "    \n",
       "            marker_6d99ec5a1f8b3ff2e0f996ac728d3e1b.bindTooltip(\n",
       "                `&lt;div&gt;\n",
       "                     10歳未満\n",
       "                 &lt;/div&gt;`,\n",
       "                {&quot;sticky&quot;: true}\n",
       "            );\n",
       "        \n",
       "    \n",
       "            var marker_d2a41f576d8444cd7415949cffa60383 = L.marker(\n",
       "                [35.833984, 139.960556],\n",
       "                {}\n",
       "            ).addTo(marker_cluster_2d2d92b93aa789c706b1f625baffdaad);\n",
       "        \n",
       "    \n",
       "            marker_d2a41f576d8444cd7415949cffa60383.bindTooltip(\n",
       "                `&lt;div&gt;\n",
       "                     10歳代\n",
       "                 &lt;/div&gt;`,\n",
       "                {&quot;sticky&quot;: true}\n",
       "            );\n",
       "        \n",
       "    \n",
       "            var marker_07570e59d707ea67c8e68365956417b7 = L.marker(\n",
       "                [35.864445, 139.986511],\n",
       "                {}\n",
       "            ).addTo(marker_cluster_2d2d92b93aa789c706b1f625baffdaad);\n",
       "        \n",
       "    \n",
       "            marker_07570e59d707ea67c8e68365956417b7.bindTooltip(\n",
       "                `&lt;div&gt;\n",
       "                     50歳代\n",
       "                 &lt;/div&gt;`,\n",
       "                {&quot;sticky&quot;: true}\n",
       "            );\n",
       "        \n",
       "    \n",
       "            var marker_6cc8eae01c4f8bd1ffb197ef54b4476a = L.marker(\n",
       "                [35.864445, 139.986511],\n",
       "                {}\n",
       "            ).addTo(marker_cluster_2d2d92b93aa789c706b1f625baffdaad);\n",
       "        \n",
       "    \n",
       "            marker_6cc8eae01c4f8bd1ffb197ef54b4476a.bindTooltip(\n",
       "                `&lt;div&gt;\n",
       "                     30歳代\n",
       "                 &lt;/div&gt;`,\n",
       "                {&quot;sticky&quot;: true}\n",
       "            );\n",
       "        \n",
       "    \n",
       "            var marker_eba792e60da9c7b1a16ba0c6e339ed4b = L.marker(\n",
       "                [35.864445, 139.986511],\n",
       "                {}\n",
       "            ).addTo(marker_cluster_2d2d92b93aa789c706b1f625baffdaad);\n",
       "        \n",
       "    \n",
       "            marker_eba792e60da9c7b1a16ba0c6e339ed4b.bindTooltip(\n",
       "                `&lt;div&gt;\n",
       "                     40歳代\n",
       "                 &lt;/div&gt;`,\n",
       "                {&quot;sticky&quot;: true}\n",
       "            );\n",
       "        \n",
       "    \n",
       "            var marker_306ec14b3ca4d32bbdb1f7357d61a5e5 = L.marker(\n",
       "                [35.870007, 139.983795],\n",
       "                {}\n",
       "            ).addTo(marker_cluster_2d2d92b93aa789c706b1f625baffdaad);\n",
       "        \n",
       "    \n",
       "            marker_306ec14b3ca4d32bbdb1f7357d61a5e5.bindTooltip(\n",
       "                `&lt;div&gt;\n",
       "                     65-69歳\n",
       "                 &lt;/div&gt;`,\n",
       "                {&quot;sticky&quot;: true}\n",
       "            );\n",
       "        \n",
       "    \n",
       "            var marker_a42338e0286256b6f2668387a306bc98 = L.marker(\n",
       "                [35.875332, 139.983582],\n",
       "                {}\n",
       "            ).addTo(marker_cluster_2d2d92b93aa789c706b1f625baffdaad);\n",
       "        \n",
       "    \n",
       "            marker_a42338e0286256b6f2668387a306bc98.bindTooltip(\n",
       "                `&lt;div&gt;\n",
       "                     20歳代\n",
       "                 &lt;/div&gt;`,\n",
       "                {&quot;sticky&quot;: true}\n",
       "            );\n",
       "        \n",
       "    \n",
       "            var marker_24b77b772d6672ae22cb03d9fe79e209 = L.marker(\n",
       "                [35.872643, 139.989914],\n",
       "                {}\n",
       "            ).addTo(marker_cluster_2d2d92b93aa789c706b1f625baffdaad);\n",
       "        \n",
       "    \n",
       "            marker_24b77b772d6672ae22cb03d9fe79e209.bindTooltip(\n",
       "                `&lt;div&gt;\n",
       "                     60-64歳\n",
       "                 &lt;/div&gt;`,\n",
       "                {&quot;sticky&quot;: true}\n",
       "            );\n",
       "        \n",
       "    \n",
       "            var marker_381690e43154d189ae6b81e538b1f8d5 = L.marker(\n",
       "                [35.872643, 139.989914],\n",
       "                {}\n",
       "            ).addTo(marker_cluster_2d2d92b93aa789c706b1f625baffdaad);\n",
       "        \n",
       "    \n",
       "            marker_381690e43154d189ae6b81e538b1f8d5.bindTooltip(\n",
       "                `&lt;div&gt;\n",
       "                     20歳代\n",
       "                 &lt;/div&gt;`,\n",
       "                {&quot;sticky&quot;: true}\n",
       "            );\n",
       "        \n",
       "    \n",
       "            var marker_f88f05abc69ab553b7402717f713f745 = L.marker(\n",
       "                [35.872643, 139.989914],\n",
       "                {}\n",
       "            ).addTo(marker_cluster_2d2d92b93aa789c706b1f625baffdaad);\n",
       "        \n",
       "    \n",
       "            marker_f88f05abc69ab553b7402717f713f745.bindTooltip(\n",
       "                `&lt;div&gt;\n",
       "                     30歳代\n",
       "                 &lt;/div&gt;`,\n",
       "                {&quot;sticky&quot;: true}\n",
       "            );\n",
       "        \n",
       "    \n",
       "            var marker_ccc29b7603a97f488e59290925432277 = L.marker(\n",
       "                [35.872192, 139.987793],\n",
       "                {}\n",
       "            ).addTo(marker_cluster_2d2d92b93aa789c706b1f625baffdaad);\n",
       "        \n",
       "    \n",
       "            marker_ccc29b7603a97f488e59290925432277.bindTooltip(\n",
       "                `&lt;div&gt;\n",
       "                     10歳代\n",
       "                 &lt;/div&gt;`,\n",
       "                {&quot;sticky&quot;: true}\n",
       "            );\n",
       "        \n",
       "    \n",
       "            var marker_250b3e12030ddbf7d2bc2a8205074082 = L.marker(\n",
       "                [35.872192, 139.987793],\n",
       "                {}\n",
       "            ).addTo(marker_cluster_2d2d92b93aa789c706b1f625baffdaad);\n",
       "        \n",
       "    \n",
       "            marker_250b3e12030ddbf7d2bc2a8205074082.bindTooltip(\n",
       "                `&lt;div&gt;\n",
       "                     40歳代\n",
       "                 &lt;/div&gt;`,\n",
       "                {&quot;sticky&quot;: true}\n",
       "            );\n",
       "        \n",
       "    \n",
       "            var marker_f77cba4739d5f3121b61ed876aa620e8 = L.marker(\n",
       "                [35.870586, 139.986893],\n",
       "                {}\n",
       "            ).addTo(marker_cluster_2d2d92b93aa789c706b1f625baffdaad);\n",
       "        \n",
       "    \n",
       "            marker_f77cba4739d5f3121b61ed876aa620e8.bindTooltip(\n",
       "                `&lt;div&gt;\n",
       "                     20歳代\n",
       "                 &lt;/div&gt;`,\n",
       "                {&quot;sticky&quot;: true}\n",
       "            );\n",
       "        \n",
       "    \n",
       "            var marker_b8782aa00c08b48819488e39081a94c1 = L.marker(\n",
       "                [35.870586, 139.986893],\n",
       "                {}\n",
       "            ).addTo(marker_cluster_2d2d92b93aa789c706b1f625baffdaad);\n",
       "        \n",
       "    \n",
       "            marker_b8782aa00c08b48819488e39081a94c1.bindTooltip(\n",
       "                `&lt;div&gt;\n",
       "                     20歳代\n",
       "                 &lt;/div&gt;`,\n",
       "                {&quot;sticky&quot;: true}\n",
       "            );\n",
       "        \n",
       "    \n",
       "            var marker_a1df3cc50eca266c165703a00450a5c0 = L.marker(\n",
       "                [35.868679, 139.990295],\n",
       "                {}\n",
       "            ).addTo(marker_cluster_2d2d92b93aa789c706b1f625baffdaad);\n",
       "        \n",
       "    \n",
       "            marker_a1df3cc50eca266c165703a00450a5c0.bindTooltip(\n",
       "                `&lt;div&gt;\n",
       "                     30歳代\n",
       "                 &lt;/div&gt;`,\n",
       "                {&quot;sticky&quot;: true}\n",
       "            );\n",
       "        \n",
       "    \n",
       "            var marker_981277fb84e9ef352b6c076bbf112193 = L.marker(\n",
       "                [35.887501, 139.985229],\n",
       "                {}\n",
       "            ).addTo(marker_cluster_2d2d92b93aa789c706b1f625baffdaad);\n",
       "        \n",
       "    \n",
       "            marker_981277fb84e9ef352b6c076bbf112193.bindTooltip(\n",
       "                `&lt;div&gt;\n",
       "                     10歳未満\n",
       "                 &lt;/div&gt;`,\n",
       "                {&quot;sticky&quot;: true}\n",
       "            );\n",
       "        \n",
       "    \n",
       "            var marker_58d3fa27f04dbc90cd6ec59cbe6f4545 = L.marker(\n",
       "                [35.887501, 139.985229],\n",
       "                {}\n",
       "            ).addTo(marker_cluster_2d2d92b93aa789c706b1f625baffdaad);\n",
       "        \n",
       "    \n",
       "            marker_58d3fa27f04dbc90cd6ec59cbe6f4545.bindTooltip(\n",
       "                `&lt;div&gt;\n",
       "                     10歳代\n",
       "                 &lt;/div&gt;`,\n",
       "                {&quot;sticky&quot;: true}\n",
       "            );\n",
       "        \n",
       "    \n",
       "            var marker_510ea88e3fcde887520fce9fda8df97f = L.marker(\n",
       "                [35.88113, 139.98645],\n",
       "                {}\n",
       "            ).addTo(marker_cluster_2d2d92b93aa789c706b1f625baffdaad);\n",
       "        \n",
       "    \n",
       "            marker_510ea88e3fcde887520fce9fda8df97f.bindTooltip(\n",
       "                `&lt;div&gt;\n",
       "                     20歳代\n",
       "                 &lt;/div&gt;`,\n",
       "                {&quot;sticky&quot;: true}\n",
       "            );\n",
       "        \n",
       "    \n",
       "            var marker_74e6fc73d702cf17b72f25775b11420b = L.marker(\n",
       "                [35.88113, 139.98645],\n",
       "                {}\n",
       "            ).addTo(marker_cluster_2d2d92b93aa789c706b1f625baffdaad);\n",
       "        \n",
       "    \n",
       "            marker_74e6fc73d702cf17b72f25775b11420b.bindTooltip(\n",
       "                `&lt;div&gt;\n",
       "                     50歳代\n",
       "                 &lt;/div&gt;`,\n",
       "                {&quot;sticky&quot;: true}\n",
       "            );\n",
       "        \n",
       "    \n",
       "            var marker_698d5fa1ed44823643f1282960a9fbb1 = L.marker(\n",
       "                [35.88113, 139.98645],\n",
       "                {}\n",
       "            ).addTo(marker_cluster_2d2d92b93aa789c706b1f625baffdaad);\n",
       "        \n",
       "    \n",
       "            marker_698d5fa1ed44823643f1282960a9fbb1.bindTooltip(\n",
       "                `&lt;div&gt;\n",
       "                     40歳代\n",
       "                 &lt;/div&gt;`,\n",
       "                {&quot;sticky&quot;: true}\n",
       "            );\n",
       "        \n",
       "    \n",
       "            var marker_cf34e801ed7f7176c5b6e0e5d4bc17d7 = L.marker(\n",
       "                [35.88113, 139.98645],\n",
       "                {}\n",
       "            ).addTo(marker_cluster_2d2d92b93aa789c706b1f625baffdaad);\n",
       "        \n",
       "    \n",
       "            marker_cf34e801ed7f7176c5b6e0e5d4bc17d7.bindTooltip(\n",
       "                `&lt;div&gt;\n",
       "                     40歳代\n",
       "                 &lt;/div&gt;`,\n",
       "                {&quot;sticky&quot;: true}\n",
       "            );\n",
       "        \n",
       "    \n",
       "            var marker_d3c8ea2adb4e76989c448bfbf21dbc53 = L.marker(\n",
       "                [35.88113, 139.98645],\n",
       "                {}\n",
       "            ).addTo(marker_cluster_2d2d92b93aa789c706b1f625baffdaad);\n",
       "        \n",
       "    \n",
       "            marker_d3c8ea2adb4e76989c448bfbf21dbc53.bindTooltip(\n",
       "                `&lt;div&gt;\n",
       "                     60-64歳\n",
       "                 &lt;/div&gt;`,\n",
       "                {&quot;sticky&quot;: true}\n",
       "            );\n",
       "        \n",
       "    \n",
       "            var marker_2a0d8694f8cbd7468db5366a44b87024 = L.marker(\n",
       "                [35.88113, 139.98645],\n",
       "                {}\n",
       "            ).addTo(marker_cluster_2d2d92b93aa789c706b1f625baffdaad);\n",
       "        \n",
       "    \n",
       "            marker_2a0d8694f8cbd7468db5366a44b87024.bindTooltip(\n",
       "                `&lt;div&gt;\n",
       "                     10歳代\n",
       "                 &lt;/div&gt;`,\n",
       "                {&quot;sticky&quot;: true}\n",
       "            );\n",
       "        \n",
       "    \n",
       "            var marker_31b709a5935af4f4d335458068a6c9ce = L.marker(\n",
       "                [35.88113, 139.98645],\n",
       "                {}\n",
       "            ).addTo(marker_cluster_2d2d92b93aa789c706b1f625baffdaad);\n",
       "        \n",
       "    \n",
       "            marker_31b709a5935af4f4d335458068a6c9ce.bindTooltip(\n",
       "                `&lt;div&gt;\n",
       "                     10歳代\n",
       "                 &lt;/div&gt;`,\n",
       "                {&quot;sticky&quot;: true}\n",
       "            );\n",
       "        \n",
       "    \n",
       "            var marker_4159131036ee19eef40d964ed4202524 = L.marker(\n",
       "                [35.88113, 139.98645],\n",
       "                {}\n",
       "            ).addTo(marker_cluster_2d2d92b93aa789c706b1f625baffdaad);\n",
       "        \n",
       "    \n",
       "            marker_4159131036ee19eef40d964ed4202524.bindTooltip(\n",
       "                `&lt;div&gt;\n",
       "                     10歳代\n",
       "                 &lt;/div&gt;`,\n",
       "                {&quot;sticky&quot;: true}\n",
       "            );\n",
       "        \n",
       "    \n",
       "            var marker_9554f820310217bddbe93e5bb103d913 = L.marker(\n",
       "                [35.88113, 139.98645],\n",
       "                {}\n",
       "            ).addTo(marker_cluster_2d2d92b93aa789c706b1f625baffdaad);\n",
       "        \n",
       "    \n",
       "            marker_9554f820310217bddbe93e5bb103d913.bindTooltip(\n",
       "                `&lt;div&gt;\n",
       "                     40歳代\n",
       "                 &lt;/div&gt;`,\n",
       "                {&quot;sticky&quot;: true}\n",
       "            );\n",
       "        \n",
       "    \n",
       "            var marker_6f55eebadafcb3753b426c959659471f = L.marker(\n",
       "                [35.88113, 139.98645],\n",
       "                {}\n",
       "            ).addTo(marker_cluster_2d2d92b93aa789c706b1f625baffdaad);\n",
       "        \n",
       "    \n",
       "            marker_6f55eebadafcb3753b426c959659471f.bindTooltip(\n",
       "                `&lt;div&gt;\n",
       "                     20歳代\n",
       "                 &lt;/div&gt;`,\n",
       "                {&quot;sticky&quot;: true}\n",
       "            );\n",
       "        \n",
       "    \n",
       "            var marker_cd4ca4688cb9d781d26ecb6213bf1be4 = L.marker(\n",
       "                [35.88113, 139.98645],\n",
       "                {}\n",
       "            ).addTo(marker_cluster_2d2d92b93aa789c706b1f625baffdaad);\n",
       "        \n",
       "    \n",
       "            marker_cd4ca4688cb9d781d26ecb6213bf1be4.bindTooltip(\n",
       "                `&lt;div&gt;\n",
       "                     10歳未満\n",
       "                 &lt;/div&gt;`,\n",
       "                {&quot;sticky&quot;: true}\n",
       "            );\n",
       "        \n",
       "    \n",
       "            var marker_b5c4329d6d80004de66dfe4742788729 = L.marker(\n",
       "                [35.88113, 139.98645],\n",
       "                {}\n",
       "            ).addTo(marker_cluster_2d2d92b93aa789c706b1f625baffdaad);\n",
       "        \n",
       "    \n",
       "            marker_b5c4329d6d80004de66dfe4742788729.bindTooltip(\n",
       "                `&lt;div&gt;\n",
       "                     40歳代\n",
       "                 &lt;/div&gt;`,\n",
       "                {&quot;sticky&quot;: true}\n",
       "            );\n",
       "        \n",
       "    \n",
       "            var marker_0b3d74d4680d4576084855389e1fb527 = L.marker(\n",
       "                [35.88113, 139.98645],\n",
       "                {}\n",
       "            ).addTo(marker_cluster_2d2d92b93aa789c706b1f625baffdaad);\n",
       "        \n",
       "    \n",
       "            marker_0b3d74d4680d4576084855389e1fb527.bindTooltip(\n",
       "                `&lt;div&gt;\n",
       "                     10歳代\n",
       "                 &lt;/div&gt;`,\n",
       "                {&quot;sticky&quot;: true}\n",
       "            );\n",
       "        \n",
       "    \n",
       "            var marker_c93f08d6f2936f0e05e8e8265684f78d = L.marker(\n",
       "                [35.88113, 139.98645],\n",
       "                {}\n",
       "            ).addTo(marker_cluster_2d2d92b93aa789c706b1f625baffdaad);\n",
       "        \n",
       "    \n",
       "            marker_c93f08d6f2936f0e05e8e8265684f78d.bindTooltip(\n",
       "                `&lt;div&gt;\n",
       "                     20歳代\n",
       "                 &lt;/div&gt;`,\n",
       "                {&quot;sticky&quot;: true}\n",
       "            );\n",
       "        \n",
       "    \n",
       "            var marker_d97c63ca801f5f0518ccf8b1c9829b45 = L.marker(\n",
       "                [35.88113, 139.98645],\n",
       "                {}\n",
       "            ).addTo(marker_cluster_2d2d92b93aa789c706b1f625baffdaad);\n",
       "        \n",
       "    \n",
       "            marker_d97c63ca801f5f0518ccf8b1c9829b45.bindTooltip(\n",
       "                `&lt;div&gt;\n",
       "                     10歳代\n",
       "                 &lt;/div&gt;`,\n",
       "                {&quot;sticky&quot;: true}\n",
       "            );\n",
       "        \n",
       "    \n",
       "            var marker_c1f7082052285bc6c302ede93fa0c4bc = L.marker(\n",
       "                [35.88113, 139.98645],\n",
       "                {}\n",
       "            ).addTo(marker_cluster_2d2d92b93aa789c706b1f625baffdaad);\n",
       "        \n",
       "    \n",
       "            marker_c1f7082052285bc6c302ede93fa0c4bc.bindTooltip(\n",
       "                `&lt;div&gt;\n",
       "                     20歳代\n",
       "                 &lt;/div&gt;`,\n",
       "                {&quot;sticky&quot;: true}\n",
       "            );\n",
       "        \n",
       "    \n",
       "            var marker_880e748c6776285e608779f11a5ed2da = L.marker(\n",
       "                [35.88113, 139.98645],\n",
       "                {}\n",
       "            ).addTo(marker_cluster_2d2d92b93aa789c706b1f625baffdaad);\n",
       "        \n",
       "    \n",
       "            marker_880e748c6776285e608779f11a5ed2da.bindTooltip(\n",
       "                `&lt;div&gt;\n",
       "                     20歳代\n",
       "                 &lt;/div&gt;`,\n",
       "                {&quot;sticky&quot;: true}\n",
       "            );\n",
       "        \n",
       "    \n",
       "            var marker_635ccaabbe119354718619481a784dd9 = L.marker(\n",
       "                [35.88113, 139.98645],\n",
       "                {}\n",
       "            ).addTo(marker_cluster_2d2d92b93aa789c706b1f625baffdaad);\n",
       "        \n",
       "    \n",
       "            marker_635ccaabbe119354718619481a784dd9.bindTooltip(\n",
       "                `&lt;div&gt;\n",
       "                     20歳代\n",
       "                 &lt;/div&gt;`,\n",
       "                {&quot;sticky&quot;: true}\n",
       "            );\n",
       "        \n",
       "    \n",
       "            var marker_81d0c2d081eb467f7395744e3273043a = L.marker(\n",
       "                [35.88113, 139.98645],\n",
       "                {}\n",
       "            ).addTo(marker_cluster_2d2d92b93aa789c706b1f625baffdaad);\n",
       "        \n",
       "    \n",
       "            marker_81d0c2d081eb467f7395744e3273043a.bindTooltip(\n",
       "                `&lt;div&gt;\n",
       "                     20歳代\n",
       "                 &lt;/div&gt;`,\n",
       "                {&quot;sticky&quot;: true}\n",
       "            );\n",
       "        \n",
       "    \n",
       "            var marker_4b94f09ae68657eaf7e9cece8b480483 = L.marker(\n",
       "                [35.88113, 139.98645],\n",
       "                {}\n",
       "            ).addTo(marker_cluster_2d2d92b93aa789c706b1f625baffdaad);\n",
       "        \n",
       "    \n",
       "            marker_4b94f09ae68657eaf7e9cece8b480483.bindTooltip(\n",
       "                `&lt;div&gt;\n",
       "                     20歳代\n",
       "                 &lt;/div&gt;`,\n",
       "                {&quot;sticky&quot;: true}\n",
       "            );\n",
       "        \n",
       "    \n",
       "            var marker_81c0064d061bb9c558f1435b933703d8 = L.marker(\n",
       "                [35.832733, 139.970932],\n",
       "                {}\n",
       "            ).addTo(marker_cluster_2d2d92b93aa789c706b1f625baffdaad);\n",
       "        \n",
       "    \n",
       "            marker_81c0064d061bb9c558f1435b933703d8.bindTooltip(\n",
       "                `&lt;div&gt;\n",
       "                     20歳代\n",
       "                 &lt;/div&gt;`,\n",
       "                {&quot;sticky&quot;: true}\n",
       "            );\n",
       "        \n",
       "    \n",
       "            var marker_8206daad085d91f17a6934639ea96f8d = L.marker(\n",
       "                [35.815441, 139.982468],\n",
       "                {}\n",
       "            ).addTo(marker_cluster_2d2d92b93aa789c706b1f625baffdaad);\n",
       "        \n",
       "    \n",
       "            marker_8206daad085d91f17a6934639ea96f8d.bindTooltip(\n",
       "                `&lt;div&gt;\n",
       "                     10歳代\n",
       "                 &lt;/div&gt;`,\n",
       "                {&quot;sticky&quot;: true}\n",
       "            );\n",
       "        \n",
       "    \n",
       "            var marker_f828548622a7a9c3fd6f7f7da580ec4d = L.marker(\n",
       "                [35.815441, 139.982468],\n",
       "                {}\n",
       "            ).addTo(marker_cluster_2d2d92b93aa789c706b1f625baffdaad);\n",
       "        \n",
       "    \n",
       "            marker_f828548622a7a9c3fd6f7f7da580ec4d.bindTooltip(\n",
       "                `&lt;div&gt;\n",
       "                     10歳代\n",
       "                 &lt;/div&gt;`,\n",
       "                {&quot;sticky&quot;: true}\n",
       "            );\n",
       "        \n",
       "    \n",
       "            var marker_b81f7330e7dba27794dafc4e17ba02d7 = L.marker(\n",
       "                [35.815441, 139.982468],\n",
       "                {}\n",
       "            ).addTo(marker_cluster_2d2d92b93aa789c706b1f625baffdaad);\n",
       "        \n",
       "    \n",
       "            marker_b81f7330e7dba27794dafc4e17ba02d7.bindTooltip(\n",
       "                `&lt;div&gt;\n",
       "                     10歳代\n",
       "                 &lt;/div&gt;`,\n",
       "                {&quot;sticky&quot;: true}\n",
       "            );\n",
       "        \n",
       "    \n",
       "            var marker_1e93240614f75aba09363d9046c28f53 = L.marker(\n",
       "                [35.815441, 139.982468],\n",
       "                {}\n",
       "            ).addTo(marker_cluster_2d2d92b93aa789c706b1f625baffdaad);\n",
       "        \n",
       "    \n",
       "            marker_1e93240614f75aba09363d9046c28f53.bindTooltip(\n",
       "                `&lt;div&gt;\n",
       "                     10歳代\n",
       "                 &lt;/div&gt;`,\n",
       "                {&quot;sticky&quot;: true}\n",
       "            );\n",
       "        \n",
       "    \n",
       "            var marker_923d6b413b96c644cea340e93a6a1b08 = L.marker(\n",
       "                [35.815441, 139.982468],\n",
       "                {}\n",
       "            ).addTo(marker_cluster_2d2d92b93aa789c706b1f625baffdaad);\n",
       "        \n",
       "    \n",
       "            marker_923d6b413b96c644cea340e93a6a1b08.bindTooltip(\n",
       "                `&lt;div&gt;\n",
       "                     20歳代\n",
       "                 &lt;/div&gt;`,\n",
       "                {&quot;sticky&quot;: true}\n",
       "            );\n",
       "        \n",
       "    \n",
       "            var marker_4afac6523e9634460e93f09c11298c5d = L.marker(\n",
       "                [35.815441, 139.982468],\n",
       "                {}\n",
       "            ).addTo(marker_cluster_2d2d92b93aa789c706b1f625baffdaad);\n",
       "        \n",
       "    \n",
       "            marker_4afac6523e9634460e93f09c11298c5d.bindTooltip(\n",
       "                `&lt;div&gt;\n",
       "                     20歳代\n",
       "                 &lt;/div&gt;`,\n",
       "                {&quot;sticky&quot;: true}\n",
       "            );\n",
       "        \n",
       "    \n",
       "            var marker_a17f9e387757c9253ce9d7f546f85321 = L.marker(\n",
       "                [35.815441, 139.982468],\n",
       "                {}\n",
       "            ).addTo(marker_cluster_2d2d92b93aa789c706b1f625baffdaad);\n",
       "        \n",
       "    \n",
       "            marker_a17f9e387757c9253ce9d7f546f85321.bindTooltip(\n",
       "                `&lt;div&gt;\n",
       "                     70歳以上\n",
       "                 &lt;/div&gt;`,\n",
       "                {&quot;sticky&quot;: true}\n",
       "            );\n",
       "        \n",
       "    \n",
       "            var marker_a11530285b319bc717d3ea0f7aa047da = L.marker(\n",
       "                [35.815441, 139.982468],\n",
       "                {}\n",
       "            ).addTo(marker_cluster_2d2d92b93aa789c706b1f625baffdaad);\n",
       "        \n",
       "    \n",
       "            marker_a11530285b319bc717d3ea0f7aa047da.bindTooltip(\n",
       "                `&lt;div&gt;\n",
       "                     20歳代\n",
       "                 &lt;/div&gt;`,\n",
       "                {&quot;sticky&quot;: true}\n",
       "            );\n",
       "        \n",
       "    \n",
       "            var marker_b1242734b58980ce38fdb61f6c83f87f = L.marker(\n",
       "                [35.822018, 139.983444],\n",
       "                {}\n",
       "            ).addTo(marker_cluster_2d2d92b93aa789c706b1f625baffdaad);\n",
       "        \n",
       "    \n",
       "            marker_b1242734b58980ce38fdb61f6c83f87f.bindTooltip(\n",
       "                `&lt;div&gt;\n",
       "                     10歳代\n",
       "                 &lt;/div&gt;`,\n",
       "                {&quot;sticky&quot;: true}\n",
       "            );\n",
       "        \n",
       "    \n",
       "            var marker_db4bb1c381d0844f1166811047262a77 = L.marker(\n",
       "                [35.822018, 139.983444],\n",
       "                {}\n",
       "            ).addTo(marker_cluster_2d2d92b93aa789c706b1f625baffdaad);\n",
       "        \n",
       "    \n",
       "            marker_db4bb1c381d0844f1166811047262a77.bindTooltip(\n",
       "                `&lt;div&gt;\n",
       "                     10歳代\n",
       "                 &lt;/div&gt;`,\n",
       "                {&quot;sticky&quot;: true}\n",
       "            );\n",
       "        \n",
       "    \n",
       "            var marker_37bd30d79cc0976080bda429b640bbc2 = L.marker(\n",
       "                [35.822018, 139.983444],\n",
       "                {}\n",
       "            ).addTo(marker_cluster_2d2d92b93aa789c706b1f625baffdaad);\n",
       "        \n",
       "    \n",
       "            marker_37bd30d79cc0976080bda429b640bbc2.bindTooltip(\n",
       "                `&lt;div&gt;\n",
       "                     20歳代\n",
       "                 &lt;/div&gt;`,\n",
       "                {&quot;sticky&quot;: true}\n",
       "            );\n",
       "        \n",
       "    \n",
       "            var marker_adfe48474aff89c3f471ac258b82e0d0 = L.marker(\n",
       "                [35.824383, 139.979614],\n",
       "                {}\n",
       "            ).addTo(marker_cluster_2d2d92b93aa789c706b1f625baffdaad);\n",
       "        \n",
       "    \n",
       "            marker_adfe48474aff89c3f471ac258b82e0d0.bindTooltip(\n",
       "                `&lt;div&gt;\n",
       "                     10歳代\n",
       "                 &lt;/div&gt;`,\n",
       "                {&quot;sticky&quot;: true}\n",
       "            );\n",
       "        \n",
       "    \n",
       "            var marker_6e02e507af776b9c0e3ff46e0ea7b74c = L.marker(\n",
       "                [35.824383, 139.979614],\n",
       "                {}\n",
       "            ).addTo(marker_cluster_2d2d92b93aa789c706b1f625baffdaad);\n",
       "        \n",
       "    \n",
       "            marker_6e02e507af776b9c0e3ff46e0ea7b74c.bindTooltip(\n",
       "                `&lt;div&gt;\n",
       "                     10歳代\n",
       "                 &lt;/div&gt;`,\n",
       "                {&quot;sticky&quot;: true}\n",
       "            );\n",
       "        \n",
       "    \n",
       "            var marker_f255f3c87b23fb734fddf51b80780337 = L.marker(\n",
       "                [35.824383, 139.979614],\n",
       "                {}\n",
       "            ).addTo(marker_cluster_2d2d92b93aa789c706b1f625baffdaad);\n",
       "        \n",
       "    \n",
       "            marker_f255f3c87b23fb734fddf51b80780337.bindTooltip(\n",
       "                `&lt;div&gt;\n",
       "                     10歳代\n",
       "                 &lt;/div&gt;`,\n",
       "                {&quot;sticky&quot;: true}\n",
       "            );\n",
       "        \n",
       "    \n",
       "            var marker_5be0419beb68338eefd554025b4d35eb = L.marker(\n",
       "                [35.824383, 139.979614],\n",
       "                {}\n",
       "            ).addTo(marker_cluster_2d2d92b93aa789c706b1f625baffdaad);\n",
       "        \n",
       "    \n",
       "            marker_5be0419beb68338eefd554025b4d35eb.bindTooltip(\n",
       "                `&lt;div&gt;\n",
       "                     20歳代\n",
       "                 &lt;/div&gt;`,\n",
       "                {&quot;sticky&quot;: true}\n",
       "            );\n",
       "        \n",
       "    \n",
       "            var marker_1f635ac0c6f7ed8d077bec4717ec783f = L.marker(\n",
       "                [35.824383, 139.979614],\n",
       "                {}\n",
       "            ).addTo(marker_cluster_2d2d92b93aa789c706b1f625baffdaad);\n",
       "        \n",
       "    \n",
       "            marker_1f635ac0c6f7ed8d077bec4717ec783f.bindTooltip(\n",
       "                `&lt;div&gt;\n",
       "                     30歳代\n",
       "                 &lt;/div&gt;`,\n",
       "                {&quot;sticky&quot;: true}\n",
       "            );\n",
       "        \n",
       "    \n",
       "            var marker_88051a08922ed2a91107deb62b050983 = L.marker(\n",
       "                [35.824383, 139.979614],\n",
       "                {}\n",
       "            ).addTo(marker_cluster_2d2d92b93aa789c706b1f625baffdaad);\n",
       "        \n",
       "    \n",
       "            marker_88051a08922ed2a91107deb62b050983.bindTooltip(\n",
       "                `&lt;div&gt;\n",
       "                     10歳代\n",
       "                 &lt;/div&gt;`,\n",
       "                {&quot;sticky&quot;: true}\n",
       "            );\n",
       "        \n",
       "    \n",
       "            var marker_c40582111c1145df2273d58907ea042a = L.marker(\n",
       "                [35.816387, 139.974075],\n",
       "                {}\n",
       "            ).addTo(marker_cluster_2d2d92b93aa789c706b1f625baffdaad);\n",
       "        \n",
       "    \n",
       "            marker_c40582111c1145df2273d58907ea042a.bindTooltip(\n",
       "                `&lt;div&gt;\n",
       "                     10歳代\n",
       "                 &lt;/div&gt;`,\n",
       "                {&quot;sticky&quot;: true}\n",
       "            );\n",
       "        \n",
       "    \n",
       "            var marker_2408843305b6c3d43fd4b1155faff62a = L.marker(\n",
       "                [35.816387, 139.974075],\n",
       "                {}\n",
       "            ).addTo(marker_cluster_2d2d92b93aa789c706b1f625baffdaad);\n",
       "        \n",
       "    \n",
       "            marker_2408843305b6c3d43fd4b1155faff62a.bindTooltip(\n",
       "                `&lt;div&gt;\n",
       "                     10歳代\n",
       "                 &lt;/div&gt;`,\n",
       "                {&quot;sticky&quot;: true}\n",
       "            );\n",
       "        \n",
       "    \n",
       "            var marker_f5902069e64620206e3820654c0f34a1 = L.marker(\n",
       "                [35.816387, 139.974075],\n",
       "                {}\n",
       "            ).addTo(marker_cluster_2d2d92b93aa789c706b1f625baffdaad);\n",
       "        \n",
       "    \n",
       "            marker_f5902069e64620206e3820654c0f34a1.bindTooltip(\n",
       "                `&lt;div&gt;\n",
       "                     10歳代\n",
       "                 &lt;/div&gt;`,\n",
       "                {&quot;sticky&quot;: true}\n",
       "            );\n",
       "        \n",
       "    \n",
       "            var marker_f371574431488994a6b20bfbe0fba10e = L.marker(\n",
       "                [35.818909, 139.971741],\n",
       "                {}\n",
       "            ).addTo(marker_cluster_2d2d92b93aa789c706b1f625baffdaad);\n",
       "        \n",
       "    \n",
       "            marker_f371574431488994a6b20bfbe0fba10e.bindTooltip(\n",
       "                `&lt;div&gt;\n",
       "                     40歳代\n",
       "                 &lt;/div&gt;`,\n",
       "                {&quot;sticky&quot;: true}\n",
       "            );\n",
       "        \n",
       "    \n",
       "            var marker_4fc9cfea7251e9f1e0e413588e6a34c1 = L.marker(\n",
       "                [35.817165, 139.96759],\n",
       "                {}\n",
       "            ).addTo(marker_cluster_2d2d92b93aa789c706b1f625baffdaad);\n",
       "        \n",
       "    \n",
       "            marker_4fc9cfea7251e9f1e0e413588e6a34c1.bindTooltip(\n",
       "                `&lt;div&gt;\n",
       "                     10歳代\n",
       "                 &lt;/div&gt;`,\n",
       "                {&quot;sticky&quot;: true}\n",
       "            );\n",
       "        \n",
       "    \n",
       "            var marker_0dfd38c0fcc070fad58a11167883022e = L.marker(\n",
       "                [35.814602, 139.97052],\n",
       "                {}\n",
       "            ).addTo(marker_cluster_2d2d92b93aa789c706b1f625baffdaad);\n",
       "        \n",
       "    \n",
       "            marker_0dfd38c0fcc070fad58a11167883022e.bindTooltip(\n",
       "                `&lt;div&gt;\n",
       "                     70歳以上\n",
       "                 &lt;/div&gt;`,\n",
       "                {&quot;sticky&quot;: true}\n",
       "            );\n",
       "        \n",
       "    \n",
       "            var marker_3854ce9255996c397710d9050bdda3b8 = L.marker(\n",
       "                [35.814602, 139.97052],\n",
       "                {}\n",
       "            ).addTo(marker_cluster_2d2d92b93aa789c706b1f625baffdaad);\n",
       "        \n",
       "    \n",
       "            marker_3854ce9255996c397710d9050bdda3b8.bindTooltip(\n",
       "                `&lt;div&gt;\n",
       "                     50歳代\n",
       "                 &lt;/div&gt;`,\n",
       "                {&quot;sticky&quot;: true}\n",
       "            );\n",
       "        \n",
       "    \n",
       "            var marker_76c6a013b56c1640d2a6355354301fd4 = L.marker(\n",
       "                [35.814602, 139.97052],\n",
       "                {}\n",
       "            ).addTo(marker_cluster_2d2d92b93aa789c706b1f625baffdaad);\n",
       "        \n",
       "    \n",
       "            marker_76c6a013b56c1640d2a6355354301fd4.bindTooltip(\n",
       "                `&lt;div&gt;\n",
       "                     30歳代\n",
       "                 &lt;/div&gt;`,\n",
       "                {&quot;sticky&quot;: true}\n",
       "            );\n",
       "        \n",
       "    \n",
       "            var marker_ab8c2eedbc141b68b22a555589d0e7a7 = L.marker(\n",
       "                [35.814602, 139.97052],\n",
       "                {}\n",
       "            ).addTo(marker_cluster_2d2d92b93aa789c706b1f625baffdaad);\n",
       "        \n",
       "    \n",
       "            marker_ab8c2eedbc141b68b22a555589d0e7a7.bindTooltip(\n",
       "                `&lt;div&gt;\n",
       "                     10歳代\n",
       "                 &lt;/div&gt;`,\n",
       "                {&quot;sticky&quot;: true}\n",
       "            );\n",
       "        \n",
       "    \n",
       "            var marker_3077e7e7b3d343440e05ec67a4b32004 = L.marker(\n",
       "                [35.814602, 139.97052],\n",
       "                {}\n",
       "            ).addTo(marker_cluster_2d2d92b93aa789c706b1f625baffdaad);\n",
       "        \n",
       "    \n",
       "            marker_3077e7e7b3d343440e05ec67a4b32004.bindTooltip(\n",
       "                `&lt;div&gt;\n",
       "                     20歳代\n",
       "                 &lt;/div&gt;`,\n",
       "                {&quot;sticky&quot;: true}\n",
       "            );\n",
       "        \n",
       "    \n",
       "            var marker_1a75ba92a583f7d74bf5878d9956866e = L.marker(\n",
       "                [35.813236, 139.966034],\n",
       "                {}\n",
       "            ).addTo(marker_cluster_2d2d92b93aa789c706b1f625baffdaad);\n",
       "        \n",
       "    \n",
       "            marker_1a75ba92a583f7d74bf5878d9956866e.bindTooltip(\n",
       "                `&lt;div&gt;\n",
       "                     10歳代\n",
       "                 &lt;/div&gt;`,\n",
       "                {&quot;sticky&quot;: true}\n",
       "            );\n",
       "        \n",
       "    \n",
       "            var marker_2d1f5c56d5d3355757d0801c9ed02afb = L.marker(\n",
       "                [35.809929, 139.966537],\n",
       "                {}\n",
       "            ).addTo(marker_cluster_2d2d92b93aa789c706b1f625baffdaad);\n",
       "        \n",
       "    \n",
       "            marker_2d1f5c56d5d3355757d0801c9ed02afb.bindTooltip(\n",
       "                `&lt;div&gt;\n",
       "                     70歳以上\n",
       "                 &lt;/div&gt;`,\n",
       "                {&quot;sticky&quot;: true}\n",
       "            );\n",
       "        \n",
       "    \n",
       "            var marker_bde5acfd2922ec6e2bd67eb19584b4b0 = L.marker(\n",
       "                [35.811157, 139.963562],\n",
       "                {}\n",
       "            ).addTo(marker_cluster_2d2d92b93aa789c706b1f625baffdaad);\n",
       "        \n",
       "    \n",
       "            marker_bde5acfd2922ec6e2bd67eb19584b4b0.bindTooltip(\n",
       "                `&lt;div&gt;\n",
       "                     40歳代\n",
       "                 &lt;/div&gt;`,\n",
       "                {&quot;sticky&quot;: true}\n",
       "            );\n",
       "        \n",
       "    \n",
       "            var marker_9bbe21c620a9f4b740d32925ffa137f7 = L.marker(\n",
       "                [35.810768, 139.959],\n",
       "                {}\n",
       "            ).addTo(marker_cluster_2d2d92b93aa789c706b1f625baffdaad);\n",
       "        \n",
       "    \n",
       "            marker_9bbe21c620a9f4b740d32925ffa137f7.bindTooltip(\n",
       "                `&lt;div&gt;\n",
       "                     10歳代\n",
       "                 &lt;/div&gt;`,\n",
       "                {&quot;sticky&quot;: true}\n",
       "            );\n",
       "        \n",
       "    \n",
       "            var marker_2f2fe9013f92cbb5db74f9fe2ff7e762 = L.marker(\n",
       "                [35.827206, 139.976883],\n",
       "                {}\n",
       "            ).addTo(marker_cluster_2d2d92b93aa789c706b1f625baffdaad);\n",
       "        \n",
       "    \n",
       "            marker_2f2fe9013f92cbb5db74f9fe2ff7e762.bindTooltip(\n",
       "                `&lt;div&gt;\n",
       "                     30歳代\n",
       "                 &lt;/div&gt;`,\n",
       "                {&quot;sticky&quot;: true}\n",
       "            );\n",
       "        \n",
       "    \n",
       "            var marker_720df521dd61ab8bf7847280a70c8181 = L.marker(\n",
       "                [35.827206, 139.976883],\n",
       "                {}\n",
       "            ).addTo(marker_cluster_2d2d92b93aa789c706b1f625baffdaad);\n",
       "        \n",
       "    \n",
       "            marker_720df521dd61ab8bf7847280a70c8181.bindTooltip(\n",
       "                `&lt;div&gt;\n",
       "                     50歳代\n",
       "                 &lt;/div&gt;`,\n",
       "                {&quot;sticky&quot;: true}\n",
       "            );\n",
       "        \n",
       "    \n",
       "            var marker_eaac23c61f4897c6bc6ff7d14b940609 = L.marker(\n",
       "                [35.822952, 139.98671],\n",
       "                {}\n",
       "            ).addTo(marker_cluster_2d2d92b93aa789c706b1f625baffdaad);\n",
       "        \n",
       "    \n",
       "            marker_eaac23c61f4897c6bc6ff7d14b940609.bindTooltip(\n",
       "                `&lt;div&gt;\n",
       "                     10歳代\n",
       "                 &lt;/div&gt;`,\n",
       "                {&quot;sticky&quot;: true}\n",
       "            );\n",
       "        \n",
       "    \n",
       "            var marker_8e92bc2a2b04d99629253f9e5a51ee45 = L.marker(\n",
       "                [35.822952, 139.98671],\n",
       "                {}\n",
       "            ).addTo(marker_cluster_2d2d92b93aa789c706b1f625baffdaad);\n",
       "        \n",
       "    \n",
       "            marker_8e92bc2a2b04d99629253f9e5a51ee45.bindTooltip(\n",
       "                `&lt;div&gt;\n",
       "                     10歳代\n",
       "                 &lt;/div&gt;`,\n",
       "                {&quot;sticky&quot;: true}\n",
       "            );\n",
       "        \n",
       "    \n",
       "            var marker_361255a2e798878226e2cc9cca6f221c = L.marker(\n",
       "                [35.822952, 139.98671],\n",
       "                {}\n",
       "            ).addTo(marker_cluster_2d2d92b93aa789c706b1f625baffdaad);\n",
       "        \n",
       "    \n",
       "            marker_361255a2e798878226e2cc9cca6f221c.bindTooltip(\n",
       "                `&lt;div&gt;\n",
       "                     10歳代\n",
       "                 &lt;/div&gt;`,\n",
       "                {&quot;sticky&quot;: true}\n",
       "            );\n",
       "        \n",
       "    \n",
       "            var marker_c4d68c7fbad34ad789297f7957982b8d = L.marker(\n",
       "                [35.807571, 139.970367],\n",
       "                {}\n",
       "            ).addTo(marker_cluster_2d2d92b93aa789c706b1f625baffdaad);\n",
       "        \n",
       "    \n",
       "            marker_c4d68c7fbad34ad789297f7957982b8d.bindTooltip(\n",
       "                `&lt;div&gt;\n",
       "                     10歳未満\n",
       "                 &lt;/div&gt;`,\n",
       "                {&quot;sticky&quot;: true}\n",
       "            );\n",
       "        \n",
       "    \n",
       "            var marker_e3b0396e7ee6d22e7c8a303816146c80 = L.marker(\n",
       "                [35.813534, 139.957855],\n",
       "                {}\n",
       "            ).addTo(marker_cluster_2d2d92b93aa789c706b1f625baffdaad);\n",
       "        \n",
       "    \n",
       "            marker_e3b0396e7ee6d22e7c8a303816146c80.bindTooltip(\n",
       "                `&lt;div&gt;\n",
       "                     10歳代\n",
       "                 &lt;/div&gt;`,\n",
       "                {&quot;sticky&quot;: true}\n",
       "            );\n",
       "        \n",
       "    \n",
       "            var marker_0960f08800e9e15efb12ad874bfe6db9 = L.marker(\n",
       "                [35.813534, 139.957855],\n",
       "                {}\n",
       "            ).addTo(marker_cluster_2d2d92b93aa789c706b1f625baffdaad);\n",
       "        \n",
       "    \n",
       "            marker_0960f08800e9e15efb12ad874bfe6db9.bindTooltip(\n",
       "                `&lt;div&gt;\n",
       "                     10歳代\n",
       "                 &lt;/div&gt;`,\n",
       "                {&quot;sticky&quot;: true}\n",
       "            );\n",
       "        \n",
       "    \n",
       "            var marker_56a7f364f597fff0fbe531d00f2517c5 = L.marker(\n",
       "                [35.812092, 139.972183],\n",
       "                {}\n",
       "            ).addTo(marker_cluster_2d2d92b93aa789c706b1f625baffdaad);\n",
       "        \n",
       "    \n",
       "            marker_56a7f364f597fff0fbe531d00f2517c5.bindTooltip(\n",
       "                `&lt;div&gt;\n",
       "                     70歳以上\n",
       "                 &lt;/div&gt;`,\n",
       "                {&quot;sticky&quot;: true}\n",
       "            );\n",
       "        \n",
       "    \n",
       "            var marker_d6aa30e42e6cbbaa82658fbde9004916 = L.marker(\n",
       "                [35.809525, 139.970627],\n",
       "                {}\n",
       "            ).addTo(marker_cluster_2d2d92b93aa789c706b1f625baffdaad);\n",
       "        \n",
       "    \n",
       "            marker_d6aa30e42e6cbbaa82658fbde9004916.bindTooltip(\n",
       "                `&lt;div&gt;\n",
       "                     10歳代\n",
       "                 &lt;/div&gt;`,\n",
       "                {&quot;sticky&quot;: true}\n",
       "            );\n",
       "        \n",
       "    \n",
       "            var marker_d76a8685c6e368a366edcb99df13e727 = L.marker(\n",
       "                [35.809525, 139.970627],\n",
       "                {}\n",
       "            ).addTo(marker_cluster_2d2d92b93aa789c706b1f625baffdaad);\n",
       "        \n",
       "    \n",
       "            marker_d76a8685c6e368a366edcb99df13e727.bindTooltip(\n",
       "                `&lt;div&gt;\n",
       "                     10歳未満\n",
       "                 &lt;/div&gt;`,\n",
       "                {&quot;sticky&quot;: true}\n",
       "            );\n",
       "        \n",
       "    \n",
       "            var marker_0ef070d7e4cba0558eda1a62cbf75fd1 = L.marker(\n",
       "                [35.809525, 139.970627],\n",
       "                {}\n",
       "            ).addTo(marker_cluster_2d2d92b93aa789c706b1f625baffdaad);\n",
       "        \n",
       "    \n",
       "            marker_0ef070d7e4cba0558eda1a62cbf75fd1.bindTooltip(\n",
       "                `&lt;div&gt;\n",
       "                     20歳代\n",
       "                 &lt;/div&gt;`,\n",
       "                {&quot;sticky&quot;: true}\n",
       "            );\n",
       "        \n",
       "    \n",
       "            var marker_92d3ab265a9881994b8ab476d7ca3a66 = L.marker(\n",
       "                [35.850155, 140.00441],\n",
       "                {}\n",
       "            ).addTo(marker_cluster_2d2d92b93aa789c706b1f625baffdaad);\n",
       "        \n",
       "    \n",
       "            marker_92d3ab265a9881994b8ab476d7ca3a66.bindTooltip(\n",
       "                `&lt;div&gt;\n",
       "                     10歳代\n",
       "                 &lt;/div&gt;`,\n",
       "                {&quot;sticky&quot;: true}\n",
       "            );\n",
       "        \n",
       "    \n",
       "            var marker_868531835c0133e079abefc9d310d51a = L.marker(\n",
       "                [35.824383, 139.979614],\n",
       "                {}\n",
       "            ).addTo(marker_cluster_2d2d92b93aa789c706b1f625baffdaad);\n",
       "        \n",
       "    \n",
       "            marker_868531835c0133e079abefc9d310d51a.bindTooltip(\n",
       "                `&lt;div&gt;\n",
       "                     10歳代\n",
       "                 &lt;/div&gt;`,\n",
       "                {&quot;sticky&quot;: true}\n",
       "            );\n",
       "        \n",
       "    \n",
       "            var marker_61f7d9530e9b2949927d0e39631f9b54 = L.marker(\n",
       "                [35.85088, 139.955795],\n",
       "                {}\n",
       "            ).addTo(marker_cluster_2d2d92b93aa789c706b1f625baffdaad);\n",
       "        \n",
       "    \n",
       "            marker_61f7d9530e9b2949927d0e39631f9b54.bindTooltip(\n",
       "                `&lt;div&gt;\n",
       "                     10歳代\n",
       "                 &lt;/div&gt;`,\n",
       "                {&quot;sticky&quot;: true}\n",
       "            );\n",
       "        \n",
       "    \n",
       "            var marker_cb68722c5b57a199559992560824dead = L.marker(\n",
       "                [35.859928, 139.949814],\n",
       "                {}\n",
       "            ).addTo(marker_cluster_2d2d92b93aa789c706b1f625baffdaad);\n",
       "        \n",
       "    \n",
       "            marker_cb68722c5b57a199559992560824dead.bindTooltip(\n",
       "                `&lt;div&gt;\n",
       "                     10歳代\n",
       "                 &lt;/div&gt;`,\n",
       "                {&quot;sticky&quot;: true}\n",
       "            );\n",
       "        \n",
       "    \n",
       "            var marker_43ab9d60c4e003c7a7ca57106a202885 = L.marker(\n",
       "                [35.859928, 139.949814],\n",
       "                {}\n",
       "            ).addTo(marker_cluster_2d2d92b93aa789c706b1f625baffdaad);\n",
       "        \n",
       "    \n",
       "            marker_43ab9d60c4e003c7a7ca57106a202885.bindTooltip(\n",
       "                `&lt;div&gt;\n",
       "                     30歳代\n",
       "                 &lt;/div&gt;`,\n",
       "                {&quot;sticky&quot;: true}\n",
       "            );\n",
       "        \n",
       "    \n",
       "            var marker_82288a1be6a86fb4c33749ae02907d60 = L.marker(\n",
       "                [35.859928, 139.949814],\n",
       "                {}\n",
       "            ).addTo(marker_cluster_2d2d92b93aa789c706b1f625baffdaad);\n",
       "        \n",
       "    \n",
       "            marker_82288a1be6a86fb4c33749ae02907d60.bindTooltip(\n",
       "                `&lt;div&gt;\n",
       "                     30歳代\n",
       "                 &lt;/div&gt;`,\n",
       "                {&quot;sticky&quot;: true}\n",
       "            );\n",
       "        \n",
       "    \n",
       "            var marker_9f2f94f259fbb5479f1d61576c5ec49a = L.marker(\n",
       "                [35.859928, 139.949814],\n",
       "                {}\n",
       "            ).addTo(marker_cluster_2d2d92b93aa789c706b1f625baffdaad);\n",
       "        \n",
       "    \n",
       "            marker_9f2f94f259fbb5479f1d61576c5ec49a.bindTooltip(\n",
       "                `&lt;div&gt;\n",
       "                     30歳代\n",
       "                 &lt;/div&gt;`,\n",
       "                {&quot;sticky&quot;: true}\n",
       "            );\n",
       "        \n",
       "    \n",
       "            var marker_724deb367ca188496da476ea3225f7d0 = L.marker(\n",
       "                [35.859928, 139.949814],\n",
       "                {}\n",
       "            ).addTo(marker_cluster_2d2d92b93aa789c706b1f625baffdaad);\n",
       "        \n",
       "    \n",
       "            marker_724deb367ca188496da476ea3225f7d0.bindTooltip(\n",
       "                `&lt;div&gt;\n",
       "                     30歳代\n",
       "                 &lt;/div&gt;`,\n",
       "                {&quot;sticky&quot;: true}\n",
       "            );\n",
       "        \n",
       "    \n",
       "            var marker_2766ddfa4023de953e23b54d8770e712 = L.marker(\n",
       "                [35.859928, 139.949814],\n",
       "                {}\n",
       "            ).addTo(marker_cluster_2d2d92b93aa789c706b1f625baffdaad);\n",
       "        \n",
       "    \n",
       "            marker_2766ddfa4023de953e23b54d8770e712.bindTooltip(\n",
       "                `&lt;div&gt;\n",
       "                     10歳代\n",
       "                 &lt;/div&gt;`,\n",
       "                {&quot;sticky&quot;: true}\n",
       "            );\n",
       "        \n",
       "    \n",
       "            var marker_b75bc7c67efa3c1c7dc92519bb13c816 = L.marker(\n",
       "                [35.859928, 139.949814],\n",
       "                {}\n",
       "            ).addTo(marker_cluster_2d2d92b93aa789c706b1f625baffdaad);\n",
       "        \n",
       "    \n",
       "            marker_b75bc7c67efa3c1c7dc92519bb13c816.bindTooltip(\n",
       "                `&lt;div&gt;\n",
       "                     20歳代\n",
       "                 &lt;/div&gt;`,\n",
       "                {&quot;sticky&quot;: true}\n",
       "            );\n",
       "        \n",
       "    \n",
       "            var marker_44d0cc71cc14a375931f9b62537811e0 = L.marker(\n",
       "                [35.859928, 139.949814],\n",
       "                {}\n",
       "            ).addTo(marker_cluster_2d2d92b93aa789c706b1f625baffdaad);\n",
       "        \n",
       "    \n",
       "            marker_44d0cc71cc14a375931f9b62537811e0.bindTooltip(\n",
       "                `&lt;div&gt;\n",
       "                     10歳代\n",
       "                 &lt;/div&gt;`,\n",
       "                {&quot;sticky&quot;: true}\n",
       "            );\n",
       "        \n",
       "    \n",
       "            var marker_500318711cdec8f5a8ad770af930341e = L.marker(\n",
       "                [35.845783, 139.953476],\n",
       "                {}\n",
       "            ).addTo(marker_cluster_2d2d92b93aa789c706b1f625baffdaad);\n",
       "        \n",
       "    \n",
       "            marker_500318711cdec8f5a8ad770af930341e.bindTooltip(\n",
       "                `&lt;div&gt;\n",
       "                     30歳代\n",
       "                 &lt;/div&gt;`,\n",
       "                {&quot;sticky&quot;: true}\n",
       "            );\n",
       "        \n",
       "    \n",
       "            var marker_8e40d0989c07ee2b180ac943fe8ed2ce = L.marker(\n",
       "                [35.845783, 139.953476],\n",
       "                {}\n",
       "            ).addTo(marker_cluster_2d2d92b93aa789c706b1f625baffdaad);\n",
       "        \n",
       "    \n",
       "            marker_8e40d0989c07ee2b180ac943fe8ed2ce.bindTooltip(\n",
       "                `&lt;div&gt;\n",
       "                     10歳代\n",
       "                 &lt;/div&gt;`,\n",
       "                {&quot;sticky&quot;: true}\n",
       "            );\n",
       "        \n",
       "    \n",
       "            var marker_99cec8dea784db417635c18ca00830c3 = L.marker(\n",
       "                [35.845783, 139.953476],\n",
       "                {}\n",
       "            ).addTo(marker_cluster_2d2d92b93aa789c706b1f625baffdaad);\n",
       "        \n",
       "    \n",
       "            marker_99cec8dea784db417635c18ca00830c3.bindTooltip(\n",
       "                `&lt;div&gt;\n",
       "                     20歳代\n",
       "                 &lt;/div&gt;`,\n",
       "                {&quot;sticky&quot;: true}\n",
       "            );\n",
       "        \n",
       "    \n",
       "            var marker_8176853fc4cafd52a3a6f39c0f14746e = L.marker(\n",
       "                [35.845783, 139.953476],\n",
       "                {}\n",
       "            ).addTo(marker_cluster_2d2d92b93aa789c706b1f625baffdaad);\n",
       "        \n",
       "    \n",
       "            marker_8176853fc4cafd52a3a6f39c0f14746e.bindTooltip(\n",
       "                `&lt;div&gt;\n",
       "                     10歳代\n",
       "                 &lt;/div&gt;`,\n",
       "                {&quot;sticky&quot;: true}\n",
       "            );\n",
       "        \n",
       "    \n",
       "            var marker_289e765aa4de953b45dff35787dc4b4e = L.marker(\n",
       "                [35.845783, 139.953476],\n",
       "                {}\n",
       "            ).addTo(marker_cluster_2d2d92b93aa789c706b1f625baffdaad);\n",
       "        \n",
       "    \n",
       "            marker_289e765aa4de953b45dff35787dc4b4e.bindTooltip(\n",
       "                `&lt;div&gt;\n",
       "                     30歳代\n",
       "                 &lt;/div&gt;`,\n",
       "                {&quot;sticky&quot;: true}\n",
       "            );\n",
       "        \n",
       "    \n",
       "            var marker_1624d95298dc0dcb3c5f0ae1b488fdd8 = L.marker(\n",
       "                [35.845783, 139.953476],\n",
       "                {}\n",
       "            ).addTo(marker_cluster_2d2d92b93aa789c706b1f625baffdaad);\n",
       "        \n",
       "    \n",
       "            marker_1624d95298dc0dcb3c5f0ae1b488fdd8.bindTooltip(\n",
       "                `&lt;div&gt;\n",
       "                     50歳代\n",
       "                 &lt;/div&gt;`,\n",
       "                {&quot;sticky&quot;: true}\n",
       "            );\n",
       "        \n",
       "    \n",
       "            var marker_9a885c9bef0f1826c319003f2a028b56 = L.marker(\n",
       "                [35.845783, 139.953476],\n",
       "                {}\n",
       "            ).addTo(marker_cluster_2d2d92b93aa789c706b1f625baffdaad);\n",
       "        \n",
       "    \n",
       "            marker_9a885c9bef0f1826c319003f2a028b56.bindTooltip(\n",
       "                `&lt;div&gt;\n",
       "                     20歳代\n",
       "                 &lt;/div&gt;`,\n",
       "                {&quot;sticky&quot;: true}\n",
       "            );\n",
       "        \n",
       "    \n",
       "            var marker_946c741e0b1a97bdf66c7930e063aac4 = L.marker(\n",
       "                [35.847271, 139.955032],\n",
       "                {}\n",
       "            ).addTo(marker_cluster_2d2d92b93aa789c706b1f625baffdaad);\n",
       "        \n",
       "    \n",
       "            marker_946c741e0b1a97bdf66c7930e063aac4.bindTooltip(\n",
       "                `&lt;div&gt;\n",
       "                     20歳代\n",
       "                 &lt;/div&gt;`,\n",
       "                {&quot;sticky&quot;: true}\n",
       "            );\n",
       "        \n",
       "    \n",
       "            var marker_e9023658e0ade29b1b5264cb8b60000b = L.marker(\n",
       "                [35.847271, 139.955032],\n",
       "                {}\n",
       "            ).addTo(marker_cluster_2d2d92b93aa789c706b1f625baffdaad);\n",
       "        \n",
       "    \n",
       "            marker_e9023658e0ade29b1b5264cb8b60000b.bindTooltip(\n",
       "                `&lt;div&gt;\n",
       "                     10歳代\n",
       "                 &lt;/div&gt;`,\n",
       "                {&quot;sticky&quot;: true}\n",
       "            );\n",
       "        \n",
       "    \n",
       "            var marker_8ff07caf5e298cd04d0c63d3aaa401ca = L.marker(\n",
       "                [35.847271, 139.955032],\n",
       "                {}\n",
       "            ).addTo(marker_cluster_2d2d92b93aa789c706b1f625baffdaad);\n",
       "        \n",
       "    \n",
       "            marker_8ff07caf5e298cd04d0c63d3aaa401ca.bindTooltip(\n",
       "                `&lt;div&gt;\n",
       "                     10歳代\n",
       "                 &lt;/div&gt;`,\n",
       "                {&quot;sticky&quot;: true}\n",
       "            );\n",
       "        \n",
       "    \n",
       "            var marker_af808c0195e566caf7d8d1bb41f4698a = L.marker(\n",
       "                [35.847271, 139.955032],\n",
       "                {}\n",
       "            ).addTo(marker_cluster_2d2d92b93aa789c706b1f625baffdaad);\n",
       "        \n",
       "    \n",
       "            marker_af808c0195e566caf7d8d1bb41f4698a.bindTooltip(\n",
       "                `&lt;div&gt;\n",
       "                     10歳代\n",
       "                 &lt;/div&gt;`,\n",
       "                {&quot;sticky&quot;: true}\n",
       "            );\n",
       "        \n",
       "    \n",
       "            var marker_34f79831e55f90823275c66c92c556c8 = L.marker(\n",
       "                [35.851013, 139.960251],\n",
       "                {}\n",
       "            ).addTo(marker_cluster_2d2d92b93aa789c706b1f625baffdaad);\n",
       "        \n",
       "    \n",
       "            marker_34f79831e55f90823275c66c92c556c8.bindTooltip(\n",
       "                `&lt;div&gt;\n",
       "                     10歳代\n",
       "                 &lt;/div&gt;`,\n",
       "                {&quot;sticky&quot;: true}\n",
       "            );\n",
       "        \n",
       "    \n",
       "            var marker_b6ae4028608740d1052f4862d534f4e9 = L.marker(\n",
       "                [35.851013, 139.960251],\n",
       "                {}\n",
       "            ).addTo(marker_cluster_2d2d92b93aa789c706b1f625baffdaad);\n",
       "        \n",
       "    \n",
       "            marker_b6ae4028608740d1052f4862d534f4e9.bindTooltip(\n",
       "                `&lt;div&gt;\n",
       "                     10歳代\n",
       "                 &lt;/div&gt;`,\n",
       "                {&quot;sticky&quot;: true}\n",
       "            );\n",
       "        \n",
       "    \n",
       "            var marker_be38a33d35fb78cb581b6193eb622a52 = L.marker(\n",
       "                [35.851013, 139.960251],\n",
       "                {}\n",
       "            ).addTo(marker_cluster_2d2d92b93aa789c706b1f625baffdaad);\n",
       "        \n",
       "    \n",
       "            marker_be38a33d35fb78cb581b6193eb622a52.bindTooltip(\n",
       "                `&lt;div&gt;\n",
       "                     20歳代\n",
       "                 &lt;/div&gt;`,\n",
       "                {&quot;sticky&quot;: true}\n",
       "            );\n",
       "        \n",
       "    \n",
       "            var marker_fdad18a925ce2f49e8781fa889b34770 = L.marker(\n",
       "                [35.844471, 139.954956],\n",
       "                {}\n",
       "            ).addTo(marker_cluster_2d2d92b93aa789c706b1f625baffdaad);\n",
       "        \n",
       "    \n",
       "            marker_fdad18a925ce2f49e8781fa889b34770.bindTooltip(\n",
       "                `&lt;div&gt;\n",
       "                     20歳代\n",
       "                 &lt;/div&gt;`,\n",
       "                {&quot;sticky&quot;: true}\n",
       "            );\n",
       "        \n",
       "    \n",
       "            var marker_a6a0ad594b448d3ffba7bc7e618a08ec = L.marker(\n",
       "                [35.844471, 139.954956],\n",
       "                {}\n",
       "            ).addTo(marker_cluster_2d2d92b93aa789c706b1f625baffdaad);\n",
       "        \n",
       "    \n",
       "            marker_a6a0ad594b448d3ffba7bc7e618a08ec.bindTooltip(\n",
       "                `&lt;div&gt;\n",
       "                     10歳代\n",
       "                 &lt;/div&gt;`,\n",
       "                {&quot;sticky&quot;: true}\n",
       "            );\n",
       "        \n",
       "    \n",
       "            var marker_12de45c8eaf71150b58207488e3b2451 = L.marker(\n",
       "                [35.844471, 139.954956],\n",
       "                {}\n",
       "            ).addTo(marker_cluster_2d2d92b93aa789c706b1f625baffdaad);\n",
       "        \n",
       "    \n",
       "            marker_12de45c8eaf71150b58207488e3b2451.bindTooltip(\n",
       "                `&lt;div&gt;\n",
       "                     10歳代\n",
       "                 &lt;/div&gt;`,\n",
       "                {&quot;sticky&quot;: true}\n",
       "            );\n",
       "        \n",
       "    \n",
       "            var marker_5b4bd80e759d0d7ee2c4be43f1791e2c = L.marker(\n",
       "                [35.844471, 139.954956],\n",
       "                {}\n",
       "            ).addTo(marker_cluster_2d2d92b93aa789c706b1f625baffdaad);\n",
       "        \n",
       "    \n",
       "            marker_5b4bd80e759d0d7ee2c4be43f1791e2c.bindTooltip(\n",
       "                `&lt;div&gt;\n",
       "                     10歳代\n",
       "                 &lt;/div&gt;`,\n",
       "                {&quot;sticky&quot;: true}\n",
       "            );\n",
       "        \n",
       "    \n",
       "            var marker_3d209b4dfbcf9d7bc30bffc13a1abe33 = L.marker(\n",
       "                [35.844471, 139.954956],\n",
       "                {}\n",
       "            ).addTo(marker_cluster_2d2d92b93aa789c706b1f625baffdaad);\n",
       "        \n",
       "    \n",
       "            marker_3d209b4dfbcf9d7bc30bffc13a1abe33.bindTooltip(\n",
       "                `&lt;div&gt;\n",
       "                     10歳代\n",
       "                 &lt;/div&gt;`,\n",
       "                {&quot;sticky&quot;: true}\n",
       "            );\n",
       "        \n",
       "    \n",
       "            var marker_01570b838eb91417f9248d7aca7d6db1 = L.marker(\n",
       "                [35.844471, 139.954956],\n",
       "                {}\n",
       "            ).addTo(marker_cluster_2d2d92b93aa789c706b1f625baffdaad);\n",
       "        \n",
       "    \n",
       "            marker_01570b838eb91417f9248d7aca7d6db1.bindTooltip(\n",
       "                `&lt;div&gt;\n",
       "                     10歳代\n",
       "                 &lt;/div&gt;`,\n",
       "                {&quot;sticky&quot;: true}\n",
       "            );\n",
       "        \n",
       "    \n",
       "            var marker_215de906d6eab569402c25c919cd598f = L.marker(\n",
       "                [35.844471, 139.954956],\n",
       "                {}\n",
       "            ).addTo(marker_cluster_2d2d92b93aa789c706b1f625baffdaad);\n",
       "        \n",
       "    \n",
       "            marker_215de906d6eab569402c25c919cd598f.bindTooltip(\n",
       "                `&lt;div&gt;\n",
       "                     30歳代\n",
       "                 &lt;/div&gt;`,\n",
       "                {&quot;sticky&quot;: true}\n",
       "            );\n",
       "        \n",
       "    \n",
       "            var marker_75e72ea51f0a4a3dac75c004a2b97d34 = L.marker(\n",
       "                [35.844471, 139.954956],\n",
       "                {}\n",
       "            ).addTo(marker_cluster_2d2d92b93aa789c706b1f625baffdaad);\n",
       "        \n",
       "    \n",
       "            marker_75e72ea51f0a4a3dac75c004a2b97d34.bindTooltip(\n",
       "                `&lt;div&gt;\n",
       "                     20歳代\n",
       "                 &lt;/div&gt;`,\n",
       "                {&quot;sticky&quot;: true}\n",
       "            );\n",
       "        \n",
       "    \n",
       "            var marker_0ff02aacbbf4d3fd3c07702aea0e1eb0 = L.marker(\n",
       "                [35.844471, 139.954956],\n",
       "                {}\n",
       "            ).addTo(marker_cluster_2d2d92b93aa789c706b1f625baffdaad);\n",
       "        \n",
       "    \n",
       "            marker_0ff02aacbbf4d3fd3c07702aea0e1eb0.bindTooltip(\n",
       "                `&lt;div&gt;\n",
       "                     10歳代\n",
       "                 &lt;/div&gt;`,\n",
       "                {&quot;sticky&quot;: true}\n",
       "            );\n",
       "        \n",
       "    \n",
       "            var marker_fad8653b37f279716f74bce97c0dacf7 = L.marker(\n",
       "                [35.844471, 139.954956],\n",
       "                {}\n",
       "            ).addTo(marker_cluster_2d2d92b93aa789c706b1f625baffdaad);\n",
       "        \n",
       "    \n",
       "            marker_fad8653b37f279716f74bce97c0dacf7.bindTooltip(\n",
       "                `&lt;div&gt;\n",
       "                     10歳代\n",
       "                 &lt;/div&gt;`,\n",
       "                {&quot;sticky&quot;: true}\n",
       "            );\n",
       "        \n",
       "    \n",
       "            var marker_47863a65aa62dda0c04ab2bfda24231a = L.marker(\n",
       "                [35.844471, 139.954956],\n",
       "                {}\n",
       "            ).addTo(marker_cluster_2d2d92b93aa789c706b1f625baffdaad);\n",
       "        \n",
       "    \n",
       "            marker_47863a65aa62dda0c04ab2bfda24231a.bindTooltip(\n",
       "                `&lt;div&gt;\n",
       "                     10歳代\n",
       "                 &lt;/div&gt;`,\n",
       "                {&quot;sticky&quot;: true}\n",
       "            );\n",
       "        \n",
       "    \n",
       "            var marker_add5e545267c862ca968deb1909bebf9 = L.marker(\n",
       "                [35.844471, 139.954956],\n",
       "                {}\n",
       "            ).addTo(marker_cluster_2d2d92b93aa789c706b1f625baffdaad);\n",
       "        \n",
       "    \n",
       "            marker_add5e545267c862ca968deb1909bebf9.bindTooltip(\n",
       "                `&lt;div&gt;\n",
       "                     20歳代\n",
       "                 &lt;/div&gt;`,\n",
       "                {&quot;sticky&quot;: true}\n",
       "            );\n",
       "        \n",
       "    \n",
       "            var marker_e60c52885dda502043079c5e9a2f3e89 = L.marker(\n",
       "                [35.844471, 139.954956],\n",
       "                {}\n",
       "            ).addTo(marker_cluster_2d2d92b93aa789c706b1f625baffdaad);\n",
       "        \n",
       "    \n",
       "            marker_e60c52885dda502043079c5e9a2f3e89.bindTooltip(\n",
       "                `&lt;div&gt;\n",
       "                     20歳代\n",
       "                 &lt;/div&gt;`,\n",
       "                {&quot;sticky&quot;: true}\n",
       "            );\n",
       "        \n",
       "    \n",
       "            var marker_ff358d117552394892e1f6be9c658d07 = L.marker(\n",
       "                [35.844471, 139.954956],\n",
       "                {}\n",
       "            ).addTo(marker_cluster_2d2d92b93aa789c706b1f625baffdaad);\n",
       "        \n",
       "    \n",
       "            marker_ff358d117552394892e1f6be9c658d07.bindTooltip(\n",
       "                `&lt;div&gt;\n",
       "                     40歳代\n",
       "                 &lt;/div&gt;`,\n",
       "                {&quot;sticky&quot;: true}\n",
       "            );\n",
       "        \n",
       "    \n",
       "            var marker_24a015965b408aa2f38d76374a14f2b6 = L.marker(\n",
       "                [35.844471, 139.954956],\n",
       "                {}\n",
       "            ).addTo(marker_cluster_2d2d92b93aa789c706b1f625baffdaad);\n",
       "        \n",
       "    \n",
       "            marker_24a015965b408aa2f38d76374a14f2b6.bindTooltip(\n",
       "                `&lt;div&gt;\n",
       "                     30歳代\n",
       "                 &lt;/div&gt;`,\n",
       "                {&quot;sticky&quot;: true}\n",
       "            );\n",
       "        \n",
       "    \n",
       "            var marker_fd4068b9a62ff5d0d85abbb36bb98d2c = L.marker(\n",
       "                [35.830082, 139.97319],\n",
       "                {}\n",
       "            ).addTo(marker_cluster_2d2d92b93aa789c706b1f625baffdaad);\n",
       "        \n",
       "    \n",
       "            marker_fd4068b9a62ff5d0d85abbb36bb98d2c.bindTooltip(\n",
       "                `&lt;div&gt;\n",
       "                     10歳代\n",
       "                 &lt;/div&gt;`,\n",
       "                {&quot;sticky&quot;: true}\n",
       "            );\n",
       "        \n",
       "    \n",
       "            var marker_45d38c4730e271db7874669d07c9036b = L.marker(\n",
       "                [35.830082, 139.97319],\n",
       "                {}\n",
       "            ).addTo(marker_cluster_2d2d92b93aa789c706b1f625baffdaad);\n",
       "        \n",
       "    \n",
       "            marker_45d38c4730e271db7874669d07c9036b.bindTooltip(\n",
       "                `&lt;div&gt;\n",
       "                     10歳代\n",
       "                 &lt;/div&gt;`,\n",
       "                {&quot;sticky&quot;: true}\n",
       "            );\n",
       "        \n",
       "    \n",
       "            var marker_99c5792b0387e2260100a522142ee723 = L.marker(\n",
       "                [35.830082, 139.97319],\n",
       "                {}\n",
       "            ).addTo(marker_cluster_2d2d92b93aa789c706b1f625baffdaad);\n",
       "        \n",
       "    \n",
       "            marker_99c5792b0387e2260100a522142ee723.bindTooltip(\n",
       "                `&lt;div&gt;\n",
       "                     70歳以上\n",
       "                 &lt;/div&gt;`,\n",
       "                {&quot;sticky&quot;: true}\n",
       "            );\n",
       "        \n",
       "    \n",
       "            var marker_eb770a9d38946d5b06bdf1e8db1168cc = L.marker(\n",
       "                [35.830082, 139.97319],\n",
       "                {}\n",
       "            ).addTo(marker_cluster_2d2d92b93aa789c706b1f625baffdaad);\n",
       "        \n",
       "    \n",
       "            marker_eb770a9d38946d5b06bdf1e8db1168cc.bindTooltip(\n",
       "                `&lt;div&gt;\n",
       "                     20歳代\n",
       "                 &lt;/div&gt;`,\n",
       "                {&quot;sticky&quot;: true}\n",
       "            );\n",
       "        \n",
       "    \n",
       "            var marker_fd7f3dcf8122fd484bfaa4649ecddb5e = L.marker(\n",
       "                [35.824383, 139.979614],\n",
       "                {}\n",
       "            ).addTo(marker_cluster_2d2d92b93aa789c706b1f625baffdaad);\n",
       "        \n",
       "    \n",
       "            marker_fd7f3dcf8122fd484bfaa4649ecddb5e.bindTooltip(\n",
       "                `&lt;div&gt;\n",
       "                     10歳未満\n",
       "                 &lt;/div&gt;`,\n",
       "                {&quot;sticky&quot;: true}\n",
       "            );\n",
       "        \n",
       "    \n",
       "            var marker_30c7d0edd98f8859dfb1193606cc177a = L.marker(\n",
       "                [35.832466, 139.974945],\n",
       "                {}\n",
       "            ).addTo(marker_cluster_2d2d92b93aa789c706b1f625baffdaad);\n",
       "        \n",
       "    \n",
       "            marker_30c7d0edd98f8859dfb1193606cc177a.bindTooltip(\n",
       "                `&lt;div&gt;\n",
       "                     30歳代\n",
       "                 &lt;/div&gt;`,\n",
       "                {&quot;sticky&quot;: true}\n",
       "            );\n",
       "        \n",
       "    \n",
       "            var marker_4b590e2da9e5417641e42ee196683a47 = L.marker(\n",
       "                [35.831703, 139.978226],\n",
       "                {}\n",
       "            ).addTo(marker_cluster_2d2d92b93aa789c706b1f625baffdaad);\n",
       "        \n",
       "    \n",
       "            marker_4b590e2da9e5417641e42ee196683a47.bindTooltip(\n",
       "                `&lt;div&gt;\n",
       "                     10歳代\n",
       "                 &lt;/div&gt;`,\n",
       "                {&quot;sticky&quot;: true}\n",
       "            );\n",
       "        \n",
       "    \n",
       "            var marker_33dfdb26b85532ae37c7543a26550678 = L.marker(\n",
       "                [35.835472, 139.983551],\n",
       "                {}\n",
       "            ).addTo(marker_cluster_2d2d92b93aa789c706b1f625baffdaad);\n",
       "        \n",
       "    \n",
       "            marker_33dfdb26b85532ae37c7543a26550678.bindTooltip(\n",
       "                `&lt;div&gt;\n",
       "                     30歳代\n",
       "                 &lt;/div&gt;`,\n",
       "                {&quot;sticky&quot;: true}\n",
       "            );\n",
       "        \n",
       "    \n",
       "            var marker_1b3e7ff6f34e4c62bb5ede97f37e2e31 = L.marker(\n",
       "                [35.829124, 139.986633],\n",
       "                {}\n",
       "            ).addTo(marker_cluster_2d2d92b93aa789c706b1f625baffdaad);\n",
       "        \n",
       "    \n",
       "            marker_1b3e7ff6f34e4c62bb5ede97f37e2e31.bindTooltip(\n",
       "                `&lt;div&gt;\n",
       "                     10歳代\n",
       "                 &lt;/div&gt;`,\n",
       "                {&quot;sticky&quot;: true}\n",
       "            );\n",
       "        \n",
       "    \n",
       "            var marker_131f0c5603b218244c890f62946143d1 = L.marker(\n",
       "                [35.824703, 139.974731],\n",
       "                {}\n",
       "            ).addTo(marker_cluster_2d2d92b93aa789c706b1f625baffdaad);\n",
       "        \n",
       "    \n",
       "            marker_131f0c5603b218244c890f62946143d1.bindTooltip(\n",
       "                `&lt;div&gt;\n",
       "                     60-64歳\n",
       "                 &lt;/div&gt;`,\n",
       "                {&quot;sticky&quot;: true}\n",
       "            );\n",
       "        \n",
       "    \n",
       "            var marker_094e955e0c2ecd68a2d50f90fb1d88f3 = L.marker(\n",
       "                [35.824703, 139.974731],\n",
       "                {}\n",
       "            ).addTo(marker_cluster_2d2d92b93aa789c706b1f625baffdaad);\n",
       "        \n",
       "    \n",
       "            marker_094e955e0c2ecd68a2d50f90fb1d88f3.bindTooltip(\n",
       "                `&lt;div&gt;\n",
       "                     20歳代\n",
       "                 &lt;/div&gt;`,\n",
       "                {&quot;sticky&quot;: true}\n",
       "            );\n",
       "        \n",
       "    \n",
       "            var marker_08bfd303a79eaba7583c6d8625314af1 = L.marker(\n",
       "                [35.821732, 139.973206],\n",
       "                {}\n",
       "            ).addTo(marker_cluster_2d2d92b93aa789c706b1f625baffdaad);\n",
       "        \n",
       "    \n",
       "            marker_08bfd303a79eaba7583c6d8625314af1.bindTooltip(\n",
       "                `&lt;div&gt;\n",
       "                     10歳代\n",
       "                 &lt;/div&gt;`,\n",
       "                {&quot;sticky&quot;: true}\n",
       "            );\n",
       "        \n",
       "    \n",
       "            var marker_d858842bacc3e913b8042e28cc86d8e0 = L.marker(\n",
       "                [35.821732, 139.973206],\n",
       "                {}\n",
       "            ).addTo(marker_cluster_2d2d92b93aa789c706b1f625baffdaad);\n",
       "        \n",
       "    \n",
       "            marker_d858842bacc3e913b8042e28cc86d8e0.bindTooltip(\n",
       "                `&lt;div&gt;\n",
       "                     10歳代\n",
       "                 &lt;/div&gt;`,\n",
       "                {&quot;sticky&quot;: true}\n",
       "            );\n",
       "        \n",
       "    \n",
       "            var marker_a4c56b71f57a1288569b1696e9d0a25a = L.marker(\n",
       "                [35.850155, 140.00441],\n",
       "                {}\n",
       "            ).addTo(marker_cluster_2d2d92b93aa789c706b1f625baffdaad);\n",
       "        \n",
       "    \n",
       "            marker_a4c56b71f57a1288569b1696e9d0a25a.bindTooltip(\n",
       "                `&lt;div&gt;\n",
       "                     10歳代\n",
       "                 &lt;/div&gt;`,\n",
       "                {&quot;sticky&quot;: true}\n",
       "            );\n",
       "        \n",
       "    \n",
       "            var marker_e414d5aa35a321a214a3a6067dedea10 = L.marker(\n",
       "                [35.850155, 140.00441],\n",
       "                {}\n",
       "            ).addTo(marker_cluster_2d2d92b93aa789c706b1f625baffdaad);\n",
       "        \n",
       "    \n",
       "            marker_e414d5aa35a321a214a3a6067dedea10.bindTooltip(\n",
       "                `&lt;div&gt;\n",
       "                     30歳代\n",
       "                 &lt;/div&gt;`,\n",
       "                {&quot;sticky&quot;: true}\n",
       "            );\n",
       "        \n",
       "    \n",
       "            var marker_d46d1122d02ba1011e8e858d2cf52b65 = L.marker(\n",
       "                [35.835773, 140.012802],\n",
       "                {}\n",
       "            ).addTo(marker_cluster_2d2d92b93aa789c706b1f625baffdaad);\n",
       "        \n",
       "    \n",
       "            marker_d46d1122d02ba1011e8e858d2cf52b65.bindTooltip(\n",
       "                `&lt;div&gt;\n",
       "                     10歳代\n",
       "                 &lt;/div&gt;`,\n",
       "                {&quot;sticky&quot;: true}\n",
       "            );\n",
       "        \n",
       "    \n",
       "            var marker_8a8ea740af060450b24154bacbc3b0fe = L.marker(\n",
       "                [35.835773, 140.012802],\n",
       "                {}\n",
       "            ).addTo(marker_cluster_2d2d92b93aa789c706b1f625baffdaad);\n",
       "        \n",
       "    \n",
       "            marker_8a8ea740af060450b24154bacbc3b0fe.bindTooltip(\n",
       "                `&lt;div&gt;\n",
       "                     20歳代\n",
       "                 &lt;/div&gt;`,\n",
       "                {&quot;sticky&quot;: true}\n",
       "            );\n",
       "        \n",
       "    \n",
       "            var marker_d23da42f96eca43ffe576fa106ea697e = L.marker(\n",
       "                [35.833759, 140.011703],\n",
       "                {}\n",
       "            ).addTo(marker_cluster_2d2d92b93aa789c706b1f625baffdaad);\n",
       "        \n",
       "    \n",
       "            marker_d23da42f96eca43ffe576fa106ea697e.bindTooltip(\n",
       "                `&lt;div&gt;\n",
       "                     10歳代\n",
       "                 &lt;/div&gt;`,\n",
       "                {&quot;sticky&quot;: true}\n",
       "            );\n",
       "        \n",
       "    \n",
       "            var marker_5b96b0de0f1506e2fccfde171785a84a = L.marker(\n",
       "                [35.833759, 140.011703],\n",
       "                {}\n",
       "            ).addTo(marker_cluster_2d2d92b93aa789c706b1f625baffdaad);\n",
       "        \n",
       "    \n",
       "            marker_5b96b0de0f1506e2fccfde171785a84a.bindTooltip(\n",
       "                `&lt;div&gt;\n",
       "                     10歳代\n",
       "                 &lt;/div&gt;`,\n",
       "                {&quot;sticky&quot;: true}\n",
       "            );\n",
       "        \n",
       "    \n",
       "            var marker_cddae44a1bcff81bed52af14b2310898 = L.marker(\n",
       "                [35.833759, 140.011703],\n",
       "                {}\n",
       "            ).addTo(marker_cluster_2d2d92b93aa789c706b1f625baffdaad);\n",
       "        \n",
       "    \n",
       "            marker_cddae44a1bcff81bed52af14b2310898.bindTooltip(\n",
       "                `&lt;div&gt;\n",
       "                     20歳代\n",
       "                 &lt;/div&gt;`,\n",
       "                {&quot;sticky&quot;: true}\n",
       "            );\n",
       "        \n",
       "    \n",
       "            var marker_4efaa9acda2a575fb3f8dcc57e28bfba = L.marker(\n",
       "                [35.833759, 140.011703],\n",
       "                {}\n",
       "            ).addTo(marker_cluster_2d2d92b93aa789c706b1f625baffdaad);\n",
       "        \n",
       "    \n",
       "            marker_4efaa9acda2a575fb3f8dcc57e28bfba.bindTooltip(\n",
       "                `&lt;div&gt;\n",
       "                     20歳代\n",
       "                 &lt;/div&gt;`,\n",
       "                {&quot;sticky&quot;: true}\n",
       "            );\n",
       "        \n",
       "    \n",
       "            var marker_10d2d40077c649c1144796feda48462c = L.marker(\n",
       "                [35.833759, 140.011703],\n",
       "                {}\n",
       "            ).addTo(marker_cluster_2d2d92b93aa789c706b1f625baffdaad);\n",
       "        \n",
       "    \n",
       "            marker_10d2d40077c649c1144796feda48462c.bindTooltip(\n",
       "                `&lt;div&gt;\n",
       "                     10歳代\n",
       "                 &lt;/div&gt;`,\n",
       "                {&quot;sticky&quot;: true}\n",
       "            );\n",
       "        \n",
       "    \n",
       "            var marker_7649a59dfca0b73ad20b7ca55679a30b = L.marker(\n",
       "                [35.833759, 140.011703],\n",
       "                {}\n",
       "            ).addTo(marker_cluster_2d2d92b93aa789c706b1f625baffdaad);\n",
       "        \n",
       "    \n",
       "            marker_7649a59dfca0b73ad20b7ca55679a30b.bindTooltip(\n",
       "                `&lt;div&gt;\n",
       "                     10歳代\n",
       "                 &lt;/div&gt;`,\n",
       "                {&quot;sticky&quot;: true}\n",
       "            );\n",
       "        \n",
       "    \n",
       "            var marker_57707bc30697f27ab33fc6cb634061dd = L.marker(\n",
       "                [35.833759, 140.011703],\n",
       "                {}\n",
       "            ).addTo(marker_cluster_2d2d92b93aa789c706b1f625baffdaad);\n",
       "        \n",
       "    \n",
       "            marker_57707bc30697f27ab33fc6cb634061dd.bindTooltip(\n",
       "                `&lt;div&gt;\n",
       "                     10歳代\n",
       "                 &lt;/div&gt;`,\n",
       "                {&quot;sticky&quot;: true}\n",
       "            );\n",
       "        \n",
       "    \n",
       "            var marker_0ad354096e99574c04a130de7eb1a5db = L.marker(\n",
       "                [35.833759, 140.011703],\n",
       "                {}\n",
       "            ).addTo(marker_cluster_2d2d92b93aa789c706b1f625baffdaad);\n",
       "        \n",
       "    \n",
       "            marker_0ad354096e99574c04a130de7eb1a5db.bindTooltip(\n",
       "                `&lt;div&gt;\n",
       "                     10歳代\n",
       "                 &lt;/div&gt;`,\n",
       "                {&quot;sticky&quot;: true}\n",
       "            );\n",
       "        \n",
       "    \n",
       "            var marker_8b21502a9ecbc260facb73ef7f53276b = L.marker(\n",
       "                [35.833759, 140.011703],\n",
       "                {}\n",
       "            ).addTo(marker_cluster_2d2d92b93aa789c706b1f625baffdaad);\n",
       "        \n",
       "    \n",
       "            marker_8b21502a9ecbc260facb73ef7f53276b.bindTooltip(\n",
       "                `&lt;div&gt;\n",
       "                     10歳代\n",
       "                 &lt;/div&gt;`,\n",
       "                {&quot;sticky&quot;: true}\n",
       "            );\n",
       "        \n",
       "    \n",
       "            var marker_b73f8cc496baf89a6475b8bba3e49b7d = L.marker(\n",
       "                [35.833759, 140.011703],\n",
       "                {}\n",
       "            ).addTo(marker_cluster_2d2d92b93aa789c706b1f625baffdaad);\n",
       "        \n",
       "    \n",
       "            marker_b73f8cc496baf89a6475b8bba3e49b7d.bindTooltip(\n",
       "                `&lt;div&gt;\n",
       "                     10歳代\n",
       "                 &lt;/div&gt;`,\n",
       "                {&quot;sticky&quot;: true}\n",
       "            );\n",
       "        \n",
       "    \n",
       "            var marker_a58a7c2830b69868bead5197ab638da8 = L.marker(\n",
       "                [35.833759, 140.011703],\n",
       "                {}\n",
       "            ).addTo(marker_cluster_2d2d92b93aa789c706b1f625baffdaad);\n",
       "        \n",
       "    \n",
       "            marker_a58a7c2830b69868bead5197ab638da8.bindTooltip(\n",
       "                `&lt;div&gt;\n",
       "                     10歳代\n",
       "                 &lt;/div&gt;`,\n",
       "                {&quot;sticky&quot;: true}\n",
       "            );\n",
       "        \n",
       "    \n",
       "            var marker_3fce796ed36d6d44578b31a6ef4b1ea1 = L.marker(\n",
       "                [35.84325, 140.003662],\n",
       "                {}\n",
       "            ).addTo(marker_cluster_2d2d92b93aa789c706b1f625baffdaad);\n",
       "        \n",
       "    \n",
       "            marker_3fce796ed36d6d44578b31a6ef4b1ea1.bindTooltip(\n",
       "                `&lt;div&gt;\n",
       "                     法人・団体、被害者なし\n",
       "                 &lt;/div&gt;`,\n",
       "                {&quot;sticky&quot;: true}\n",
       "            );\n",
       "        \n",
       "    \n",
       "            var marker_7bbef3a6a9f1be799c6b97060ca5bdd4 = L.marker(\n",
       "                [35.841068, 139.999237],\n",
       "                {}\n",
       "            ).addTo(marker_cluster_2d2d92b93aa789c706b1f625baffdaad);\n",
       "        \n",
       "    \n",
       "            marker_7bbef3a6a9f1be799c6b97060ca5bdd4.bindTooltip(\n",
       "                `&lt;div&gt;\n",
       "                     40歳代\n",
       "                 &lt;/div&gt;`,\n",
       "                {&quot;sticky&quot;: true}\n",
       "            );\n",
       "        \n",
       "    \n",
       "            var marker_4cfaa11b28e91a7631b3490f5385a223 = L.marker(\n",
       "                [35.841068, 139.999237],\n",
       "                {}\n",
       "            ).addTo(marker_cluster_2d2d92b93aa789c706b1f625baffdaad);\n",
       "        \n",
       "    \n",
       "            marker_4cfaa11b28e91a7631b3490f5385a223.bindTooltip(\n",
       "                `&lt;div&gt;\n",
       "                     10歳代\n",
       "                 &lt;/div&gt;`,\n",
       "                {&quot;sticky&quot;: true}\n",
       "            );\n",
       "        \n",
       "    \n",
       "            var marker_f1eceaec94d5f83dab099ae420dff804 = L.marker(\n",
       "                [35.841068, 139.999237],\n",
       "                {}\n",
       "            ).addTo(marker_cluster_2d2d92b93aa789c706b1f625baffdaad);\n",
       "        \n",
       "    \n",
       "            marker_f1eceaec94d5f83dab099ae420dff804.bindTooltip(\n",
       "                `&lt;div&gt;\n",
       "                     10歳代\n",
       "                 &lt;/div&gt;`,\n",
       "                {&quot;sticky&quot;: true}\n",
       "            );\n",
       "        \n",
       "    \n",
       "            var marker_07cfb657f83e1cc34060351dba9f3ad6 = L.marker(\n",
       "                [35.840942, 139.995621],\n",
       "                {}\n",
       "            ).addTo(marker_cluster_2d2d92b93aa789c706b1f625baffdaad);\n",
       "        \n",
       "    \n",
       "            marker_07cfb657f83e1cc34060351dba9f3ad6.bindTooltip(\n",
       "                `&lt;div&gt;\n",
       "                     10歳代\n",
       "                 &lt;/div&gt;`,\n",
       "                {&quot;sticky&quot;: true}\n",
       "            );\n",
       "        \n",
       "    \n",
       "            var marker_5e347926030b384804f2552f26b2b7fc = L.marker(\n",
       "                [35.840942, 139.995621],\n",
       "                {}\n",
       "            ).addTo(marker_cluster_2d2d92b93aa789c706b1f625baffdaad);\n",
       "        \n",
       "    \n",
       "            marker_5e347926030b384804f2552f26b2b7fc.bindTooltip(\n",
       "                `&lt;div&gt;\n",
       "                     10歳代\n",
       "                 &lt;/div&gt;`,\n",
       "                {&quot;sticky&quot;: true}\n",
       "            );\n",
       "        \n",
       "    \n",
       "            var marker_455c2006075643995661c948ef272b81 = L.marker(\n",
       "                [35.837143, 140.002502],\n",
       "                {}\n",
       "            ).addTo(marker_cluster_2d2d92b93aa789c706b1f625baffdaad);\n",
       "        \n",
       "    \n",
       "            marker_455c2006075643995661c948ef272b81.bindTooltip(\n",
       "                `&lt;div&gt;\n",
       "                     50歳代\n",
       "                 &lt;/div&gt;`,\n",
       "                {&quot;sticky&quot;: true}\n",
       "            );\n",
       "        \n",
       "    \n",
       "            var marker_8cec5da54c46893e7c25b9ac643b1d96 = L.marker(\n",
       "                [35.837143, 140.002502],\n",
       "                {}\n",
       "            ).addTo(marker_cluster_2d2d92b93aa789c706b1f625baffdaad);\n",
       "        \n",
       "    \n",
       "            marker_8cec5da54c46893e7c25b9ac643b1d96.bindTooltip(\n",
       "                `&lt;div&gt;\n",
       "                     20歳代\n",
       "                 &lt;/div&gt;`,\n",
       "                {&quot;sticky&quot;: true}\n",
       "            );\n",
       "        \n",
       "    \n",
       "            var marker_ad72343fbdfffb174d3fda1923364e90 = L.marker(\n",
       "                [35.837143, 140.002502],\n",
       "                {}\n",
       "            ).addTo(marker_cluster_2d2d92b93aa789c706b1f625baffdaad);\n",
       "        \n",
       "    \n",
       "            marker_ad72343fbdfffb174d3fda1923364e90.bindTooltip(\n",
       "                `&lt;div&gt;\n",
       "                     10歳代\n",
       "                 &lt;/div&gt;`,\n",
       "                {&quot;sticky&quot;: true}\n",
       "            );\n",
       "        \n",
       "    \n",
       "            var marker_8036e82f03c598b8d98b4042498cd0fe = L.marker(\n",
       "                [35.837143, 140.002502],\n",
       "                {}\n",
       "            ).addTo(marker_cluster_2d2d92b93aa789c706b1f625baffdaad);\n",
       "        \n",
       "    \n",
       "            marker_8036e82f03c598b8d98b4042498cd0fe.bindTooltip(\n",
       "                `&lt;div&gt;\n",
       "                     20歳代\n",
       "                 &lt;/div&gt;`,\n",
       "                {&quot;sticky&quot;: true}\n",
       "            );\n",
       "        \n",
       "    \n",
       "            var marker_1e6264d975ab1da8624c0caf0dcaa5db = L.marker(\n",
       "                [35.848038, 140.016342],\n",
       "                {}\n",
       "            ).addTo(marker_cluster_2d2d92b93aa789c706b1f625baffdaad);\n",
       "        \n",
       "    \n",
       "            marker_1e6264d975ab1da8624c0caf0dcaa5db.bindTooltip(\n",
       "                `&lt;div&gt;\n",
       "                     40歳代\n",
       "                 &lt;/div&gt;`,\n",
       "                {&quot;sticky&quot;: true}\n",
       "            );\n",
       "        \n",
       "    \n",
       "            var marker_ea89515d540cc26768094d73d9e07e8b = L.marker(\n",
       "                [35.834927, 139.996063],\n",
       "                {}\n",
       "            ).addTo(marker_cluster_2d2d92b93aa789c706b1f625baffdaad);\n",
       "        \n",
       "    \n",
       "            marker_ea89515d540cc26768094d73d9e07e8b.bindTooltip(\n",
       "                `&lt;div&gt;\n",
       "                     10歳代\n",
       "                 &lt;/div&gt;`,\n",
       "                {&quot;sticky&quot;: true}\n",
       "            );\n",
       "        \n",
       "    \n",
       "            var marker_f4e0f0a7bd5dec78a731ff202e91fd2c = L.marker(\n",
       "                [35.846394, 140.026993],\n",
       "                {}\n",
       "            ).addTo(marker_cluster_2d2d92b93aa789c706b1f625baffdaad);\n",
       "        \n",
       "    \n",
       "            marker_f4e0f0a7bd5dec78a731ff202e91fd2c.bindTooltip(\n",
       "                `&lt;div&gt;\n",
       "                     10歳代\n",
       "                 &lt;/div&gt;`,\n",
       "                {&quot;sticky&quot;: true}\n",
       "            );\n",
       "        \n",
       "    \n",
       "            var marker_dc36ebd30b1702c4e3d28eef23c09755 = L.marker(\n",
       "                [35.891518, 139.992828],\n",
       "                {}\n",
       "            ).addTo(marker_cluster_2d2d92b93aa789c706b1f625baffdaad);\n",
       "        \n",
       "    \n",
       "            marker_dc36ebd30b1702c4e3d28eef23c09755.bindTooltip(\n",
       "                `&lt;div&gt;\n",
       "                     30歳代\n",
       "                 &lt;/div&gt;`,\n",
       "                {&quot;sticky&quot;: true}\n",
       "            );\n",
       "        \n",
       "    \n",
       "            var marker_69742a64bca48dde51c10081aac7b83e = L.marker(\n",
       "                [35.835949, 139.968262],\n",
       "                {}\n",
       "            ).addTo(marker_cluster_2d2d92b93aa789c706b1f625baffdaad);\n",
       "        \n",
       "    \n",
       "            marker_69742a64bca48dde51c10081aac7b83e.bindTooltip(\n",
       "                `&lt;div&gt;\n",
       "                     10歳代\n",
       "                 &lt;/div&gt;`,\n",
       "                {&quot;sticky&quot;: true}\n",
       "            );\n",
       "        \n",
       "    \n",
       "            var marker_0fab69cca43eaade671241267fc07e20 = L.marker(\n",
       "                [35.83136, 139.96756],\n",
       "                {}\n",
       "            ).addTo(marker_cluster_2d2d92b93aa789c706b1f625baffdaad);\n",
       "        \n",
       "    \n",
       "            marker_0fab69cca43eaade671241267fc07e20.bindTooltip(\n",
       "                `&lt;div&gt;\n",
       "                     20歳代\n",
       "                 &lt;/div&gt;`,\n",
       "                {&quot;sticky&quot;: true}\n",
       "            );\n",
       "        \n",
       "    \n",
       "            var marker_5c5ce3b6896ffedd82a4d8cef39d27e5 = L.marker(\n",
       "                [35.84692, 139.967072],\n",
       "                {}\n",
       "            ).addTo(marker_cluster_2d2d92b93aa789c706b1f625baffdaad);\n",
       "        \n",
       "    \n",
       "            marker_5c5ce3b6896ffedd82a4d8cef39d27e5.bindTooltip(\n",
       "                `&lt;div&gt;\n",
       "                     30歳代\n",
       "                 &lt;/div&gt;`,\n",
       "                {&quot;sticky&quot;: true}\n",
       "            );\n",
       "        \n",
       "    \n",
       "            var marker_52015ffe531b3559950638daba58bbc6 = L.marker(\n",
       "                [35.838268, 139.963547],\n",
       "                {}\n",
       "            ).addTo(marker_cluster_2d2d92b93aa789c706b1f625baffdaad);\n",
       "        \n",
       "    \n",
       "            marker_52015ffe531b3559950638daba58bbc6.bindTooltip(\n",
       "                `&lt;div&gt;\n",
       "                     10歳未満\n",
       "                 &lt;/div&gt;`,\n",
       "                {&quot;sticky&quot;: true}\n",
       "            );\n",
       "        \n",
       "    \n",
       "            var marker_053f0d83a7e5beacabd152725a1a7e4e = L.marker(\n",
       "                [35.838268, 139.963547],\n",
       "                {}\n",
       "            ).addTo(marker_cluster_2d2d92b93aa789c706b1f625baffdaad);\n",
       "        \n",
       "    \n",
       "            marker_053f0d83a7e5beacabd152725a1a7e4e.bindTooltip(\n",
       "                `&lt;div&gt;\n",
       "                     40歳代\n",
       "                 &lt;/div&gt;`,\n",
       "                {&quot;sticky&quot;: true}\n",
       "            );\n",
       "        \n",
       "    \n",
       "            var marker_27d815d0fa1179ef47d32657b5d01733 = L.marker(\n",
       "                [35.838268, 139.963547],\n",
       "                {}\n",
       "            ).addTo(marker_cluster_2d2d92b93aa789c706b1f625baffdaad);\n",
       "        \n",
       "    \n",
       "            marker_27d815d0fa1179ef47d32657b5d01733.bindTooltip(\n",
       "                `&lt;div&gt;\n",
       "                     10歳未満\n",
       "                 &lt;/div&gt;`,\n",
       "                {&quot;sticky&quot;: true}\n",
       "            );\n",
       "        \n",
       "    \n",
       "            var marker_22fa5d13eaf2421234fea3d826ee548f = L.marker(\n",
       "                [35.842236, 139.965775],\n",
       "                {}\n",
       "            ).addTo(marker_cluster_2d2d92b93aa789c706b1f625baffdaad);\n",
       "        \n",
       "    \n",
       "            marker_22fa5d13eaf2421234fea3d826ee548f.bindTooltip(\n",
       "                `&lt;div&gt;\n",
       "                     70歳以上\n",
       "                 &lt;/div&gt;`,\n",
       "                {&quot;sticky&quot;: true}\n",
       "            );\n",
       "        \n",
       "    \n",
       "            var marker_c69718f8243926d3d83948eefc3d003d = L.marker(\n",
       "                [35.840786, 139.966721],\n",
       "                {}\n",
       "            ).addTo(marker_cluster_2d2d92b93aa789c706b1f625baffdaad);\n",
       "        \n",
       "    \n",
       "            marker_c69718f8243926d3d83948eefc3d003d.bindTooltip(\n",
       "                `&lt;div&gt;\n",
       "                     40歳代\n",
       "                 &lt;/div&gt;`,\n",
       "                {&quot;sticky&quot;: true}\n",
       "            );\n",
       "        \n",
       "    \n",
       "            var marker_6c0d2bbb0b82ac164d0e8bba3a780e7d = L.marker(\n",
       "                [35.840786, 139.966721],\n",
       "                {}\n",
       "            ).addTo(marker_cluster_2d2d92b93aa789c706b1f625baffdaad);\n",
       "        \n",
       "    \n",
       "            marker_6c0d2bbb0b82ac164d0e8bba3a780e7d.bindTooltip(\n",
       "                `&lt;div&gt;\n",
       "                     40歳代\n",
       "                 &lt;/div&gt;`,\n",
       "                {&quot;sticky&quot;: true}\n",
       "            );\n",
       "        \n",
       "    \n",
       "            var marker_3710f87f8c4531900b2b54f0673c7328 = L.marker(\n",
       "                [35.843285, 139.981064],\n",
       "                {}\n",
       "            ).addTo(marker_cluster_2d2d92b93aa789c706b1f625baffdaad);\n",
       "        \n",
       "    \n",
       "            marker_3710f87f8c4531900b2b54f0673c7328.bindTooltip(\n",
       "                `&lt;div&gt;\n",
       "                     20歳代\n",
       "                 &lt;/div&gt;`,\n",
       "                {&quot;sticky&quot;: true}\n",
       "            );\n",
       "        \n",
       "    \n",
       "            var marker_78a95ae856e66ff5dff027d99234ef2b = L.marker(\n",
       "                [35.845604, 139.976089],\n",
       "                {}\n",
       "            ).addTo(marker_cluster_2d2d92b93aa789c706b1f625baffdaad);\n",
       "        \n",
       "    \n",
       "            marker_78a95ae856e66ff5dff027d99234ef2b.bindTooltip(\n",
       "                `&lt;div&gt;\n",
       "                     20歳代\n",
       "                 &lt;/div&gt;`,\n",
       "                {&quot;sticky&quot;: true}\n",
       "            );\n",
       "        \n",
       "    \n",
       "            var marker_6f385010ff48efbd0fe87c5ba4122180 = L.marker(\n",
       "                [35.839211, 139.968597],\n",
       "                {}\n",
       "            ).addTo(marker_cluster_2d2d92b93aa789c706b1f625baffdaad);\n",
       "        \n",
       "    \n",
       "            marker_6f385010ff48efbd0fe87c5ba4122180.bindTooltip(\n",
       "                `&lt;div&gt;\n",
       "                     30歳代\n",
       "                 &lt;/div&gt;`,\n",
       "                {&quot;sticky&quot;: true}\n",
       "            );\n",
       "        \n",
       "    \n",
       "            var marker_227293a1fcab6d6fc4a3a9f0f1f67c10 = L.marker(\n",
       "                [35.841667, 139.972061],\n",
       "                {}\n",
       "            ).addTo(marker_cluster_2d2d92b93aa789c706b1f625baffdaad);\n",
       "        \n",
       "    \n",
       "            marker_227293a1fcab6d6fc4a3a9f0f1f67c10.bindTooltip(\n",
       "                `&lt;div&gt;\n",
       "                     20歳代\n",
       "                 &lt;/div&gt;`,\n",
       "                {&quot;sticky&quot;: true}\n",
       "            );\n",
       "        \n",
       "    \n",
       "            var marker_5f99878e612f3b6281d1fd102d4d715a = L.marker(\n",
       "                [35.867088, 139.963196],\n",
       "                {}\n",
       "            ).addTo(marker_cluster_2d2d92b93aa789c706b1f625baffdaad);\n",
       "        \n",
       "    \n",
       "            marker_5f99878e612f3b6281d1fd102d4d715a.bindTooltip(\n",
       "                `&lt;div&gt;\n",
       "                     10歳代\n",
       "                 &lt;/div&gt;`,\n",
       "                {&quot;sticky&quot;: true}\n",
       "            );\n",
       "        \n",
       "    \n",
       "            var marker_c577f9d71cbd4684c322953bcc4a15ce = L.marker(\n",
       "                [35.867088, 139.963196],\n",
       "                {}\n",
       "            ).addTo(marker_cluster_2d2d92b93aa789c706b1f625baffdaad);\n",
       "        \n",
       "    \n",
       "            marker_c577f9d71cbd4684c322953bcc4a15ce.bindTooltip(\n",
       "                `&lt;div&gt;\n",
       "                     10歳代\n",
       "                 &lt;/div&gt;`,\n",
       "                {&quot;sticky&quot;: true}\n",
       "            );\n",
       "        \n",
       "    \n",
       "            var marker_ba41f1badf5a8498915c77072dc288b2 = L.marker(\n",
       "                [35.867088, 139.963196],\n",
       "                {}\n",
       "            ).addTo(marker_cluster_2d2d92b93aa789c706b1f625baffdaad);\n",
       "        \n",
       "    \n",
       "            marker_ba41f1badf5a8498915c77072dc288b2.bindTooltip(\n",
       "                `&lt;div&gt;\n",
       "                     10歳代\n",
       "                 &lt;/div&gt;`,\n",
       "                {&quot;sticky&quot;: true}\n",
       "            );\n",
       "        \n",
       "    \n",
       "            var marker_810502e4fe0b68394f847c08bddf4dbe = L.marker(\n",
       "                [35.867088, 139.963196],\n",
       "                {}\n",
       "            ).addTo(marker_cluster_2d2d92b93aa789c706b1f625baffdaad);\n",
       "        \n",
       "    \n",
       "            marker_810502e4fe0b68394f847c08bddf4dbe.bindTooltip(\n",
       "                `&lt;div&gt;\n",
       "                     10歳代\n",
       "                 &lt;/div&gt;`,\n",
       "                {&quot;sticky&quot;: true}\n",
       "            );\n",
       "        \n",
       "    \n",
       "            var marker_59c1bfa6dca09f201ad880b9ba609c2b = L.marker(\n",
       "                [35.867088, 139.963196],\n",
       "                {}\n",
       "            ).addTo(marker_cluster_2d2d92b93aa789c706b1f625baffdaad);\n",
       "        \n",
       "    \n",
       "            marker_59c1bfa6dca09f201ad880b9ba609c2b.bindTooltip(\n",
       "                `&lt;div&gt;\n",
       "                     10歳代\n",
       "                 &lt;/div&gt;`,\n",
       "                {&quot;sticky&quot;: true}\n",
       "            );\n",
       "        \n",
       "    \n",
       "            var marker_3ee255ef0818615cac63ed6d213b7b47 = L.marker(\n",
       "                [35.864574, 139.962662],\n",
       "                {}\n",
       "            ).addTo(marker_cluster_2d2d92b93aa789c706b1f625baffdaad);\n",
       "        \n",
       "    \n",
       "            marker_3ee255ef0818615cac63ed6d213b7b47.bindTooltip(\n",
       "                `&lt;div&gt;\n",
       "                     20歳代\n",
       "                 &lt;/div&gt;`,\n",
       "                {&quot;sticky&quot;: true}\n",
       "            );\n",
       "        \n",
       "    \n",
       "            var marker_c7e319e11a6abf33f3e8f9bb3105c630 = L.marker(\n",
       "                [35.864574, 139.962662],\n",
       "                {}\n",
       "            ).addTo(marker_cluster_2d2d92b93aa789c706b1f625baffdaad);\n",
       "        \n",
       "    \n",
       "            marker_c7e319e11a6abf33f3e8f9bb3105c630.bindTooltip(\n",
       "                `&lt;div&gt;\n",
       "                     20歳代\n",
       "                 &lt;/div&gt;`,\n",
       "                {&quot;sticky&quot;: true}\n",
       "            );\n",
       "        \n",
       "    \n",
       "            var marker_a7fff67b7e70b0ac88cfac265082753d = L.marker(\n",
       "                [35.865929, 139.971985],\n",
       "                {}\n",
       "            ).addTo(marker_cluster_2d2d92b93aa789c706b1f625baffdaad);\n",
       "        \n",
       "    \n",
       "            marker_a7fff67b7e70b0ac88cfac265082753d.bindTooltip(\n",
       "                `&lt;div&gt;\n",
       "                     65-69歳\n",
       "                 &lt;/div&gt;`,\n",
       "                {&quot;sticky&quot;: true}\n",
       "            );\n",
       "        \n",
       "    \n",
       "            var marker_6bc44730d95b1f227a48dbaab2e96ab9 = L.marker(\n",
       "                [35.868034, 139.974197],\n",
       "                {}\n",
       "            ).addTo(marker_cluster_2d2d92b93aa789c706b1f625baffdaad);\n",
       "        \n",
       "    \n",
       "            marker_6bc44730d95b1f227a48dbaab2e96ab9.bindTooltip(\n",
       "                `&lt;div&gt;\n",
       "                     30歳代\n",
       "                 &lt;/div&gt;`,\n",
       "                {&quot;sticky&quot;: true}\n",
       "            );\n",
       "        \n",
       "    \n",
       "            var marker_255ee5203c94a9f66e860e59697a1dde = L.marker(\n",
       "                [35.868034, 139.974197],\n",
       "                {}\n",
       "            ).addTo(marker_cluster_2d2d92b93aa789c706b1f625baffdaad);\n",
       "        \n",
       "    \n",
       "            marker_255ee5203c94a9f66e860e59697a1dde.bindTooltip(\n",
       "                `&lt;div&gt;\n",
       "                     20歳代\n",
       "                 &lt;/div&gt;`,\n",
       "                {&quot;sticky&quot;: true}\n",
       "            );\n",
       "        \n",
       "    \n",
       "            var marker_ee49dbbaf35197f0bc6adae31ec7f889 = L.marker(\n",
       "                [35.869129, 139.971756],\n",
       "                {}\n",
       "            ).addTo(marker_cluster_2d2d92b93aa789c706b1f625baffdaad);\n",
       "        \n",
       "    \n",
       "            marker_ee49dbbaf35197f0bc6adae31ec7f889.bindTooltip(\n",
       "                `&lt;div&gt;\n",
       "                     20歳代\n",
       "                 &lt;/div&gt;`,\n",
       "                {&quot;sticky&quot;: true}\n",
       "            );\n",
       "        \n",
       "    \n",
       "            var marker_f3446ec4afa851a099c16b4651924143 = L.marker(\n",
       "                [35.869129, 139.971756],\n",
       "                {}\n",
       "            ).addTo(marker_cluster_2d2d92b93aa789c706b1f625baffdaad);\n",
       "        \n",
       "    \n",
       "            marker_f3446ec4afa851a099c16b4651924143.bindTooltip(\n",
       "                `&lt;div&gt;\n",
       "                     30歳代\n",
       "                 &lt;/div&gt;`,\n",
       "                {&quot;sticky&quot;: true}\n",
       "            );\n",
       "        \n",
       "    \n",
       "            var marker_95f91f5985a0816e7eb545d0b1c0bd88 = L.marker(\n",
       "                [35.866798, 139.968948],\n",
       "                {}\n",
       "            ).addTo(marker_cluster_2d2d92b93aa789c706b1f625baffdaad);\n",
       "        \n",
       "    \n",
       "            marker_95f91f5985a0816e7eb545d0b1c0bd88.bindTooltip(\n",
       "                `&lt;div&gt;\n",
       "                     20歳代\n",
       "                 &lt;/div&gt;`,\n",
       "                {&quot;sticky&quot;: true}\n",
       "            );\n",
       "        \n",
       "    \n",
       "            var marker_acb9d19f981d8a01bce3ddfbfdbb6f22 = L.marker(\n",
       "                [35.866798, 139.968948],\n",
       "                {}\n",
       "            ).addTo(marker_cluster_2d2d92b93aa789c706b1f625baffdaad);\n",
       "        \n",
       "    \n",
       "            marker_acb9d19f981d8a01bce3ddfbfdbb6f22.bindTooltip(\n",
       "                `&lt;div&gt;\n",
       "                     20歳代\n",
       "                 &lt;/div&gt;`,\n",
       "                {&quot;sticky&quot;: true}\n",
       "            );\n",
       "        \n",
       "    \n",
       "            var marker_93b2be735f859e712c329208e906bf28 = L.marker(\n",
       "                [35.866798, 139.968948],\n",
       "                {}\n",
       "            ).addTo(marker_cluster_2d2d92b93aa789c706b1f625baffdaad);\n",
       "        \n",
       "    \n",
       "            marker_93b2be735f859e712c329208e906bf28.bindTooltip(\n",
       "                `&lt;div&gt;\n",
       "                     30歳代\n",
       "                 &lt;/div&gt;`,\n",
       "                {&quot;sticky&quot;: true}\n",
       "            );\n",
       "        \n",
       "    \n",
       "            var marker_24cea65ea668f904feb05544e6131e4f = L.marker(\n",
       "                [35.869289, 139.967926],\n",
       "                {}\n",
       "            ).addTo(marker_cluster_2d2d92b93aa789c706b1f625baffdaad);\n",
       "        \n",
       "    \n",
       "            marker_24cea65ea668f904feb05544e6131e4f.bindTooltip(\n",
       "                `&lt;div&gt;\n",
       "                     50歳代\n",
       "                 &lt;/div&gt;`,\n",
       "                {&quot;sticky&quot;: true}\n",
       "            );\n",
       "        \n",
       "    \n",
       "            var marker_c5469ceefa2016ddcbc04cd249dca380 = L.marker(\n",
       "                [35.861916, 139.968491],\n",
       "                {}\n",
       "            ).addTo(marker_cluster_2d2d92b93aa789c706b1f625baffdaad);\n",
       "        \n",
       "    \n",
       "            marker_c5469ceefa2016ddcbc04cd249dca380.bindTooltip(\n",
       "                `&lt;div&gt;\n",
       "                     50歳代\n",
       "                 &lt;/div&gt;`,\n",
       "                {&quot;sticky&quot;: true}\n",
       "            );\n",
       "        \n",
       "    \n",
       "            var marker_7f8d265826d63e6081910534180732b2 = L.marker(\n",
       "                [35.861916, 139.968491],\n",
       "                {}\n",
       "            ).addTo(marker_cluster_2d2d92b93aa789c706b1f625baffdaad);\n",
       "        \n",
       "    \n",
       "            marker_7f8d265826d63e6081910534180732b2.bindTooltip(\n",
       "                `&lt;div&gt;\n",
       "                     20歳代\n",
       "                 &lt;/div&gt;`,\n",
       "                {&quot;sticky&quot;: true}\n",
       "            );\n",
       "        \n",
       "    \n",
       "            var marker_24ef01e3628e915b0716f803f4e2b9ca = L.marker(\n",
       "                [35.861916, 139.968491],\n",
       "                {}\n",
       "            ).addTo(marker_cluster_2d2d92b93aa789c706b1f625baffdaad);\n",
       "        \n",
       "    \n",
       "            marker_24ef01e3628e915b0716f803f4e2b9ca.bindTooltip(\n",
       "                `&lt;div&gt;\n",
       "                     10歳代\n",
       "                 &lt;/div&gt;`,\n",
       "                {&quot;sticky&quot;: true}\n",
       "            );\n",
       "        \n",
       "    \n",
       "            var marker_8a34ab65d5f8bfc4aacb514b96303f5d = L.marker(\n",
       "                [35.861916, 139.968491],\n",
       "                {}\n",
       "            ).addTo(marker_cluster_2d2d92b93aa789c706b1f625baffdaad);\n",
       "        \n",
       "    \n",
       "            marker_8a34ab65d5f8bfc4aacb514b96303f5d.bindTooltip(\n",
       "                `&lt;div&gt;\n",
       "                     30歳代\n",
       "                 &lt;/div&gt;`,\n",
       "                {&quot;sticky&quot;: true}\n",
       "            );\n",
       "        \n",
       "    \n",
       "            var marker_868e36bfd54bd2ad3441f13eaeda6a88 = L.marker(\n",
       "                [35.861916, 139.968491],\n",
       "                {}\n",
       "            ).addTo(marker_cluster_2d2d92b93aa789c706b1f625baffdaad);\n",
       "        \n",
       "    \n",
       "            marker_868e36bfd54bd2ad3441f13eaeda6a88.bindTooltip(\n",
       "                `&lt;div&gt;\n",
       "                     20歳代\n",
       "                 &lt;/div&gt;`,\n",
       "                {&quot;sticky&quot;: true}\n",
       "            );\n",
       "        \n",
       "    \n",
       "            var marker_ef0752ce32ec1c2f93cd4d494c811fea = L.marker(\n",
       "                [35.861916, 139.968491],\n",
       "                {}\n",
       "            ).addTo(marker_cluster_2d2d92b93aa789c706b1f625baffdaad);\n",
       "        \n",
       "    \n",
       "            marker_ef0752ce32ec1c2f93cd4d494c811fea.bindTooltip(\n",
       "                `&lt;div&gt;\n",
       "                     30歳代\n",
       "                 &lt;/div&gt;`,\n",
       "                {&quot;sticky&quot;: true}\n",
       "            );\n",
       "        \n",
       "    \n",
       "            var marker_c84e5213cd64032a0371f315ee3a8a12 = L.marker(\n",
       "                [35.861916, 139.968491],\n",
       "                {}\n",
       "            ).addTo(marker_cluster_2d2d92b93aa789c706b1f625baffdaad);\n",
       "        \n",
       "    \n",
       "            marker_c84e5213cd64032a0371f315ee3a8a12.bindTooltip(\n",
       "                `&lt;div&gt;\n",
       "                     50歳代\n",
       "                 &lt;/div&gt;`,\n",
       "                {&quot;sticky&quot;: true}\n",
       "            );\n",
       "        \n",
       "    \n",
       "            var marker_e3245fb5ecae5b8ac170f2d89b5ac237 = L.marker(\n",
       "                [35.861916, 139.968491],\n",
       "                {}\n",
       "            ).addTo(marker_cluster_2d2d92b93aa789c706b1f625baffdaad);\n",
       "        \n",
       "    \n",
       "            marker_e3245fb5ecae5b8ac170f2d89b5ac237.bindTooltip(\n",
       "                `&lt;div&gt;\n",
       "                     30歳代\n",
       "                 &lt;/div&gt;`,\n",
       "                {&quot;sticky&quot;: true}\n",
       "            );\n",
       "        \n",
       "    \n",
       "            var marker_e8864a1b7e816bbdbf4921e33826cb1d = L.marker(\n",
       "                [35.861916, 139.968491],\n",
       "                {}\n",
       "            ).addTo(marker_cluster_2d2d92b93aa789c706b1f625baffdaad);\n",
       "        \n",
       "    \n",
       "            marker_e8864a1b7e816bbdbf4921e33826cb1d.bindTooltip(\n",
       "                `&lt;div&gt;\n",
       "                     10歳代\n",
       "                 &lt;/div&gt;`,\n",
       "                {&quot;sticky&quot;: true}\n",
       "            );\n",
       "        \n",
       "    \n",
       "            var marker_540616a4d5da424846f6fb783b23356a = L.marker(\n",
       "                [35.858974, 139.962036],\n",
       "                {}\n",
       "            ).addTo(marker_cluster_2d2d92b93aa789c706b1f625baffdaad);\n",
       "        \n",
       "    \n",
       "            marker_540616a4d5da424846f6fb783b23356a.bindTooltip(\n",
       "                `&lt;div&gt;\n",
       "                     10歳代\n",
       "                 &lt;/div&gt;`,\n",
       "                {&quot;sticky&quot;: true}\n",
       "            );\n",
       "        \n",
       "    \n",
       "            var marker_9878c75bd34a8475087d4a6219fbb0e9 = L.marker(\n",
       "                [35.858974, 139.962036],\n",
       "                {}\n",
       "            ).addTo(marker_cluster_2d2d92b93aa789c706b1f625baffdaad);\n",
       "        \n",
       "    \n",
       "            marker_9878c75bd34a8475087d4a6219fbb0e9.bindTooltip(\n",
       "                `&lt;div&gt;\n",
       "                     20歳代\n",
       "                 &lt;/div&gt;`,\n",
       "                {&quot;sticky&quot;: true}\n",
       "            );\n",
       "        \n",
       "    \n",
       "            var marker_53e6c2a0a2a1970378f5dfddcfb17698 = L.marker(\n",
       "                [35.858974, 139.962036],\n",
       "                {}\n",
       "            ).addTo(marker_cluster_2d2d92b93aa789c706b1f625baffdaad);\n",
       "        \n",
       "    \n",
       "            marker_53e6c2a0a2a1970378f5dfddcfb17698.bindTooltip(\n",
       "                `&lt;div&gt;\n",
       "                     30歳代\n",
       "                 &lt;/div&gt;`,\n",
       "                {&quot;sticky&quot;: true}\n",
       "            );\n",
       "        \n",
       "    \n",
       "            var marker_e9ae0e02d7bfd7445ef95ebe605834e5 = L.marker(\n",
       "                [35.858974, 139.962036],\n",
       "                {}\n",
       "            ).addTo(marker_cluster_2d2d92b93aa789c706b1f625baffdaad);\n",
       "        \n",
       "    \n",
       "            marker_e9ae0e02d7bfd7445ef95ebe605834e5.bindTooltip(\n",
       "                `&lt;div&gt;\n",
       "                     20歳代\n",
       "                 &lt;/div&gt;`,\n",
       "                {&quot;sticky&quot;: true}\n",
       "            );\n",
       "        \n",
       "    \n",
       "            var marker_cfbca3a84e5fe8e540b311e871416d2a = L.marker(\n",
       "                [35.858974, 139.962036],\n",
       "                {}\n",
       "            ).addTo(marker_cluster_2d2d92b93aa789c706b1f625baffdaad);\n",
       "        \n",
       "    \n",
       "            marker_cfbca3a84e5fe8e540b311e871416d2a.bindTooltip(\n",
       "                `&lt;div&gt;\n",
       "                     20歳代\n",
       "                 &lt;/div&gt;`,\n",
       "                {&quot;sticky&quot;: true}\n",
       "            );\n",
       "        \n",
       "    \n",
       "            var marker_c6000d32df6b7495530e22737d88833e = L.marker(\n",
       "                [35.85675, 139.962128],\n",
       "                {}\n",
       "            ).addTo(marker_cluster_2d2d92b93aa789c706b1f625baffdaad);\n",
       "        \n",
       "    \n",
       "            marker_c6000d32df6b7495530e22737d88833e.bindTooltip(\n",
       "                `&lt;div&gt;\n",
       "                     30歳代\n",
       "                 &lt;/div&gt;`,\n",
       "                {&quot;sticky&quot;: true}\n",
       "            );\n",
       "        \n",
       "    \n",
       "            var marker_7f76da565e27f6a02f78d44025beb2d8 = L.marker(\n",
       "                [35.857044, 139.958267],\n",
       "                {}\n",
       "            ).addTo(marker_cluster_2d2d92b93aa789c706b1f625baffdaad);\n",
       "        \n",
       "    \n",
       "            marker_7f76da565e27f6a02f78d44025beb2d8.bindTooltip(\n",
       "                `&lt;div&gt;\n",
       "                     70歳以上\n",
       "                 &lt;/div&gt;`,\n",
       "                {&quot;sticky&quot;: true}\n",
       "            );\n",
       "        \n",
       "    \n",
       "            var marker_51d04bfcaffd6147ae1cf9788335bc1b = L.marker(\n",
       "                [35.857044, 139.958267],\n",
       "                {}\n",
       "            ).addTo(marker_cluster_2d2d92b93aa789c706b1f625baffdaad);\n",
       "        \n",
       "    \n",
       "            marker_51d04bfcaffd6147ae1cf9788335bc1b.bindTooltip(\n",
       "                `&lt;div&gt;\n",
       "                     10歳代\n",
       "                 &lt;/div&gt;`,\n",
       "                {&quot;sticky&quot;: true}\n",
       "            );\n",
       "        \n",
       "    \n",
       "            var marker_caf91b054df07b3508a81d0f4e07bc3e = L.marker(\n",
       "                [35.868122, 139.943359],\n",
       "                {}\n",
       "            ).addTo(marker_cluster_2d2d92b93aa789c706b1f625baffdaad);\n",
       "        \n",
       "    \n",
       "            marker_caf91b054df07b3508a81d0f4e07bc3e.bindTooltip(\n",
       "                `&lt;div&gt;\n",
       "                     10歳代\n",
       "                 &lt;/div&gt;`,\n",
       "                {&quot;sticky&quot;: true}\n",
       "            );\n",
       "        \n",
       "    \n",
       "            var marker_e518b37959bb99af8efe9acf30e40ae6 = L.marker(\n",
       "                [35.862904, 139.970398],\n",
       "                {}\n",
       "            ).addTo(marker_cluster_2d2d92b93aa789c706b1f625baffdaad);\n",
       "        \n",
       "    \n",
       "            marker_e518b37959bb99af8efe9acf30e40ae6.bindTooltip(\n",
       "                `&lt;div&gt;\n",
       "                     40歳代\n",
       "                 &lt;/div&gt;`,\n",
       "                {&quot;sticky&quot;: true}\n",
       "            );\n",
       "        \n",
       "    \n",
       "            var marker_a4e3b4a36b38a6ef697ad4f65ab2827a = L.marker(\n",
       "                [35.862904, 139.970398],\n",
       "                {}\n",
       "            ).addTo(marker_cluster_2d2d92b93aa789c706b1f625baffdaad);\n",
       "        \n",
       "    \n",
       "            marker_a4e3b4a36b38a6ef697ad4f65ab2827a.bindTooltip(\n",
       "                `&lt;div&gt;\n",
       "                     10歳代\n",
       "                 &lt;/div&gt;`,\n",
       "                {&quot;sticky&quot;: true}\n",
       "            );\n",
       "        \n",
       "    \n",
       "            var marker_d5ded7ca2b64299fd0e5898aae4b9ec1 = L.marker(\n",
       "                [35.862904, 139.970398],\n",
       "                {}\n",
       "            ).addTo(marker_cluster_2d2d92b93aa789c706b1f625baffdaad);\n",
       "        \n",
       "    \n",
       "            marker_d5ded7ca2b64299fd0e5898aae4b9ec1.bindTooltip(\n",
       "                `&lt;div&gt;\n",
       "                     40歳代\n",
       "                 &lt;/div&gt;`,\n",
       "                {&quot;sticky&quot;: true}\n",
       "            );\n",
       "        \n",
       "    \n",
       "            var marker_7250276c34b2600dbdea5c9a652370b9 = L.marker(\n",
       "                [35.862904, 139.970398],\n",
       "                {}\n",
       "            ).addTo(marker_cluster_2d2d92b93aa789c706b1f625baffdaad);\n",
       "        \n",
       "    \n",
       "            marker_7250276c34b2600dbdea5c9a652370b9.bindTooltip(\n",
       "                `&lt;div&gt;\n",
       "                     10歳代\n",
       "                 &lt;/div&gt;`,\n",
       "                {&quot;sticky&quot;: true}\n",
       "            );\n",
       "        \n",
       "    \n",
       "            var marker_44dbf59131f6638b16a6487a8ad79de8 = L.marker(\n",
       "                [35.862904, 139.970398],\n",
       "                {}\n",
       "            ).addTo(marker_cluster_2d2d92b93aa789c706b1f625baffdaad);\n",
       "        \n",
       "    \n",
       "            marker_44dbf59131f6638b16a6487a8ad79de8.bindTooltip(\n",
       "                `&lt;div&gt;\n",
       "                     20歳代\n",
       "                 &lt;/div&gt;`,\n",
       "                {&quot;sticky&quot;: true}\n",
       "            );\n",
       "        \n",
       "    \n",
       "            var marker_261f38cb709b30413fcc7e41d8c5dfb1 = L.marker(\n",
       "                [35.862904, 139.970398],\n",
       "                {}\n",
       "            ).addTo(marker_cluster_2d2d92b93aa789c706b1f625baffdaad);\n",
       "        \n",
       "    \n",
       "            marker_261f38cb709b30413fcc7e41d8c5dfb1.bindTooltip(\n",
       "                `&lt;div&gt;\n",
       "                     65-69歳\n",
       "                 &lt;/div&gt;`,\n",
       "                {&quot;sticky&quot;: true}\n",
       "            );\n",
       "        \n",
       "    \n",
       "            var marker_6fc5f172f573d02c0ff7770410667088 = L.marker(\n",
       "                [35.862904, 139.970398],\n",
       "                {}\n",
       "            ).addTo(marker_cluster_2d2d92b93aa789c706b1f625baffdaad);\n",
       "        \n",
       "    \n",
       "            marker_6fc5f172f573d02c0ff7770410667088.bindTooltip(\n",
       "                `&lt;div&gt;\n",
       "                     10歳未満\n",
       "                 &lt;/div&gt;`,\n",
       "                {&quot;sticky&quot;: true}\n",
       "            );\n",
       "        \n",
       "    \n",
       "            var marker_f69ea4fa8f8c6a54a4f501604bdcb7c8 = L.marker(\n",
       "                [35.862904, 139.970398],\n",
       "                {}\n",
       "            ).addTo(marker_cluster_2d2d92b93aa789c706b1f625baffdaad);\n",
       "        \n",
       "    \n",
       "            marker_f69ea4fa8f8c6a54a4f501604bdcb7c8.bindTooltip(\n",
       "                `&lt;div&gt;\n",
       "                     10歳代\n",
       "                 &lt;/div&gt;`,\n",
       "                {&quot;sticky&quot;: true}\n",
       "            );\n",
       "        \n",
       "    \n",
       "            var marker_738a81e6945ff3d00c0b5a71c6c68ec6 = L.marker(\n",
       "                [35.862904, 139.970398],\n",
       "                {}\n",
       "            ).addTo(marker_cluster_2d2d92b93aa789c706b1f625baffdaad);\n",
       "        \n",
       "    \n",
       "            marker_738a81e6945ff3d00c0b5a71c6c68ec6.bindTooltip(\n",
       "                `&lt;div&gt;\n",
       "                     20歳代\n",
       "                 &lt;/div&gt;`,\n",
       "                {&quot;sticky&quot;: true}\n",
       "            );\n",
       "        \n",
       "    \n",
       "            var marker_a2f307c12230e11d5ed5296e014a738f = L.marker(\n",
       "                [35.862904, 139.970398],\n",
       "                {}\n",
       "            ).addTo(marker_cluster_2d2d92b93aa789c706b1f625baffdaad);\n",
       "        \n",
       "    \n",
       "            marker_a2f307c12230e11d5ed5296e014a738f.bindTooltip(\n",
       "                `&lt;div&gt;\n",
       "                     20歳代\n",
       "                 &lt;/div&gt;`,\n",
       "                {&quot;sticky&quot;: true}\n",
       "            );\n",
       "        \n",
       "    \n",
       "            var marker_fa9604e6bbce9603bbeac2a77c667f5b = L.marker(\n",
       "                [35.854397, 139.962891],\n",
       "                {}\n",
       "            ).addTo(marker_cluster_2d2d92b93aa789c706b1f625baffdaad);\n",
       "        \n",
       "    \n",
       "            marker_fa9604e6bbce9603bbeac2a77c667f5b.bindTooltip(\n",
       "                `&lt;div&gt;\n",
       "                     20歳代\n",
       "                 &lt;/div&gt;`,\n",
       "                {&quot;sticky&quot;: true}\n",
       "            );\n",
       "        \n",
       "    \n",
       "            var marker_854d5f1b2d7d70276bc766cf26b284d2 = L.marker(\n",
       "                [35.854397, 139.962891],\n",
       "                {}\n",
       "            ).addTo(marker_cluster_2d2d92b93aa789c706b1f625baffdaad);\n",
       "        \n",
       "    \n",
       "            marker_854d5f1b2d7d70276bc766cf26b284d2.bindTooltip(\n",
       "                `&lt;div&gt;\n",
       "                     10歳代\n",
       "                 &lt;/div&gt;`,\n",
       "                {&quot;sticky&quot;: true}\n",
       "            );\n",
       "        \n",
       "    \n",
       "            var marker_358113622a3039d217f62772107440e5 = L.marker(\n",
       "                [35.854397, 139.962891],\n",
       "                {}\n",
       "            ).addTo(marker_cluster_2d2d92b93aa789c706b1f625baffdaad);\n",
       "        \n",
       "    \n",
       "            marker_358113622a3039d217f62772107440e5.bindTooltip(\n",
       "                `&lt;div&gt;\n",
       "                     20歳代\n",
       "                 &lt;/div&gt;`,\n",
       "                {&quot;sticky&quot;: true}\n",
       "            );\n",
       "        \n",
       "    \n",
       "            var marker_f952338bba1cf17b87253f73b4223773 = L.marker(\n",
       "                [35.854397, 139.962891],\n",
       "                {}\n",
       "            ).addTo(marker_cluster_2d2d92b93aa789c706b1f625baffdaad);\n",
       "        \n",
       "    \n",
       "            marker_f952338bba1cf17b87253f73b4223773.bindTooltip(\n",
       "                `&lt;div&gt;\n",
       "                     20歳代\n",
       "                 &lt;/div&gt;`,\n",
       "                {&quot;sticky&quot;: true}\n",
       "            );\n",
       "        \n",
       "    \n",
       "            var marker_643f6f7a31c9a7e6ca632ab355ec4058 = L.marker(\n",
       "                [35.854397, 139.962891],\n",
       "                {}\n",
       "            ).addTo(marker_cluster_2d2d92b93aa789c706b1f625baffdaad);\n",
       "        \n",
       "    \n",
       "            marker_643f6f7a31c9a7e6ca632ab355ec4058.bindTooltip(\n",
       "                `&lt;div&gt;\n",
       "                     20歳代\n",
       "                 &lt;/div&gt;`,\n",
       "                {&quot;sticky&quot;: true}\n",
       "            );\n",
       "        \n",
       "    \n",
       "            var marker_72527861bd78775f8b4221118a40fbd4 = L.marker(\n",
       "                [35.854397, 139.962891],\n",
       "                {}\n",
       "            ).addTo(marker_cluster_2d2d92b93aa789c706b1f625baffdaad);\n",
       "        \n",
       "    \n",
       "            marker_72527861bd78775f8b4221118a40fbd4.bindTooltip(\n",
       "                `&lt;div&gt;\n",
       "                     20歳代\n",
       "                 &lt;/div&gt;`,\n",
       "                {&quot;sticky&quot;: true}\n",
       "            );\n",
       "        \n",
       "    \n",
       "            var marker_f2a710c53f57e2124dc92814c5b86451 = L.marker(\n",
       "                [35.866894, 139.957932],\n",
       "                {}\n",
       "            ).addTo(marker_cluster_2d2d92b93aa789c706b1f625baffdaad);\n",
       "        \n",
       "    \n",
       "            marker_f2a710c53f57e2124dc92814c5b86451.bindTooltip(\n",
       "                `&lt;div&gt;\n",
       "                     10歳代\n",
       "                 &lt;/div&gt;`,\n",
       "                {&quot;sticky&quot;: true}\n",
       "            );\n",
       "        \n",
       "    \n",
       "            var marker_5615cd7d4e5011cf33e080e67045cb97 = L.marker(\n",
       "                [35.866894, 139.957932],\n",
       "                {}\n",
       "            ).addTo(marker_cluster_2d2d92b93aa789c706b1f625baffdaad);\n",
       "        \n",
       "    \n",
       "            marker_5615cd7d4e5011cf33e080e67045cb97.bindTooltip(\n",
       "                `&lt;div&gt;\n",
       "                     40歳代\n",
       "                 &lt;/div&gt;`,\n",
       "                {&quot;sticky&quot;: true}\n",
       "            );\n",
       "        \n",
       "    \n",
       "            var marker_c2cf8b110c993664f694ee5834da1ab2 = L.marker(\n",
       "                [35.866894, 139.957932],\n",
       "                {}\n",
       "            ).addTo(marker_cluster_2d2d92b93aa789c706b1f625baffdaad);\n",
       "        \n",
       "    \n",
       "            marker_c2cf8b110c993664f694ee5834da1ab2.bindTooltip(\n",
       "                `&lt;div&gt;\n",
       "                     20歳代\n",
       "                 &lt;/div&gt;`,\n",
       "                {&quot;sticky&quot;: true}\n",
       "            );\n",
       "        \n",
       "    \n",
       "            var marker_261c9884640b34372f5daa477ad26b8c = L.marker(\n",
       "                [35.866894, 139.957932],\n",
       "                {}\n",
       "            ).addTo(marker_cluster_2d2d92b93aa789c706b1f625baffdaad);\n",
       "        \n",
       "    \n",
       "            marker_261c9884640b34372f5daa477ad26b8c.bindTooltip(\n",
       "                `&lt;div&gt;\n",
       "                     40歳代\n",
       "                 &lt;/div&gt;`,\n",
       "                {&quot;sticky&quot;: true}\n",
       "            );\n",
       "        \n",
       "    \n",
       "            var marker_3aff5245dc609ebbd7c34dc93ed1f87d = L.marker(\n",
       "                [35.862438, 139.959137],\n",
       "                {}\n",
       "            ).addTo(marker_cluster_2d2d92b93aa789c706b1f625baffdaad);\n",
       "        \n",
       "    \n",
       "            marker_3aff5245dc609ebbd7c34dc93ed1f87d.bindTooltip(\n",
       "                `&lt;div&gt;\n",
       "                     70歳以上\n",
       "                 &lt;/div&gt;`,\n",
       "                {&quot;sticky&quot;: true}\n",
       "            );\n",
       "        \n",
       "    \n",
       "            var marker_1d7660255527e6e559d73c5432ff5d15 = L.marker(\n",
       "                [35.863903, 139.956039],\n",
       "                {}\n",
       "            ).addTo(marker_cluster_2d2d92b93aa789c706b1f625baffdaad);\n",
       "        \n",
       "    \n",
       "            marker_1d7660255527e6e559d73c5432ff5d15.bindTooltip(\n",
       "                `&lt;div&gt;\n",
       "                     40歳代\n",
       "                 &lt;/div&gt;`,\n",
       "                {&quot;sticky&quot;: true}\n",
       "            );\n",
       "        \n",
       "    \n",
       "            var marker_690eb46b7d0326152fdcac08791cd0af = L.marker(\n",
       "                [35.863903, 139.956039],\n",
       "                {}\n",
       "            ).addTo(marker_cluster_2d2d92b93aa789c706b1f625baffdaad);\n",
       "        \n",
       "    \n",
       "            marker_690eb46b7d0326152fdcac08791cd0af.bindTooltip(\n",
       "                `&lt;div&gt;\n",
       "                     10歳代\n",
       "                 &lt;/div&gt;`,\n",
       "                {&quot;sticky&quot;: true}\n",
       "            );\n",
       "        \n",
       "    \n",
       "            var marker_925b25d2b8270e97f758741757ad62d9 = L.marker(\n",
       "                [35.869198, 139.957932],\n",
       "                {}\n",
       "            ).addTo(marker_cluster_2d2d92b93aa789c706b1f625baffdaad);\n",
       "        \n",
       "    \n",
       "            marker_925b25d2b8270e97f758741757ad62d9.bindTooltip(\n",
       "                `&lt;div&gt;\n",
       "                     10歳代\n",
       "                 &lt;/div&gt;`,\n",
       "                {&quot;sticky&quot;: true}\n",
       "            );\n",
       "        \n",
       "    \n",
       "            var marker_b760774708a6b4df3db2b311e3898e0f = L.marker(\n",
       "                [35.882629, 139.959305],\n",
       "                {}\n",
       "            ).addTo(marker_cluster_2d2d92b93aa789c706b1f625baffdaad);\n",
       "        \n",
       "    \n",
       "            marker_b760774708a6b4df3db2b311e3898e0f.bindTooltip(\n",
       "                `&lt;div&gt;\n",
       "                     70歳以上\n",
       "                 &lt;/div&gt;`,\n",
       "                {&quot;sticky&quot;: true}\n",
       "            );\n",
       "        \n",
       "    \n",
       "            var marker_2b244f8bacd56a1870d4f96bbcd54ba5 = L.marker(\n",
       "                [35.882629, 139.959305],\n",
       "                {}\n",
       "            ).addTo(marker_cluster_2d2d92b93aa789c706b1f625baffdaad);\n",
       "        \n",
       "    \n",
       "            marker_2b244f8bacd56a1870d4f96bbcd54ba5.bindTooltip(\n",
       "                `&lt;div&gt;\n",
       "                     10歳代\n",
       "                 &lt;/div&gt;`,\n",
       "                {&quot;sticky&quot;: true}\n",
       "            );\n",
       "        \n",
       "    \n",
       "            var marker_8ffdad48b5bd21030e0c9a1d6f7ef117 = L.marker(\n",
       "                [35.88113, 139.98645],\n",
       "                {}\n",
       "            ).addTo(marker_cluster_2d2d92b93aa789c706b1f625baffdaad);\n",
       "        \n",
       "    \n",
       "            marker_8ffdad48b5bd21030e0c9a1d6f7ef117.bindTooltip(\n",
       "                `&lt;div&gt;\n",
       "                     20歳代\n",
       "                 &lt;/div&gt;`,\n",
       "                {&quot;sticky&quot;: true}\n",
       "            );\n",
       "        \n",
       "    \n",
       "            var marker_6d1891e14ea0b16a6c47f38c4daaa018 = L.marker(\n",
       "                [35.879082, 139.975952],\n",
       "                {}\n",
       "            ).addTo(marker_cluster_2d2d92b93aa789c706b1f625baffdaad);\n",
       "        \n",
       "    \n",
       "            marker_6d1891e14ea0b16a6c47f38c4daaa018.bindTooltip(\n",
       "                `&lt;div&gt;\n",
       "                     20歳代\n",
       "                 &lt;/div&gt;`,\n",
       "                {&quot;sticky&quot;: true}\n",
       "            );\n",
       "        \n",
       "    \n",
       "            var marker_afe9f5bf64038159c0f52ecc3bd33a6c = L.marker(\n",
       "                [35.879082, 139.975952],\n",
       "                {}\n",
       "            ).addTo(marker_cluster_2d2d92b93aa789c706b1f625baffdaad);\n",
       "        \n",
       "    \n",
       "            marker_afe9f5bf64038159c0f52ecc3bd33a6c.bindTooltip(\n",
       "                `&lt;div&gt;\n",
       "                     10歳代\n",
       "                 &lt;/div&gt;`,\n",
       "                {&quot;sticky&quot;: true}\n",
       "            );\n",
       "        \n",
       "    \n",
       "            var marker_0d7062fd4ce5c76fbbecd79ac8fbd556 = L.marker(\n",
       "                [35.879082, 139.975952],\n",
       "                {}\n",
       "            ).addTo(marker_cluster_2d2d92b93aa789c706b1f625baffdaad);\n",
       "        \n",
       "    \n",
       "            marker_0d7062fd4ce5c76fbbecd79ac8fbd556.bindTooltip(\n",
       "                `&lt;div&gt;\n",
       "                     20歳代\n",
       "                 &lt;/div&gt;`,\n",
       "                {&quot;sticky&quot;: true}\n",
       "            );\n",
       "        \n",
       "    \n",
       "            var marker_499039b577326e43448f72784ae8739e = L.marker(\n",
       "                [35.879082, 139.975952],\n",
       "                {}\n",
       "            ).addTo(marker_cluster_2d2d92b93aa789c706b1f625baffdaad);\n",
       "        \n",
       "    \n",
       "            marker_499039b577326e43448f72784ae8739e.bindTooltip(\n",
       "                `&lt;div&gt;\n",
       "                     20歳代\n",
       "                 &lt;/div&gt;`,\n",
       "                {&quot;sticky&quot;: true}\n",
       "            );\n",
       "        \n",
       "    \n",
       "            var marker_6cde19c76636ed47fc942a37292646e3 = L.marker(\n",
       "                [35.879082, 139.975952],\n",
       "                {}\n",
       "            ).addTo(marker_cluster_2d2d92b93aa789c706b1f625baffdaad);\n",
       "        \n",
       "    \n",
       "            marker_6cde19c76636ed47fc942a37292646e3.bindTooltip(\n",
       "                `&lt;div&gt;\n",
       "                     40歳代\n",
       "                 &lt;/div&gt;`,\n",
       "                {&quot;sticky&quot;: true}\n",
       "            );\n",
       "        \n",
       "    \n",
       "            var marker_1cfdc28fbdd639bee2a29a63eafb6b24 = L.marker(\n",
       "                [35.879082, 139.975952],\n",
       "                {}\n",
       "            ).addTo(marker_cluster_2d2d92b93aa789c706b1f625baffdaad);\n",
       "        \n",
       "    \n",
       "            marker_1cfdc28fbdd639bee2a29a63eafb6b24.bindTooltip(\n",
       "                `&lt;div&gt;\n",
       "                     10歳代\n",
       "                 &lt;/div&gt;`,\n",
       "                {&quot;sticky&quot;: true}\n",
       "            );\n",
       "        \n",
       "    \n",
       "            var marker_2e8d33465d633509cf709742d4d19054 = L.marker(\n",
       "                [35.879082, 139.975952],\n",
       "                {}\n",
       "            ).addTo(marker_cluster_2d2d92b93aa789c706b1f625baffdaad);\n",
       "        \n",
       "    \n",
       "            marker_2e8d33465d633509cf709742d4d19054.bindTooltip(\n",
       "                `&lt;div&gt;\n",
       "                     30歳代\n",
       "                 &lt;/div&gt;`,\n",
       "                {&quot;sticky&quot;: true}\n",
       "            );\n",
       "        \n",
       "    \n",
       "            var marker_874481a3a6a52b4d6744acea628dac91 = L.marker(\n",
       "                [35.879082, 139.975952],\n",
       "                {}\n",
       "            ).addTo(marker_cluster_2d2d92b93aa789c706b1f625baffdaad);\n",
       "        \n",
       "    \n",
       "            marker_874481a3a6a52b4d6744acea628dac91.bindTooltip(\n",
       "                `&lt;div&gt;\n",
       "                     30歳代\n",
       "                 &lt;/div&gt;`,\n",
       "                {&quot;sticky&quot;: true}\n",
       "            );\n",
       "        \n",
       "    \n",
       "            var marker_64ebf852374fe615a02b55728455b522 = L.marker(\n",
       "                [35.886456, 139.980759],\n",
       "                {}\n",
       "            ).addTo(marker_cluster_2d2d92b93aa789c706b1f625baffdaad);\n",
       "        \n",
       "    \n",
       "            marker_64ebf852374fe615a02b55728455b522.bindTooltip(\n",
       "                `&lt;div&gt;\n",
       "                     20歳代\n",
       "                 &lt;/div&gt;`,\n",
       "                {&quot;sticky&quot;: true}\n",
       "            );\n",
       "        \n",
       "    \n",
       "            var marker_bcef8ef3a821724437c255fa486ca8c8 = L.marker(\n",
       "                [35.886456, 139.980759],\n",
       "                {}\n",
       "            ).addTo(marker_cluster_2d2d92b93aa789c706b1f625baffdaad);\n",
       "        \n",
       "    \n",
       "            marker_bcef8ef3a821724437c255fa486ca8c8.bindTooltip(\n",
       "                `&lt;div&gt;\n",
       "                     10歳代\n",
       "                 &lt;/div&gt;`,\n",
       "                {&quot;sticky&quot;: true}\n",
       "            );\n",
       "        \n",
       "    \n",
       "            var marker_0e663887076f41e9699b4d49e54e9004 = L.marker(\n",
       "                [35.886009, 139.970963],\n",
       "                {}\n",
       "            ).addTo(marker_cluster_2d2d92b93aa789c706b1f625baffdaad);\n",
       "        \n",
       "    \n",
       "            marker_0e663887076f41e9699b4d49e54e9004.bindTooltip(\n",
       "                `&lt;div&gt;\n",
       "                     10歳未満\n",
       "                 &lt;/div&gt;`,\n",
       "                {&quot;sticky&quot;: true}\n",
       "            );\n",
       "        \n",
       "    \n",
       "            var marker_dbf17d3e76ebc5735fb2de10e96fbff8 = L.marker(\n",
       "                [35.886009, 139.970963],\n",
       "                {}\n",
       "            ).addTo(marker_cluster_2d2d92b93aa789c706b1f625baffdaad);\n",
       "        \n",
       "    \n",
       "            marker_dbf17d3e76ebc5735fb2de10e96fbff8.bindTooltip(\n",
       "                `&lt;div&gt;\n",
       "                     10歳代\n",
       "                 &lt;/div&gt;`,\n",
       "                {&quot;sticky&quot;: true}\n",
       "            );\n",
       "        \n",
       "    \n",
       "            var marker_dcd41d716aa5566b91b800e222b17b7e = L.marker(\n",
       "                [35.889114, 139.971802],\n",
       "                {}\n",
       "            ).addTo(marker_cluster_2d2d92b93aa789c706b1f625baffdaad);\n",
       "        \n",
       "    \n",
       "            marker_dcd41d716aa5566b91b800e222b17b7e.bindTooltip(\n",
       "                `&lt;div&gt;\n",
       "                     70歳以上\n",
       "                 &lt;/div&gt;`,\n",
       "                {&quot;sticky&quot;: true}\n",
       "            );\n",
       "        \n",
       "    \n",
       "            var marker_56ef1d4b4583832cf45e8f15a4d26267 = L.marker(\n",
       "                [35.889114, 139.971802],\n",
       "                {}\n",
       "            ).addTo(marker_cluster_2d2d92b93aa789c706b1f625baffdaad);\n",
       "        \n",
       "    \n",
       "            marker_56ef1d4b4583832cf45e8f15a4d26267.bindTooltip(\n",
       "                `&lt;div&gt;\n",
       "                     65-69歳\n",
       "                 &lt;/div&gt;`,\n",
       "                {&quot;sticky&quot;: true}\n",
       "            );\n",
       "        \n",
       "    \n",
       "            var marker_d9300116b1123733f1b5d28848b83cf7 = L.marker(\n",
       "                [35.889114, 139.971802],\n",
       "                {}\n",
       "            ).addTo(marker_cluster_2d2d92b93aa789c706b1f625baffdaad);\n",
       "        \n",
       "    \n",
       "            marker_d9300116b1123733f1b5d28848b83cf7.bindTooltip(\n",
       "                `&lt;div&gt;\n",
       "                     70歳以上\n",
       "                 &lt;/div&gt;`,\n",
       "                {&quot;sticky&quot;: true}\n",
       "            );\n",
       "        \n",
       "    \n",
       "            var marker_e8b3fe3840f7a81e996ad5e690ce12c4 = L.marker(\n",
       "                [35.889473, 139.966446],\n",
       "                {}\n",
       "            ).addTo(marker_cluster_2d2d92b93aa789c706b1f625baffdaad);\n",
       "        \n",
       "    \n",
       "            marker_e8b3fe3840f7a81e996ad5e690ce12c4.bindTooltip(\n",
       "                `&lt;div&gt;\n",
       "                     40歳代\n",
       "                 &lt;/div&gt;`,\n",
       "                {&quot;sticky&quot;: true}\n",
       "            );\n",
       "        \n",
       "    \n",
       "            var marker_0f9eba04db94759c196801a5f39781f1 = L.marker(\n",
       "                [35.889473, 139.966446],\n",
       "                {}\n",
       "            ).addTo(marker_cluster_2d2d92b93aa789c706b1f625baffdaad);\n",
       "        \n",
       "    \n",
       "            marker_0f9eba04db94759c196801a5f39781f1.bindTooltip(\n",
       "                `&lt;div&gt;\n",
       "                     70歳以上\n",
       "                 &lt;/div&gt;`,\n",
       "                {&quot;sticky&quot;: true}\n",
       "            );\n",
       "        \n",
       "    \n",
       "            var marker_4131f6a35c0ab28a0f31fb36fa6cb1cf = L.marker(\n",
       "                [35.891541, 139.968033],\n",
       "                {}\n",
       "            ).addTo(marker_cluster_2d2d92b93aa789c706b1f625baffdaad);\n",
       "        \n",
       "    \n",
       "            marker_4131f6a35c0ab28a0f31fb36fa6cb1cf.bindTooltip(\n",
       "                `&lt;div&gt;\n",
       "                     50歳代\n",
       "                 &lt;/div&gt;`,\n",
       "                {&quot;sticky&quot;: true}\n",
       "            );\n",
       "        \n",
       "    \n",
       "            var marker_ffa54d2b567fc4760e75054a4092758e = L.marker(\n",
       "                [35.880825, 139.967804],\n",
       "                {}\n",
       "            ).addTo(marker_cluster_2d2d92b93aa789c706b1f625baffdaad);\n",
       "        \n",
       "    \n",
       "            marker_ffa54d2b567fc4760e75054a4092758e.bindTooltip(\n",
       "                `&lt;div&gt;\n",
       "                     40歳代\n",
       "                 &lt;/div&gt;`,\n",
       "                {&quot;sticky&quot;: true}\n",
       "            );\n",
       "        \n",
       "    \n",
       "            var marker_265b578f17e7b23485cba29865942317 = L.marker(\n",
       "                [35.880825, 139.967804],\n",
       "                {}\n",
       "            ).addTo(marker_cluster_2d2d92b93aa789c706b1f625baffdaad);\n",
       "        \n",
       "    \n",
       "            marker_265b578f17e7b23485cba29865942317.bindTooltip(\n",
       "                `&lt;div&gt;\n",
       "                     20歳代\n",
       "                 &lt;/div&gt;`,\n",
       "                {&quot;sticky&quot;: true}\n",
       "            );\n",
       "        \n",
       "    \n",
       "            var marker_6fd6ada4005ecae3d15001e7bb5b95d1 = L.marker(\n",
       "                [35.880825, 139.967804],\n",
       "                {}\n",
       "            ).addTo(marker_cluster_2d2d92b93aa789c706b1f625baffdaad);\n",
       "        \n",
       "    \n",
       "            marker_6fd6ada4005ecae3d15001e7bb5b95d1.bindTooltip(\n",
       "                `&lt;div&gt;\n",
       "                     10歳代\n",
       "                 &lt;/div&gt;`,\n",
       "                {&quot;sticky&quot;: true}\n",
       "            );\n",
       "        \n",
       "    \n",
       "            var marker_82ecd68cf20334f1d89eda85b531145f = L.marker(\n",
       "                [35.880825, 139.967804],\n",
       "                {}\n",
       "            ).addTo(marker_cluster_2d2d92b93aa789c706b1f625baffdaad);\n",
       "        \n",
       "    \n",
       "            marker_82ecd68cf20334f1d89eda85b531145f.bindTooltip(\n",
       "                `&lt;div&gt;\n",
       "                     10歳代\n",
       "                 &lt;/div&gt;`,\n",
       "                {&quot;sticky&quot;: true}\n",
       "            );\n",
       "        \n",
       "    \n",
       "            var marker_2f9950a1280dc177b1ad5f9e5165ceb1 = L.marker(\n",
       "                [35.88258, 139.969193],\n",
       "                {}\n",
       "            ).addTo(marker_cluster_2d2d92b93aa789c706b1f625baffdaad);\n",
       "        \n",
       "    \n",
       "            marker_2f9950a1280dc177b1ad5f9e5165ceb1.bindTooltip(\n",
       "                `&lt;div&gt;\n",
       "                     40歳代\n",
       "                 &lt;/div&gt;`,\n",
       "                {&quot;sticky&quot;: true}\n",
       "            );\n",
       "        \n",
       "    \n",
       "            var marker_272da01bc79841bcf5b30915bd695cea = L.marker(\n",
       "                [35.88258, 139.969193],\n",
       "                {}\n",
       "            ).addTo(marker_cluster_2d2d92b93aa789c706b1f625baffdaad);\n",
       "        \n",
       "    \n",
       "            marker_272da01bc79841bcf5b30915bd695cea.bindTooltip(\n",
       "                `&lt;div&gt;\n",
       "                     10歳代\n",
       "                 &lt;/div&gt;`,\n",
       "                {&quot;sticky&quot;: true}\n",
       "            );\n",
       "        \n",
       "    \n",
       "            var marker_1e908b1e439ab1f0e27f8b1e40e29b59 = L.marker(\n",
       "                [35.88258, 139.969193],\n",
       "                {}\n",
       "            ).addTo(marker_cluster_2d2d92b93aa789c706b1f625baffdaad);\n",
       "        \n",
       "    \n",
       "            marker_1e908b1e439ab1f0e27f8b1e40e29b59.bindTooltip(\n",
       "                `&lt;div&gt;\n",
       "                     20歳代\n",
       "                 &lt;/div&gt;`,\n",
       "                {&quot;sticky&quot;: true}\n",
       "            );\n",
       "        \n",
       "    \n",
       "            var marker_e900b527f7e43d070074623d244171f0 = L.marker(\n",
       "                [35.88258, 139.969193],\n",
       "                {}\n",
       "            ).addTo(marker_cluster_2d2d92b93aa789c706b1f625baffdaad);\n",
       "        \n",
       "    \n",
       "            marker_e900b527f7e43d070074623d244171f0.bindTooltip(\n",
       "                `&lt;div&gt;\n",
       "                     10歳代\n",
       "                 &lt;/div&gt;`,\n",
       "                {&quot;sticky&quot;: true}\n",
       "            );\n",
       "        \n",
       "    \n",
       "            var marker_bb37deabbba9035c0b8fde90b9d7fb65 = L.marker(\n",
       "                [35.88258, 139.969193],\n",
       "                {}\n",
       "            ).addTo(marker_cluster_2d2d92b93aa789c706b1f625baffdaad);\n",
       "        \n",
       "    \n",
       "            marker_bb37deabbba9035c0b8fde90b9d7fb65.bindTooltip(\n",
       "                `&lt;div&gt;\n",
       "                     10歳代\n",
       "                 &lt;/div&gt;`,\n",
       "                {&quot;sticky&quot;: true}\n",
       "            );\n",
       "        \n",
       "    \n",
       "            var marker_dc296f0c9ddbbe4b9682d2ed4da12aba = L.marker(\n",
       "                [35.88258, 139.969193],\n",
       "                {}\n",
       "            ).addTo(marker_cluster_2d2d92b93aa789c706b1f625baffdaad);\n",
       "        \n",
       "    \n",
       "            marker_dc296f0c9ddbbe4b9682d2ed4da12aba.bindTooltip(\n",
       "                `&lt;div&gt;\n",
       "                     30歳代\n",
       "                 &lt;/div&gt;`,\n",
       "                {&quot;sticky&quot;: true}\n",
       "            );\n",
       "        \n",
       "    \n",
       "            var marker_5c264c228a4b380a5f703d6071e35727 = L.marker(\n",
       "                [35.88258, 139.969193],\n",
       "                {}\n",
       "            ).addTo(marker_cluster_2d2d92b93aa789c706b1f625baffdaad);\n",
       "        \n",
       "    \n",
       "            marker_5c264c228a4b380a5f703d6071e35727.bindTooltip(\n",
       "                `&lt;div&gt;\n",
       "                     法人・団体、被害者なし\n",
       "                 &lt;/div&gt;`,\n",
       "                {&quot;sticky&quot;: true}\n",
       "            );\n",
       "        \n",
       "    \n",
       "            var marker_0671d6856fc87c32e2eeb87c8b86b0ad = L.marker(\n",
       "                [35.902401, 139.950058],\n",
       "                {}\n",
       "            ).addTo(marker_cluster_2d2d92b93aa789c706b1f625baffdaad);\n",
       "        \n",
       "    \n",
       "            marker_0671d6856fc87c32e2eeb87c8b86b0ad.bindTooltip(\n",
       "                `&lt;div&gt;\n",
       "                     20歳代\n",
       "                 &lt;/div&gt;`,\n",
       "                {&quot;sticky&quot;: true}\n",
       "            );\n",
       "        \n",
       "    \n",
       "            var marker_3abb7ea8e1d43ea9b4eddce20432be43 = L.marker(\n",
       "                [35.902401, 139.950058],\n",
       "                {}\n",
       "            ).addTo(marker_cluster_2d2d92b93aa789c706b1f625baffdaad);\n",
       "        \n",
       "    \n",
       "            marker_3abb7ea8e1d43ea9b4eddce20432be43.bindTooltip(\n",
       "                `&lt;div&gt;\n",
       "                     30歳代\n",
       "                 &lt;/div&gt;`,\n",
       "                {&quot;sticky&quot;: true}\n",
       "            );\n",
       "        \n",
       "    \n",
       "            var marker_4fbc5f7d7b8cf7ebd80eac51ab043b7f = L.marker(\n",
       "                [35.891659, 139.953995],\n",
       "                {}\n",
       "            ).addTo(marker_cluster_2d2d92b93aa789c706b1f625baffdaad);\n",
       "        \n",
       "    \n",
       "            marker_4fbc5f7d7b8cf7ebd80eac51ab043b7f.bindTooltip(\n",
       "                `&lt;div&gt;\n",
       "                     10歳代\n",
       "                 &lt;/div&gt;`,\n",
       "                {&quot;sticky&quot;: true}\n",
       "            );\n",
       "        \n",
       "    \n",
       "            var marker_31fe599aed35d266fe829438661759ea = L.marker(\n",
       "                [35.891659, 139.953995],\n",
       "                {}\n",
       "            ).addTo(marker_cluster_2d2d92b93aa789c706b1f625baffdaad);\n",
       "        \n",
       "    \n",
       "            marker_31fe599aed35d266fe829438661759ea.bindTooltip(\n",
       "                `&lt;div&gt;\n",
       "                     10歳代\n",
       "                 &lt;/div&gt;`,\n",
       "                {&quot;sticky&quot;: true}\n",
       "            );\n",
       "        \n",
       "    \n",
       "            var marker_26847da3111e3716e7eedc7a186918b9 = L.marker(\n",
       "                [35.891659, 139.953995],\n",
       "                {}\n",
       "            ).addTo(marker_cluster_2d2d92b93aa789c706b1f625baffdaad);\n",
       "        \n",
       "    \n",
       "            marker_26847da3111e3716e7eedc7a186918b9.bindTooltip(\n",
       "                `&lt;div&gt;\n",
       "                     10歳代\n",
       "                 &lt;/div&gt;`,\n",
       "                {&quot;sticky&quot;: true}\n",
       "            );\n",
       "        \n",
       "    \n",
       "            var marker_af44235e7872dbc0008e889930abcd87 = L.marker(\n",
       "                [35.891659, 139.953995],\n",
       "                {}\n",
       "            ).addTo(marker_cluster_2d2d92b93aa789c706b1f625baffdaad);\n",
       "        \n",
       "    \n",
       "            marker_af44235e7872dbc0008e889930abcd87.bindTooltip(\n",
       "                `&lt;div&gt;\n",
       "                     10歳代\n",
       "                 &lt;/div&gt;`,\n",
       "                {&quot;sticky&quot;: true}\n",
       "            );\n",
       "        \n",
       "    \n",
       "            var marker_231a49afe84253559d567d229c27d68c = L.marker(\n",
       "                [35.891659, 139.953995],\n",
       "                {}\n",
       "            ).addTo(marker_cluster_2d2d92b93aa789c706b1f625baffdaad);\n",
       "        \n",
       "    \n",
       "            marker_231a49afe84253559d567d229c27d68c.bindTooltip(\n",
       "                `&lt;div&gt;\n",
       "                     20歳代\n",
       "                 &lt;/div&gt;`,\n",
       "                {&quot;sticky&quot;: true}\n",
       "            );\n",
       "        \n",
       "    \n",
       "            var marker_e5d4e836bd7af334d2edfc16095a81c1 = L.marker(\n",
       "                [35.891659, 139.953995],\n",
       "                {}\n",
       "            ).addTo(marker_cluster_2d2d92b93aa789c706b1f625baffdaad);\n",
       "        \n",
       "    \n",
       "            marker_e5d4e836bd7af334d2edfc16095a81c1.bindTooltip(\n",
       "                `&lt;div&gt;\n",
       "                     10歳代\n",
       "                 &lt;/div&gt;`,\n",
       "                {&quot;sticky&quot;: true}\n",
       "            );\n",
       "        \n",
       "    \n",
       "            var marker_8dc0d3f5fd0c195625538d43918c3124 = L.marker(\n",
       "                [35.891659, 139.953995],\n",
       "                {}\n",
       "            ).addTo(marker_cluster_2d2d92b93aa789c706b1f625baffdaad);\n",
       "        \n",
       "    \n",
       "            marker_8dc0d3f5fd0c195625538d43918c3124.bindTooltip(\n",
       "                `&lt;div&gt;\n",
       "                     20歳代\n",
       "                 &lt;/div&gt;`,\n",
       "                {&quot;sticky&quot;: true}\n",
       "            );\n",
       "        \n",
       "    \n",
       "            var marker_ac726f62d554a4f3edfe86c02e1120e4 = L.marker(\n",
       "                [35.891659, 139.953995],\n",
       "                {}\n",
       "            ).addTo(marker_cluster_2d2d92b93aa789c706b1f625baffdaad);\n",
       "        \n",
       "    \n",
       "            marker_ac726f62d554a4f3edfe86c02e1120e4.bindTooltip(\n",
       "                `&lt;div&gt;\n",
       "                     40歳代\n",
       "                 &lt;/div&gt;`,\n",
       "                {&quot;sticky&quot;: true}\n",
       "            );\n",
       "        \n",
       "    \n",
       "            var marker_1f49417e4fe27867d22a2f1382c79f48 = L.marker(\n",
       "                [35.891659, 139.953995],\n",
       "                {}\n",
       "            ).addTo(marker_cluster_2d2d92b93aa789c706b1f625baffdaad);\n",
       "        \n",
       "    \n",
       "            marker_1f49417e4fe27867d22a2f1382c79f48.bindTooltip(\n",
       "                `&lt;div&gt;\n",
       "                     10歳代\n",
       "                 &lt;/div&gt;`,\n",
       "                {&quot;sticky&quot;: true}\n",
       "            );\n",
       "        \n",
       "    \n",
       "            var marker_7d5df778e65deff23a5e3129e0656b76 = L.marker(\n",
       "                [35.891659, 139.953995],\n",
       "                {}\n",
       "            ).addTo(marker_cluster_2d2d92b93aa789c706b1f625baffdaad);\n",
       "        \n",
       "    \n",
       "            marker_7d5df778e65deff23a5e3129e0656b76.bindTooltip(\n",
       "                `&lt;div&gt;\n",
       "                     10歳代\n",
       "                 &lt;/div&gt;`,\n",
       "                {&quot;sticky&quot;: true}\n",
       "            );\n",
       "        \n",
       "    \n",
       "            var marker_df8d361ad06b37887827de92bfbec80d = L.marker(\n",
       "                [35.891659, 139.953995],\n",
       "                {}\n",
       "            ).addTo(marker_cluster_2d2d92b93aa789c706b1f625baffdaad);\n",
       "        \n",
       "    \n",
       "            marker_df8d361ad06b37887827de92bfbec80d.bindTooltip(\n",
       "                `&lt;div&gt;\n",
       "                     30歳代\n",
       "                 &lt;/div&gt;`,\n",
       "                {&quot;sticky&quot;: true}\n",
       "            );\n",
       "        \n",
       "    \n",
       "            var marker_5b5cc5595609ba7e1eb33809d07cc75f = L.marker(\n",
       "                [35.891659, 139.953995],\n",
       "                {}\n",
       "            ).addTo(marker_cluster_2d2d92b93aa789c706b1f625baffdaad);\n",
       "        \n",
       "    \n",
       "            marker_5b5cc5595609ba7e1eb33809d07cc75f.bindTooltip(\n",
       "                `&lt;div&gt;\n",
       "                     20歳代\n",
       "                 &lt;/div&gt;`,\n",
       "                {&quot;sticky&quot;: true}\n",
       "            );\n",
       "        \n",
       "    \n",
       "            var marker_da3b42c0114dc6f748d85a7b97cecc66 = L.marker(\n",
       "                [35.891659, 139.953995],\n",
       "                {}\n",
       "            ).addTo(marker_cluster_2d2d92b93aa789c706b1f625baffdaad);\n",
       "        \n",
       "    \n",
       "            marker_da3b42c0114dc6f748d85a7b97cecc66.bindTooltip(\n",
       "                `&lt;div&gt;\n",
       "                     10歳代\n",
       "                 &lt;/div&gt;`,\n",
       "                {&quot;sticky&quot;: true}\n",
       "            );\n",
       "        \n",
       "    \n",
       "            var marker_790cd641a7bc9501334d036ee01c9621 = L.marker(\n",
       "                [35.891659, 139.953995],\n",
       "                {}\n",
       "            ).addTo(marker_cluster_2d2d92b93aa789c706b1f625baffdaad);\n",
       "        \n",
       "    \n",
       "            marker_790cd641a7bc9501334d036ee01c9621.bindTooltip(\n",
       "                `&lt;div&gt;\n",
       "                     20歳代\n",
       "                 &lt;/div&gt;`,\n",
       "                {&quot;sticky&quot;: true}\n",
       "            );\n",
       "        \n",
       "    \n",
       "            var marker_f782fb51f5bc46a35b5c7b8d9ed5b17a = L.marker(\n",
       "                [35.891659, 139.953995],\n",
       "                {}\n",
       "            ).addTo(marker_cluster_2d2d92b93aa789c706b1f625baffdaad);\n",
       "        \n",
       "    \n",
       "            marker_f782fb51f5bc46a35b5c7b8d9ed5b17a.bindTooltip(\n",
       "                `&lt;div&gt;\n",
       "                     40歳代\n",
       "                 &lt;/div&gt;`,\n",
       "                {&quot;sticky&quot;: true}\n",
       "            );\n",
       "        \n",
       "    \n",
       "            var marker_4cf8eda88ef109bb13a3786cdecff80a = L.marker(\n",
       "                [35.891659, 139.953995],\n",
       "                {}\n",
       "            ).addTo(marker_cluster_2d2d92b93aa789c706b1f625baffdaad);\n",
       "        \n",
       "    \n",
       "            marker_4cf8eda88ef109bb13a3786cdecff80a.bindTooltip(\n",
       "                `&lt;div&gt;\n",
       "                     10歳代\n",
       "                 &lt;/div&gt;`,\n",
       "                {&quot;sticky&quot;: true}\n",
       "            );\n",
       "        \n",
       "    \n",
       "            var marker_3c886a82ea1f03f9dc5c2800cb8668bc = L.marker(\n",
       "                [35.891659, 139.953995],\n",
       "                {}\n",
       "            ).addTo(marker_cluster_2d2d92b93aa789c706b1f625baffdaad);\n",
       "        \n",
       "    \n",
       "            marker_3c886a82ea1f03f9dc5c2800cb8668bc.bindTooltip(\n",
       "                `&lt;div&gt;\n",
       "                     10歳代\n",
       "                 &lt;/div&gt;`,\n",
       "                {&quot;sticky&quot;: true}\n",
       "            );\n",
       "        \n",
       "    \n",
       "            var marker_8ba613dda66228503e6a1390a394afd6 = L.marker(\n",
       "                [35.891659, 139.953995],\n",
       "                {}\n",
       "            ).addTo(marker_cluster_2d2d92b93aa789c706b1f625baffdaad);\n",
       "        \n",
       "    \n",
       "            marker_8ba613dda66228503e6a1390a394afd6.bindTooltip(\n",
       "                `&lt;div&gt;\n",
       "                     40歳代\n",
       "                 &lt;/div&gt;`,\n",
       "                {&quot;sticky&quot;: true}\n",
       "            );\n",
       "        \n",
       "    \n",
       "            var marker_6b7cb60545947e3658168387fe468ba7 = L.marker(\n",
       "                [35.891659, 139.953995],\n",
       "                {}\n",
       "            ).addTo(marker_cluster_2d2d92b93aa789c706b1f625baffdaad);\n",
       "        \n",
       "    \n",
       "            marker_6b7cb60545947e3658168387fe468ba7.bindTooltip(\n",
       "                `&lt;div&gt;\n",
       "                     20歳代\n",
       "                 &lt;/div&gt;`,\n",
       "                {&quot;sticky&quot;: true}\n",
       "            );\n",
       "        \n",
       "    \n",
       "            var marker_54d65533c19e3e7f9b6647d41ebc55ba = L.marker(\n",
       "                [35.891659, 139.953995],\n",
       "                {}\n",
       "            ).addTo(marker_cluster_2d2d92b93aa789c706b1f625baffdaad);\n",
       "        \n",
       "    \n",
       "            marker_54d65533c19e3e7f9b6647d41ebc55ba.bindTooltip(\n",
       "                `&lt;div&gt;\n",
       "                     10歳代\n",
       "                 &lt;/div&gt;`,\n",
       "                {&quot;sticky&quot;: true}\n",
       "            );\n",
       "        \n",
       "    \n",
       "            var marker_52ba0605d2c57279b8309247713a0e35 = L.marker(\n",
       "                [35.891659, 139.953995],\n",
       "                {}\n",
       "            ).addTo(marker_cluster_2d2d92b93aa789c706b1f625baffdaad);\n",
       "        \n",
       "    \n",
       "            marker_52ba0605d2c57279b8309247713a0e35.bindTooltip(\n",
       "                `&lt;div&gt;\n",
       "                     20歳代\n",
       "                 &lt;/div&gt;`,\n",
       "                {&quot;sticky&quot;: true}\n",
       "            );\n",
       "        \n",
       "    \n",
       "            var marker_67589d13e2c6feecc922c2f89ba9ff39 = L.marker(\n",
       "                [35.891659, 139.953995],\n",
       "                {}\n",
       "            ).addTo(marker_cluster_2d2d92b93aa789c706b1f625baffdaad);\n",
       "        \n",
       "    \n",
       "            marker_67589d13e2c6feecc922c2f89ba9ff39.bindTooltip(\n",
       "                `&lt;div&gt;\n",
       "                     20歳代\n",
       "                 &lt;/div&gt;`,\n",
       "                {&quot;sticky&quot;: true}\n",
       "            );\n",
       "        \n",
       "    \n",
       "            var marker_eee42cc9d05028d4ef82f1fe77d689f4 = L.marker(\n",
       "                [35.896427, 139.937088],\n",
       "                {}\n",
       "            ).addTo(marker_cluster_2d2d92b93aa789c706b1f625baffdaad);\n",
       "        \n",
       "    \n",
       "            marker_eee42cc9d05028d4ef82f1fe77d689f4.bindTooltip(\n",
       "                `&lt;div&gt;\n",
       "                     30歳代\n",
       "                 &lt;/div&gt;`,\n",
       "                {&quot;sticky&quot;: true}\n",
       "            );\n",
       "        \n",
       "    \n",
       "            var marker_6595a018c9afd7b315776d6127b7c273 = L.marker(\n",
       "                [35.896942, 139.944931],\n",
       "                {}\n",
       "            ).addTo(marker_cluster_2d2d92b93aa789c706b1f625baffdaad);\n",
       "        \n",
       "    \n",
       "            marker_6595a018c9afd7b315776d6127b7c273.bindTooltip(\n",
       "                `&lt;div&gt;\n",
       "                     20歳代\n",
       "                 &lt;/div&gt;`,\n",
       "                {&quot;sticky&quot;: true}\n",
       "            );\n",
       "        \n",
       "    \n",
       "            var marker_455f6644985e00cbe96cb4077355a198 = L.marker(\n",
       "                [35.857388, 139.97847],\n",
       "                {}\n",
       "            ).addTo(marker_cluster_2d2d92b93aa789c706b1f625baffdaad);\n",
       "        \n",
       "    \n",
       "            marker_455f6644985e00cbe96cb4077355a198.bindTooltip(\n",
       "                `&lt;div&gt;\n",
       "                     20歳代\n",
       "                 &lt;/div&gt;`,\n",
       "                {&quot;sticky&quot;: true}\n",
       "            );\n",
       "        \n",
       "    \n",
       "            var marker_6811ebf757a054eabc190c6a34235b51 = L.marker(\n",
       "                [35.859604, 139.977722],\n",
       "                {}\n",
       "            ).addTo(marker_cluster_2d2d92b93aa789c706b1f625baffdaad);\n",
       "        \n",
       "    \n",
       "            marker_6811ebf757a054eabc190c6a34235b51.bindTooltip(\n",
       "                `&lt;div&gt;\n",
       "                     30歳代\n",
       "                 &lt;/div&gt;`,\n",
       "                {&quot;sticky&quot;: true}\n",
       "            );\n",
       "        \n",
       "    \n",
       "            var marker_512ec51ef7615aaaf70c92fbd16cd1b7 = L.marker(\n",
       "                [35.859604, 139.977722],\n",
       "                {}\n",
       "            ).addTo(marker_cluster_2d2d92b93aa789c706b1f625baffdaad);\n",
       "        \n",
       "    \n",
       "            marker_512ec51ef7615aaaf70c92fbd16cd1b7.bindTooltip(\n",
       "                `&lt;div&gt;\n",
       "                     20歳代\n",
       "                 &lt;/div&gt;`,\n",
       "                {&quot;sticky&quot;: true}\n",
       "            );\n",
       "        \n",
       "    \n",
       "            var marker_116f9905bf8b6069fcaa49b627000549 = L.marker(\n",
       "                [35.856449, 139.967957],\n",
       "                {}\n",
       "            ).addTo(marker_cluster_2d2d92b93aa789c706b1f625baffdaad);\n",
       "        \n",
       "    \n",
       "            marker_116f9905bf8b6069fcaa49b627000549.bindTooltip(\n",
       "                `&lt;div&gt;\n",
       "                     10歳代\n",
       "                 &lt;/div&gt;`,\n",
       "                {&quot;sticky&quot;: true}\n",
       "            );\n",
       "        \n",
       "    \n",
       "            var marker_e1f33e9156cabb3e3c22294d6f41cf51 = L.marker(\n",
       "                [35.856449, 139.967957],\n",
       "                {}\n",
       "            ).addTo(marker_cluster_2d2d92b93aa789c706b1f625baffdaad);\n",
       "        \n",
       "    \n",
       "            marker_e1f33e9156cabb3e3c22294d6f41cf51.bindTooltip(\n",
       "                `&lt;div&gt;\n",
       "                     10歳代\n",
       "                 &lt;/div&gt;`,\n",
       "                {&quot;sticky&quot;: true}\n",
       "            );\n",
       "        \n",
       "    \n",
       "            var marker_5ea2e21fbebb74ec6fd77dbb3cdd373f = L.marker(\n",
       "                [35.856449, 139.967957],\n",
       "                {}\n",
       "            ).addTo(marker_cluster_2d2d92b93aa789c706b1f625baffdaad);\n",
       "        \n",
       "    \n",
       "            marker_5ea2e21fbebb74ec6fd77dbb3cdd373f.bindTooltip(\n",
       "                `&lt;div&gt;\n",
       "                     10歳代\n",
       "                 &lt;/div&gt;`,\n",
       "                {&quot;sticky&quot;: true}\n",
       "            );\n",
       "        \n",
       "    \n",
       "            var marker_03eb8ca09a068da8d9aaf65ae65f73d3 = L.marker(\n",
       "                [35.856449, 139.967957],\n",
       "                {}\n",
       "            ).addTo(marker_cluster_2d2d92b93aa789c706b1f625baffdaad);\n",
       "        \n",
       "    \n",
       "            marker_03eb8ca09a068da8d9aaf65ae65f73d3.bindTooltip(\n",
       "                `&lt;div&gt;\n",
       "                     10歳代\n",
       "                 &lt;/div&gt;`,\n",
       "                {&quot;sticky&quot;: true}\n",
       "            );\n",
       "        \n",
       "    \n",
       "            var marker_e4e4ccf9473cd5b9f9851691bb5a3a41 = L.marker(\n",
       "                [35.864445, 139.986511],\n",
       "                {}\n",
       "            ).addTo(marker_cluster_2d2d92b93aa789c706b1f625baffdaad);\n",
       "        \n",
       "    \n",
       "            marker_e4e4ccf9473cd5b9f9851691bb5a3a41.bindTooltip(\n",
       "                `&lt;div&gt;\n",
       "                     40歳代\n",
       "                 &lt;/div&gt;`,\n",
       "                {&quot;sticky&quot;: true}\n",
       "            );\n",
       "        \n",
       "    \n",
       "            var marker_a49ac31fdc0987d323c3c0271aa8d0da = L.marker(\n",
       "                [35.864445, 139.986511],\n",
       "                {}\n",
       "            ).addTo(marker_cluster_2d2d92b93aa789c706b1f625baffdaad);\n",
       "        \n",
       "    \n",
       "            marker_a49ac31fdc0987d323c3c0271aa8d0da.bindTooltip(\n",
       "                `&lt;div&gt;\n",
       "                     10歳代\n",
       "                 &lt;/div&gt;`,\n",
       "                {&quot;sticky&quot;: true}\n",
       "            );\n",
       "        \n",
       "    \n",
       "            var marker_c5415577fb60eb550da7f95acd828f8c = L.marker(\n",
       "                [35.864445, 139.986511],\n",
       "                {}\n",
       "            ).addTo(marker_cluster_2d2d92b93aa789c706b1f625baffdaad);\n",
       "        \n",
       "    \n",
       "            marker_c5415577fb60eb550da7f95acd828f8c.bindTooltip(\n",
       "                `&lt;div&gt;\n",
       "                     10歳代\n",
       "                 &lt;/div&gt;`,\n",
       "                {&quot;sticky&quot;: true}\n",
       "            );\n",
       "        \n",
       "    \n",
       "            var marker_0bc9829d6f32786f27e0c4617fa9f195 = L.marker(\n",
       "                [35.864445, 139.986511],\n",
       "                {}\n",
       "            ).addTo(marker_cluster_2d2d92b93aa789c706b1f625baffdaad);\n",
       "        \n",
       "    \n",
       "            marker_0bc9829d6f32786f27e0c4617fa9f195.bindTooltip(\n",
       "                `&lt;div&gt;\n",
       "                     10歳代\n",
       "                 &lt;/div&gt;`,\n",
       "                {&quot;sticky&quot;: true}\n",
       "            );\n",
       "        \n",
       "    \n",
       "            var marker_38f9be3c41ba00dc88ac0b4f8f8697ac = L.marker(\n",
       "                [35.864445, 139.986511],\n",
       "                {}\n",
       "            ).addTo(marker_cluster_2d2d92b93aa789c706b1f625baffdaad);\n",
       "        \n",
       "    \n",
       "            marker_38f9be3c41ba00dc88ac0b4f8f8697ac.bindTooltip(\n",
       "                `&lt;div&gt;\n",
       "                     10歳代\n",
       "                 &lt;/div&gt;`,\n",
       "                {&quot;sticky&quot;: true}\n",
       "            );\n",
       "        \n",
       "    \n",
       "            var marker_a0bed32c983b1e33a52e5bc975a67176 = L.marker(\n",
       "                [35.864445, 139.986511],\n",
       "                {}\n",
       "            ).addTo(marker_cluster_2d2d92b93aa789c706b1f625baffdaad);\n",
       "        \n",
       "    \n",
       "            marker_a0bed32c983b1e33a52e5bc975a67176.bindTooltip(\n",
       "                `&lt;div&gt;\n",
       "                     20歳代\n",
       "                 &lt;/div&gt;`,\n",
       "                {&quot;sticky&quot;: true}\n",
       "            );\n",
       "        \n",
       "    \n",
       "            var marker_bf91f8a48814a0ab7af3db1568932e05 = L.marker(\n",
       "                [35.861809, 139.97142],\n",
       "                {}\n",
       "            ).addTo(marker_cluster_2d2d92b93aa789c706b1f625baffdaad);\n",
       "        \n",
       "    \n",
       "            marker_bf91f8a48814a0ab7af3db1568932e05.bindTooltip(\n",
       "                `&lt;div&gt;\n",
       "                     40歳代\n",
       "                 &lt;/div&gt;`,\n",
       "                {&quot;sticky&quot;: true}\n",
       "            );\n",
       "        \n",
       "    \n",
       "            var marker_cd172330d51193d8b51ab80f3b8bd548 = L.marker(\n",
       "                [35.861809, 139.97142],\n",
       "                {}\n",
       "            ).addTo(marker_cluster_2d2d92b93aa789c706b1f625baffdaad);\n",
       "        \n",
       "    \n",
       "            marker_cd172330d51193d8b51ab80f3b8bd548.bindTooltip(\n",
       "                `&lt;div&gt;\n",
       "                     30歳代\n",
       "                 &lt;/div&gt;`,\n",
       "                {&quot;sticky&quot;: true}\n",
       "            );\n",
       "        \n",
       "    \n",
       "            var marker_525e88e08bbff62e373b59e20ce360d2 = L.marker(\n",
       "                [35.861809, 139.97142],\n",
       "                {}\n",
       "            ).addTo(marker_cluster_2d2d92b93aa789c706b1f625baffdaad);\n",
       "        \n",
       "    \n",
       "            marker_525e88e08bbff62e373b59e20ce360d2.bindTooltip(\n",
       "                `&lt;div&gt;\n",
       "                     20歳代\n",
       "                 &lt;/div&gt;`,\n",
       "                {&quot;sticky&quot;: true}\n",
       "            );\n",
       "        \n",
       "    \n",
       "            var marker_e24d1840ad07f3878715054858a709b2 = L.marker(\n",
       "                [35.861809, 139.97142],\n",
       "                {}\n",
       "            ).addTo(marker_cluster_2d2d92b93aa789c706b1f625baffdaad);\n",
       "        \n",
       "    \n",
       "            marker_e24d1840ad07f3878715054858a709b2.bindTooltip(\n",
       "                `&lt;div&gt;\n",
       "                     30歳代\n",
       "                 &lt;/div&gt;`,\n",
       "                {&quot;sticky&quot;: true}\n",
       "            );\n",
       "        \n",
       "    \n",
       "            var marker_db0ba9e5595104fffa831f6c4e0ae51b = L.marker(\n",
       "                [35.861809, 139.97142],\n",
       "                {}\n",
       "            ).addTo(marker_cluster_2d2d92b93aa789c706b1f625baffdaad);\n",
       "        \n",
       "    \n",
       "            marker_db0ba9e5595104fffa831f6c4e0ae51b.bindTooltip(\n",
       "                `&lt;div&gt;\n",
       "                     40歳代\n",
       "                 &lt;/div&gt;`,\n",
       "                {&quot;sticky&quot;: true}\n",
       "            );\n",
       "        \n",
       "    \n",
       "            var marker_04f8741058b099cd57097c51bc18231b = L.marker(\n",
       "                [35.861809, 139.97142],\n",
       "                {}\n",
       "            ).addTo(marker_cluster_2d2d92b93aa789c706b1f625baffdaad);\n",
       "        \n",
       "    \n",
       "            marker_04f8741058b099cd57097c51bc18231b.bindTooltip(\n",
       "                `&lt;div&gt;\n",
       "                     60-64歳\n",
       "                 &lt;/div&gt;`,\n",
       "                {&quot;sticky&quot;: true}\n",
       "            );\n",
       "        \n",
       "    \n",
       "            var marker_fb0372b4f621b1083721cf65bd45b565 = L.marker(\n",
       "                [35.861809, 139.97142],\n",
       "                {}\n",
       "            ).addTo(marker_cluster_2d2d92b93aa789c706b1f625baffdaad);\n",
       "        \n",
       "    \n",
       "            marker_fb0372b4f621b1083721cf65bd45b565.bindTooltip(\n",
       "                `&lt;div&gt;\n",
       "                     10歳代\n",
       "                 &lt;/div&gt;`,\n",
       "                {&quot;sticky&quot;: true}\n",
       "            );\n",
       "        \n",
       "    \n",
       "            var marker_5548233367bb1d181bac91737a0d94f8 = L.marker(\n",
       "                [35.861809, 139.97142],\n",
       "                {}\n",
       "            ).addTo(marker_cluster_2d2d92b93aa789c706b1f625baffdaad);\n",
       "        \n",
       "    \n",
       "            marker_5548233367bb1d181bac91737a0d94f8.bindTooltip(\n",
       "                `&lt;div&gt;\n",
       "                     20歳代\n",
       "                 &lt;/div&gt;`,\n",
       "                {&quot;sticky&quot;: true}\n",
       "            );\n",
       "        \n",
       "    \n",
       "            var marker_4717a17cf14585c43dc913665184a557 = L.marker(\n",
       "                [35.861809, 139.97142],\n",
       "                {}\n",
       "            ).addTo(marker_cluster_2d2d92b93aa789c706b1f625baffdaad);\n",
       "        \n",
       "    \n",
       "            marker_4717a17cf14585c43dc913665184a557.bindTooltip(\n",
       "                `&lt;div&gt;\n",
       "                     20歳代\n",
       "                 &lt;/div&gt;`,\n",
       "                {&quot;sticky&quot;: true}\n",
       "            );\n",
       "        \n",
       "    \n",
       "            var marker_d3613c96abb2fd213ba348380b984947 = L.marker(\n",
       "                [35.861809, 139.97142],\n",
       "                {}\n",
       "            ).addTo(marker_cluster_2d2d92b93aa789c706b1f625baffdaad);\n",
       "        \n",
       "    \n",
       "            marker_d3613c96abb2fd213ba348380b984947.bindTooltip(\n",
       "                `&lt;div&gt;\n",
       "                     30歳代\n",
       "                 &lt;/div&gt;`,\n",
       "                {&quot;sticky&quot;: true}\n",
       "            );\n",
       "        \n",
       "    \n",
       "            var marker_0992e074f249a1fba2ce905e4fd7872a = L.marker(\n",
       "                [35.861809, 139.97142],\n",
       "                {}\n",
       "            ).addTo(marker_cluster_2d2d92b93aa789c706b1f625baffdaad);\n",
       "        \n",
       "    \n",
       "            marker_0992e074f249a1fba2ce905e4fd7872a.bindTooltip(\n",
       "                `&lt;div&gt;\n",
       "                     20歳代\n",
       "                 &lt;/div&gt;`,\n",
       "                {&quot;sticky&quot;: true}\n",
       "            );\n",
       "        \n",
       "    \n",
       "            var marker_82be61da9f4fe01a5d7931635bf38e2b = L.marker(\n",
       "                [35.861809, 139.97142],\n",
       "                {}\n",
       "            ).addTo(marker_cluster_2d2d92b93aa789c706b1f625baffdaad);\n",
       "        \n",
       "    \n",
       "            marker_82be61da9f4fe01a5d7931635bf38e2b.bindTooltip(\n",
       "                `&lt;div&gt;\n",
       "                     70歳以上\n",
       "                 &lt;/div&gt;`,\n",
       "                {&quot;sticky&quot;: true}\n",
       "            );\n",
       "        \n",
       "    \n",
       "            var marker_dfaee22abb48310d687f5cada24f5158 = L.marker(\n",
       "                [35.861694, 139.973999],\n",
       "                {}\n",
       "            ).addTo(marker_cluster_2d2d92b93aa789c706b1f625baffdaad);\n",
       "        \n",
       "    \n",
       "            marker_dfaee22abb48310d687f5cada24f5158.bindTooltip(\n",
       "                `&lt;div&gt;\n",
       "                     70歳以上\n",
       "                 &lt;/div&gt;`,\n",
       "                {&quot;sticky&quot;: true}\n",
       "            );\n",
       "        \n",
       "    \n",
       "            var marker_284ea0ab533139e423cfbaaf3f7173f4 = L.marker(\n",
       "                [35.861694, 139.973999],\n",
       "                {}\n",
       "            ).addTo(marker_cluster_2d2d92b93aa789c706b1f625baffdaad);\n",
       "        \n",
       "    \n",
       "            marker_284ea0ab533139e423cfbaaf3f7173f4.bindTooltip(\n",
       "                `&lt;div&gt;\n",
       "                     20歳代\n",
       "                 &lt;/div&gt;`,\n",
       "                {&quot;sticky&quot;: true}\n",
       "            );\n",
       "        \n",
       "    \n",
       "            var marker_6286f09e5070e05fabca828f2538ad0d = L.marker(\n",
       "                [35.861694, 139.973999],\n",
       "                {}\n",
       "            ).addTo(marker_cluster_2d2d92b93aa789c706b1f625baffdaad);\n",
       "        \n",
       "    \n",
       "            marker_6286f09e5070e05fabca828f2538ad0d.bindTooltip(\n",
       "                `&lt;div&gt;\n",
       "                     20歳代\n",
       "                 &lt;/div&gt;`,\n",
       "                {&quot;sticky&quot;: true}\n",
       "            );\n",
       "        \n",
       "    \n",
       "            var marker_5617b1858eb72d29e0c9dddd0b2236d2 = L.marker(\n",
       "                [35.861694, 139.973999],\n",
       "                {}\n",
       "            ).addTo(marker_cluster_2d2d92b93aa789c706b1f625baffdaad);\n",
       "        \n",
       "    \n",
       "            marker_5617b1858eb72d29e0c9dddd0b2236d2.bindTooltip(\n",
       "                `&lt;div&gt;\n",
       "                     30歳代\n",
       "                 &lt;/div&gt;`,\n",
       "                {&quot;sticky&quot;: true}\n",
       "            );\n",
       "        \n",
       "    \n",
       "            var marker_af1aefff97e6d1813d3f89057d3fdc19 = L.marker(\n",
       "                [35.861694, 139.973999],\n",
       "                {}\n",
       "            ).addTo(marker_cluster_2d2d92b93aa789c706b1f625baffdaad);\n",
       "        \n",
       "    \n",
       "            marker_af1aefff97e6d1813d3f89057d3fdc19.bindTooltip(\n",
       "                `&lt;div&gt;\n",
       "                     30歳代\n",
       "                 &lt;/div&gt;`,\n",
       "                {&quot;sticky&quot;: true}\n",
       "            );\n",
       "        \n",
       "    \n",
       "            var marker_98a0dac6e4c9cbff67d59220891a4604 = L.marker(\n",
       "                [35.861694, 139.973999],\n",
       "                {}\n",
       "            ).addTo(marker_cluster_2d2d92b93aa789c706b1f625baffdaad);\n",
       "        \n",
       "    \n",
       "            marker_98a0dac6e4c9cbff67d59220891a4604.bindTooltip(\n",
       "                `&lt;div&gt;\n",
       "                     20歳代\n",
       "                 &lt;/div&gt;`,\n",
       "                {&quot;sticky&quot;: true}\n",
       "            );\n",
       "        \n",
       "    \n",
       "            var marker_33a1804c078e1a4059d440d395a195b9 = L.marker(\n",
       "                [35.860302, 139.975159],\n",
       "                {}\n",
       "            ).addTo(marker_cluster_2d2d92b93aa789c706b1f625baffdaad);\n",
       "        \n",
       "    \n",
       "            marker_33a1804c078e1a4059d440d395a195b9.bindTooltip(\n",
       "                `&lt;div&gt;\n",
       "                     70歳以上\n",
       "                 &lt;/div&gt;`,\n",
       "                {&quot;sticky&quot;: true}\n",
       "            );\n",
       "        \n",
       "    \n",
       "            var marker_4308bf83372b53213f066e67c19b1ac5 = L.marker(\n",
       "                [35.860302, 139.975159],\n",
       "                {}\n",
       "            ).addTo(marker_cluster_2d2d92b93aa789c706b1f625baffdaad);\n",
       "        \n",
       "    \n",
       "            marker_4308bf83372b53213f066e67c19b1ac5.bindTooltip(\n",
       "                `&lt;div&gt;\n",
       "                     20歳代\n",
       "                 &lt;/div&gt;`,\n",
       "                {&quot;sticky&quot;: true}\n",
       "            );\n",
       "        \n",
       "    \n",
       "            var marker_b2cd698ad56ee9a1b051d12ded6d39e0 = L.marker(\n",
       "                [35.860302, 139.975159],\n",
       "                {}\n",
       "            ).addTo(marker_cluster_2d2d92b93aa789c706b1f625baffdaad);\n",
       "        \n",
       "    \n",
       "            marker_b2cd698ad56ee9a1b051d12ded6d39e0.bindTooltip(\n",
       "                `&lt;div&gt;\n",
       "                     10歳代\n",
       "                 &lt;/div&gt;`,\n",
       "                {&quot;sticky&quot;: true}\n",
       "            );\n",
       "        \n",
       "    \n",
       "            var marker_4ec9b47d0027eb0d2f463f0e3f5be154 = L.marker(\n",
       "                [35.860302, 139.975159],\n",
       "                {}\n",
       "            ).addTo(marker_cluster_2d2d92b93aa789c706b1f625baffdaad);\n",
       "        \n",
       "    \n",
       "            marker_4ec9b47d0027eb0d2f463f0e3f5be154.bindTooltip(\n",
       "                `&lt;div&gt;\n",
       "                     20歳代\n",
       "                 &lt;/div&gt;`,\n",
       "                {&quot;sticky&quot;: true}\n",
       "            );\n",
       "        \n",
       "    \n",
       "            var marker_a80f067ac9c6f5829e40bdd209dd62fb = L.marker(\n",
       "                [35.860302, 139.975159],\n",
       "                {}\n",
       "            ).addTo(marker_cluster_2d2d92b93aa789c706b1f625baffdaad);\n",
       "        \n",
       "    \n",
       "            marker_a80f067ac9c6f5829e40bdd209dd62fb.bindTooltip(\n",
       "                `&lt;div&gt;\n",
       "                     30歳代\n",
       "                 &lt;/div&gt;`,\n",
       "                {&quot;sticky&quot;: true}\n",
       "            );\n",
       "        \n",
       "    \n",
       "            var marker_698f8e0ea6cce83e9aebe0c1836629c4 = L.marker(\n",
       "                [35.860302, 139.975159],\n",
       "                {}\n",
       "            ).addTo(marker_cluster_2d2d92b93aa789c706b1f625baffdaad);\n",
       "        \n",
       "    \n",
       "            marker_698f8e0ea6cce83e9aebe0c1836629c4.bindTooltip(\n",
       "                `&lt;div&gt;\n",
       "                     20歳代\n",
       "                 &lt;/div&gt;`,\n",
       "                {&quot;sticky&quot;: true}\n",
       "            );\n",
       "        \n",
       "    \n",
       "            var marker_5df6d8e19b2dff386ed4bf2f6c2fb925 = L.marker(\n",
       "                [35.860302, 139.975159],\n",
       "                {}\n",
       "            ).addTo(marker_cluster_2d2d92b93aa789c706b1f625baffdaad);\n",
       "        \n",
       "    \n",
       "            marker_5df6d8e19b2dff386ed4bf2f6c2fb925.bindTooltip(\n",
       "                `&lt;div&gt;\n",
       "                     20歳代\n",
       "                 &lt;/div&gt;`,\n",
       "                {&quot;sticky&quot;: true}\n",
       "            );\n",
       "        \n",
       "    \n",
       "            var marker_f9b80213d5e9cde2146c6bf74dd7f29f = L.marker(\n",
       "                [35.860302, 139.975159],\n",
       "                {}\n",
       "            ).addTo(marker_cluster_2d2d92b93aa789c706b1f625baffdaad);\n",
       "        \n",
       "    \n",
       "            marker_f9b80213d5e9cde2146c6bf74dd7f29f.bindTooltip(\n",
       "                `&lt;div&gt;\n",
       "                     60-64歳\n",
       "                 &lt;/div&gt;`,\n",
       "                {&quot;sticky&quot;: true}\n",
       "            );\n",
       "        \n",
       "    \n",
       "            var marker_f07521ce89430c6aa7585f574e3f3c72 = L.marker(\n",
       "                [35.863529, 139.974228],\n",
       "                {}\n",
       "            ).addTo(marker_cluster_2d2d92b93aa789c706b1f625baffdaad);\n",
       "        \n",
       "    \n",
       "            marker_f07521ce89430c6aa7585f574e3f3c72.bindTooltip(\n",
       "                `&lt;div&gt;\n",
       "                     20歳代\n",
       "                 &lt;/div&gt;`,\n",
       "                {&quot;sticky&quot;: true}\n",
       "            );\n",
       "        \n",
       "    \n",
       "            var marker_5920578a15c9386587da1c86e79aaa18 = L.marker(\n",
       "                [35.863529, 139.974228],\n",
       "                {}\n",
       "            ).addTo(marker_cluster_2d2d92b93aa789c706b1f625baffdaad);\n",
       "        \n",
       "    \n",
       "            marker_5920578a15c9386587da1c86e79aaa18.bindTooltip(\n",
       "                `&lt;div&gt;\n",
       "                     10歳代\n",
       "                 &lt;/div&gt;`,\n",
       "                {&quot;sticky&quot;: true}\n",
       "            );\n",
       "        \n",
       "    \n",
       "            var marker_57b52588d56eab69a962fe8276d3a08f = L.marker(\n",
       "                [35.863529, 139.974228],\n",
       "                {}\n",
       "            ).addTo(marker_cluster_2d2d92b93aa789c706b1f625baffdaad);\n",
       "        \n",
       "    \n",
       "            marker_57b52588d56eab69a962fe8276d3a08f.bindTooltip(\n",
       "                `&lt;div&gt;\n",
       "                     10歳代\n",
       "                 &lt;/div&gt;`,\n",
       "                {&quot;sticky&quot;: true}\n",
       "            );\n",
       "        \n",
       "    \n",
       "            var marker_083a5965329c3591674fc6f6c8398f78 = L.marker(\n",
       "                [35.863529, 139.974228],\n",
       "                {}\n",
       "            ).addTo(marker_cluster_2d2d92b93aa789c706b1f625baffdaad);\n",
       "        \n",
       "    \n",
       "            marker_083a5965329c3591674fc6f6c8398f78.bindTooltip(\n",
       "                `&lt;div&gt;\n",
       "                     50歳代\n",
       "                 &lt;/div&gt;`,\n",
       "                {&quot;sticky&quot;: true}\n",
       "            );\n",
       "        \n",
       "    \n",
       "            var marker_423f05e3a15f512fbe5a1564945ee7d7 = L.marker(\n",
       "                [35.863529, 139.974228],\n",
       "                {}\n",
       "            ).addTo(marker_cluster_2d2d92b93aa789c706b1f625baffdaad);\n",
       "        \n",
       "    \n",
       "            marker_423f05e3a15f512fbe5a1564945ee7d7.bindTooltip(\n",
       "                `&lt;div&gt;\n",
       "                     10歳代\n",
       "                 &lt;/div&gt;`,\n",
       "                {&quot;sticky&quot;: true}\n",
       "            );\n",
       "        \n",
       "    \n",
       "            var marker_368f107d1b361f3b520a47f90e14ab0e = L.marker(\n",
       "                [35.866447, 139.97612],\n",
       "                {}\n",
       "            ).addTo(marker_cluster_2d2d92b93aa789c706b1f625baffdaad);\n",
       "        \n",
       "    \n",
       "            marker_368f107d1b361f3b520a47f90e14ab0e.bindTooltip(\n",
       "                `&lt;div&gt;\n",
       "                     10歳代\n",
       "                 &lt;/div&gt;`,\n",
       "                {&quot;sticky&quot;: true}\n",
       "            );\n",
       "        \n",
       "    \n",
       "            var marker_822f6e241e70d132a88ca65f9336e21f = L.marker(\n",
       "                [35.866447, 139.97612],\n",
       "                {}\n",
       "            ).addTo(marker_cluster_2d2d92b93aa789c706b1f625baffdaad);\n",
       "        \n",
       "    \n",
       "            marker_822f6e241e70d132a88ca65f9336e21f.bindTooltip(\n",
       "                `&lt;div&gt;\n",
       "                     10歳代\n",
       "                 &lt;/div&gt;`,\n",
       "                {&quot;sticky&quot;: true}\n",
       "            );\n",
       "        \n",
       "    \n",
       "            var marker_935562231c94606e31ea6e04c71ec637 = L.marker(\n",
       "                [35.866447, 139.97612],\n",
       "                {}\n",
       "            ).addTo(marker_cluster_2d2d92b93aa789c706b1f625baffdaad);\n",
       "        \n",
       "    \n",
       "            marker_935562231c94606e31ea6e04c71ec637.bindTooltip(\n",
       "                `&lt;div&gt;\n",
       "                     10歳代\n",
       "                 &lt;/div&gt;`,\n",
       "                {&quot;sticky&quot;: true}\n",
       "            );\n",
       "        \n",
       "    \n",
       "            var marker_f0a58ed6e7f7d14de7199ca3d9409516 = L.marker(\n",
       "                [35.866447, 139.97612],\n",
       "                {}\n",
       "            ).addTo(marker_cluster_2d2d92b93aa789c706b1f625baffdaad);\n",
       "        \n",
       "    \n",
       "            marker_f0a58ed6e7f7d14de7199ca3d9409516.bindTooltip(\n",
       "                `&lt;div&gt;\n",
       "                     10歳代\n",
       "                 &lt;/div&gt;`,\n",
       "                {&quot;sticky&quot;: true}\n",
       "            );\n",
       "        \n",
       "    \n",
       "            var marker_2aa0d0997314ae94d676a1f5a49f9869 = L.marker(\n",
       "                [35.866447, 139.97612],\n",
       "                {}\n",
       "            ).addTo(marker_cluster_2d2d92b93aa789c706b1f625baffdaad);\n",
       "        \n",
       "    \n",
       "            marker_2aa0d0997314ae94d676a1f5a49f9869.bindTooltip(\n",
       "                `&lt;div&gt;\n",
       "                     20歳代\n",
       "                 &lt;/div&gt;`,\n",
       "                {&quot;sticky&quot;: true}\n",
       "            );\n",
       "        \n",
       "    \n",
       "            var marker_579404a1d56bd7cdf3d0db2abbb07b89 = L.marker(\n",
       "                [35.866447, 139.97612],\n",
       "                {}\n",
       "            ).addTo(marker_cluster_2d2d92b93aa789c706b1f625baffdaad);\n",
       "        \n",
       "    \n",
       "            marker_579404a1d56bd7cdf3d0db2abbb07b89.bindTooltip(\n",
       "                `&lt;div&gt;\n",
       "                     20歳代\n",
       "                 &lt;/div&gt;`,\n",
       "                {&quot;sticky&quot;: true}\n",
       "            );\n",
       "        \n",
       "    \n",
       "            var marker_ca19937b5e1d3c6f33ed4e5b0257fd86 = L.marker(\n",
       "                [35.866447, 139.97612],\n",
       "                {}\n",
       "            ).addTo(marker_cluster_2d2d92b93aa789c706b1f625baffdaad);\n",
       "        \n",
       "    \n",
       "            marker_ca19937b5e1d3c6f33ed4e5b0257fd86.bindTooltip(\n",
       "                `&lt;div&gt;\n",
       "                     20歳代\n",
       "                 &lt;/div&gt;`,\n",
       "                {&quot;sticky&quot;: true}\n",
       "            );\n",
       "        \n",
       "    \n",
       "            var marker_0adf69e7d24ec18f005c48545c633501 = L.marker(\n",
       "                [35.866447, 139.97612],\n",
       "                {}\n",
       "            ).addTo(marker_cluster_2d2d92b93aa789c706b1f625baffdaad);\n",
       "        \n",
       "    \n",
       "            marker_0adf69e7d24ec18f005c48545c633501.bindTooltip(\n",
       "                `&lt;div&gt;\n",
       "                     10歳代\n",
       "                 &lt;/div&gt;`,\n",
       "                {&quot;sticky&quot;: true}\n",
       "            );\n",
       "        \n",
       "    \n",
       "            var marker_6c871b8ea0f04c312c1a07c1ab3244cc = L.marker(\n",
       "                [35.866447, 139.97612],\n",
       "                {}\n",
       "            ).addTo(marker_cluster_2d2d92b93aa789c706b1f625baffdaad);\n",
       "        \n",
       "    \n",
       "            marker_6c871b8ea0f04c312c1a07c1ab3244cc.bindTooltip(\n",
       "                `&lt;div&gt;\n",
       "                     20歳代\n",
       "                 &lt;/div&gt;`,\n",
       "                {&quot;sticky&quot;: true}\n",
       "            );\n",
       "        \n",
       "    \n",
       "            var marker_158a5dbe3fd67366903074e830c39f18 = L.marker(\n",
       "                [35.866447, 139.97612],\n",
       "                {}\n",
       "            ).addTo(marker_cluster_2d2d92b93aa789c706b1f625baffdaad);\n",
       "        \n",
       "    \n",
       "            marker_158a5dbe3fd67366903074e830c39f18.bindTooltip(\n",
       "                `&lt;div&gt;\n",
       "                     10歳代\n",
       "                 &lt;/div&gt;`,\n",
       "                {&quot;sticky&quot;: true}\n",
       "            );\n",
       "        \n",
       "    \n",
       "            var marker_b2dff77a082146e484ec4cf50d3d0022 = L.marker(\n",
       "                [35.864346, 139.977219],\n",
       "                {}\n",
       "            ).addTo(marker_cluster_2d2d92b93aa789c706b1f625baffdaad);\n",
       "        \n",
       "    \n",
       "            marker_b2dff77a082146e484ec4cf50d3d0022.bindTooltip(\n",
       "                `&lt;div&gt;\n",
       "                     40歳代\n",
       "                 &lt;/div&gt;`,\n",
       "                {&quot;sticky&quot;: true}\n",
       "            );\n",
       "        \n",
       "    \n",
       "            var marker_bc554c258196e03ff056888cbdde6715 = L.marker(\n",
       "                [35.864346, 139.977219],\n",
       "                {}\n",
       "            ).addTo(marker_cluster_2d2d92b93aa789c706b1f625baffdaad);\n",
       "        \n",
       "    \n",
       "            marker_bc554c258196e03ff056888cbdde6715.bindTooltip(\n",
       "                `&lt;div&gt;\n",
       "                     20歳代\n",
       "                 &lt;/div&gt;`,\n",
       "                {&quot;sticky&quot;: true}\n",
       "            );\n",
       "        \n",
       "    \n",
       "            var marker_edc73d332f4f6a60c992516661cdd137 = L.marker(\n",
       "                [35.864346, 139.977219],\n",
       "                {}\n",
       "            ).addTo(marker_cluster_2d2d92b93aa789c706b1f625baffdaad);\n",
       "        \n",
       "    \n",
       "            marker_edc73d332f4f6a60c992516661cdd137.bindTooltip(\n",
       "                `&lt;div&gt;\n",
       "                     40歳代\n",
       "                 &lt;/div&gt;`,\n",
       "                {&quot;sticky&quot;: true}\n",
       "            );\n",
       "        \n",
       "    \n",
       "            var marker_44786aa7a6b621b9b845ad722bd4fa0c = L.marker(\n",
       "                [35.864346, 139.977219],\n",
       "                {}\n",
       "            ).addTo(marker_cluster_2d2d92b93aa789c706b1f625baffdaad);\n",
       "        \n",
       "    \n",
       "            marker_44786aa7a6b621b9b845ad722bd4fa0c.bindTooltip(\n",
       "                `&lt;div&gt;\n",
       "                     30歳代\n",
       "                 &lt;/div&gt;`,\n",
       "                {&quot;sticky&quot;: true}\n",
       "            );\n",
       "        \n",
       "    \n",
       "            var marker_3de0e676bb983ddf692eb97d694fe955 = L.marker(\n",
       "                [35.862926, 139.97995],\n",
       "                {}\n",
       "            ).addTo(marker_cluster_2d2d92b93aa789c706b1f625baffdaad);\n",
       "        \n",
       "    \n",
       "            marker_3de0e676bb983ddf692eb97d694fe955.bindTooltip(\n",
       "                `&lt;div&gt;\n",
       "                     20歳代\n",
       "                 &lt;/div&gt;`,\n",
       "                {&quot;sticky&quot;: true}\n",
       "            );\n",
       "        \n",
       "    \n",
       "            var marker_2ca74b2c944ea2fd8e00bbd68e12933a = L.marker(\n",
       "                [35.860554, 139.981522],\n",
       "                {}\n",
       "            ).addTo(marker_cluster_2d2d92b93aa789c706b1f625baffdaad);\n",
       "        \n",
       "    \n",
       "            marker_2ca74b2c944ea2fd8e00bbd68e12933a.bindTooltip(\n",
       "                `&lt;div&gt;\n",
       "                     20歳代\n",
       "                 &lt;/div&gt;`,\n",
       "                {&quot;sticky&quot;: true}\n",
       "            );\n",
       "        \n",
       "    \n",
       "            var marker_b112911d2715e7e90f082ef682c7db11 = L.marker(\n",
       "                [35.860554, 139.981522],\n",
       "                {}\n",
       "            ).addTo(marker_cluster_2d2d92b93aa789c706b1f625baffdaad);\n",
       "        \n",
       "    \n",
       "            marker_b112911d2715e7e90f082ef682c7db11.bindTooltip(\n",
       "                `&lt;div&gt;\n",
       "                     30歳代\n",
       "                 &lt;/div&gt;`,\n",
       "                {&quot;sticky&quot;: true}\n",
       "            );\n",
       "        \n",
       "    \n",
       "            var marker_0d4704f79b23bb840fc0b49995737ebe = L.marker(\n",
       "                [35.862904, 139.970398],\n",
       "                {}\n",
       "            ).addTo(marker_cluster_2d2d92b93aa789c706b1f625baffdaad);\n",
       "        \n",
       "    \n",
       "            marker_0d4704f79b23bb840fc0b49995737ebe.bindTooltip(\n",
       "                `&lt;div&gt;\n",
       "                     20歳代\n",
       "                 &lt;/div&gt;`,\n",
       "                {&quot;sticky&quot;: true}\n",
       "            );\n",
       "        \n",
       "    \n",
       "            var marker_0676927e3c697dfd082f0020acf1a9fb = L.marker(\n",
       "                [35.857903, 139.972931],\n",
       "                {}\n",
       "            ).addTo(marker_cluster_2d2d92b93aa789c706b1f625baffdaad);\n",
       "        \n",
       "    \n",
       "            marker_0676927e3c697dfd082f0020acf1a9fb.bindTooltip(\n",
       "                `&lt;div&gt;\n",
       "                     10歳代\n",
       "                 &lt;/div&gt;`,\n",
       "                {&quot;sticky&quot;: true}\n",
       "            );\n",
       "        \n",
       "    \n",
       "            var marker_5bcf70a726aebb1d3cebdd26a7d8f78d = L.marker(\n",
       "                [35.855583, 139.972137],\n",
       "                {}\n",
       "            ).addTo(marker_cluster_2d2d92b93aa789c706b1f625baffdaad);\n",
       "        \n",
       "    \n",
       "            marker_5bcf70a726aebb1d3cebdd26a7d8f78d.bindTooltip(\n",
       "                `&lt;div&gt;\n",
       "                     20歳代\n",
       "                 &lt;/div&gt;`,\n",
       "                {&quot;sticky&quot;: true}\n",
       "            );\n",
       "        \n",
       "    \n",
       "            var marker_d8358574f33e708e94d998cc6d53aa26 = L.marker(\n",
       "                [35.855583, 139.972137],\n",
       "                {}\n",
       "            ).addTo(marker_cluster_2d2d92b93aa789c706b1f625baffdaad);\n",
       "        \n",
       "    \n",
       "            marker_d8358574f33e708e94d998cc6d53aa26.bindTooltip(\n",
       "                `&lt;div&gt;\n",
       "                     10歳代\n",
       "                 &lt;/div&gt;`,\n",
       "                {&quot;sticky&quot;: true}\n",
       "            );\n",
       "        \n",
       "    \n",
       "            var marker_2e95211ff149c1021a60a3589ee57f29 = L.marker(\n",
       "                [35.855583, 139.972137],\n",
       "                {}\n",
       "            ).addTo(marker_cluster_2d2d92b93aa789c706b1f625baffdaad);\n",
       "        \n",
       "    \n",
       "            marker_2e95211ff149c1021a60a3589ee57f29.bindTooltip(\n",
       "                `&lt;div&gt;\n",
       "                     20歳代\n",
       "                 &lt;/div&gt;`,\n",
       "                {&quot;sticky&quot;: true}\n",
       "            );\n",
       "        \n",
       "    \n",
       "            var marker_705670dd15809c563aa1c0762d29948a = L.marker(\n",
       "                [35.855583, 139.972137],\n",
       "                {}\n",
       "            ).addTo(marker_cluster_2d2d92b93aa789c706b1f625baffdaad);\n",
       "        \n",
       "    \n",
       "            marker_705670dd15809c563aa1c0762d29948a.bindTooltip(\n",
       "                `&lt;div&gt;\n",
       "                     30歳代\n",
       "                 &lt;/div&gt;`,\n",
       "                {&quot;sticky&quot;: true}\n",
       "            );\n",
       "        \n",
       "    \n",
       "            var marker_1e19b2ede5569d2d6a9d0eb95fa0811d = L.marker(\n",
       "                [35.859303, 139.970566],\n",
       "                {}\n",
       "            ).addTo(marker_cluster_2d2d92b93aa789c706b1f625baffdaad);\n",
       "        \n",
       "    \n",
       "            marker_1e19b2ede5569d2d6a9d0eb95fa0811d.bindTooltip(\n",
       "                `&lt;div&gt;\n",
       "                     60-64歳\n",
       "                 &lt;/div&gt;`,\n",
       "                {&quot;sticky&quot;: true}\n",
       "            );\n",
       "        \n",
       "    \n",
       "            var marker_1735eb1e3337ae0a956dbe070461fa1f = L.marker(\n",
       "                [35.859303, 139.970566],\n",
       "                {}\n",
       "            ).addTo(marker_cluster_2d2d92b93aa789c706b1f625baffdaad);\n",
       "        \n",
       "    \n",
       "            marker_1735eb1e3337ae0a956dbe070461fa1f.bindTooltip(\n",
       "                `&lt;div&gt;\n",
       "                     30歳代\n",
       "                 &lt;/div&gt;`,\n",
       "                {&quot;sticky&quot;: true}\n",
       "            );\n",
       "        \n",
       "    \n",
       "            var marker_1f010099c0110b662bfe1e83f8b29a92 = L.marker(\n",
       "                [35.859303, 139.970566],\n",
       "                {}\n",
       "            ).addTo(marker_cluster_2d2d92b93aa789c706b1f625baffdaad);\n",
       "        \n",
       "    \n",
       "            marker_1f010099c0110b662bfe1e83f8b29a92.bindTooltip(\n",
       "                `&lt;div&gt;\n",
       "                     20歳代\n",
       "                 &lt;/div&gt;`,\n",
       "                {&quot;sticky&quot;: true}\n",
       "            );\n",
       "        \n",
       "    \n",
       "            var marker_ce64a04ef53e3ae038cf5511aa6483d5 = L.marker(\n",
       "                [35.859303, 139.970566],\n",
       "                {}\n",
       "            ).addTo(marker_cluster_2d2d92b93aa789c706b1f625baffdaad);\n",
       "        \n",
       "    \n",
       "            marker_ce64a04ef53e3ae038cf5511aa6483d5.bindTooltip(\n",
       "                `&lt;div&gt;\n",
       "                     50歳代\n",
       "                 &lt;/div&gt;`,\n",
       "                {&quot;sticky&quot;: true}\n",
       "            );\n",
       "        \n",
       "    \n",
       "            var marker_a440b5b0f179bccc45aabcdb42aba07b = L.marker(\n",
       "                [35.859303, 139.970566],\n",
       "                {}\n",
       "            ).addTo(marker_cluster_2d2d92b93aa789c706b1f625baffdaad);\n",
       "        \n",
       "    \n",
       "            marker_a440b5b0f179bccc45aabcdb42aba07b.bindTooltip(\n",
       "                `&lt;div&gt;\n",
       "                     30歳代\n",
       "                 &lt;/div&gt;`,\n",
       "                {&quot;sticky&quot;: true}\n",
       "            );\n",
       "        \n",
       "    \n",
       "            var marker_0994eb754700c13b9ff220c23d8a90ab = L.marker(\n",
       "                [35.859303, 139.970566],\n",
       "                {}\n",
       "            ).addTo(marker_cluster_2d2d92b93aa789c706b1f625baffdaad);\n",
       "        \n",
       "    \n",
       "            marker_0994eb754700c13b9ff220c23d8a90ab.bindTooltip(\n",
       "                `&lt;div&gt;\n",
       "                     10歳代\n",
       "                 &lt;/div&gt;`,\n",
       "                {&quot;sticky&quot;: true}\n",
       "            );\n",
       "        \n",
       "    \n",
       "            var marker_6ed97f4853bcf48bae82969c0e875baa = L.marker(\n",
       "                [35.859303, 139.970566],\n",
       "                {}\n",
       "            ).addTo(marker_cluster_2d2d92b93aa789c706b1f625baffdaad);\n",
       "        \n",
       "    \n",
       "            marker_6ed97f4853bcf48bae82969c0e875baa.bindTooltip(\n",
       "                `&lt;div&gt;\n",
       "                     30歳代\n",
       "                 &lt;/div&gt;`,\n",
       "                {&quot;sticky&quot;: true}\n",
       "            );\n",
       "        \n",
       "    \n",
       "            var marker_4e429030acff1c44491eb59c3e0ceb6e = L.marker(\n",
       "                [35.859303, 139.970566],\n",
       "                {}\n",
       "            ).addTo(marker_cluster_2d2d92b93aa789c706b1f625baffdaad);\n",
       "        \n",
       "    \n",
       "            marker_4e429030acff1c44491eb59c3e0ceb6e.bindTooltip(\n",
       "                `&lt;div&gt;\n",
       "                     10歳代\n",
       "                 &lt;/div&gt;`,\n",
       "                {&quot;sticky&quot;: true}\n",
       "            );\n",
       "        \n",
       "    \n",
       "            var marker_62e990327d50a252e58afa40cea418a6 = L.marker(\n",
       "                [35.859303, 139.970566],\n",
       "                {}\n",
       "            ).addTo(marker_cluster_2d2d92b93aa789c706b1f625baffdaad);\n",
       "        \n",
       "    \n",
       "            marker_62e990327d50a252e58afa40cea418a6.bindTooltip(\n",
       "                `&lt;div&gt;\n",
       "                     30歳代\n",
       "                 &lt;/div&gt;`,\n",
       "                {&quot;sticky&quot;: true}\n",
       "            );\n",
       "        \n",
       "    \n",
       "            var marker_f2f754fa0a8f98a64374e3d59f1e8e40 = L.marker(\n",
       "                [35.853264, 139.96521],\n",
       "                {}\n",
       "            ).addTo(marker_cluster_2d2d92b93aa789c706b1f625baffdaad);\n",
       "        \n",
       "    \n",
       "            marker_f2f754fa0a8f98a64374e3d59f1e8e40.bindTooltip(\n",
       "                `&lt;div&gt;\n",
       "                     40歳代\n",
       "                 &lt;/div&gt;`,\n",
       "                {&quot;sticky&quot;: true}\n",
       "            );\n",
       "        \n",
       "    \n",
       "            var marker_40f4f3af2ad5115074ad014d336d8105 = L.marker(\n",
       "                [35.853264, 139.96521],\n",
       "                {}\n",
       "            ).addTo(marker_cluster_2d2d92b93aa789c706b1f625baffdaad);\n",
       "        \n",
       "    \n",
       "            marker_40f4f3af2ad5115074ad014d336d8105.bindTooltip(\n",
       "                `&lt;div&gt;\n",
       "                     40歳代\n",
       "                 &lt;/div&gt;`,\n",
       "                {&quot;sticky&quot;: true}\n",
       "            );\n",
       "        \n",
       "    \n",
       "            var marker_36a95ff9a6c3f701e8ae170fc4ee6544 = L.marker(\n",
       "                [35.876255, 139.992081],\n",
       "                {}\n",
       "            ).addTo(marker_cluster_2d2d92b93aa789c706b1f625baffdaad);\n",
       "        \n",
       "    \n",
       "            marker_36a95ff9a6c3f701e8ae170fc4ee6544.bindTooltip(\n",
       "                `&lt;div&gt;\n",
       "                     20歳代\n",
       "                 &lt;/div&gt;`,\n",
       "                {&quot;sticky&quot;: true}\n",
       "            );\n",
       "        \n",
       "    \n",
       "            var marker_1c9a28936f00f9cee0715506102d6bb0 = L.marker(\n",
       "                [35.84705, 140.034134],\n",
       "                {}\n",
       "            ).addTo(marker_cluster_2d2d92b93aa789c706b1f625baffdaad);\n",
       "        \n",
       "    \n",
       "            marker_1c9a28936f00f9cee0715506102d6bb0.bindTooltip(\n",
       "                `&lt;div&gt;\n",
       "                     10歳代\n",
       "                 &lt;/div&gt;`,\n",
       "                {&quot;sticky&quot;: true}\n",
       "            );\n",
       "        \n",
       "    \n",
       "            var marker_73655403b828e156bfd9fce4130f4e59 = L.marker(\n",
       "                [35.858639, 139.983749],\n",
       "                {}\n",
       "            ).addTo(marker_cluster_2d2d92b93aa789c706b1f625baffdaad);\n",
       "        \n",
       "    \n",
       "            marker_73655403b828e156bfd9fce4130f4e59.bindTooltip(\n",
       "                `&lt;div&gt;\n",
       "                     20歳代\n",
       "                 &lt;/div&gt;`,\n",
       "                {&quot;sticky&quot;: true}\n",
       "            );\n",
       "        \n",
       "    \n",
       "            var marker_605f53ed0852ee841535d184ce640ad9 = L.marker(\n",
       "                [35.844578, 139.968948],\n",
       "                {}\n",
       "            ).addTo(marker_cluster_2d2d92b93aa789c706b1f625baffdaad);\n",
       "        \n",
       "    \n",
       "            marker_605f53ed0852ee841535d184ce640ad9.bindTooltip(\n",
       "                `&lt;div&gt;\n",
       "                     30歳代\n",
       "                 &lt;/div&gt;`,\n",
       "                {&quot;sticky&quot;: true}\n",
       "            );\n",
       "        \n",
       "    \n",
       "            var marker_93651d796b266050f998f8613816a4b6 = L.marker(\n",
       "                [35.864445, 139.986511],\n",
       "                {}\n",
       "            ).addTo(marker_cluster_2d2d92b93aa789c706b1f625baffdaad);\n",
       "        \n",
       "    \n",
       "            marker_93651d796b266050f998f8613816a4b6.bindTooltip(\n",
       "                `&lt;div&gt;\n",
       "                     30歳代\n",
       "                 &lt;/div&gt;`,\n",
       "                {&quot;sticky&quot;: true}\n",
       "            );\n",
       "        \n",
       "    \n",
       "            var marker_3444c1d0632788fc2ffa2f7d1b258714 = L.marker(\n",
       "                [35.864445, 139.986511],\n",
       "                {}\n",
       "            ).addTo(marker_cluster_2d2d92b93aa789c706b1f625baffdaad);\n",
       "        \n",
       "    \n",
       "            marker_3444c1d0632788fc2ffa2f7d1b258714.bindTooltip(\n",
       "                `&lt;div&gt;\n",
       "                     50歳代\n",
       "                 &lt;/div&gt;`,\n",
       "                {&quot;sticky&quot;: true}\n",
       "            );\n",
       "        \n",
       "    \n",
       "            var marker_726a528c612ea8d393539609ba53090e = L.marker(\n",
       "                [35.864445, 139.986511],\n",
       "                {}\n",
       "            ).addTo(marker_cluster_2d2d92b93aa789c706b1f625baffdaad);\n",
       "        \n",
       "    \n",
       "            marker_726a528c612ea8d393539609ba53090e.bindTooltip(\n",
       "                `&lt;div&gt;\n",
       "                     30歳代\n",
       "                 &lt;/div&gt;`,\n",
       "                {&quot;sticky&quot;: true}\n",
       "            );\n",
       "        \n",
       "    \n",
       "            var marker_bcdab93d82aaa263522ddc88ddb172ce = L.marker(\n",
       "                [35.864445, 139.986511],\n",
       "                {}\n",
       "            ).addTo(marker_cluster_2d2d92b93aa789c706b1f625baffdaad);\n",
       "        \n",
       "    \n",
       "            marker_bcdab93d82aaa263522ddc88ddb172ce.bindTooltip(\n",
       "                `&lt;div&gt;\n",
       "                     30歳代\n",
       "                 &lt;/div&gt;`,\n",
       "                {&quot;sticky&quot;: true}\n",
       "            );\n",
       "        \n",
       "    \n",
       "            var marker_0f3fe0f93357c795888607c7f5b08de3 = L.marker(\n",
       "                [35.860302, 139.975159],\n",
       "                {}\n",
       "            ).addTo(marker_cluster_2d2d92b93aa789c706b1f625baffdaad);\n",
       "        \n",
       "    \n",
       "            marker_0f3fe0f93357c795888607c7f5b08de3.bindTooltip(\n",
       "                `&lt;div&gt;\n",
       "                     50歳代\n",
       "                 &lt;/div&gt;`,\n",
       "                {&quot;sticky&quot;: true}\n",
       "            );\n",
       "        \n",
       "    \n",
       "            var marker_aa63c079fee269c31768d60fb01647e8 = L.marker(\n",
       "                [35.850071, 139.983734],\n",
       "                {}\n",
       "            ).addTo(marker_cluster_2d2d92b93aa789c706b1f625baffdaad);\n",
       "        \n",
       "    \n",
       "            marker_aa63c079fee269c31768d60fb01647e8.bindTooltip(\n",
       "                `&lt;div&gt;\n",
       "                     20歳代\n",
       "                 &lt;/div&gt;`,\n",
       "                {&quot;sticky&quot;: true}\n",
       "            );\n",
       "        \n",
       "    \n",
       "            var marker_1ada1cc4551dcea5f2171ec3381e22e8 = L.marker(\n",
       "                [35.850071, 139.983734],\n",
       "                {}\n",
       "            ).addTo(marker_cluster_2d2d92b93aa789c706b1f625baffdaad);\n",
       "        \n",
       "    \n",
       "            marker_1ada1cc4551dcea5f2171ec3381e22e8.bindTooltip(\n",
       "                `&lt;div&gt;\n",
       "                     20歳代\n",
       "                 &lt;/div&gt;`,\n",
       "                {&quot;sticky&quot;: true}\n",
       "            );\n",
       "        \n",
       "    \n",
       "            var marker_9a78afd410b7262790c9e5420f8596cf = L.marker(\n",
       "                [35.856525, 139.976288],\n",
       "                {}\n",
       "            ).addTo(marker_cluster_2d2d92b93aa789c706b1f625baffdaad);\n",
       "        \n",
       "    \n",
       "            marker_9a78afd410b7262790c9e5420f8596cf.bindTooltip(\n",
       "                `&lt;div&gt;\n",
       "                     20歳代\n",
       "                 &lt;/div&gt;`,\n",
       "                {&quot;sticky&quot;: true}\n",
       "            );\n",
       "        \n",
       "    \n",
       "            var marker_288f4b9bd4e42366bef19c8ceaf330f3 = L.marker(\n",
       "                [35.853741, 139.975143],\n",
       "                {}\n",
       "            ).addTo(marker_cluster_2d2d92b93aa789c706b1f625baffdaad);\n",
       "        \n",
       "    \n",
       "            marker_288f4b9bd4e42366bef19c8ceaf330f3.bindTooltip(\n",
       "                `&lt;div&gt;\n",
       "                     30歳代\n",
       "                 &lt;/div&gt;`,\n",
       "                {&quot;sticky&quot;: true}\n",
       "            );\n",
       "        \n",
       "    \n",
       "            var marker_604b3a0e64df472be8b4318067800b7d = L.marker(\n",
       "                [35.853741, 139.975143],\n",
       "                {}\n",
       "            ).addTo(marker_cluster_2d2d92b93aa789c706b1f625baffdaad);\n",
       "        \n",
       "    \n",
       "            marker_604b3a0e64df472be8b4318067800b7d.bindTooltip(\n",
       "                `&lt;div&gt;\n",
       "                     20歳代\n",
       "                 &lt;/div&gt;`,\n",
       "                {&quot;sticky&quot;: true}\n",
       "            );\n",
       "        \n",
       "    \n",
       "            var marker_9c9f810f9f77f7acd49e99fb9fa36f78 = L.marker(\n",
       "                [35.853741, 139.975143],\n",
       "                {}\n",
       "            ).addTo(marker_cluster_2d2d92b93aa789c706b1f625baffdaad);\n",
       "        \n",
       "    \n",
       "            marker_9c9f810f9f77f7acd49e99fb9fa36f78.bindTooltip(\n",
       "                `&lt;div&gt;\n",
       "                     10歳代\n",
       "                 &lt;/div&gt;`,\n",
       "                {&quot;sticky&quot;: true}\n",
       "            );\n",
       "        \n",
       "    \n",
       "            var marker_2468ea10e5b98962e0d2876fe6c9f0d4 = L.marker(\n",
       "                [35.853451, 139.977646],\n",
       "                {}\n",
       "            ).addTo(marker_cluster_2d2d92b93aa789c706b1f625baffdaad);\n",
       "        \n",
       "    \n",
       "            marker_2468ea10e5b98962e0d2876fe6c9f0d4.bindTooltip(\n",
       "                `&lt;div&gt;\n",
       "                     20歳代\n",
       "                 &lt;/div&gt;`,\n",
       "                {&quot;sticky&quot;: true}\n",
       "            );\n",
       "        \n",
       "    \n",
       "            var marker_06f3ee6796d1c8928bae51ef08af3294 = L.marker(\n",
       "                [35.83136, 139.96756],\n",
       "                {}\n",
       "            ).addTo(marker_cluster_2d2d92b93aa789c706b1f625baffdaad);\n",
       "        \n",
       "    \n",
       "            marker_06f3ee6796d1c8928bae51ef08af3294.bindTooltip(\n",
       "                `&lt;div&gt;\n",
       "                     10歳代\n",
       "                 &lt;/div&gt;`,\n",
       "                {&quot;sticky&quot;: true}\n",
       "            );\n",
       "        \n",
       "    \n",
       "            var marker_32f9335145bdd7046d6a04e81ab3fe70 = L.marker(\n",
       "                [35.856003, 139.993591],\n",
       "                {}\n",
       "            ).addTo(marker_cluster_2d2d92b93aa789c706b1f625baffdaad);\n",
       "        \n",
       "    \n",
       "            marker_32f9335145bdd7046d6a04e81ab3fe70.bindTooltip(\n",
       "                `&lt;div&gt;\n",
       "                     10歳代\n",
       "                 &lt;/div&gt;`,\n",
       "                {&quot;sticky&quot;: true}\n",
       "            );\n",
       "        \n",
       "    \n",
       "            var marker_58365748a22a342d8404597e2860bdf2 = L.marker(\n",
       "                [35.856003, 139.993591],\n",
       "                {}\n",
       "            ).addTo(marker_cluster_2d2d92b93aa789c706b1f625baffdaad);\n",
       "        \n",
       "    \n",
       "            marker_58365748a22a342d8404597e2860bdf2.bindTooltip(\n",
       "                `&lt;div&gt;\n",
       "                     10歳代\n",
       "                 &lt;/div&gt;`,\n",
       "                {&quot;sticky&quot;: true}\n",
       "            );\n",
       "        \n",
       "    \n",
       "            var marker_c1f62d3d8817e7a77ae54a17e82ac2c2 = L.marker(\n",
       "                [35.856003, 139.993591],\n",
       "                {}\n",
       "            ).addTo(marker_cluster_2d2d92b93aa789c706b1f625baffdaad);\n",
       "        \n",
       "    \n",
       "            marker_c1f62d3d8817e7a77ae54a17e82ac2c2.bindTooltip(\n",
       "                `&lt;div&gt;\n",
       "                     法人・団体、被害者なし\n",
       "                 &lt;/div&gt;`,\n",
       "                {&quot;sticky&quot;: true}\n",
       "            );\n",
       "        \n",
       "    \n",
       "            var marker_0bde2bb0256a7bdb3677e507fd266d7b = L.marker(\n",
       "                [35.856003, 139.993591],\n",
       "                {}\n",
       "            ).addTo(marker_cluster_2d2d92b93aa789c706b1f625baffdaad);\n",
       "        \n",
       "    \n",
       "            marker_0bde2bb0256a7bdb3677e507fd266d7b.bindTooltip(\n",
       "                `&lt;div&gt;\n",
       "                     40歳代\n",
       "                 &lt;/div&gt;`,\n",
       "                {&quot;sticky&quot;: true}\n",
       "            );\n",
       "        \n",
       "    \n",
       "            var marker_466d7741f47f975f2e74211f83f36715 = L.marker(\n",
       "                [35.891659, 139.953995],\n",
       "                {}\n",
       "            ).addTo(marker_cluster_2d2d92b93aa789c706b1f625baffdaad);\n",
       "        \n",
       "    \n",
       "            marker_466d7741f47f975f2e74211f83f36715.bindTooltip(\n",
       "                `&lt;div&gt;\n",
       "                     70歳以上\n",
       "                 &lt;/div&gt;`,\n",
       "                {&quot;sticky&quot;: true}\n",
       "            );\n",
       "        \n",
       "    \n",
       "            var marker_07045e210d723550afd006a1948a5462 = L.marker(\n",
       "                [35.85392, 139.971054],\n",
       "                {}\n",
       "            ).addTo(marker_cluster_2d2d92b93aa789c706b1f625baffdaad);\n",
       "        \n",
       "    \n",
       "            marker_07045e210d723550afd006a1948a5462.bindTooltip(\n",
       "                `&lt;div&gt;\n",
       "                     10歳代\n",
       "                 &lt;/div&gt;`,\n",
       "                {&quot;sticky&quot;: true}\n",
       "            );\n",
       "        \n",
       "    \n",
       "            var marker_678ba4fca29f5471c8084ecdecb4dcc0 = L.marker(\n",
       "                [35.85392, 139.971054],\n",
       "                {}\n",
       "            ).addTo(marker_cluster_2d2d92b93aa789c706b1f625baffdaad);\n",
       "        \n",
       "    \n",
       "            marker_678ba4fca29f5471c8084ecdecb4dcc0.bindTooltip(\n",
       "                `&lt;div&gt;\n",
       "                     50歳代\n",
       "                 &lt;/div&gt;`,\n",
       "                {&quot;sticky&quot;: true}\n",
       "            );\n",
       "        \n",
       "    \n",
       "            var marker_a8aa4ec3f59360022668481e364cd970 = L.marker(\n",
       "                [35.85392, 139.971054],\n",
       "                {}\n",
       "            ).addTo(marker_cluster_2d2d92b93aa789c706b1f625baffdaad);\n",
       "        \n",
       "    \n",
       "            marker_a8aa4ec3f59360022668481e364cd970.bindTooltip(\n",
       "                `&lt;div&gt;\n",
       "                     40歳代\n",
       "                 &lt;/div&gt;`,\n",
       "                {&quot;sticky&quot;: true}\n",
       "            );\n",
       "        \n",
       "    \n",
       "            var marker_6a2f8454b3b5ad97f2063c0c7bc0fb91 = L.marker(\n",
       "                [35.85392, 139.971054],\n",
       "                {}\n",
       "            ).addTo(marker_cluster_2d2d92b93aa789c706b1f625baffdaad);\n",
       "        \n",
       "    \n",
       "            marker_6a2f8454b3b5ad97f2063c0c7bc0fb91.bindTooltip(\n",
       "                `&lt;div&gt;\n",
       "                     30歳代\n",
       "                 &lt;/div&gt;`,\n",
       "                {&quot;sticky&quot;: true}\n",
       "            );\n",
       "        \n",
       "    \n",
       "            var marker_3fc847666e6c1feb1a3ca72c8e3f7983 = L.marker(\n",
       "                [35.851498, 139.987534],\n",
       "                {}\n",
       "            ).addTo(marker_cluster_2d2d92b93aa789c706b1f625baffdaad);\n",
       "        \n",
       "    \n",
       "            marker_3fc847666e6c1feb1a3ca72c8e3f7983.bindTooltip(\n",
       "                `&lt;div&gt;\n",
       "                     20歳代\n",
       "                 &lt;/div&gt;`,\n",
       "                {&quot;sticky&quot;: true}\n",
       "            );\n",
       "        \n",
       "    \n",
       "            var marker_bb50fbc99d71bf0b2a1d8b2c826e5eb5 = L.marker(\n",
       "                [35.849293, 139.987366],\n",
       "                {}\n",
       "            ).addTo(marker_cluster_2d2d92b93aa789c706b1f625baffdaad);\n",
       "        \n",
       "    \n",
       "            marker_bb50fbc99d71bf0b2a1d8b2c826e5eb5.bindTooltip(\n",
       "                `&lt;div&gt;\n",
       "                     10歳代\n",
       "                 &lt;/div&gt;`,\n",
       "                {&quot;sticky&quot;: true}\n",
       "            );\n",
       "        \n",
       "    \n",
       "            var marker_936f7a8ba84abef8c5a55e61ce565385 = L.marker(\n",
       "                [35.915867, 139.952377],\n",
       "                {}\n",
       "            ).addTo(marker_cluster_2d2d92b93aa789c706b1f625baffdaad);\n",
       "        \n",
       "    \n",
       "            marker_936f7a8ba84abef8c5a55e61ce565385.bindTooltip(\n",
       "                `&lt;div&gt;\n",
       "                     20歳代\n",
       "                 &lt;/div&gt;`,\n",
       "                {&quot;sticky&quot;: true}\n",
       "            );\n",
       "        \n",
       "    \n",
       "            var marker_4e142ebf5dc0ee9a0621fc4d8fec30c5 = L.marker(\n",
       "                [35.923737, 139.939484],\n",
       "                {}\n",
       "            ).addTo(marker_cluster_2d2d92b93aa789c706b1f625baffdaad);\n",
       "        \n",
       "    \n",
       "            marker_4e142ebf5dc0ee9a0621fc4d8fec30c5.bindTooltip(\n",
       "                `&lt;div&gt;\n",
       "                     10歳代\n",
       "                 &lt;/div&gt;`,\n",
       "                {&quot;sticky&quot;: true}\n",
       "            );\n",
       "        \n",
       "    \n",
       "            var marker_e0e27989c9777689ab73bd57d6f9047d = L.marker(\n",
       "                [35.923737, 139.939484],\n",
       "                {}\n",
       "            ).addTo(marker_cluster_2d2d92b93aa789c706b1f625baffdaad);\n",
       "        \n",
       "    \n",
       "            marker_e0e27989c9777689ab73bd57d6f9047d.bindTooltip(\n",
       "                `&lt;div&gt;\n",
       "                     10歳代\n",
       "                 &lt;/div&gt;`,\n",
       "                {&quot;sticky&quot;: true}\n",
       "            );\n",
       "        \n",
       "    \n",
       "            var marker_caa17d1102e3c17f26710b97098f9960 = L.marker(\n",
       "                [35.911968, 139.961746],\n",
       "                {}\n",
       "            ).addTo(marker_cluster_2d2d92b93aa789c706b1f625baffdaad);\n",
       "        \n",
       "    \n",
       "            marker_caa17d1102e3c17f26710b97098f9960.bindTooltip(\n",
       "                `&lt;div&gt;\n",
       "                     10歳代\n",
       "                 &lt;/div&gt;`,\n",
       "                {&quot;sticky&quot;: true}\n",
       "            );\n",
       "        \n",
       "    \n",
       "            var marker_4cbcb4b779e96464784c8de08158cd46 = L.marker(\n",
       "                [35.911968, 139.961746],\n",
       "                {}\n",
       "            ).addTo(marker_cluster_2d2d92b93aa789c706b1f625baffdaad);\n",
       "        \n",
       "    \n",
       "            marker_4cbcb4b779e96464784c8de08158cd46.bindTooltip(\n",
       "                `&lt;div&gt;\n",
       "                     10歳代\n",
       "                 &lt;/div&gt;`,\n",
       "                {&quot;sticky&quot;: true}\n",
       "            );\n",
       "        \n",
       "    \n",
       "            var marker_8512f48088a2ea67f3f8f5661ad8b5af = L.marker(\n",
       "                [35.911968, 139.961746],\n",
       "                {}\n",
       "            ).addTo(marker_cluster_2d2d92b93aa789c706b1f625baffdaad);\n",
       "        \n",
       "    \n",
       "            marker_8512f48088a2ea67f3f8f5661ad8b5af.bindTooltip(\n",
       "                `&lt;div&gt;\n",
       "                     30歳代\n",
       "                 &lt;/div&gt;`,\n",
       "                {&quot;sticky&quot;: true}\n",
       "            );\n",
       "        \n",
       "    \n",
       "            var marker_af2fe111cf4d35bb0f8026f1f249170a = L.marker(\n",
       "                [35.911968, 139.961746],\n",
       "                {}\n",
       "            ).addTo(marker_cluster_2d2d92b93aa789c706b1f625baffdaad);\n",
       "        \n",
       "    \n",
       "            marker_af2fe111cf4d35bb0f8026f1f249170a.bindTooltip(\n",
       "                `&lt;div&gt;\n",
       "                     20歳代\n",
       "                 &lt;/div&gt;`,\n",
       "                {&quot;sticky&quot;: true}\n",
       "            );\n",
       "        \n",
       "    \n",
       "            var marker_2e7bb78cf541cd22a124ca2662e6508d = L.marker(\n",
       "                [35.911968, 139.961746],\n",
       "                {}\n",
       "            ).addTo(marker_cluster_2d2d92b93aa789c706b1f625baffdaad);\n",
       "        \n",
       "    \n",
       "            marker_2e7bb78cf541cd22a124ca2662e6508d.bindTooltip(\n",
       "                `&lt;div&gt;\n",
       "                     20歳代\n",
       "                 &lt;/div&gt;`,\n",
       "                {&quot;sticky&quot;: true}\n",
       "            );\n",
       "        \n",
       "    \n",
       "            var marker_57cbe531c6d990597f24e397c15669e6 = L.marker(\n",
       "                [35.911968, 139.961746],\n",
       "                {}\n",
       "            ).addTo(marker_cluster_2d2d92b93aa789c706b1f625baffdaad);\n",
       "        \n",
       "    \n",
       "            marker_57cbe531c6d990597f24e397c15669e6.bindTooltip(\n",
       "                `&lt;div&gt;\n",
       "                     40歳代\n",
       "                 &lt;/div&gt;`,\n",
       "                {&quot;sticky&quot;: true}\n",
       "            );\n",
       "        \n",
       "    \n",
       "            var marker_85621a5732e6c52fbb6ce4be4315f7c3 = L.marker(\n",
       "                [35.911968, 139.961746],\n",
       "                {}\n",
       "            ).addTo(marker_cluster_2d2d92b93aa789c706b1f625baffdaad);\n",
       "        \n",
       "    \n",
       "            marker_85621a5732e6c52fbb6ce4be4315f7c3.bindTooltip(\n",
       "                `&lt;div&gt;\n",
       "                     法人・団体、被害者なし\n",
       "                 &lt;/div&gt;`,\n",
       "                {&quot;sticky&quot;: true}\n",
       "            );\n",
       "        \n",
       "    \n",
       "            var marker_8c29fe63c8414e900a7aa3e23036a984 = L.marker(\n",
       "                [35.911968, 139.961746],\n",
       "                {}\n",
       "            ).addTo(marker_cluster_2d2d92b93aa789c706b1f625baffdaad);\n",
       "        \n",
       "    \n",
       "            marker_8c29fe63c8414e900a7aa3e23036a984.bindTooltip(\n",
       "                `&lt;div&gt;\n",
       "                     60-64歳\n",
       "                 &lt;/div&gt;`,\n",
       "                {&quot;sticky&quot;: true}\n",
       "            );\n",
       "        \n",
       "    \n",
       "            var marker_bbcf1d5f4b12c1d79482ba68ac9eec84 = L.marker(\n",
       "                [35.916023, 139.956726],\n",
       "                {}\n",
       "            ).addTo(marker_cluster_2d2d92b93aa789c706b1f625baffdaad);\n",
       "        \n",
       "    \n",
       "            marker_bbcf1d5f4b12c1d79482ba68ac9eec84.bindTooltip(\n",
       "                `&lt;div&gt;\n",
       "                     10歳代\n",
       "                 &lt;/div&gt;`,\n",
       "                {&quot;sticky&quot;: true}\n",
       "            );\n",
       "        \n",
       "    \n",
       "            var marker_dcec1340ca0d88a80d93715fa4434dba = L.marker(\n",
       "                [35.916023, 139.956726],\n",
       "                {}\n",
       "            ).addTo(marker_cluster_2d2d92b93aa789c706b1f625baffdaad);\n",
       "        \n",
       "    \n",
       "            marker_dcec1340ca0d88a80d93715fa4434dba.bindTooltip(\n",
       "                `&lt;div&gt;\n",
       "                     10歳代\n",
       "                 &lt;/div&gt;`,\n",
       "                {&quot;sticky&quot;: true}\n",
       "            );\n",
       "        \n",
       "    \n",
       "            var marker_edac9c8c51f1974fb14cb55b0b4c48f9 = L.marker(\n",
       "                [35.916023, 139.956726],\n",
       "                {}\n",
       "            ).addTo(marker_cluster_2d2d92b93aa789c706b1f625baffdaad);\n",
       "        \n",
       "    \n",
       "            marker_edac9c8c51f1974fb14cb55b0b4c48f9.bindTooltip(\n",
       "                `&lt;div&gt;\n",
       "                     10歳代\n",
       "                 &lt;/div&gt;`,\n",
       "                {&quot;sticky&quot;: true}\n",
       "            );\n",
       "        \n",
       "    \n",
       "            var marker_1ab8269238aa4a606921b7e026fc562b = L.marker(\n",
       "                [35.915054, 139.959076],\n",
       "                {}\n",
       "            ).addTo(marker_cluster_2d2d92b93aa789c706b1f625baffdaad);\n",
       "        \n",
       "    \n",
       "            marker_1ab8269238aa4a606921b7e026fc562b.bindTooltip(\n",
       "                `&lt;div&gt;\n",
       "                     10歳代\n",
       "                 &lt;/div&gt;`,\n",
       "                {&quot;sticky&quot;: true}\n",
       "            );\n",
       "        \n",
       "    \n",
       "            var marker_37154993ef78e83f560acf51cdcb3f57 = L.marker(\n",
       "                [35.915054, 139.959076],\n",
       "                {}\n",
       "            ).addTo(marker_cluster_2d2d92b93aa789c706b1f625baffdaad);\n",
       "        \n",
       "    \n",
       "            marker_37154993ef78e83f560acf51cdcb3f57.bindTooltip(\n",
       "                `&lt;div&gt;\n",
       "                     10歳代\n",
       "                 &lt;/div&gt;`,\n",
       "                {&quot;sticky&quot;: true}\n",
       "            );\n",
       "        \n",
       "    \n",
       "            var marker_d01e060b826c6e664bf0c4006f2b5d0b = L.marker(\n",
       "                [35.915054, 139.959076],\n",
       "                {}\n",
       "            ).addTo(marker_cluster_2d2d92b93aa789c706b1f625baffdaad);\n",
       "        \n",
       "    \n",
       "            marker_d01e060b826c6e664bf0c4006f2b5d0b.bindTooltip(\n",
       "                `&lt;div&gt;\n",
       "                     10歳代\n",
       "                 &lt;/div&gt;`,\n",
       "                {&quot;sticky&quot;: true}\n",
       "            );\n",
       "        \n",
       "    \n",
       "            var marker_e92925fab90e41f22c8215b9ecdf116e = L.marker(\n",
       "                [35.915054, 139.959076],\n",
       "                {}\n",
       "            ).addTo(marker_cluster_2d2d92b93aa789c706b1f625baffdaad);\n",
       "        \n",
       "    \n",
       "            marker_e92925fab90e41f22c8215b9ecdf116e.bindTooltip(\n",
       "                `&lt;div&gt;\n",
       "                     10歳代\n",
       "                 &lt;/div&gt;`,\n",
       "                {&quot;sticky&quot;: true}\n",
       "            );\n",
       "        \n",
       "    \n",
       "            var marker_0d1501179b06bed93e76176d286c2e19 = L.marker(\n",
       "                [35.896736, 139.974243],\n",
       "                {}\n",
       "            ).addTo(marker_cluster_2d2d92b93aa789c706b1f625baffdaad);\n",
       "        \n",
       "    \n",
       "            marker_0d1501179b06bed93e76176d286c2e19.bindTooltip(\n",
       "                `&lt;div&gt;\n",
       "                     40歳代\n",
       "                 &lt;/div&gt;`,\n",
       "                {&quot;sticky&quot;: true}\n",
       "            );\n",
       "        \n",
       "    \n",
       "            var marker_8e4d738524d2df23dac6d8873a4a69f8 = L.marker(\n",
       "                [35.896736, 139.974243],\n",
       "                {}\n",
       "            ).addTo(marker_cluster_2d2d92b93aa789c706b1f625baffdaad);\n",
       "        \n",
       "    \n",
       "            marker_8e4d738524d2df23dac6d8873a4a69f8.bindTooltip(\n",
       "                `&lt;div&gt;\n",
       "                     20歳代\n",
       "                 &lt;/div&gt;`,\n",
       "                {&quot;sticky&quot;: true}\n",
       "            );\n",
       "        \n",
       "    \n",
       "            var marker_4c31cad3a6ec6cb67b9f0c2a0e870cef = L.marker(\n",
       "                [35.896736, 139.974243],\n",
       "                {}\n",
       "            ).addTo(marker_cluster_2d2d92b93aa789c706b1f625baffdaad);\n",
       "        \n",
       "    \n",
       "            marker_4c31cad3a6ec6cb67b9f0c2a0e870cef.bindTooltip(\n",
       "                `&lt;div&gt;\n",
       "                     40歳代\n",
       "                 &lt;/div&gt;`,\n",
       "                {&quot;sticky&quot;: true}\n",
       "            );\n",
       "        \n",
       "    \n",
       "            var marker_dae0bb6fa7bb0c94879b956acd05e8d9 = L.marker(\n",
       "                [35.896736, 139.974243],\n",
       "                {}\n",
       "            ).addTo(marker_cluster_2d2d92b93aa789c706b1f625baffdaad);\n",
       "        \n",
       "    \n",
       "            marker_dae0bb6fa7bb0c94879b956acd05e8d9.bindTooltip(\n",
       "                `&lt;div&gt;\n",
       "                     60-64歳\n",
       "                 &lt;/div&gt;`,\n",
       "                {&quot;sticky&quot;: true}\n",
       "            );\n",
       "        \n",
       "    \n",
       "            var marker_59a8df77e139c8d3b0f5a4e6383ef905 = L.marker(\n",
       "                [35.868122, 139.943359],\n",
       "                {}\n",
       "            ).addTo(marker_cluster_2d2d92b93aa789c706b1f625baffdaad);\n",
       "        \n",
       "    \n",
       "            marker_59a8df77e139c8d3b0f5a4e6383ef905.bindTooltip(\n",
       "                `&lt;div&gt;\n",
       "                     60-64歳\n",
       "                 &lt;/div&gt;`,\n",
       "                {&quot;sticky&quot;: true}\n",
       "            );\n",
       "        \n",
       "    \n",
       "            var marker_a56bad6ed8f1f5f70e7aa34d29ed4bde = L.marker(\n",
       "                [35.859928, 139.949814],\n",
       "                {}\n",
       "            ).addTo(marker_cluster_2d2d92b93aa789c706b1f625baffdaad);\n",
       "        \n",
       "    \n",
       "            marker_a56bad6ed8f1f5f70e7aa34d29ed4bde.bindTooltip(\n",
       "                `&lt;div&gt;\n",
       "                     20歳代\n",
       "                 &lt;/div&gt;`,\n",
       "                {&quot;sticky&quot;: true}\n",
       "            );\n",
       "        \n",
       "    \n",
       "            var marker_681d7073174fadaebeba8a79d0600654 = L.marker(\n",
       "                [35.859928, 139.949814],\n",
       "                {}\n",
       "            ).addTo(marker_cluster_2d2d92b93aa789c706b1f625baffdaad);\n",
       "        \n",
       "    \n",
       "            marker_681d7073174fadaebeba8a79d0600654.bindTooltip(\n",
       "                `&lt;div&gt;\n",
       "                     20歳代\n",
       "                 &lt;/div&gt;`,\n",
       "                {&quot;sticky&quot;: true}\n",
       "            );\n",
       "        \n",
       "    \n",
       "            var marker_a9bd22d99e2d9887d17f44bfa6699042 = L.marker(\n",
       "                [35.859928, 139.949814],\n",
       "                {}\n",
       "            ).addTo(marker_cluster_2d2d92b93aa789c706b1f625baffdaad);\n",
       "        \n",
       "    \n",
       "            marker_a9bd22d99e2d9887d17f44bfa6699042.bindTooltip(\n",
       "                `&lt;div&gt;\n",
       "                     40歳代\n",
       "                 &lt;/div&gt;`,\n",
       "                {&quot;sticky&quot;: true}\n",
       "            );\n",
       "        \n",
       "    \n",
       "            var marker_cbf2886b12de92671513903767697535 = L.marker(\n",
       "                [35.859928, 139.949814],\n",
       "                {}\n",
       "            ).addTo(marker_cluster_2d2d92b93aa789c706b1f625baffdaad);\n",
       "        \n",
       "    \n",
       "            marker_cbf2886b12de92671513903767697535.bindTooltip(\n",
       "                `&lt;div&gt;\n",
       "                     10歳代\n",
       "                 &lt;/div&gt;`,\n",
       "                {&quot;sticky&quot;: true}\n",
       "            );\n",
       "        \n",
       "    \n",
       "            var marker_e083c2fb62f0ff8a2817e924e82c23fc = L.marker(\n",
       "                [35.859928, 139.949814],\n",
       "                {}\n",
       "            ).addTo(marker_cluster_2d2d92b93aa789c706b1f625baffdaad);\n",
       "        \n",
       "    \n",
       "            marker_e083c2fb62f0ff8a2817e924e82c23fc.bindTooltip(\n",
       "                `&lt;div&gt;\n",
       "                     20歳代\n",
       "                 &lt;/div&gt;`,\n",
       "                {&quot;sticky&quot;: true}\n",
       "            );\n",
       "        \n",
       "    \n",
       "            var marker_983b3a97f74233f8ad3b09f37a2ba013 = L.marker(\n",
       "                [35.859928, 139.949814],\n",
       "                {}\n",
       "            ).addTo(marker_cluster_2d2d92b93aa789c706b1f625baffdaad);\n",
       "        \n",
       "    \n",
       "            marker_983b3a97f74233f8ad3b09f37a2ba013.bindTooltip(\n",
       "                `&lt;div&gt;\n",
       "                     30歳代\n",
       "                 &lt;/div&gt;`,\n",
       "                {&quot;sticky&quot;: true}\n",
       "            );\n",
       "        \n",
       "    \n",
       "            var marker_5063f547af95b83ae3549238725304a3 = L.marker(\n",
       "                [35.859928, 139.949814],\n",
       "                {}\n",
       "            ).addTo(marker_cluster_2d2d92b93aa789c706b1f625baffdaad);\n",
       "        \n",
       "    \n",
       "            marker_5063f547af95b83ae3549238725304a3.bindTooltip(\n",
       "                `&lt;div&gt;\n",
       "                     20歳代\n",
       "                 &lt;/div&gt;`,\n",
       "                {&quot;sticky&quot;: true}\n",
       "            );\n",
       "        \n",
       "    \n",
       "            var marker_f6a60791d493ecaf3fbf8c5a3369159a = L.marker(\n",
       "                [35.859928, 139.949814],\n",
       "                {}\n",
       "            ).addTo(marker_cluster_2d2d92b93aa789c706b1f625baffdaad);\n",
       "        \n",
       "    \n",
       "            marker_f6a60791d493ecaf3fbf8c5a3369159a.bindTooltip(\n",
       "                `&lt;div&gt;\n",
       "                     10歳代\n",
       "                 &lt;/div&gt;`,\n",
       "                {&quot;sticky&quot;: true}\n",
       "            );\n",
       "        \n",
       "    \n",
       "            var marker_cb266573f5f5e37d1a3bdd9f3e100f71 = L.marker(\n",
       "                [35.854702, 139.957123],\n",
       "                {}\n",
       "            ).addTo(marker_cluster_2d2d92b93aa789c706b1f625baffdaad);\n",
       "        \n",
       "    \n",
       "            marker_cb266573f5f5e37d1a3bdd9f3e100f71.bindTooltip(\n",
       "                `&lt;div&gt;\n",
       "                     20歳代\n",
       "                 &lt;/div&gt;`,\n",
       "                {&quot;sticky&quot;: true}\n",
       "            );\n",
       "        \n",
       "    \n",
       "            var marker_76eaaf0d9a67329219e0eedc89bcb410 = L.marker(\n",
       "                [35.804619, 139.996078],\n",
       "                {}\n",
       "            ).addTo(marker_cluster_2d2d92b93aa789c706b1f625baffdaad);\n",
       "        \n",
       "    \n",
       "            marker_76eaaf0d9a67329219e0eedc89bcb410.bindTooltip(\n",
       "                `&lt;div&gt;\n",
       "                     10歳代\n",
       "                 &lt;/div&gt;`,\n",
       "                {&quot;sticky&quot;: true}\n",
       "            );\n",
       "        \n",
       "    \n",
       "            var marker_2483b568bb6c8916ae98179bf2774db9 = L.marker(\n",
       "                [35.802979, 139.991287],\n",
       "                {}\n",
       "            ).addTo(marker_cluster_2d2d92b93aa789c706b1f625baffdaad);\n",
       "        \n",
       "    \n",
       "            marker_2483b568bb6c8916ae98179bf2774db9.bindTooltip(\n",
       "                `&lt;div&gt;\n",
       "                     10歳代\n",
       "                 &lt;/div&gt;`,\n",
       "                {&quot;sticky&quot;: true}\n",
       "            );\n",
       "        \n",
       "    \n",
       "            var marker_bf93eeb66fc5c8d429be40120894e9cb = L.marker(\n",
       "                [35.805519, 139.993011],\n",
       "                {}\n",
       "            ).addTo(marker_cluster_2d2d92b93aa789c706b1f625baffdaad);\n",
       "        \n",
       "    \n",
       "            marker_bf93eeb66fc5c8d429be40120894e9cb.bindTooltip(\n",
       "                `&lt;div&gt;\n",
       "                     10歳代\n",
       "                 &lt;/div&gt;`,\n",
       "                {&quot;sticky&quot;: true}\n",
       "            );\n",
       "        \n",
       "    \n",
       "            var marker_a8cec8e2f260940662215eac57030024 = L.marker(\n",
       "                [35.801025, 139.980179],\n",
       "                {}\n",
       "            ).addTo(marker_cluster_2d2d92b93aa789c706b1f625baffdaad);\n",
       "        \n",
       "    \n",
       "            marker_a8cec8e2f260940662215eac57030024.bindTooltip(\n",
       "                `&lt;div&gt;\n",
       "                     10歳代\n",
       "                 &lt;/div&gt;`,\n",
       "                {&quot;sticky&quot;: true}\n",
       "            );\n",
       "        \n",
       "    \n",
       "            var marker_325c178888a5930800e05daeeac85306 = L.marker(\n",
       "                [35.80201, 139.977814],\n",
       "                {}\n",
       "            ).addTo(marker_cluster_2d2d92b93aa789c706b1f625baffdaad);\n",
       "        \n",
       "    \n",
       "            marker_325c178888a5930800e05daeeac85306.bindTooltip(\n",
       "                `&lt;div&gt;\n",
       "                     50歳代\n",
       "                 &lt;/div&gt;`,\n",
       "                {&quot;sticky&quot;: true}\n",
       "            );\n",
       "        \n",
       "    \n",
       "            var marker_df22b61921eee103f8cae50ec756e54c = L.marker(\n",
       "                [35.80201, 139.977814],\n",
       "                {}\n",
       "            ).addTo(marker_cluster_2d2d92b93aa789c706b1f625baffdaad);\n",
       "        \n",
       "    \n",
       "            marker_df22b61921eee103f8cae50ec756e54c.bindTooltip(\n",
       "                `&lt;div&gt;\n",
       "                     30歳代\n",
       "                 &lt;/div&gt;`,\n",
       "                {&quot;sticky&quot;: true}\n",
       "            );\n",
       "        \n",
       "    \n",
       "            var marker_5edfa1f312ad143e0087fe13352dc206 = L.marker(\n",
       "                [35.8078, 139.99794],\n",
       "                {}\n",
       "            ).addTo(marker_cluster_2d2d92b93aa789c706b1f625baffdaad);\n",
       "        \n",
       "    \n",
       "            marker_5edfa1f312ad143e0087fe13352dc206.bindTooltip(\n",
       "                `&lt;div&gt;\n",
       "                     20歳代\n",
       "                 &lt;/div&gt;`,\n",
       "                {&quot;sticky&quot;: true}\n",
       "            );\n",
       "        \n",
       "    \n",
       "            var marker_34dfb2c7a93704393316f2b543c375b2 = L.marker(\n",
       "                [35.8078, 139.99794],\n",
       "                {}\n",
       "            ).addTo(marker_cluster_2d2d92b93aa789c706b1f625baffdaad);\n",
       "        \n",
       "    \n",
       "            marker_34dfb2c7a93704393316f2b543c375b2.bindTooltip(\n",
       "                `&lt;div&gt;\n",
       "                     10歳代\n",
       "                 &lt;/div&gt;`,\n",
       "                {&quot;sticky&quot;: true}\n",
       "            );\n",
       "        \n",
       "    \n",
       "            var marker_d0120a3aa5eb04f1f83f5cee72391969 = L.marker(\n",
       "                [35.8078, 139.99794],\n",
       "                {}\n",
       "            ).addTo(marker_cluster_2d2d92b93aa789c706b1f625baffdaad);\n",
       "        \n",
       "    \n",
       "            marker_d0120a3aa5eb04f1f83f5cee72391969.bindTooltip(\n",
       "                `&lt;div&gt;\n",
       "                     30歳代\n",
       "                 &lt;/div&gt;`,\n",
       "                {&quot;sticky&quot;: true}\n",
       "            );\n",
       "        \n",
       "    \n",
       "            var marker_abd4ce9b01963cbccf4b45dd5894a43d = L.marker(\n",
       "                [35.8078, 139.99794],\n",
       "                {}\n",
       "            ).addTo(marker_cluster_2d2d92b93aa789c706b1f625baffdaad);\n",
       "        \n",
       "    \n",
       "            marker_abd4ce9b01963cbccf4b45dd5894a43d.bindTooltip(\n",
       "                `&lt;div&gt;\n",
       "                     10歳代\n",
       "                 &lt;/div&gt;`,\n",
       "                {&quot;sticky&quot;: true}\n",
       "            );\n",
       "        \n",
       "    \n",
       "            var marker_bae70ee0ea77736873453d11db721f06 = L.marker(\n",
       "                [35.8078, 139.99794],\n",
       "                {}\n",
       "            ).addTo(marker_cluster_2d2d92b93aa789c706b1f625baffdaad);\n",
       "        \n",
       "    \n",
       "            marker_bae70ee0ea77736873453d11db721f06.bindTooltip(\n",
       "                `&lt;div&gt;\n",
       "                     10歳代\n",
       "                 &lt;/div&gt;`,\n",
       "                {&quot;sticky&quot;: true}\n",
       "            );\n",
       "        \n",
       "    \n",
       "            var marker_4d8beef36e7fe2013cba14867bee9aa0 = L.marker(\n",
       "                [35.8078, 139.99794],\n",
       "                {}\n",
       "            ).addTo(marker_cluster_2d2d92b93aa789c706b1f625baffdaad);\n",
       "        \n",
       "    \n",
       "            marker_4d8beef36e7fe2013cba14867bee9aa0.bindTooltip(\n",
       "                `&lt;div&gt;\n",
       "                     10歳代\n",
       "                 &lt;/div&gt;`,\n",
       "                {&quot;sticky&quot;: true}\n",
       "            );\n",
       "        \n",
       "    \n",
       "            var marker_bd688854b3020ca451308412ca8d6047 = L.marker(\n",
       "                [35.8078, 139.99794],\n",
       "                {}\n",
       "            ).addTo(marker_cluster_2d2d92b93aa789c706b1f625baffdaad);\n",
       "        \n",
       "    \n",
       "            marker_bd688854b3020ca451308412ca8d6047.bindTooltip(\n",
       "                `&lt;div&gt;\n",
       "                     10歳代\n",
       "                 &lt;/div&gt;`,\n",
       "                {&quot;sticky&quot;: true}\n",
       "            );\n",
       "        \n",
       "    \n",
       "            var marker_b1347d7daeb5f3d1e29134e6d0369bc9 = L.marker(\n",
       "                [35.8078, 139.99794],\n",
       "                {}\n",
       "            ).addTo(marker_cluster_2d2d92b93aa789c706b1f625baffdaad);\n",
       "        \n",
       "    \n",
       "            marker_b1347d7daeb5f3d1e29134e6d0369bc9.bindTooltip(\n",
       "                `&lt;div&gt;\n",
       "                     10歳代\n",
       "                 &lt;/div&gt;`,\n",
       "                {&quot;sticky&quot;: true}\n",
       "            );\n",
       "        \n",
       "    \n",
       "            var marker_18f0b816b1e53e1db3e6530b91e49d36 = L.marker(\n",
       "                [35.8078, 139.99794],\n",
       "                {}\n",
       "            ).addTo(marker_cluster_2d2d92b93aa789c706b1f625baffdaad);\n",
       "        \n",
       "    \n",
       "            marker_18f0b816b1e53e1db3e6530b91e49d36.bindTooltip(\n",
       "                `&lt;div&gt;\n",
       "                     70歳以上\n",
       "                 &lt;/div&gt;`,\n",
       "                {&quot;sticky&quot;: true}\n",
       "            );\n",
       "        \n",
       "    \n",
       "            var marker_dbed305797ba51f6cfe0449cab09a5ad = L.marker(\n",
       "                [35.8078, 139.99794],\n",
       "                {}\n",
       "            ).addTo(marker_cluster_2d2d92b93aa789c706b1f625baffdaad);\n",
       "        \n",
       "    \n",
       "            marker_dbed305797ba51f6cfe0449cab09a5ad.bindTooltip(\n",
       "                `&lt;div&gt;\n",
       "                     20歳代\n",
       "                 &lt;/div&gt;`,\n",
       "                {&quot;sticky&quot;: true}\n",
       "            );\n",
       "        \n",
       "    \n",
       "            var marker_e4fe8bc221b84c33cebffc11a9e52083 = L.marker(\n",
       "                [35.8078, 139.99794],\n",
       "                {}\n",
       "            ).addTo(marker_cluster_2d2d92b93aa789c706b1f625baffdaad);\n",
       "        \n",
       "    \n",
       "            marker_e4fe8bc221b84c33cebffc11a9e52083.bindTooltip(\n",
       "                `&lt;div&gt;\n",
       "                     10歳代\n",
       "                 &lt;/div&gt;`,\n",
       "                {&quot;sticky&quot;: true}\n",
       "            );\n",
       "        \n",
       "    \n",
       "            var marker_c8310fdec048aa85eceb814e20aec6dd = L.marker(\n",
       "                [35.8078, 139.99794],\n",
       "                {}\n",
       "            ).addTo(marker_cluster_2d2d92b93aa789c706b1f625baffdaad);\n",
       "        \n",
       "    \n",
       "            marker_c8310fdec048aa85eceb814e20aec6dd.bindTooltip(\n",
       "                `&lt;div&gt;\n",
       "                     20歳代\n",
       "                 &lt;/div&gt;`,\n",
       "                {&quot;sticky&quot;: true}\n",
       "            );\n",
       "        \n",
       "    \n",
       "            var marker_4a9cd708717de107385c0fb96097fc35 = L.marker(\n",
       "                [35.8078, 139.99794],\n",
       "                {}\n",
       "            ).addTo(marker_cluster_2d2d92b93aa789c706b1f625baffdaad);\n",
       "        \n",
       "    \n",
       "            marker_4a9cd708717de107385c0fb96097fc35.bindTooltip(\n",
       "                `&lt;div&gt;\n",
       "                     40歳代\n",
       "                 &lt;/div&gt;`,\n",
       "                {&quot;sticky&quot;: true}\n",
       "            );\n",
       "        \n",
       "    \n",
       "            var marker_8ddefbf2bde5365cd8aeef20a6869e67 = L.marker(\n",
       "                [35.8078, 139.99794],\n",
       "                {}\n",
       "            ).addTo(marker_cluster_2d2d92b93aa789c706b1f625baffdaad);\n",
       "        \n",
       "    \n",
       "            marker_8ddefbf2bde5365cd8aeef20a6869e67.bindTooltip(\n",
       "                `&lt;div&gt;\n",
       "                     10歳代\n",
       "                 &lt;/div&gt;`,\n",
       "                {&quot;sticky&quot;: true}\n",
       "            );\n",
       "        \n",
       "    \n",
       "            var marker_eb4ef5093f2ba91e33fb816fbaae6550 = L.marker(\n",
       "                [35.8078, 139.99794],\n",
       "                {}\n",
       "            ).addTo(marker_cluster_2d2d92b93aa789c706b1f625baffdaad);\n",
       "        \n",
       "    \n",
       "            marker_eb4ef5093f2ba91e33fb816fbaae6550.bindTooltip(\n",
       "                `&lt;div&gt;\n",
       "                     10歳代\n",
       "                 &lt;/div&gt;`,\n",
       "                {&quot;sticky&quot;: true}\n",
       "            );\n",
       "        \n",
       "    \n",
       "            var marker_1b94fae5254d54723815b258791df39d = L.marker(\n",
       "                [35.8078, 139.99794],\n",
       "                {}\n",
       "            ).addTo(marker_cluster_2d2d92b93aa789c706b1f625baffdaad);\n",
       "        \n",
       "    \n",
       "            marker_1b94fae5254d54723815b258791df39d.bindTooltip(\n",
       "                `&lt;div&gt;\n",
       "                     10歳代\n",
       "                 &lt;/div&gt;`,\n",
       "                {&quot;sticky&quot;: true}\n",
       "            );\n",
       "        \n",
       "    \n",
       "            var marker_dcb5c1092abd5aa03aeb14e85b646586 = L.marker(\n",
       "                [35.809856, 139.996445],\n",
       "                {}\n",
       "            ).addTo(marker_cluster_2d2d92b93aa789c706b1f625baffdaad);\n",
       "        \n",
       "    \n",
       "            marker_dcb5c1092abd5aa03aeb14e85b646586.bindTooltip(\n",
       "                `&lt;div&gt;\n",
       "                     30歳代\n",
       "                 &lt;/div&gt;`,\n",
       "                {&quot;sticky&quot;: true}\n",
       "            );\n",
       "        \n",
       "    \n",
       "            var marker_a5475afa975403e57b91152555186631 = L.marker(\n",
       "                [35.877697, 139.949219],\n",
       "                {}\n",
       "            ).addTo(marker_cluster_2d2d92b93aa789c706b1f625baffdaad);\n",
       "        \n",
       "    \n",
       "            marker_a5475afa975403e57b91152555186631.bindTooltip(\n",
       "                `&lt;div&gt;\n",
       "                     40歳代\n",
       "                 &lt;/div&gt;`,\n",
       "                {&quot;sticky&quot;: true}\n",
       "            );\n",
       "        \n",
       "&lt;/script&gt;\n",
       "&lt;/html&gt;\" style=\"position:absolute;width:100%;height:100%;left:0;top:0;border:none !important;\" allowfullscreen webkitallowfullscreen mozallowfullscreen></iframe></div></div>"
      ],
      "text/plain": [
       "<folium.folium.Map at 0x123243090>"
      ]
     },
     "execution_count": 39,
     "metadata": {},
     "output_type": "execute_result"
    }
   ],
   "source": [
    "# make the map\n",
    "m = folium.Map(location=[center_lat,center_lon], \n",
    "               zoom_start=12)\n",
    "\n",
    "# マーカーがメチャクチャ多い場合はclusterで処理！\n",
    "marker_cluster = plugins.MarkerCluster().add_to(m)\n",
    " \n",
    "# kashiwaのデータフレームをループしてマーカーを作る\n",
    "for index, row in kashiwa.iterrows():\n",
    "    latlon = [row['lat'],row['lon']]\n",
    "    folium.Marker(latlon, \n",
    "                  tooltip=row['被害者の年齢'],\n",
    "                ).add_to(marker_cluster) # mapにではなくmarker_clusterに足す\n",
    "\n",
    "# show the map\n",
    "m"
   ]
  },
  {
   "attachments": {},
   "cell_type": "markdown",
   "metadata": {
    "slideshow": {
     "slide_type": "slide"
    }
   },
   "source": [
    "# EXTRA Time?\n",
    "\n",
    "時間が余った人は違う場所の犯罪マップ作りに挑戦。\n",
    "\n",
    "このサイトから都道府県を選び、データをダウンロード：\n",
    "\n",
    "https://www.npa.go.jp/toukei/seianki/hanzaiopendatalink.html\n",
    "\n",
    "注意！ジオコーティングは時間がかかるので、データを千件以下に絞ってからジオコーティングをするように。"
   ]
  }
 ],
 "metadata": {
  "celltoolbar": "Slideshow",
  "kernelspec": {
   "display_name": "Python 3 (ipykernel)",
   "language": "python",
   "name": "python3"
  },
  "language_info": {
   "codemirror_mode": {
    "name": "ipython",
    "version": 3
   },
   "file_extension": ".py",
   "mimetype": "text/x-python",
   "name": "python",
   "nbconvert_exporter": "python",
   "pygments_lexer": "ipython3",
   "version": "3.11.3"
  }
 },
 "nbformat": 4,
 "nbformat_minor": 2
}
